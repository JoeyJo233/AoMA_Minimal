{
 "cells": [
  {
   "cell_type": "code",
   "execution_count": 1,
   "metadata": {},
   "outputs": [],
   "source": [
    "import re\n",
    "\n",
    "def parse_test_log(log_text):\n",
    "    \"\"\"\n",
    "    输入一段日志文本(多行)，解析出一个 step_info 列表。\n",
    "    每个元素是一个 dict，包含:\n",
    "      {\n",
    "        'step': int,\n",
    "        'AoMA_0': float,\n",
    "        'AoMA_1': float,\n",
    "        'loc': int,\n",
    "        'battery': float,\n",
    "        'action': str,\n",
    "        'done': bool,\n",
    "        'anchor_fail': bool\n",
    "      }\n",
    "    \"\"\"\n",
    "    step_info_list = []\n",
    "\n",
    "    # 用正则表达式来匹配各字段，也可以手写split\n",
    "    pattern = re.compile(\n",
    "        r\"Step\\s+(\\d+):\\s+AoMA_0=([\\d\\.]+),\\s+AoMA_1=([\\d\\.]+),\\s+loc=([\\d\\.]+),\\s+battery=([\\d\\.]+)\\s*\\|\\s*Action=(.*?)\\s*=>\\s*Reward=([\\-\\d\\.]+),\\s*Done=(\\w+),\\s*AnchorFail=(\\w+)\"\n",
    "    )\n",
    "    \n",
    "    for line in log_text.splitlines():\n",
    "        line = line.strip()\n",
    "        if not line:\n",
    "            continue\n",
    "        m = pattern.search(line)\n",
    "        if m:\n",
    "            step_i = int(m.group(1))\n",
    "            aoma0 = float(m.group(2))\n",
    "            aoma1 = float(m.group(3))\n",
    "            loc   = int(float(m.group(4)))  # loc=2.0 => int(2.0)->2\n",
    "            batt  = float(m.group(5))\n",
    "            action = m.group(6).strip()\n",
    "            # reward = float(m.group(7))  # 如果想要用也可以解析\n",
    "            done_str = m.group(8)\n",
    "            anchor_str = m.group(9)\n",
    "            \n",
    "            done = True if done_str == \"True\" else False\n",
    "            anchor_fail = True if anchor_str == \"True\" else False\n",
    "\n",
    "            step_info_list.append({\n",
    "                \"step\": step_i,\n",
    "                \"AoMA_0\": aoma0,\n",
    "                \"AoMA_1\": aoma1,\n",
    "                \"loc\": loc,\n",
    "                \"battery\": batt,\n",
    "                \"action\": action,\n",
    "                \"done\": done,\n",
    "                \"anchor_fail\": anchor_fail,\n",
    "            })\n",
    "    return step_info_list\n"
   ]
  },
  {
   "cell_type": "code",
   "execution_count": 4,
   "metadata": {},
   "outputs": [
    {
     "data": {
      "application/vnd.plotly.v1+json": {
       "config": {
        "plotlyServerURL": "https://plot.ly"
       },
       "data": [
        {
         "marker": {
          "color": [
           "red",
           "blue",
           "green"
          ],
          "size": 12
         },
         "mode": "markers+text",
         "name": "Locations",
         "text": [
          "L0",
          "L1",
          "Home"
         ],
         "textposition": "top center",
         "type": "scatter",
         "x": [
          0,
          0,
          2
         ],
         "y": [
          1,
          -1,
          0
         ]
        },
        {
         "marker": {
          "color": "black",
          "size": 12,
          "symbol": "square"
         },
         "mode": "markers",
         "name": "Robot",
         "type": "scatter",
         "x": [
          2
         ],
         "y": [
          0
         ]
        }
       ],
       "frames": [
        {
         "data": [
          {
           "type": "scatter",
           "x": [
            0,
            0,
            2
           ],
           "y": [
            1,
            -1,
            0
           ]
          },
          {
           "type": "scatter",
           "x": [
            2
           ],
           "y": [
            0
           ]
          }
         ],
         "layout": {
          "annotations": [
           {
            "font": {
             "color": "purple",
             "size": 14
            },
            "showarrow": false,
            "text": "<b>Step 0</b><br>AoMA_0=0.0, AoMA_1=0.0<br>Battery=20.0<br>Action=Go L0",
            "x": 0.5,
            "xref": "paper",
            "y": 1.1,
            "yref": "paper"
           }
          ]
         },
         "name": "frame_0"
        },
        {
         "data": [
          {
           "type": "scatter",
           "x": [
            0,
            0,
            2
           ],
           "y": [
            1,
            -1,
            0
           ]
          },
          {
           "type": "scatter",
           "x": [
            0
           ],
           "y": [
            1
           ]
          }
         ],
         "layout": {
          "annotations": [
           {
            "font": {
             "color": "purple",
             "size": 14
            },
            "showarrow": false,
            "text": "<b>Step 1</b><br>AoMA_0=0.0, AoMA_1=2.0<br>Battery=17.0<br>Action=Go L1",
            "x": 0.5,
            "xref": "paper",
            "y": 1.1,
            "yref": "paper"
           }
          ]
         },
         "name": "frame_1"
        },
        {
         "data": [
          {
           "type": "scatter",
           "x": [
            0,
            0,
            2
           ],
           "y": [
            1,
            -1,
            0
           ]
          },
          {
           "type": "scatter",
           "x": [
            0
           ],
           "y": [
            -1
           ]
          }
         ],
         "layout": {
          "annotations": [
           {
            "font": {
             "color": "purple",
             "size": 14
            },
            "showarrow": false,
            "text": "<b>Step 2</b><br>AoMA_0=0.0, AoMA_1=0.0<br>Battery=15.0<br>Action=Go L0",
            "x": 0.5,
            "xref": "paper",
            "y": 1.1,
            "yref": "paper"
           }
          ]
         },
         "name": "frame_2"
        },
        {
         "data": [
          {
           "type": "scatter",
           "x": [
            0,
            0,
            2
           ],
           "y": [
            1,
            -1,
            0
           ]
          },
          {
           "type": "scatter",
           "x": [
            0
           ],
           "y": [
            1
           ]
          }
         ],
         "layout": {
          "annotations": [
           {
            "font": {
             "color": "purple",
             "size": 14
            },
            "showarrow": false,
            "text": "<b>Step 3</b><br>AoMA_0=0.0, AoMA_1=1.0<br>Battery=13.0<br>Action=Go L1",
            "x": 0.5,
            "xref": "paper",
            "y": 1.1,
            "yref": "paper"
           }
          ]
         },
         "name": "frame_3"
        },
        {
         "data": [
          {
           "type": "scatter",
           "x": [
            0,
            0,
            2
           ],
           "y": [
            1,
            -1,
            0
           ]
          },
          {
           "type": "scatter",
           "x": [
            0
           ],
           "y": [
            -1
           ]
          }
         ],
         "layout": {
          "annotations": [
           {
            "font": {
             "color": "purple",
             "size": 14
            },
            "showarrow": false,
            "text": "<b>Step 4</b><br>AoMA_0=0.0, AoMA_1=0.0<br>Battery=11.0<br>Action=Go L0",
            "x": 0.5,
            "xref": "paper",
            "y": 1.1,
            "yref": "paper"
           }
          ]
         },
         "name": "frame_4"
        },
        {
         "data": [
          {
           "type": "scatter",
           "x": [
            0,
            0,
            2
           ],
           "y": [
            1,
            -1,
            0
           ]
          },
          {
           "type": "scatter",
           "x": [
            0
           ],
           "y": [
            1
           ]
          }
         ],
         "layout": {
          "annotations": [
           {
            "font": {
             "color": "purple",
             "size": 14
            },
            "showarrow": false,
            "text": "<b>Step 5</b><br>AoMA_0=0.0, AoMA_1=0.0<br>Battery=9.0<br>Action=Go Home",
            "x": 0.5,
            "xref": "paper",
            "y": 1.1,
            "yref": "paper"
           }
          ]
         },
         "name": "frame_5"
        },
        {
         "data": [
          {
           "type": "scatter",
           "x": [
            0,
            0,
            2
           ],
           "y": [
            1,
            -1,
            0
           ]
          },
          {
           "type": "scatter",
           "x": [
            2
           ],
           "y": [
            0
           ]
          }
         ],
         "layout": {
          "annotations": [
           {
            "font": {
             "color": "purple",
             "size": 14
            },
            "showarrow": false,
            "text": "<b>Step 6</b><br>AoMA_0=0.0, AoMA_1=0.0<br>Battery=6.0<br>Action=Wait",
            "x": 0.5,
            "xref": "paper",
            "y": 1.1,
            "yref": "paper"
           }
          ]
         },
         "name": "frame_6"
        },
        {
         "data": [
          {
           "type": "scatter",
           "x": [
            0,
            0,
            2
           ],
           "y": [
            1,
            -1,
            0
           ]
          },
          {
           "type": "scatter",
           "x": [
            2
           ],
           "y": [
            0
           ]
          }
         ],
         "layout": {
          "annotations": [
           {
            "font": {
             "color": "purple",
             "size": 14
            },
            "showarrow": false,
            "text": "<b>Step 7</b><br>AoMA_0=0.0, AoMA_1=0.0<br>Battery=11.0<br>Action=Wait",
            "x": 0.5,
            "xref": "paper",
            "y": 1.1,
            "yref": "paper"
           }
          ]
         },
         "name": "frame_7"
        },
        {
         "data": [
          {
           "type": "scatter",
           "x": [
            0,
            0,
            2
           ],
           "y": [
            1,
            -1,
            0
           ]
          },
          {
           "type": "scatter",
           "x": [
            2
           ],
           "y": [
            0
           ]
          }
         ],
         "layout": {
          "annotations": [
           {
            "font": {
             "color": "purple",
             "size": 14
            },
            "showarrow": false,
            "text": "<b>Step 8</b><br>AoMA_0=0.0, AoMA_1=0.0<br>Battery=16.0<br>Action=Wait",
            "x": 0.5,
            "xref": "paper",
            "y": 1.1,
            "yref": "paper"
           }
          ]
         },
         "name": "frame_8"
        },
        {
         "data": [
          {
           "type": "scatter",
           "x": [
            0,
            0,
            2
           ],
           "y": [
            1,
            -1,
            0
           ]
          },
          {
           "type": "scatter",
           "x": [
            2
           ],
           "y": [
            0
           ]
          }
         ],
         "layout": {
          "annotations": [
           {
            "font": {
             "color": "purple",
             "size": 14
            },
            "showarrow": false,
            "text": "<b>Step 9</b><br>AoMA_0=0.0, AoMA_1=0.0<br>Battery=20.0<br>Action=Go L0",
            "x": 0.5,
            "xref": "paper",
            "y": 1.1,
            "yref": "paper"
           }
          ]
         },
         "name": "frame_9"
        },
        {
         "data": [
          {
           "type": "scatter",
           "x": [
            0,
            0,
            2
           ],
           "y": [
            1,
            -1,
            0
           ]
          },
          {
           "type": "scatter",
           "x": [
            0
           ],
           "y": [
            1
           ]
          }
         ],
         "layout": {
          "annotations": [
           {
            "font": {
             "color": "purple",
             "size": 14
            },
            "showarrow": false,
            "text": "<b>Step 10</b><br>AoMA_0=0.0, AoMA_1=0.0<br>Battery=17.0<br>Action=Go Home",
            "x": 0.5,
            "xref": "paper",
            "y": 1.1,
            "yref": "paper"
           }
          ]
         },
         "name": "frame_10"
        },
        {
         "data": [
          {
           "type": "scatter",
           "x": [
            0,
            0,
            2
           ],
           "y": [
            1,
            -1,
            0
           ]
          },
          {
           "type": "scatter",
           "x": [
            2
           ],
           "y": [
            0
           ]
          }
         ],
         "layout": {
          "annotations": [
           {
            "font": {
             "color": "purple",
             "size": 14
            },
            "showarrow": false,
            "text": "<b>Step 11</b><br>AoMA_0=0.0, AoMA_1=3.0<br>Battery=14.0<br>Action=Wait",
            "x": 0.5,
            "xref": "paper",
            "y": 1.1,
            "yref": "paper"
           }
          ]
         },
         "name": "frame_11"
        },
        {
         "data": [
          {
           "type": "scatter",
           "x": [
            0,
            0,
            2
           ],
           "y": [
            1,
            -1,
            0
           ]
          },
          {
           "type": "scatter",
           "x": [
            2
           ],
           "y": [
            0
           ]
          }
         ],
         "layout": {
          "annotations": [
           {
            "font": {
             "color": "purple",
             "size": 14
            },
            "showarrow": false,
            "text": "<b>Step 12</b><br>AoMA_0=0.0, AoMA_1=4.0<br>Battery=19.0<br>Action=Go L1",
            "x": 0.5,
            "xref": "paper",
            "y": 1.1,
            "yref": "paper"
           }
          ]
         },
         "name": "frame_12"
        },
        {
         "data": [
          {
           "type": "scatter",
           "x": [
            0,
            0,
            2
           ],
           "y": [
            1,
            -1,
            0
           ]
          },
          {
           "type": "scatter",
           "x": [
            0
           ],
           "y": [
            -1
           ]
          }
         ],
         "layout": {
          "annotations": [
           {
            "font": {
             "color": "purple",
             "size": 14
            },
            "showarrow": false,
            "text": "<b>Step 13</b><br>AoMA_0=2.0, AoMA_1=0.0<br>Battery=15.0<br>Action=Go L0",
            "x": 0.5,
            "xref": "paper",
            "y": 1.1,
            "yref": "paper"
           }
          ]
         },
         "name": "frame_13"
        },
        {
         "data": [
          {
           "type": "scatter",
           "x": [
            0,
            0,
            2
           ],
           "y": [
            1,
            -1,
            0
           ]
          },
          {
           "type": "scatter",
           "x": [
            0
           ],
           "y": [
            1
           ]
          }
         ],
         "layout": {
          "annotations": [
           {
            "font": {
             "color": "purple",
             "size": 14
            },
            "showarrow": false,
            "text": "<b>Step 14</b><br>AoMA_0=0.0, AoMA_1=0.0<br>Battery=13.0<br>Action=Go Home",
            "x": 0.5,
            "xref": "paper",
            "y": 1.1,
            "yref": "paper"
           }
          ]
         },
         "name": "frame_14"
        },
        {
         "data": [
          {
           "type": "scatter",
           "x": [
            0,
            0,
            2
           ],
           "y": [
            1,
            -1,
            0
           ]
          },
          {
           "type": "scatter",
           "x": [
            2
           ],
           "y": [
            0
           ]
          }
         ],
         "layout": {
          "annotations": [
           {
            "font": {
             "color": "purple",
             "size": 14
            },
            "showarrow": false,
            "text": "<b>Step 15</b><br>AoMA_0=0.0, AoMA_1=0.0<br>Battery=10.0<br>Action=Wait",
            "x": 0.5,
            "xref": "paper",
            "y": 1.1,
            "yref": "paper"
           }
          ]
         },
         "name": "frame_15"
        },
        {
         "data": [
          {
           "type": "scatter",
           "x": [
            0,
            0,
            2
           ],
           "y": [
            1,
            -1,
            0
           ]
          },
          {
           "type": "scatter",
           "x": [
            2
           ],
           "y": [
            0
           ]
          }
         ],
         "layout": {
          "annotations": [
           {
            "font": {
             "color": "purple",
             "size": 14
            },
            "showarrow": false,
            "text": "<b>Step 16</b><br>AoMA_0=0.0, AoMA_1=0.0<br>Battery=15.0<br>Action=Wait",
            "x": 0.5,
            "xref": "paper",
            "y": 1.1,
            "yref": "paper"
           }
          ]
         },
         "name": "frame_16"
        },
        {
         "data": [
          {
           "type": "scatter",
           "x": [
            0,
            0,
            2
           ],
           "y": [
            1,
            -1,
            0
           ]
          },
          {
           "type": "scatter",
           "x": [
            2
           ],
           "y": [
            0
           ]
          }
         ],
         "layout": {
          "annotations": [
           {
            "font": {
             "color": "purple",
             "size": 14
            },
            "showarrow": false,
            "text": "<b>Step 17</b><br>AoMA_0=0.0, AoMA_1=0.0<br>Battery=20.0<br>Action=Go L0",
            "x": 0.5,
            "xref": "paper",
            "y": 1.1,
            "yref": "paper"
           }
          ]
         },
         "name": "frame_17"
        },
        {
         "data": [
          {
           "type": "scatter",
           "x": [
            0,
            0,
            2
           ],
           "y": [
            1,
            -1,
            0
           ]
          },
          {
           "type": "scatter",
           "x": [
            0
           ],
           "y": [
            1
           ]
          }
         ],
         "layout": {
          "annotations": [
           {
            "font": {
             "color": "purple",
             "size": 14
            },
            "showarrow": false,
            "text": "<b>Step 18</b><br>AoMA_0=0.0, AoMA_1=0.0<br>Battery=17.0<br>Action=Go Home",
            "x": 0.5,
            "xref": "paper",
            "y": 1.1,
            "yref": "paper"
           }
          ]
         },
         "name": "frame_18"
        },
        {
         "data": [
          {
           "type": "scatter",
           "x": [
            0,
            0,
            2
           ],
           "y": [
            1,
            -1,
            0
           ]
          },
          {
           "type": "scatter",
           "x": [
            2
           ],
           "y": [
            0
           ]
          }
         ],
         "layout": {
          "annotations": [
           {
            "font": {
             "color": "purple",
             "size": 14
            },
            "showarrow": false,
            "text": "<b>Step 19</b><br>AoMA_0=0.0, AoMA_1=0.0<br>Battery=14.0<br>Action=Wait",
            "x": 0.5,
            "xref": "paper",
            "y": 1.1,
            "yref": "paper"
           }
          ]
         },
         "name": "frame_19"
        },
        {
         "data": [
          {
           "type": "scatter",
           "x": [
            0,
            0,
            2
           ],
           "y": [
            1,
            -1,
            0
           ]
          },
          {
           "type": "scatter",
           "x": [
            2
           ],
           "y": [
            0
           ]
          }
         ],
         "layout": {
          "annotations": [
           {
            "font": {
             "color": "purple",
             "size": 14
            },
            "showarrow": false,
            "text": "<b>Step 20</b><br>AoMA_0=0.0, AoMA_1=0.0<br>Battery=19.0<br>Action=Go L0",
            "x": 0.5,
            "xref": "paper",
            "y": 1.1,
            "yref": "paper"
           }
          ]
         },
         "name": "frame_20"
        },
        {
         "data": [
          {
           "type": "scatter",
           "x": [
            0,
            0,
            2
           ],
           "y": [
            1,
            -1,
            0
           ]
          },
          {
           "type": "scatter",
           "x": [
            0
           ],
           "y": [
            1
           ]
          }
         ],
         "layout": {
          "annotations": [
           {
            "font": {
             "color": "purple",
             "size": 14
            },
            "showarrow": false,
            "text": "<b>Step 21</b><br>AoMA_0=0.0, AoMA_1=2.0<br>Battery=16.0<br>Action=Go L1",
            "x": 0.5,
            "xref": "paper",
            "y": 1.1,
            "yref": "paper"
           }
          ]
         },
         "name": "frame_21"
        },
        {
         "data": [
          {
           "type": "scatter",
           "x": [
            0,
            0,
            2
           ],
           "y": [
            1,
            -1,
            0
           ]
          },
          {
           "type": "scatter",
           "x": [
            0
           ],
           "y": [
            -1
           ]
          }
         ],
         "layout": {
          "annotations": [
           {
            "font": {
             "color": "purple",
             "size": 14
            },
            "showarrow": false,
            "text": "<b>Step 22</b><br>AoMA_0=2.0, AoMA_1=0.0<br>Battery=14.0<br>Action=Go L0",
            "x": 0.5,
            "xref": "paper",
            "y": 1.1,
            "yref": "paper"
           }
          ]
         },
         "name": "frame_22"
        },
        {
         "data": [
          {
           "type": "scatter",
           "x": [
            0,
            0,
            2
           ],
           "y": [
            1,
            -1,
            0
           ]
          },
          {
           "type": "scatter",
           "x": [
            0
           ],
           "y": [
            1
           ]
          }
         ],
         "layout": {
          "annotations": [
           {
            "font": {
             "color": "purple",
             "size": 14
            },
            "showarrow": false,
            "text": "<b>Step 23</b><br>AoMA_0=0.0, AoMA_1=0.0<br>Battery=12.0<br>Action=Go Home",
            "x": 0.5,
            "xref": "paper",
            "y": 1.1,
            "yref": "paper"
           }
          ]
         },
         "name": "frame_23"
        },
        {
         "data": [
          {
           "type": "scatter",
           "x": [
            0,
            0,
            2
           ],
           "y": [
            1,
            -1,
            0
           ]
          },
          {
           "type": "scatter",
           "x": [
            2
           ],
           "y": [
            0
           ]
          }
         ],
         "layout": {
          "annotations": [
           {
            "font": {
             "color": "purple",
             "size": 14
            },
            "showarrow": false,
            "text": "<b>Step 24</b><br>AoMA_0=0.0, AoMA_1=0.0<br>Battery=9.0<br>Action=Wait",
            "x": 0.5,
            "xref": "paper",
            "y": 1.1,
            "yref": "paper"
           }
          ]
         },
         "name": "frame_24"
        },
        {
         "data": [
          {
           "type": "scatter",
           "x": [
            0,
            0,
            2
           ],
           "y": [
            1,
            -1,
            0
           ]
          },
          {
           "type": "scatter",
           "x": [
            2
           ],
           "y": [
            0
           ]
          }
         ],
         "layout": {
          "annotations": [
           {
            "font": {
             "color": "purple",
             "size": 14
            },
            "showarrow": false,
            "text": "<b>Step 25</b><br>AoMA_0=0.0, AoMA_1=0.0<br>Battery=14.0<br>Action=Wait",
            "x": 0.5,
            "xref": "paper",
            "y": 1.1,
            "yref": "paper"
           }
          ]
         },
         "name": "frame_25"
        },
        {
         "data": [
          {
           "type": "scatter",
           "x": [
            0,
            0,
            2
           ],
           "y": [
            1,
            -1,
            0
           ]
          },
          {
           "type": "scatter",
           "x": [
            2
           ],
           "y": [
            0
           ]
          }
         ],
         "layout": {
          "annotations": [
           {
            "font": {
             "color": "purple",
             "size": 14
            },
            "showarrow": false,
            "text": "<b>Step 26</b><br>AoMA_0=0.0, AoMA_1=0.0<br>Battery=19.0<br>Action=Go L0",
            "x": 0.5,
            "xref": "paper",
            "y": 1.1,
            "yref": "paper"
           }
          ]
         },
         "name": "frame_26"
        },
        {
         "data": [
          {
           "type": "scatter",
           "x": [
            0,
            0,
            2
           ],
           "y": [
            1,
            -1,
            0
           ]
          },
          {
           "type": "scatter",
           "x": [
            0
           ],
           "y": [
            1
           ]
          }
         ],
         "layout": {
          "annotations": [
           {
            "font": {
             "color": "purple",
             "size": 14
            },
            "showarrow": false,
            "text": "<b>Step 27</b><br>AoMA_0=0.0, AoMA_1=0.0<br>Battery=16.0<br>Action=Go Home",
            "x": 0.5,
            "xref": "paper",
            "y": 1.1,
            "yref": "paper"
           }
          ]
         },
         "name": "frame_27"
        },
        {
         "data": [
          {
           "type": "scatter",
           "x": [
            0,
            0,
            2
           ],
           "y": [
            1,
            -1,
            0
           ]
          },
          {
           "type": "scatter",
           "x": [
            2
           ],
           "y": [
            0
           ]
          }
         ],
         "layout": {
          "annotations": [
           {
            "font": {
             "color": "purple",
             "size": 14
            },
            "showarrow": false,
            "text": "<b>Step 28</b><br>AoMA_0=0.0, AoMA_1=0.0<br>Battery=13.0<br>Action=Wait",
            "x": 0.5,
            "xref": "paper",
            "y": 1.1,
            "yref": "paper"
           }
          ]
         },
         "name": "frame_28"
        },
        {
         "data": [
          {
           "type": "scatter",
           "x": [
            0,
            0,
            2
           ],
           "y": [
            1,
            -1,
            0
           ]
          },
          {
           "type": "scatter",
           "x": [
            2
           ],
           "y": [
            0
           ]
          }
         ],
         "layout": {
          "annotations": [
           {
            "font": {
             "color": "purple",
             "size": 14
            },
            "showarrow": false,
            "text": "<b>Step 29</b><br>AoMA_0=0.0, AoMA_1=0.0<br>Battery=18.0<br>Action=Wait",
            "x": 0.5,
            "xref": "paper",
            "y": 1.1,
            "yref": "paper"
           }
          ]
         },
         "name": "frame_29"
        },
        {
         "data": [
          {
           "type": "scatter",
           "x": [
            0,
            0,
            2
           ],
           "y": [
            1,
            -1,
            0
           ]
          },
          {
           "type": "scatter",
           "x": [
            2
           ],
           "y": [
            0
           ]
          }
         ],
         "layout": {
          "annotations": [
           {
            "font": {
             "color": "purple",
             "size": 14
            },
            "showarrow": false,
            "text": "<b>Step 30</b><br>AoMA_0=0.0, AoMA_1=0.0<br>Battery=20.0<br>Action=Go L0",
            "x": 0.5,
            "xref": "paper",
            "y": 1.1,
            "yref": "paper"
           }
          ]
         },
         "name": "frame_30"
        },
        {
         "data": [
          {
           "type": "scatter",
           "x": [
            0,
            0,
            2
           ],
           "y": [
            1,
            -1,
            0
           ]
          },
          {
           "type": "scatter",
           "x": [
            0
           ],
           "y": [
            1
           ]
          }
         ],
         "layout": {
          "annotations": [
           {
            "font": {
             "color": "purple",
             "size": 14
            },
            "showarrow": false,
            "text": "<b>Step 31</b><br>AoMA_0=0.0, AoMA_1=0.0<br>Battery=17.0<br>Action=Go Home",
            "x": 0.5,
            "xref": "paper",
            "y": 1.1,
            "yref": "paper"
           }
          ]
         },
         "name": "frame_31"
        },
        {
         "data": [
          {
           "type": "scatter",
           "x": [
            0,
            0,
            2
           ],
           "y": [
            1,
            -1,
            0
           ]
          },
          {
           "type": "scatter",
           "x": [
            2
           ],
           "y": [
            0
           ]
          }
         ],
         "layout": {
          "annotations": [
           {
            "font": {
             "color": "purple",
             "size": 14
            },
            "showarrow": false,
            "text": "<b>Step 32</b><br>AoMA_0=0.0, AoMA_1=0.0<br>Battery=14.0<br>Action=Wait",
            "x": 0.5,
            "xref": "paper",
            "y": 1.1,
            "yref": "paper"
           }
          ]
         },
         "name": "frame_32"
        },
        {
         "data": [
          {
           "type": "scatter",
           "x": [
            0,
            0,
            2
           ],
           "y": [
            1,
            -1,
            0
           ]
          },
          {
           "type": "scatter",
           "x": [
            2
           ],
           "y": [
            0
           ]
          }
         ],
         "layout": {
          "annotations": [
           {
            "font": {
             "color": "purple",
             "size": 14
            },
            "showarrow": false,
            "text": "<b>Step 33</b><br>AoMA_0=0.0, AoMA_1=0.0<br>Battery=19.0<br>Action=Go L0",
            "x": 0.5,
            "xref": "paper",
            "y": 1.1,
            "yref": "paper"
           }
          ]
         },
         "name": "frame_33"
        },
        {
         "data": [
          {
           "type": "scatter",
           "x": [
            0,
            0,
            2
           ],
           "y": [
            1,
            -1,
            0
           ]
          },
          {
           "type": "scatter",
           "x": [
            0
           ],
           "y": [
            1
           ]
          }
         ],
         "layout": {
          "annotations": [
           {
            "font": {
             "color": "purple",
             "size": 14
            },
            "showarrow": false,
            "text": "<b>Step 34</b><br>AoMA_0=0.0, AoMA_1=0.0<br>Battery=16.0<br>Action=Go Home",
            "x": 0.5,
            "xref": "paper",
            "y": 1.1,
            "yref": "paper"
           }
          ]
         },
         "name": "frame_34"
        },
        {
         "data": [
          {
           "type": "scatter",
           "x": [
            0,
            0,
            2
           ],
           "y": [
            1,
            -1,
            0
           ]
          },
          {
           "type": "scatter",
           "x": [
            2
           ],
           "y": [
            0
           ]
          }
         ],
         "layout": {
          "annotations": [
           {
            "font": {
             "color": "purple",
             "size": 14
            },
            "showarrow": false,
            "text": "<b>Step 35</b><br>AoMA_0=0.0, AoMA_1=0.0<br>Battery=13.0<br>Action=Wait",
            "x": 0.5,
            "xref": "paper",
            "y": 1.1,
            "yref": "paper"
           }
          ]
         },
         "name": "frame_35"
        },
        {
         "data": [
          {
           "type": "scatter",
           "x": [
            0,
            0,
            2
           ],
           "y": [
            1,
            -1,
            0
           ]
          },
          {
           "type": "scatter",
           "x": [
            2
           ],
           "y": [
            0
           ]
          }
         ],
         "layout": {
          "annotations": [
           {
            "font": {
             "color": "purple",
             "size": 14
            },
            "showarrow": false,
            "text": "<b>Step 36</b><br>AoMA_0=0.0, AoMA_1=0.0<br>Battery=18.0<br>Action=Wait",
            "x": 0.5,
            "xref": "paper",
            "y": 1.1,
            "yref": "paper"
           }
          ]
         },
         "name": "frame_36"
        },
        {
         "data": [
          {
           "type": "scatter",
           "x": [
            0,
            0,
            2
           ],
           "y": [
            1,
            -1,
            0
           ]
          },
          {
           "type": "scatter",
           "x": [
            2
           ],
           "y": [
            0
           ]
          }
         ],
         "layout": {
          "annotations": [
           {
            "font": {
             "color": "purple",
             "size": 14
            },
            "showarrow": false,
            "text": "<b>Step 37</b><br>AoMA_0=0.0, AoMA_1=0.0<br>Battery=20.0<br>Action=Go L0",
            "x": 0.5,
            "xref": "paper",
            "y": 1.1,
            "yref": "paper"
           }
          ]
         },
         "name": "frame_37"
        },
        {
         "data": [
          {
           "type": "scatter",
           "x": [
            0,
            0,
            2
           ],
           "y": [
            1,
            -1,
            0
           ]
          },
          {
           "type": "scatter",
           "x": [
            0
           ],
           "y": [
            1
           ]
          }
         ],
         "layout": {
          "annotations": [
           {
            "font": {
             "color": "purple",
             "size": 14
            },
            "showarrow": false,
            "text": "<b>Step 38</b><br>AoMA_0=0.0, AoMA_1=0.0<br>Battery=17.0<br>Action=Go Home",
            "x": 0.5,
            "xref": "paper",
            "y": 1.1,
            "yref": "paper"
           }
          ]
         },
         "name": "frame_38"
        },
        {
         "data": [
          {
           "type": "scatter",
           "x": [
            0,
            0,
            2
           ],
           "y": [
            1,
            -1,
            0
           ]
          },
          {
           "type": "scatter",
           "x": [
            2
           ],
           "y": [
            0
           ]
          }
         ],
         "layout": {
          "annotations": [
           {
            "font": {
             "color": "purple",
             "size": 14
            },
            "showarrow": false,
            "text": "<b>Step 39</b><br>AoMA_0=0.0, AoMA_1=0.0<br>Battery=14.0<br>Action=Wait",
            "x": 0.5,
            "xref": "paper",
            "y": 1.1,
            "yref": "paper"
           }
          ]
         },
         "name": "frame_39"
        },
        {
         "data": [
          {
           "type": "scatter",
           "x": [
            0,
            0,
            2
           ],
           "y": [
            1,
            -1,
            0
           ]
          },
          {
           "type": "scatter",
           "x": [
            2
           ],
           "y": [
            0
           ]
          }
         ],
         "layout": {
          "annotations": [
           {
            "font": {
             "color": "purple",
             "size": 14
            },
            "showarrow": false,
            "text": "<b>Step 40</b><br>AoMA_0=0.0, AoMA_1=0.0<br>Battery=19.0<br>Action=Go L0",
            "x": 0.5,
            "xref": "paper",
            "y": 1.1,
            "yref": "paper"
           }
          ]
         },
         "name": "frame_40"
        },
        {
         "data": [
          {
           "type": "scatter",
           "x": [
            0,
            0,
            2
           ],
           "y": [
            1,
            -1,
            0
           ]
          },
          {
           "type": "scatter",
           "x": [
            0
           ],
           "y": [
            1
           ]
          }
         ],
         "layout": {
          "annotations": [
           {
            "font": {
             "color": "purple",
             "size": 14
            },
            "showarrow": false,
            "text": "<b>Step 41</b><br>AoMA_0=0.0, AoMA_1=0.0<br>Battery=16.0<br>Action=Go Home",
            "x": 0.5,
            "xref": "paper",
            "y": 1.1,
            "yref": "paper"
           }
          ]
         },
         "name": "frame_41"
        },
        {
         "data": [
          {
           "type": "scatter",
           "x": [
            0,
            0,
            2
           ],
           "y": [
            1,
            -1,
            0
           ]
          },
          {
           "type": "scatter",
           "x": [
            2
           ],
           "y": [
            0
           ]
          }
         ],
         "layout": {
          "annotations": [
           {
            "font": {
             "color": "purple",
             "size": 14
            },
            "showarrow": false,
            "text": "<b>Step 42</b><br>AoMA_0=0.0, AoMA_1=0.0<br>Battery=13.0<br>Action=Wait",
            "x": 0.5,
            "xref": "paper",
            "y": 1.1,
            "yref": "paper"
           }
          ]
         },
         "name": "frame_42"
        },
        {
         "data": [
          {
           "type": "scatter",
           "x": [
            0,
            0,
            2
           ],
           "y": [
            1,
            -1,
            0
           ]
          },
          {
           "type": "scatter",
           "x": [
            2
           ],
           "y": [
            0
           ]
          }
         ],
         "layout": {
          "annotations": [
           {
            "font": {
             "color": "purple",
             "size": 14
            },
            "showarrow": false,
            "text": "<b>Step 43</b><br>AoMA_0=0.0, AoMA_1=0.0<br>Battery=18.0<br>Action=Wait",
            "x": 0.5,
            "xref": "paper",
            "y": 1.1,
            "yref": "paper"
           }
          ]
         },
         "name": "frame_43"
        },
        {
         "data": [
          {
           "type": "scatter",
           "x": [
            0,
            0,
            2
           ],
           "y": [
            1,
            -1,
            0
           ]
          },
          {
           "type": "scatter",
           "x": [
            2
           ],
           "y": [
            0
           ]
          }
         ],
         "layout": {
          "annotations": [
           {
            "font": {
             "color": "purple",
             "size": 14
            },
            "showarrow": false,
            "text": "<b>Step 44</b><br>AoMA_0=0.0, AoMA_1=0.0<br>Battery=20.0<br>Action=Go L0",
            "x": 0.5,
            "xref": "paper",
            "y": 1.1,
            "yref": "paper"
           }
          ]
         },
         "name": "frame_44"
        },
        {
         "data": [
          {
           "type": "scatter",
           "x": [
            0,
            0,
            2
           ],
           "y": [
            1,
            -1,
            0
           ]
          },
          {
           "type": "scatter",
           "x": [
            0
           ],
           "y": [
            1
           ]
          }
         ],
         "layout": {
          "annotations": [
           {
            "font": {
             "color": "purple",
             "size": 14
            },
            "showarrow": false,
            "text": "<b>Step 45</b><br>AoMA_0=0.0, AoMA_1=0.0<br>Battery=17.0<br>Action=Go Home",
            "x": 0.5,
            "xref": "paper",
            "y": 1.1,
            "yref": "paper"
           }
          ]
         },
         "name": "frame_45"
        },
        {
         "data": [
          {
           "type": "scatter",
           "x": [
            0,
            0,
            2
           ],
           "y": [
            1,
            -1,
            0
           ]
          },
          {
           "type": "scatter",
           "x": [
            2
           ],
           "y": [
            0
           ]
          }
         ],
         "layout": {
          "annotations": [
           {
            "font": {
             "color": "purple",
             "size": 14
            },
            "showarrow": false,
            "text": "<b>Step 46</b><br>AoMA_0=0.0, AoMA_1=0.0<br>Battery=14.0<br>Action=Wait",
            "x": 0.5,
            "xref": "paper",
            "y": 1.1,
            "yref": "paper"
           }
          ]
         },
         "name": "frame_46"
        },
        {
         "data": [
          {
           "type": "scatter",
           "x": [
            0,
            0,
            2
           ],
           "y": [
            1,
            -1,
            0
           ]
          },
          {
           "type": "scatter",
           "x": [
            2
           ],
           "y": [
            0
           ]
          }
         ],
         "layout": {
          "annotations": [
           {
            "font": {
             "color": "purple",
             "size": 14
            },
            "showarrow": false,
            "text": "<b>Step 47</b><br>AoMA_0=0.0, AoMA_1=0.0<br>Battery=19.0<br>Action=Go L0",
            "x": 0.5,
            "xref": "paper",
            "y": 1.1,
            "yref": "paper"
           }
          ]
         },
         "name": "frame_47"
        },
        {
         "data": [
          {
           "type": "scatter",
           "x": [
            0,
            0,
            2
           ],
           "y": [
            1,
            -1,
            0
           ]
          },
          {
           "type": "scatter",
           "x": [
            0
           ],
           "y": [
            1
           ]
          }
         ],
         "layout": {
          "annotations": [
           {
            "font": {
             "color": "purple",
             "size": 14
            },
            "showarrow": false,
            "text": "<b>Step 48</b><br>AoMA_0=0.0, AoMA_1=0.0<br>Battery=16.0<br>Action=Go Home",
            "x": 0.5,
            "xref": "paper",
            "y": 1.1,
            "yref": "paper"
           }
          ]
         },
         "name": "frame_48"
        },
        {
         "data": [
          {
           "type": "scatter",
           "x": [
            0,
            0,
            2
           ],
           "y": [
            1,
            -1,
            0
           ]
          },
          {
           "type": "scatter",
           "x": [
            2
           ],
           "y": [
            0
           ]
          }
         ],
         "layout": {
          "annotations": [
           {
            "font": {
             "color": "purple",
             "size": 14
            },
            "showarrow": false,
            "text": "<b>Step 49</b><br>AoMA_0=1.0, AoMA_1=0.0<br>Battery=13.0<br>Action=Go L0",
            "x": 0.5,
            "xref": "paper",
            "y": 1.1,
            "yref": "paper"
           }
          ]
         },
         "name": "frame_49"
        },
        {
         "data": [
          {
           "type": "scatter",
           "x": [
            0,
            0,
            2
           ],
           "y": [
            1,
            -1,
            0
           ]
          },
          {
           "type": "scatter",
           "x": [
            0
           ],
           "y": [
            1
           ]
          }
         ],
         "layout": {
          "annotations": [
           {
            "font": {
             "color": "purple",
             "size": 14
            },
            "showarrow": false,
            "text": "<b>Step 50</b><br>AoMA_0=0.0, AoMA_1=3.0<br>Battery=10.0<br>Action=Go Home",
            "x": 0.5,
            "xref": "paper",
            "y": 1.1,
            "yref": "paper"
           }
          ]
         },
         "name": "frame_50"
        },
        {
         "data": [
          {
           "type": "scatter",
           "x": [
            0,
            0,
            2
           ],
           "y": [
            1,
            -1,
            0
           ]
          },
          {
           "type": "scatter",
           "x": [
            2
           ],
           "y": [
            0
           ]
          }
         ],
         "layout": {
          "annotations": [
           {
            "font": {
             "color": "purple",
             "size": 14
            },
            "showarrow": false,
            "text": "<b>Step 51</b><br>AoMA_0=0.0, AoMA_1=6.0<br>Battery=7.0<br>Action=Wait",
            "x": 0.5,
            "xref": "paper",
            "y": 1.1,
            "yref": "paper"
           }
          ]
         },
         "name": "frame_51"
        },
        {
         "data": [
          {
           "type": "scatter",
           "x": [
            0,
            0,
            2
           ],
           "y": [
            1,
            -1,
            0
           ]
          },
          {
           "type": "scatter",
           "x": [
            2
           ],
           "y": [
            0
           ]
          }
         ],
         "layout": {
          "annotations": [
           {
            "font": {
             "color": "purple",
             "size": 14
            },
            "showarrow": false,
            "text": "<b>Step 52</b><br>AoMA_0=0.0, AoMA_1=7.0<br>Battery=12.0<br>Action=Wait",
            "x": 0.5,
            "xref": "paper",
            "y": 1.1,
            "yref": "paper"
           }
          ]
         },
         "name": "frame_52"
        },
        {
         "data": [
          {
           "type": "scatter",
           "x": [
            0,
            0,
            2
           ],
           "y": [
            1,
            -1,
            0
           ]
          },
          {
           "type": "scatter",
           "x": [
            2
           ],
           "y": [
            0
           ]
          }
         ],
         "layout": {
          "annotations": [
           {
            "font": {
             "color": "purple",
             "size": 14
            },
            "showarrow": false,
            "text": "<b>Step 53</b><br>AoMA_0=0.0, AoMA_1=8.0<br>Battery=17.0<br>Action=Go L1",
            "x": 0.5,
            "xref": "paper",
            "y": 1.1,
            "yref": "paper"
           }
          ]
         },
         "name": "frame_53"
        },
        {
         "data": [
          {
           "type": "scatter",
           "x": [
            0,
            0,
            2
           ],
           "y": [
            1,
            -1,
            0
           ]
          },
          {
           "type": "scatter",
           "x": [
            0
           ],
           "y": [
            -1
           ]
          }
         ],
         "layout": {
          "annotations": [
           {
            "font": {
             "color": "purple",
             "size": 14
            },
            "showarrow": false,
            "text": "<b>Step 54</b><br>AoMA_0=0.0, AoMA_1=0.0<br>Battery=13.0<br>Action=Go L0",
            "x": 0.5,
            "xref": "paper",
            "y": 1.1,
            "yref": "paper"
           }
          ]
         },
         "name": "frame_54"
        },
        {
         "data": [
          {
           "type": "scatter",
           "x": [
            0,
            0,
            2
           ],
           "y": [
            1,
            -1,
            0
           ]
          },
          {
           "type": "scatter",
           "x": [
            0
           ],
           "y": [
            1
           ]
          }
         ],
         "layout": {
          "annotations": [
           {
            "font": {
             "color": "purple",
             "size": 14
            },
            "showarrow": false,
            "text": "<b>Step 55</b><br>AoMA_0=0.0, AoMA_1=0.0<br>Battery=11.0<br>Action=Go Home",
            "x": 0.5,
            "xref": "paper",
            "y": 1.1,
            "yref": "paper"
           }
          ]
         },
         "name": "frame_55"
        },
        {
         "data": [
          {
           "type": "scatter",
           "x": [
            0,
            0,
            2
           ],
           "y": [
            1,
            -1,
            0
           ]
          },
          {
           "type": "scatter",
           "x": [
            2
           ],
           "y": [
            0
           ]
          }
         ],
         "layout": {
          "annotations": [
           {
            "font": {
             "color": "purple",
             "size": 14
            },
            "showarrow": false,
            "text": "<b>Step 56</b><br>AoMA_0=0.0, AoMA_1=0.0<br>Battery=8.0<br>Action=Wait",
            "x": 0.5,
            "xref": "paper",
            "y": 1.1,
            "yref": "paper"
           }
          ]
         },
         "name": "frame_56"
        },
        {
         "data": [
          {
           "type": "scatter",
           "x": [
            0,
            0,
            2
           ],
           "y": [
            1,
            -1,
            0
           ]
          },
          {
           "type": "scatter",
           "x": [
            2
           ],
           "y": [
            0
           ]
          }
         ],
         "layout": {
          "annotations": [
           {
            "font": {
             "color": "purple",
             "size": 14
            },
            "showarrow": false,
            "text": "<b>Step 57</b><br>AoMA_0=0.0, AoMA_1=1.0<br>Battery=13.0<br>Action=Wait",
            "x": 0.5,
            "xref": "paper",
            "y": 1.1,
            "yref": "paper"
           }
          ]
         },
         "name": "frame_57"
        },
        {
         "data": [
          {
           "type": "scatter",
           "x": [
            0,
            0,
            2
           ],
           "y": [
            1,
            -1,
            0
           ]
          },
          {
           "type": "scatter",
           "x": [
            2
           ],
           "y": [
            0
           ]
          }
         ],
         "layout": {
          "annotations": [
           {
            "font": {
             "color": "purple",
             "size": 14
            },
            "showarrow": false,
            "text": "<b>Step 58</b><br>AoMA_0=0.0, AoMA_1=2.0<br>Battery=18.0<br>Action=Go L1",
            "x": 0.5,
            "xref": "paper",
            "y": 1.1,
            "yref": "paper"
           }
          ]
         },
         "name": "frame_58"
        },
        {
         "data": [
          {
           "type": "scatter",
           "x": [
            0,
            0,
            2
           ],
           "y": [
            1,
            -1,
            0
           ]
          },
          {
           "type": "scatter",
           "x": [
            0
           ],
           "y": [
            -1
           ]
          }
         ],
         "layout": {
          "annotations": [
           {
            "font": {
             "color": "purple",
             "size": 14
            },
            "showarrow": false,
            "text": "<b>Step 59</b><br>AoMA_0=0.0, AoMA_1=0.0<br>Battery=14.0<br>Action=Go L0",
            "x": 0.5,
            "xref": "paper",
            "y": 1.1,
            "yref": "paper"
           }
          ]
         },
         "name": "frame_59"
        },
        {
         "data": [
          {
           "type": "scatter",
           "x": [
            0,
            0,
            2
           ],
           "y": [
            1,
            -1,
            0
           ]
          },
          {
           "type": "scatter",
           "x": [
            0
           ],
           "y": [
            1
           ]
          }
         ],
         "layout": {
          "annotations": [
           {
            "font": {
             "color": "purple",
             "size": 14
            },
            "showarrow": false,
            "text": "<b>Step 60</b><br>AoMA_0=0.0, AoMA_1=0.0<br>Battery=12.0<br>Action=Go Home",
            "x": 0.5,
            "xref": "paper",
            "y": 1.1,
            "yref": "paper"
           }
          ]
         },
         "name": "frame_60"
        },
        {
         "data": [
          {
           "type": "scatter",
           "x": [
            0,
            0,
            2
           ],
           "y": [
            1,
            -1,
            0
           ]
          },
          {
           "type": "scatter",
           "x": [
            2
           ],
           "y": [
            0
           ]
          }
         ],
         "layout": {
          "annotations": [
           {
            "font": {
             "color": "purple",
             "size": 14
            },
            "showarrow": false,
            "text": "<b>Step 61</b><br>AoMA_0=2.0, AoMA_1=0.0<br>Battery=9.0<br>Action=Wait",
            "x": 0.5,
            "xref": "paper",
            "y": 1.1,
            "yref": "paper"
           }
          ]
         },
         "name": "frame_61"
        },
        {
         "data": [
          {
           "type": "scatter",
           "x": [
            0,
            0,
            2
           ],
           "y": [
            1,
            -1,
            0
           ]
          },
          {
           "type": "scatter",
           "x": [
            2
           ],
           "y": [
            0
           ]
          }
         ],
         "layout": {
          "annotations": [
           {
            "font": {
             "color": "purple",
             "size": 14
            },
            "showarrow": false,
            "text": "<b>Step 62</b><br>AoMA_0=3.0, AoMA_1=0.0<br>Battery=14.0<br>Action=Go L0",
            "x": 0.5,
            "xref": "paper",
            "y": 1.1,
            "yref": "paper"
           }
          ]
         },
         "name": "frame_62"
        },
        {
         "data": [
          {
           "type": "scatter",
           "x": [
            0,
            0,
            2
           ],
           "y": [
            1,
            -1,
            0
           ]
          },
          {
           "type": "scatter",
           "x": [
            0
           ],
           "y": [
            1
           ]
          }
         ],
         "layout": {
          "annotations": [
           {
            "font": {
             "color": "purple",
             "size": 14
            },
            "showarrow": false,
            "text": "<b>Step 63</b><br>AoMA_0=0.0, AoMA_1=0.0<br>Battery=11.0<br>Action=Go Home",
            "x": 0.5,
            "xref": "paper",
            "y": 1.1,
            "yref": "paper"
           }
          ]
         },
         "name": "frame_63"
        },
        {
         "data": [
          {
           "type": "scatter",
           "x": [
            0,
            0,
            2
           ],
           "y": [
            1,
            -1,
            0
           ]
          },
          {
           "type": "scatter",
           "x": [
            2
           ],
           "y": [
            0
           ]
          }
         ],
         "layout": {
          "annotations": [
           {
            "font": {
             "color": "purple",
             "size": 14
            },
            "showarrow": false,
            "text": "<b>Step 64</b><br>AoMA_0=0.0, AoMA_1=3.0<br>Battery=8.0<br>Action=Wait",
            "x": 0.5,
            "xref": "paper",
            "y": 1.1,
            "yref": "paper"
           }
          ]
         },
         "name": "frame_64"
        },
        {
         "data": [
          {
           "type": "scatter",
           "x": [
            0,
            0,
            2
           ],
           "y": [
            1,
            -1,
            0
           ]
          },
          {
           "type": "scatter",
           "x": [
            2
           ],
           "y": [
            0
           ]
          }
         ],
         "layout": {
          "annotations": [
           {
            "font": {
             "color": "purple",
             "size": 14
            },
            "showarrow": false,
            "text": "<b>Step 65</b><br>AoMA_0=0.0, AoMA_1=4.0<br>Battery=13.0<br>Action=Wait",
            "x": 0.5,
            "xref": "paper",
            "y": 1.1,
            "yref": "paper"
           }
          ]
         },
         "name": "frame_65"
        },
        {
         "data": [
          {
           "type": "scatter",
           "x": [
            0,
            0,
            2
           ],
           "y": [
            1,
            -1,
            0
           ]
          },
          {
           "type": "scatter",
           "x": [
            2
           ],
           "y": [
            0
           ]
          }
         ],
         "layout": {
          "annotations": [
           {
            "font": {
             "color": "purple",
             "size": 14
            },
            "showarrow": false,
            "text": "<b>Step 66</b><br>AoMA_0=0.0, AoMA_1=5.0<br>Battery=18.0<br>Action=Go L1",
            "x": 0.5,
            "xref": "paper",
            "y": 1.1,
            "yref": "paper"
           }
          ]
         },
         "name": "frame_66"
        },
        {
         "data": [
          {
           "type": "scatter",
           "x": [
            0,
            0,
            2
           ],
           "y": [
            1,
            -1,
            0
           ]
          },
          {
           "type": "scatter",
           "x": [
            0
           ],
           "y": [
            -1
           ]
          }
         ],
         "layout": {
          "annotations": [
           {
            "font": {
             "color": "purple",
             "size": 14
            },
            "showarrow": false,
            "text": "<b>Step 67</b><br>AoMA_0=0.0, AoMA_1=0.0<br>Battery=14.0<br>Action=Go L0",
            "x": 0.5,
            "xref": "paper",
            "y": 1.1,
            "yref": "paper"
           }
          ]
         },
         "name": "frame_67"
        },
        {
         "data": [
          {
           "type": "scatter",
           "x": [
            0,
            0,
            2
           ],
           "y": [
            1,
            -1,
            0
           ]
          },
          {
           "type": "scatter",
           "x": [
            0
           ],
           "y": [
            1
           ]
          }
         ],
         "layout": {
          "annotations": [
           {
            "font": {
             "color": "purple",
             "size": 14
            },
            "showarrow": false,
            "text": "<b>Step 68</b><br>AoMA_0=0.0, AoMA_1=0.0<br>Battery=12.0<br>Action=Go Home",
            "x": 0.5,
            "xref": "paper",
            "y": 1.1,
            "yref": "paper"
           }
          ]
         },
         "name": "frame_68"
        },
        {
         "data": [
          {
           "type": "scatter",
           "x": [
            0,
            0,
            2
           ],
           "y": [
            1,
            -1,
            0
           ]
          },
          {
           "type": "scatter",
           "x": [
            2
           ],
           "y": [
            0
           ]
          }
         ],
         "layout": {
          "annotations": [
           {
            "font": {
             "color": "purple",
             "size": 14
            },
            "showarrow": false,
            "text": "<b>Step 69</b><br>AoMA_0=0.0, AoMA_1=0.0<br>Battery=9.0<br>Action=Wait",
            "x": 0.5,
            "xref": "paper",
            "y": 1.1,
            "yref": "paper"
           }
          ]
         },
         "name": "frame_69"
        },
        {
         "data": [
          {
           "type": "scatter",
           "x": [
            0,
            0,
            2
           ],
           "y": [
            1,
            -1,
            0
           ]
          },
          {
           "type": "scatter",
           "x": [
            2
           ],
           "y": [
            0
           ]
          }
         ],
         "layout": {
          "annotations": [
           {
            "font": {
             "color": "purple",
             "size": 14
            },
            "showarrow": false,
            "text": "<b>Step 70</b><br>AoMA_0=0.0, AoMA_1=0.0<br>Battery=14.0<br>Action=Wait",
            "x": 0.5,
            "xref": "paper",
            "y": 1.1,
            "yref": "paper"
           }
          ]
         },
         "name": "frame_70"
        },
        {
         "data": [
          {
           "type": "scatter",
           "x": [
            0,
            0,
            2
           ],
           "y": [
            1,
            -1,
            0
           ]
          },
          {
           "type": "scatter",
           "x": [
            2
           ],
           "y": [
            0
           ]
          }
         ],
         "layout": {
          "annotations": [
           {
            "font": {
             "color": "purple",
             "size": 14
            },
            "showarrow": false,
            "text": "<b>Step 71</b><br>AoMA_0=0.0, AoMA_1=0.0<br>Battery=19.0<br>Action=Go L0",
            "x": 0.5,
            "xref": "paper",
            "y": 1.1,
            "yref": "paper"
           }
          ]
         },
         "name": "frame_71"
        },
        {
         "data": [
          {
           "type": "scatter",
           "x": [
            0,
            0,
            2
           ],
           "y": [
            1,
            -1,
            0
           ]
          },
          {
           "type": "scatter",
           "x": [
            0
           ],
           "y": [
            1
           ]
          }
         ],
         "layout": {
          "annotations": [
           {
            "font": {
             "color": "purple",
             "size": 14
            },
            "showarrow": false,
            "text": "<b>Step 72</b><br>AoMA_0=0.0, AoMA_1=0.0<br>Battery=16.0<br>Action=Go Home",
            "x": 0.5,
            "xref": "paper",
            "y": 1.1,
            "yref": "paper"
           }
          ]
         },
         "name": "frame_72"
        },
        {
         "data": [
          {
           "type": "scatter",
           "x": [
            0,
            0,
            2
           ],
           "y": [
            1,
            -1,
            0
           ]
          },
          {
           "type": "scatter",
           "x": [
            2
           ],
           "y": [
            0
           ]
          }
         ],
         "layout": {
          "annotations": [
           {
            "font": {
             "color": "purple",
             "size": 14
            },
            "showarrow": false,
            "text": "<b>Step 73</b><br>AoMA_0=0.0, AoMA_1=0.0<br>Battery=13.0<br>Action=Wait",
            "x": 0.5,
            "xref": "paper",
            "y": 1.1,
            "yref": "paper"
           }
          ]
         },
         "name": "frame_73"
        },
        {
         "data": [
          {
           "type": "scatter",
           "x": [
            0,
            0,
            2
           ],
           "y": [
            1,
            -1,
            0
           ]
          },
          {
           "type": "scatter",
           "x": [
            2
           ],
           "y": [
            0
           ]
          }
         ],
         "layout": {
          "annotations": [
           {
            "font": {
             "color": "purple",
             "size": 14
            },
            "showarrow": false,
            "text": "<b>Step 74</b><br>AoMA_0=0.0, AoMA_1=0.0<br>Battery=18.0<br>Action=Wait",
            "x": 0.5,
            "xref": "paper",
            "y": 1.1,
            "yref": "paper"
           }
          ]
         },
         "name": "frame_74"
        },
        {
         "data": [
          {
           "type": "scatter",
           "x": [
            0,
            0,
            2
           ],
           "y": [
            1,
            -1,
            0
           ]
          },
          {
           "type": "scatter",
           "x": [
            2
           ],
           "y": [
            0
           ]
          }
         ],
         "layout": {
          "annotations": [
           {
            "font": {
             "color": "purple",
             "size": 14
            },
            "showarrow": false,
            "text": "<b>Step 75</b><br>AoMA_0=0.0, AoMA_1=0.0<br>Battery=20.0<br>Action=Go L0",
            "x": 0.5,
            "xref": "paper",
            "y": 1.1,
            "yref": "paper"
           }
          ]
         },
         "name": "frame_75"
        },
        {
         "data": [
          {
           "type": "scatter",
           "x": [
            0,
            0,
            2
           ],
           "y": [
            1,
            -1,
            0
           ]
          },
          {
           "type": "scatter",
           "x": [
            0
           ],
           "y": [
            1
           ]
          }
         ],
         "layout": {
          "annotations": [
           {
            "font": {
             "color": "purple",
             "size": 14
            },
            "showarrow": false,
            "text": "<b>Step 76</b><br>AoMA_0=0.0, AoMA_1=0.0<br>Battery=17.0<br>Action=Go Home",
            "x": 0.5,
            "xref": "paper",
            "y": 1.1,
            "yref": "paper"
           }
          ]
         },
         "name": "frame_76"
        },
        {
         "data": [
          {
           "type": "scatter",
           "x": [
            0,
            0,
            2
           ],
           "y": [
            1,
            -1,
            0
           ]
          },
          {
           "type": "scatter",
           "x": [
            2
           ],
           "y": [
            0
           ]
          }
         ],
         "layout": {
          "annotations": [
           {
            "font": {
             "color": "purple",
             "size": 14
            },
            "showarrow": false,
            "text": "<b>Step 77</b><br>AoMA_0=0.0, AoMA_1=0.0<br>Battery=14.0<br>Action=Wait",
            "x": 0.5,
            "xref": "paper",
            "y": 1.1,
            "yref": "paper"
           }
          ]
         },
         "name": "frame_77"
        },
        {
         "data": [
          {
           "type": "scatter",
           "x": [
            0,
            0,
            2
           ],
           "y": [
            1,
            -1,
            0
           ]
          },
          {
           "type": "scatter",
           "x": [
            2
           ],
           "y": [
            0
           ]
          }
         ],
         "layout": {
          "annotations": [
           {
            "font": {
             "color": "purple",
             "size": 14
            },
            "showarrow": false,
            "text": "<b>Step 78</b><br>AoMA_0=0.0, AoMA_1=0.0<br>Battery=19.0<br>Action=Go L0",
            "x": 0.5,
            "xref": "paper",
            "y": 1.1,
            "yref": "paper"
           }
          ]
         },
         "name": "frame_78"
        },
        {
         "data": [
          {
           "type": "scatter",
           "x": [
            0,
            0,
            2
           ],
           "y": [
            1,
            -1,
            0
           ]
          },
          {
           "type": "scatter",
           "x": [
            0
           ],
           "y": [
            1
           ]
          }
         ],
         "layout": {
          "annotations": [
           {
            "font": {
             "color": "purple",
             "size": 14
            },
            "showarrow": false,
            "text": "<b>Step 79</b><br>AoMA_0=0.0, AoMA_1=0.0<br>Battery=16.0<br>Action=Go Home",
            "x": 0.5,
            "xref": "paper",
            "y": 1.1,
            "yref": "paper"
           }
          ]
         },
         "name": "frame_79"
        },
        {
         "data": [
          {
           "type": "scatter",
           "x": [
            0,
            0,
            2
           ],
           "y": [
            1,
            -1,
            0
           ]
          },
          {
           "type": "scatter",
           "x": [
            2
           ],
           "y": [
            0
           ]
          }
         ],
         "layout": {
          "annotations": [
           {
            "font": {
             "color": "purple",
             "size": 14
            },
            "showarrow": false,
            "text": "<b>Step 80</b><br>AoMA_0=0.0, AoMA_1=0.0<br>Battery=13.0<br>Action=Wait",
            "x": 0.5,
            "xref": "paper",
            "y": 1.1,
            "yref": "paper"
           }
          ]
         },
         "name": "frame_80"
        },
        {
         "data": [
          {
           "type": "scatter",
           "x": [
            0,
            0,
            2
           ],
           "y": [
            1,
            -1,
            0
           ]
          },
          {
           "type": "scatter",
           "x": [
            2
           ],
           "y": [
            0
           ]
          }
         ],
         "layout": {
          "annotations": [
           {
            "font": {
             "color": "purple",
             "size": 14
            },
            "showarrow": false,
            "text": "<b>Step 81</b><br>AoMA_0=0.0, AoMA_1=0.0<br>Battery=18.0<br>Action=Wait",
            "x": 0.5,
            "xref": "paper",
            "y": 1.1,
            "yref": "paper"
           }
          ]
         },
         "name": "frame_81"
        },
        {
         "data": [
          {
           "type": "scatter",
           "x": [
            0,
            0,
            2
           ],
           "y": [
            1,
            -1,
            0
           ]
          },
          {
           "type": "scatter",
           "x": [
            2
           ],
           "y": [
            0
           ]
          }
         ],
         "layout": {
          "annotations": [
           {
            "font": {
             "color": "purple",
             "size": 14
            },
            "showarrow": false,
            "text": "<b>Step 82</b><br>AoMA_0=0.0, AoMA_1=0.0<br>Battery=20.0<br>Action=Go L0",
            "x": 0.5,
            "xref": "paper",
            "y": 1.1,
            "yref": "paper"
           }
          ]
         },
         "name": "frame_82"
        },
        {
         "data": [
          {
           "type": "scatter",
           "x": [
            0,
            0,
            2
           ],
           "y": [
            1,
            -1,
            0
           ]
          },
          {
           "type": "scatter",
           "x": [
            0
           ],
           "y": [
            1
           ]
          }
         ],
         "layout": {
          "annotations": [
           {
            "font": {
             "color": "purple",
             "size": 14
            },
            "showarrow": false,
            "text": "<b>Step 83</b><br>AoMA_0=0.0, AoMA_1=0.0<br>Battery=17.0<br>Action=Go Home",
            "x": 0.5,
            "xref": "paper",
            "y": 1.1,
            "yref": "paper"
           }
          ]
         },
         "name": "frame_83"
        },
        {
         "data": [
          {
           "type": "scatter",
           "x": [
            0,
            0,
            2
           ],
           "y": [
            1,
            -1,
            0
           ]
          },
          {
           "type": "scatter",
           "x": [
            2
           ],
           "y": [
            0
           ]
          }
         ],
         "layout": {
          "annotations": [
           {
            "font": {
             "color": "purple",
             "size": 14
            },
            "showarrow": false,
            "text": "<b>Step 84</b><br>AoMA_0=0.0, AoMA_1=0.0<br>Battery=14.0<br>Action=Wait",
            "x": 0.5,
            "xref": "paper",
            "y": 1.1,
            "yref": "paper"
           }
          ]
         },
         "name": "frame_84"
        },
        {
         "data": [
          {
           "type": "scatter",
           "x": [
            0,
            0,
            2
           ],
           "y": [
            1,
            -1,
            0
           ]
          },
          {
           "type": "scatter",
           "x": [
            2
           ],
           "y": [
            0
           ]
          }
         ],
         "layout": {
          "annotations": [
           {
            "font": {
             "color": "purple",
             "size": 14
            },
            "showarrow": false,
            "text": "<b>Step 85</b><br>AoMA_0=0.0, AoMA_1=0.0<br>Battery=19.0<br>Action=Go L0",
            "x": 0.5,
            "xref": "paper",
            "y": 1.1,
            "yref": "paper"
           }
          ]
         },
         "name": "frame_85"
        },
        {
         "data": [
          {
           "type": "scatter",
           "x": [
            0,
            0,
            2
           ],
           "y": [
            1,
            -1,
            0
           ]
          },
          {
           "type": "scatter",
           "x": [
            0
           ],
           "y": [
            1
           ]
          }
         ],
         "layout": {
          "annotations": [
           {
            "font": {
             "color": "purple",
             "size": 14
            },
            "showarrow": false,
            "text": "<b>Step 86</b><br>AoMA_0=0.0, AoMA_1=0.0<br>Battery=16.0<br>Action=Go Home",
            "x": 0.5,
            "xref": "paper",
            "y": 1.1,
            "yref": "paper"
           }
          ]
         },
         "name": "frame_86"
        },
        {
         "data": [
          {
           "type": "scatter",
           "x": [
            0,
            0,
            2
           ],
           "y": [
            1,
            -1,
            0
           ]
          },
          {
           "type": "scatter",
           "x": [
            2
           ],
           "y": [
            0
           ]
          }
         ],
         "layout": {
          "annotations": [
           {
            "font": {
             "color": "purple",
             "size": 14
            },
            "showarrow": false,
            "text": "<b>Step 87</b><br>AoMA_0=0.0, AoMA_1=1.0<br>Battery=13.0<br>Action=Wait",
            "x": 0.5,
            "xref": "paper",
            "y": 1.1,
            "yref": "paper"
           }
          ]
         },
         "name": "frame_87"
        },
        {
         "data": [
          {
           "type": "scatter",
           "x": [
            0,
            0,
            2
           ],
           "y": [
            1,
            -1,
            0
           ]
          },
          {
           "type": "scatter",
           "x": [
            2
           ],
           "y": [
            0
           ]
          }
         ],
         "layout": {
          "annotations": [
           {
            "font": {
             "color": "purple",
             "size": 14
            },
            "showarrow": false,
            "text": "<b>Step 88</b><br>AoMA_0=0.0, AoMA_1=2.0<br>Battery=18.0<br>Action=Go L1",
            "x": 0.5,
            "xref": "paper",
            "y": 1.1,
            "yref": "paper"
           }
          ]
         },
         "name": "frame_88"
        },
        {
         "data": [
          {
           "type": "scatter",
           "x": [
            0,
            0,
            2
           ],
           "y": [
            1,
            -1,
            0
           ]
          },
          {
           "type": "scatter",
           "x": [
            0
           ],
           "y": [
            -1
           ]
          }
         ],
         "layout": {
          "annotations": [
           {
            "font": {
             "color": "purple",
             "size": 14
            },
            "showarrow": false,
            "text": "<b>Step 89</b><br>AoMA_0=0.0, AoMA_1=0.0<br>Battery=14.0<br>Action=Go L0",
            "x": 0.5,
            "xref": "paper",
            "y": 1.1,
            "yref": "paper"
           }
          ]
         },
         "name": "frame_89"
        },
        {
         "data": [
          {
           "type": "scatter",
           "x": [
            0,
            0,
            2
           ],
           "y": [
            1,
            -1,
            0
           ]
          },
          {
           "type": "scatter",
           "x": [
            0
           ],
           "y": [
            1
           ]
          }
         ],
         "layout": {
          "annotations": [
           {
            "font": {
             "color": "purple",
             "size": 14
            },
            "showarrow": false,
            "text": "<b>Step 90</b><br>AoMA_0=0.0, AoMA_1=0.0<br>Battery=12.0<br>Action=Go Home",
            "x": 0.5,
            "xref": "paper",
            "y": 1.1,
            "yref": "paper"
           }
          ]
         },
         "name": "frame_90"
        },
        {
         "data": [
          {
           "type": "scatter",
           "x": [
            0,
            0,
            2
           ],
           "y": [
            1,
            -1,
            0
           ]
          },
          {
           "type": "scatter",
           "x": [
            2
           ],
           "y": [
            0
           ]
          }
         ],
         "layout": {
          "annotations": [
           {
            "font": {
             "color": "purple",
             "size": 14
            },
            "showarrow": false,
            "text": "<b>Step 91</b><br>AoMA_0=0.0, AoMA_1=0.0<br>Battery=9.0<br>Action=Wait",
            "x": 0.5,
            "xref": "paper",
            "y": 1.1,
            "yref": "paper"
           }
          ]
         },
         "name": "frame_91"
        },
        {
         "data": [
          {
           "type": "scatter",
           "x": [
            0,
            0,
            2
           ],
           "y": [
            1,
            -1,
            0
           ]
          },
          {
           "type": "scatter",
           "x": [
            2
           ],
           "y": [
            0
           ]
          }
         ],
         "layout": {
          "annotations": [
           {
            "font": {
             "color": "purple",
             "size": 14
            },
            "showarrow": false,
            "text": "<b>Step 92</b><br>AoMA_0=0.0, AoMA_1=0.0<br>Battery=14.0<br>Action=Wait",
            "x": 0.5,
            "xref": "paper",
            "y": 1.1,
            "yref": "paper"
           }
          ]
         },
         "name": "frame_92"
        },
        {
         "data": [
          {
           "type": "scatter",
           "x": [
            0,
            0,
            2
           ],
           "y": [
            1,
            -1,
            0
           ]
          },
          {
           "type": "scatter",
           "x": [
            2
           ],
           "y": [
            0
           ]
          }
         ],
         "layout": {
          "annotations": [
           {
            "font": {
             "color": "purple",
             "size": 14
            },
            "showarrow": false,
            "text": "<b>Step 93</b><br>AoMA_0=0.0, AoMA_1=0.0<br>Battery=19.0<br>Action=Go L0",
            "x": 0.5,
            "xref": "paper",
            "y": 1.1,
            "yref": "paper"
           }
          ]
         },
         "name": "frame_93"
        },
        {
         "data": [
          {
           "type": "scatter",
           "x": [
            0,
            0,
            2
           ],
           "y": [
            1,
            -1,
            0
           ]
          },
          {
           "type": "scatter",
           "x": [
            0
           ],
           "y": [
            1
           ]
          }
         ],
         "layout": {
          "annotations": [
           {
            "font": {
             "color": "purple",
             "size": 14
            },
            "showarrow": false,
            "text": "<b>Step 94</b><br>AoMA_0=0.0, AoMA_1=0.0<br>Battery=16.0<br>Action=Go Home",
            "x": 0.5,
            "xref": "paper",
            "y": 1.1,
            "yref": "paper"
           }
          ]
         },
         "name": "frame_94"
        },
        {
         "data": [
          {
           "type": "scatter",
           "x": [
            0,
            0,
            2
           ],
           "y": [
            1,
            -1,
            0
           ]
          },
          {
           "type": "scatter",
           "x": [
            2
           ],
           "y": [
            0
           ]
          }
         ],
         "layout": {
          "annotations": [
           {
            "font": {
             "color": "purple",
             "size": 14
            },
            "showarrow": false,
            "text": "<b>Step 95</b><br>AoMA_0=0.0, AoMA_1=0.0<br>Battery=13.0<br>Action=Wait",
            "x": 0.5,
            "xref": "paper",
            "y": 1.1,
            "yref": "paper"
           }
          ]
         },
         "name": "frame_95"
        },
        {
         "data": [
          {
           "type": "scatter",
           "x": [
            0,
            0,
            2
           ],
           "y": [
            1,
            -1,
            0
           ]
          },
          {
           "type": "scatter",
           "x": [
            2
           ],
           "y": [
            0
           ]
          }
         ],
         "layout": {
          "annotations": [
           {
            "font": {
             "color": "purple",
             "size": 14
            },
            "showarrow": false,
            "text": "<b>Step 96</b><br>AoMA_0=0.0, AoMA_1=1.0<br>Battery=18.0<br>Action=Go L1",
            "x": 0.5,
            "xref": "paper",
            "y": 1.1,
            "yref": "paper"
           }
          ]
         },
         "name": "frame_96"
        },
        {
         "data": [
          {
           "type": "scatter",
           "x": [
            0,
            0,
            2
           ],
           "y": [
            1,
            -1,
            0
           ]
          },
          {
           "type": "scatter",
           "x": [
            0
           ],
           "y": [
            -1
           ]
          }
         ],
         "layout": {
          "annotations": [
           {
            "font": {
             "color": "purple",
             "size": 14
            },
            "showarrow": false,
            "text": "<b>Step 97</b><br>AoMA_0=0.0, AoMA_1=0.0<br>Battery=14.0<br>Action=Go L0",
            "x": 0.5,
            "xref": "paper",
            "y": 1.1,
            "yref": "paper"
           }
          ]
         },
         "name": "frame_97"
        },
        {
         "data": [
          {
           "type": "scatter",
           "x": [
            0,
            0,
            2
           ],
           "y": [
            1,
            -1,
            0
           ]
          },
          {
           "type": "scatter",
           "x": [
            0
           ],
           "y": [
            1
           ]
          }
         ],
         "layout": {
          "annotations": [
           {
            "font": {
             "color": "purple",
             "size": 14
            },
            "showarrow": false,
            "text": "<b>Step 98</b><br>AoMA_0=0.0, AoMA_1=2.0<br>Battery=12.0<br>Action=Go L1",
            "x": 0.5,
            "xref": "paper",
            "y": 1.1,
            "yref": "paper"
           }
          ]
         },
         "name": "frame_98"
        },
        {
         "data": [
          {
           "type": "scatter",
           "x": [
            0,
            0,
            2
           ],
           "y": [
            1,
            -1,
            0
           ]
          },
          {
           "type": "scatter",
           "x": [
            0
           ],
           "y": [
            -1
           ]
          }
         ],
         "layout": {
          "annotations": [
           {
            "font": {
             "color": "purple",
             "size": 14
            },
            "showarrow": false,
            "text": "<b>Step 99</b><br>AoMA_0=0.0, AoMA_1=0.0<br>Battery=10.0<br>Action=Go L0",
            "x": 0.5,
            "xref": "paper",
            "y": 1.1,
            "yref": "paper"
           }
          ]
         },
         "name": "frame_99"
        },
        {
         "data": [
          {
           "type": "scatter",
           "x": [
            0,
            0,
            2
           ],
           "y": [
            1,
            -1,
            0
           ]
          },
          {
           "type": "scatter",
           "x": [
            0
           ],
           "y": [
            1
           ]
          }
         ],
         "layout": {
          "annotations": [
           {
            "font": {
             "color": "purple",
             "size": 14
            },
            "showarrow": false,
            "text": "<b>Step 100</b><br>AoMA_0=0.0, AoMA_1=0.0<br>Battery=8.0<br>Action=Go Home",
            "x": 0.5,
            "xref": "paper",
            "y": 1.1,
            "yref": "paper"
           }
          ]
         },
         "name": "frame_100"
        },
        {
         "data": [
          {
           "type": "scatter",
           "x": [
            0,
            0,
            2
           ],
           "y": [
            1,
            -1,
            0
           ]
          },
          {
           "type": "scatter",
           "x": [
            2
           ],
           "y": [
            0
           ]
          }
         ],
         "layout": {
          "annotations": [
           {
            "font": {
             "color": "purple",
             "size": 14
            },
            "showarrow": false,
            "text": "<b>Step 101</b><br>AoMA_0=0.0, AoMA_1=0.0<br>Battery=5.0<br>Action=Wait",
            "x": 0.5,
            "xref": "paper",
            "y": 1.1,
            "yref": "paper"
           }
          ]
         },
         "name": "frame_101"
        },
        {
         "data": [
          {
           "type": "scatter",
           "x": [
            0,
            0,
            2
           ],
           "y": [
            1,
            -1,
            0
           ]
          },
          {
           "type": "scatter",
           "x": [
            2
           ],
           "y": [
            0
           ]
          }
         ],
         "layout": {
          "annotations": [
           {
            "font": {
             "color": "purple",
             "size": 14
            },
            "showarrow": false,
            "text": "<b>Step 102</b><br>AoMA_0=0.0, AoMA_1=0.0<br>Battery=10.0<br>Action=Wait",
            "x": 0.5,
            "xref": "paper",
            "y": 1.1,
            "yref": "paper"
           }
          ]
         },
         "name": "frame_102"
        },
        {
         "data": [
          {
           "type": "scatter",
           "x": [
            0,
            0,
            2
           ],
           "y": [
            1,
            -1,
            0
           ]
          },
          {
           "type": "scatter",
           "x": [
            2
           ],
           "y": [
            0
           ]
          }
         ],
         "layout": {
          "annotations": [
           {
            "font": {
             "color": "purple",
             "size": 14
            },
            "showarrow": false,
            "text": "<b>Step 103</b><br>AoMA_0=0.0, AoMA_1=0.0<br>Battery=15.0<br>Action=Wait",
            "x": 0.5,
            "xref": "paper",
            "y": 1.1,
            "yref": "paper"
           }
          ]
         },
         "name": "frame_103"
        },
        {
         "data": [
          {
           "type": "scatter",
           "x": [
            0,
            0,
            2
           ],
           "y": [
            1,
            -1,
            0
           ]
          },
          {
           "type": "scatter",
           "x": [
            2
           ],
           "y": [
            0
           ]
          }
         ],
         "layout": {
          "annotations": [
           {
            "font": {
             "color": "purple",
             "size": 14
            },
            "showarrow": false,
            "text": "<b>Step 104</b><br>AoMA_0=0.0, AoMA_1=0.0<br>Battery=20.0<br>Action=Go L0",
            "x": 0.5,
            "xref": "paper",
            "y": 1.1,
            "yref": "paper"
           }
          ]
         },
         "name": "frame_104"
        },
        {
         "data": [
          {
           "type": "scatter",
           "x": [
            0,
            0,
            2
           ],
           "y": [
            1,
            -1,
            0
           ]
          },
          {
           "type": "scatter",
           "x": [
            0
           ],
           "y": [
            1
           ]
          }
         ],
         "layout": {
          "annotations": [
           {
            "font": {
             "color": "purple",
             "size": 14
            },
            "showarrow": false,
            "text": "<b>Step 105</b><br>AoMA_0=0.0, AoMA_1=0.0<br>Battery=17.0<br>Action=Go Home",
            "x": 0.5,
            "xref": "paper",
            "y": 1.1,
            "yref": "paper"
           }
          ]
         },
         "name": "frame_105"
        },
        {
         "data": [
          {
           "type": "scatter",
           "x": [
            0,
            0,
            2
           ],
           "y": [
            1,
            -1,
            0
           ]
          },
          {
           "type": "scatter",
           "x": [
            2
           ],
           "y": [
            0
           ]
          }
         ],
         "layout": {
          "annotations": [
           {
            "font": {
             "color": "purple",
             "size": 14
            },
            "showarrow": false,
            "text": "<b>Step 106</b><br>AoMA_0=0.0, AoMA_1=0.0<br>Battery=14.0<br>Action=Wait",
            "x": 0.5,
            "xref": "paper",
            "y": 1.1,
            "yref": "paper"
           }
          ]
         },
         "name": "frame_106"
        },
        {
         "data": [
          {
           "type": "scatter",
           "x": [
            0,
            0,
            2
           ],
           "y": [
            1,
            -1,
            0
           ]
          },
          {
           "type": "scatter",
           "x": [
            2
           ],
           "y": [
            0
           ]
          }
         ],
         "layout": {
          "annotations": [
           {
            "font": {
             "color": "purple",
             "size": 14
            },
            "showarrow": false,
            "text": "<b>Step 107</b><br>AoMA_0=0.0, AoMA_1=0.0<br>Battery=19.0<br>Action=Go L0",
            "x": 0.5,
            "xref": "paper",
            "y": 1.1,
            "yref": "paper"
           }
          ]
         },
         "name": "frame_107"
        },
        {
         "data": [
          {
           "type": "scatter",
           "x": [
            0,
            0,
            2
           ],
           "y": [
            1,
            -1,
            0
           ]
          },
          {
           "type": "scatter",
           "x": [
            0
           ],
           "y": [
            1
           ]
          }
         ],
         "layout": {
          "annotations": [
           {
            "font": {
             "color": "purple",
             "size": 14
            },
            "showarrow": false,
            "text": "<b>Step 108</b><br>AoMA_0=0.0, AoMA_1=0.0<br>Battery=16.0<br>Action=Go Home",
            "x": 0.5,
            "xref": "paper",
            "y": 1.1,
            "yref": "paper"
           }
          ]
         },
         "name": "frame_108"
        },
        {
         "data": [
          {
           "type": "scatter",
           "x": [
            0,
            0,
            2
           ],
           "y": [
            1,
            -1,
            0
           ]
          },
          {
           "type": "scatter",
           "x": [
            2
           ],
           "y": [
            0
           ]
          }
         ],
         "layout": {
          "annotations": [
           {
            "font": {
             "color": "purple",
             "size": 14
            },
            "showarrow": false,
            "text": "<b>Step 109</b><br>AoMA_0=0.0, AoMA_1=0.0<br>Battery=13.0<br>Action=Wait",
            "x": 0.5,
            "xref": "paper",
            "y": 1.1,
            "yref": "paper"
           }
          ]
         },
         "name": "frame_109"
        },
        {
         "data": [
          {
           "type": "scatter",
           "x": [
            0,
            0,
            2
           ],
           "y": [
            1,
            -1,
            0
           ]
          },
          {
           "type": "scatter",
           "x": [
            2
           ],
           "y": [
            0
           ]
          }
         ],
         "layout": {
          "annotations": [
           {
            "font": {
             "color": "purple",
             "size": 14
            },
            "showarrow": false,
            "text": "<b>Step 110</b><br>AoMA_0=0.0, AoMA_1=0.0<br>Battery=18.0<br>Action=Wait",
            "x": 0.5,
            "xref": "paper",
            "y": 1.1,
            "yref": "paper"
           }
          ]
         },
         "name": "frame_110"
        },
        {
         "data": [
          {
           "type": "scatter",
           "x": [
            0,
            0,
            2
           ],
           "y": [
            1,
            -1,
            0
           ]
          },
          {
           "type": "scatter",
           "x": [
            2
           ],
           "y": [
            0
           ]
          }
         ],
         "layout": {
          "annotations": [
           {
            "font": {
             "color": "purple",
             "size": 14
            },
            "showarrow": false,
            "text": "<b>Step 111</b><br>AoMA_0=0.0, AoMA_1=0.0<br>Battery=20.0<br>Action=Go L0",
            "x": 0.5,
            "xref": "paper",
            "y": 1.1,
            "yref": "paper"
           }
          ]
         },
         "name": "frame_111"
        },
        {
         "data": [
          {
           "type": "scatter",
           "x": [
            0,
            0,
            2
           ],
           "y": [
            1,
            -1,
            0
           ]
          },
          {
           "type": "scatter",
           "x": [
            0
           ],
           "y": [
            1
           ]
          }
         ],
         "layout": {
          "annotations": [
           {
            "font": {
             "color": "purple",
             "size": 14
            },
            "showarrow": false,
            "text": "<b>Step 112</b><br>AoMA_0=0.0, AoMA_1=0.0<br>Battery=17.0<br>Action=Go Home",
            "x": 0.5,
            "xref": "paper",
            "y": 1.1,
            "yref": "paper"
           }
          ]
         },
         "name": "frame_112"
        },
        {
         "data": [
          {
           "type": "scatter",
           "x": [
            0,
            0,
            2
           ],
           "y": [
            1,
            -1,
            0
           ]
          },
          {
           "type": "scatter",
           "x": [
            2
           ],
           "y": [
            0
           ]
          }
         ],
         "layout": {
          "annotations": [
           {
            "font": {
             "color": "purple",
             "size": 14
            },
            "showarrow": false,
            "text": "<b>Step 113</b><br>AoMA_0=0.0, AoMA_1=0.0<br>Battery=14.0<br>Action=Wait",
            "x": 0.5,
            "xref": "paper",
            "y": 1.1,
            "yref": "paper"
           }
          ]
         },
         "name": "frame_113"
        },
        {
         "data": [
          {
           "type": "scatter",
           "x": [
            0,
            0,
            2
           ],
           "y": [
            1,
            -1,
            0
           ]
          },
          {
           "type": "scatter",
           "x": [
            2
           ],
           "y": [
            0
           ]
          }
         ],
         "layout": {
          "annotations": [
           {
            "font": {
             "color": "purple",
             "size": 14
            },
            "showarrow": false,
            "text": "<b>Step 114</b><br>AoMA_0=0.0, AoMA_1=0.0<br>Battery=19.0<br>Action=Go L0",
            "x": 0.5,
            "xref": "paper",
            "y": 1.1,
            "yref": "paper"
           }
          ]
         },
         "name": "frame_114"
        },
        {
         "data": [
          {
           "type": "scatter",
           "x": [
            0,
            0,
            2
           ],
           "y": [
            1,
            -1,
            0
           ]
          },
          {
           "type": "scatter",
           "x": [
            0
           ],
           "y": [
            1
           ]
          }
         ],
         "layout": {
          "annotations": [
           {
            "font": {
             "color": "purple",
             "size": 14
            },
            "showarrow": false,
            "text": "<b>Step 115</b><br>AoMA_0=0.0, AoMA_1=0.0<br>Battery=16.0<br>Action=Go Home",
            "x": 0.5,
            "xref": "paper",
            "y": 1.1,
            "yref": "paper"
           }
          ]
         },
         "name": "frame_115"
        },
        {
         "data": [
          {
           "type": "scatter",
           "x": [
            0,
            0,
            2
           ],
           "y": [
            1,
            -1,
            0
           ]
          },
          {
           "type": "scatter",
           "x": [
            2
           ],
           "y": [
            0
           ]
          }
         ],
         "layout": {
          "annotations": [
           {
            "font": {
             "color": "purple",
             "size": 14
            },
            "showarrow": false,
            "text": "<b>Step 116</b><br>AoMA_0=0.0, AoMA_1=3.0<br>Battery=13.0<br>Action=Wait",
            "x": 0.5,
            "xref": "paper",
            "y": 1.1,
            "yref": "paper"
           }
          ]
         },
         "name": "frame_116"
        },
        {
         "data": [
          {
           "type": "scatter",
           "x": [
            0,
            0,
            2
           ],
           "y": [
            1,
            -1,
            0
           ]
          },
          {
           "type": "scatter",
           "x": [
            2
           ],
           "y": [
            0
           ]
          }
         ],
         "layout": {
          "annotations": [
           {
            "font": {
             "color": "purple",
             "size": 14
            },
            "showarrow": false,
            "text": "<b>Step 117</b><br>AoMA_0=0.0, AoMA_1=4.0<br>Battery=18.0<br>Action=Go L1",
            "x": 0.5,
            "xref": "paper",
            "y": 1.1,
            "yref": "paper"
           }
          ]
         },
         "name": "frame_117"
        },
        {
         "data": [
          {
           "type": "scatter",
           "x": [
            0,
            0,
            2
           ],
           "y": [
            1,
            -1,
            0
           ]
          },
          {
           "type": "scatter",
           "x": [
            0
           ],
           "y": [
            -1
           ]
          }
         ],
         "layout": {
          "annotations": [
           {
            "font": {
             "color": "purple",
             "size": 14
            },
            "showarrow": false,
            "text": "<b>Step 118</b><br>AoMA_0=0.0, AoMA_1=0.0<br>Battery=14.0<br>Action=Go L0",
            "x": 0.5,
            "xref": "paper",
            "y": 1.1,
            "yref": "paper"
           }
          ]
         },
         "name": "frame_118"
        },
        {
         "data": [
          {
           "type": "scatter",
           "x": [
            0,
            0,
            2
           ],
           "y": [
            1,
            -1,
            0
           ]
          },
          {
           "type": "scatter",
           "x": [
            0
           ],
           "y": [
            1
           ]
          }
         ],
         "layout": {
          "annotations": [
           {
            "font": {
             "color": "purple",
             "size": 14
            },
            "showarrow": false,
            "text": "<b>Step 119</b><br>AoMA_0=0.0, AoMA_1=0.0<br>Battery=12.0<br>Action=Go Home",
            "x": 0.5,
            "xref": "paper",
            "y": 1.1,
            "yref": "paper"
           }
          ]
         },
         "name": "frame_119"
        },
        {
         "data": [
          {
           "type": "scatter",
           "x": [
            0,
            0,
            2
           ],
           "y": [
            1,
            -1,
            0
           ]
          },
          {
           "type": "scatter",
           "x": [
            2
           ],
           "y": [
            0
           ]
          }
         ],
         "layout": {
          "annotations": [
           {
            "font": {
             "color": "purple",
             "size": 14
            },
            "showarrow": false,
            "text": "<b>Step 120</b><br>AoMA_0=0.0, AoMA_1=0.0<br>Battery=9.0<br>Action=Wait",
            "x": 0.5,
            "xref": "paper",
            "y": 1.1,
            "yref": "paper"
           }
          ]
         },
         "name": "frame_120"
        },
        {
         "data": [
          {
           "type": "scatter",
           "x": [
            0,
            0,
            2
           ],
           "y": [
            1,
            -1,
            0
           ]
          },
          {
           "type": "scatter",
           "x": [
            2
           ],
           "y": [
            0
           ]
          }
         ],
         "layout": {
          "annotations": [
           {
            "font": {
             "color": "purple",
             "size": 14
            },
            "showarrow": false,
            "text": "<b>Step 121</b><br>AoMA_0=0.0, AoMA_1=0.0<br>Battery=14.0<br>Action=Wait",
            "x": 0.5,
            "xref": "paper",
            "y": 1.1,
            "yref": "paper"
           }
          ]
         },
         "name": "frame_121"
        },
        {
         "data": [
          {
           "type": "scatter",
           "x": [
            0,
            0,
            2
           ],
           "y": [
            1,
            -1,
            0
           ]
          },
          {
           "type": "scatter",
           "x": [
            2
           ],
           "y": [
            0
           ]
          }
         ],
         "layout": {
          "annotations": [
           {
            "font": {
             "color": "purple",
             "size": 14
            },
            "showarrow": false,
            "text": "<b>Step 122</b><br>AoMA_0=0.0, AoMA_1=0.0<br>Battery=19.0<br>Action=Go L0",
            "x": 0.5,
            "xref": "paper",
            "y": 1.1,
            "yref": "paper"
           }
          ]
         },
         "name": "frame_122"
        },
        {
         "data": [
          {
           "type": "scatter",
           "x": [
            0,
            0,
            2
           ],
           "y": [
            1,
            -1,
            0
           ]
          },
          {
           "type": "scatter",
           "x": [
            0
           ],
           "y": [
            1
           ]
          }
         ],
         "layout": {
          "annotations": [
           {
            "font": {
             "color": "purple",
             "size": 14
            },
            "showarrow": false,
            "text": "<b>Step 123</b><br>AoMA_0=0.0, AoMA_1=0.0<br>Battery=16.0<br>Action=Go Home",
            "x": 0.5,
            "xref": "paper",
            "y": 1.1,
            "yref": "paper"
           }
          ]
         },
         "name": "frame_123"
        },
        {
         "data": [
          {
           "type": "scatter",
           "x": [
            0,
            0,
            2
           ],
           "y": [
            1,
            -1,
            0
           ]
          },
          {
           "type": "scatter",
           "x": [
            2
           ],
           "y": [
            0
           ]
          }
         ],
         "layout": {
          "annotations": [
           {
            "font": {
             "color": "purple",
             "size": 14
            },
            "showarrow": false,
            "text": "<b>Step 124</b><br>AoMA_0=0.0, AoMA_1=0.0<br>Battery=13.0<br>Action=Wait",
            "x": 0.5,
            "xref": "paper",
            "y": 1.1,
            "yref": "paper"
           }
          ]
         },
         "name": "frame_124"
        },
        {
         "data": [
          {
           "type": "scatter",
           "x": [
            0,
            0,
            2
           ],
           "y": [
            1,
            -1,
            0
           ]
          },
          {
           "type": "scatter",
           "x": [
            2
           ],
           "y": [
            0
           ]
          }
         ],
         "layout": {
          "annotations": [
           {
            "font": {
             "color": "purple",
             "size": 14
            },
            "showarrow": false,
            "text": "<b>Step 125</b><br>AoMA_0=0.0, AoMA_1=0.0<br>Battery=18.0<br>Action=Wait",
            "x": 0.5,
            "xref": "paper",
            "y": 1.1,
            "yref": "paper"
           }
          ]
         },
         "name": "frame_125"
        },
        {
         "data": [
          {
           "type": "scatter",
           "x": [
            0,
            0,
            2
           ],
           "y": [
            1,
            -1,
            0
           ]
          },
          {
           "type": "scatter",
           "x": [
            2
           ],
           "y": [
            0
           ]
          }
         ],
         "layout": {
          "annotations": [
           {
            "font": {
             "color": "purple",
             "size": 14
            },
            "showarrow": false,
            "text": "<b>Step 126</b><br>AoMA_0=0.0, AoMA_1=0.0<br>Battery=20.0<br>Action=Go L0",
            "x": 0.5,
            "xref": "paper",
            "y": 1.1,
            "yref": "paper"
           }
          ]
         },
         "name": "frame_126"
        },
        {
         "data": [
          {
           "type": "scatter",
           "x": [
            0,
            0,
            2
           ],
           "y": [
            1,
            -1,
            0
           ]
          },
          {
           "type": "scatter",
           "x": [
            0
           ],
           "y": [
            1
           ]
          }
         ],
         "layout": {
          "annotations": [
           {
            "font": {
             "color": "purple",
             "size": 14
            },
            "showarrow": false,
            "text": "<b>Step 127</b><br>AoMA_0=0.0, AoMA_1=0.0<br>Battery=17.0<br>Action=Go Home",
            "x": 0.5,
            "xref": "paper",
            "y": 1.1,
            "yref": "paper"
           }
          ]
         },
         "name": "frame_127"
        },
        {
         "data": [
          {
           "type": "scatter",
           "x": [
            0,
            0,
            2
           ],
           "y": [
            1,
            -1,
            0
           ]
          },
          {
           "type": "scatter",
           "x": [
            2
           ],
           "y": [
            0
           ]
          }
         ],
         "layout": {
          "annotations": [
           {
            "font": {
             "color": "purple",
             "size": 14
            },
            "showarrow": false,
            "text": "<b>Step 128</b><br>AoMA_0=0.0, AoMA_1=0.0<br>Battery=14.0<br>Action=Wait",
            "x": 0.5,
            "xref": "paper",
            "y": 1.1,
            "yref": "paper"
           }
          ]
         },
         "name": "frame_128"
        },
        {
         "data": [
          {
           "type": "scatter",
           "x": [
            0,
            0,
            2
           ],
           "y": [
            1,
            -1,
            0
           ]
          },
          {
           "type": "scatter",
           "x": [
            2
           ],
           "y": [
            0
           ]
          }
         ],
         "layout": {
          "annotations": [
           {
            "font": {
             "color": "purple",
             "size": 14
            },
            "showarrow": false,
            "text": "<b>Step 129</b><br>AoMA_0=0.0, AoMA_1=0.0<br>Battery=19.0<br>Action=Go L0",
            "x": 0.5,
            "xref": "paper",
            "y": 1.1,
            "yref": "paper"
           }
          ]
         },
         "name": "frame_129"
        },
        {
         "data": [
          {
           "type": "scatter",
           "x": [
            0,
            0,
            2
           ],
           "y": [
            1,
            -1,
            0
           ]
          },
          {
           "type": "scatter",
           "x": [
            0
           ],
           "y": [
            1
           ]
          }
         ],
         "layout": {
          "annotations": [
           {
            "font": {
             "color": "purple",
             "size": 14
            },
            "showarrow": false,
            "text": "<b>Step 130</b><br>AoMA_0=0.0, AoMA_1=0.0<br>Battery=16.0<br>Action=Go Home",
            "x": 0.5,
            "xref": "paper",
            "y": 1.1,
            "yref": "paper"
           }
          ]
         },
         "name": "frame_130"
        },
        {
         "data": [
          {
           "type": "scatter",
           "x": [
            0,
            0,
            2
           ],
           "y": [
            1,
            -1,
            0
           ]
          },
          {
           "type": "scatter",
           "x": [
            2
           ],
           "y": [
            0
           ]
          }
         ],
         "layout": {
          "annotations": [
           {
            "font": {
             "color": "purple",
             "size": 14
            },
            "showarrow": false,
            "text": "<b>Step 131</b><br>AoMA_0=0.0, AoMA_1=1.0<br>Battery=13.0<br>Action=Wait",
            "x": 0.5,
            "xref": "paper",
            "y": 1.1,
            "yref": "paper"
           }
          ]
         },
         "name": "frame_131"
        },
        {
         "data": [
          {
           "type": "scatter",
           "x": [
            0,
            0,
            2
           ],
           "y": [
            1,
            -1,
            0
           ]
          },
          {
           "type": "scatter",
           "x": [
            2
           ],
           "y": [
            0
           ]
          }
         ],
         "layout": {
          "annotations": [
           {
            "font": {
             "color": "purple",
             "size": 14
            },
            "showarrow": false,
            "text": "<b>Step 132</b><br>AoMA_0=0.0, AoMA_1=2.0<br>Battery=18.0<br>Action=Go L1",
            "x": 0.5,
            "xref": "paper",
            "y": 1.1,
            "yref": "paper"
           }
          ]
         },
         "name": "frame_132"
        },
        {
         "data": [
          {
           "type": "scatter",
           "x": [
            0,
            0,
            2
           ],
           "y": [
            1,
            -1,
            0
           ]
          },
          {
           "type": "scatter",
           "x": [
            0
           ],
           "y": [
            -1
           ]
          }
         ],
         "layout": {
          "annotations": [
           {
            "font": {
             "color": "purple",
             "size": 14
            },
            "showarrow": false,
            "text": "<b>Step 133</b><br>AoMA_0=0.0, AoMA_1=0.0<br>Battery=14.0<br>Action=Go L0",
            "x": 0.5,
            "xref": "paper",
            "y": 1.1,
            "yref": "paper"
           }
          ]
         },
         "name": "frame_133"
        },
        {
         "data": [
          {
           "type": "scatter",
           "x": [
            0,
            0,
            2
           ],
           "y": [
            1,
            -1,
            0
           ]
          },
          {
           "type": "scatter",
           "x": [
            0
           ],
           "y": [
            1
           ]
          }
         ],
         "layout": {
          "annotations": [
           {
            "font": {
             "color": "purple",
             "size": 14
            },
            "showarrow": false,
            "text": "<b>Step 134</b><br>AoMA_0=0.0, AoMA_1=0.0<br>Battery=12.0<br>Action=Go Home",
            "x": 0.5,
            "xref": "paper",
            "y": 1.1,
            "yref": "paper"
           }
          ]
         },
         "name": "frame_134"
        },
        {
         "data": [
          {
           "type": "scatter",
           "x": [
            0,
            0,
            2
           ],
           "y": [
            1,
            -1,
            0
           ]
          },
          {
           "type": "scatter",
           "x": [
            2
           ],
           "y": [
            0
           ]
          }
         ],
         "layout": {
          "annotations": [
           {
            "font": {
             "color": "purple",
             "size": 14
            },
            "showarrow": false,
            "text": "<b>Step 135</b><br>AoMA_0=0.0, AoMA_1=2.0<br>Battery=9.0<br>Action=Wait",
            "x": 0.5,
            "xref": "paper",
            "y": 1.1,
            "yref": "paper"
           }
          ]
         },
         "name": "frame_135"
        },
        {
         "data": [
          {
           "type": "scatter",
           "x": [
            0,
            0,
            2
           ],
           "y": [
            1,
            -1,
            0
           ]
          },
          {
           "type": "scatter",
           "x": [
            2
           ],
           "y": [
            0
           ]
          }
         ],
         "layout": {
          "annotations": [
           {
            "font": {
             "color": "purple",
             "size": 14
            },
            "showarrow": false,
            "text": "<b>Step 136</b><br>AoMA_0=0.0, AoMA_1=3.0<br>Battery=14.0<br>Action=Wait",
            "x": 0.5,
            "xref": "paper",
            "y": 1.1,
            "yref": "paper"
           }
          ]
         },
         "name": "frame_136"
        },
        {
         "data": [
          {
           "type": "scatter",
           "x": [
            0,
            0,
            2
           ],
           "y": [
            1,
            -1,
            0
           ]
          },
          {
           "type": "scatter",
           "x": [
            2
           ],
           "y": [
            0
           ]
          }
         ],
         "layout": {
          "annotations": [
           {
            "font": {
             "color": "purple",
             "size": 14
            },
            "showarrow": false,
            "text": "<b>Step 137</b><br>AoMA_0=0.0, AoMA_1=4.0<br>Battery=19.0<br>Action=Go L1",
            "x": 0.5,
            "xref": "paper",
            "y": 1.1,
            "yref": "paper"
           }
          ]
         },
         "name": "frame_137"
        },
        {
         "data": [
          {
           "type": "scatter",
           "x": [
            0,
            0,
            2
           ],
           "y": [
            1,
            -1,
            0
           ]
          },
          {
           "type": "scatter",
           "x": [
            0
           ],
           "y": [
            -1
           ]
          }
         ],
         "layout": {
          "annotations": [
           {
            "font": {
             "color": "purple",
             "size": 14
            },
            "showarrow": false,
            "text": "<b>Step 138</b><br>AoMA_0=0.0, AoMA_1=0.0<br>Battery=15.0<br>Action=Go L0",
            "x": 0.5,
            "xref": "paper",
            "y": 1.1,
            "yref": "paper"
           }
          ]
         },
         "name": "frame_138"
        },
        {
         "data": [
          {
           "type": "scatter",
           "x": [
            0,
            0,
            2
           ],
           "y": [
            1,
            -1,
            0
           ]
          },
          {
           "type": "scatter",
           "x": [
            0
           ],
           "y": [
            1
           ]
          }
         ],
         "layout": {
          "annotations": [
           {
            "font": {
             "color": "purple",
             "size": 14
            },
            "showarrow": false,
            "text": "<b>Step 139</b><br>AoMA_0=0.0, AoMA_1=0.0<br>Battery=13.0<br>Action=Go Home",
            "x": 0.5,
            "xref": "paper",
            "y": 1.1,
            "yref": "paper"
           }
          ]
         },
         "name": "frame_139"
        },
        {
         "data": [
          {
           "type": "scatter",
           "x": [
            0,
            0,
            2
           ],
           "y": [
            1,
            -1,
            0
           ]
          },
          {
           "type": "scatter",
           "x": [
            2
           ],
           "y": [
            0
           ]
          }
         ],
         "layout": {
          "annotations": [
           {
            "font": {
             "color": "purple",
             "size": 14
            },
            "showarrow": false,
            "text": "<b>Step 140</b><br>AoMA_0=0.0, AoMA_1=2.0<br>Battery=10.0<br>Action=Wait",
            "x": 0.5,
            "xref": "paper",
            "y": 1.1,
            "yref": "paper"
           }
          ]
         },
         "name": "frame_140"
        },
        {
         "data": [
          {
           "type": "scatter",
           "x": [
            0,
            0,
            2
           ],
           "y": [
            1,
            -1,
            0
           ]
          },
          {
           "type": "scatter",
           "x": [
            2
           ],
           "y": [
            0
           ]
          }
         ],
         "layout": {
          "annotations": [
           {
            "font": {
             "color": "purple",
             "size": 14
            },
            "showarrow": false,
            "text": "<b>Step 141</b><br>AoMA_0=0.0, AoMA_1=3.0<br>Battery=15.0<br>Action=Wait",
            "x": 0.5,
            "xref": "paper",
            "y": 1.1,
            "yref": "paper"
           }
          ]
         },
         "name": "frame_141"
        },
        {
         "data": [
          {
           "type": "scatter",
           "x": [
            0,
            0,
            2
           ],
           "y": [
            1,
            -1,
            0
           ]
          },
          {
           "type": "scatter",
           "x": [
            2
           ],
           "y": [
            0
           ]
          }
         ],
         "layout": {
          "annotations": [
           {
            "font": {
             "color": "purple",
             "size": 14
            },
            "showarrow": false,
            "text": "<b>Step 142</b><br>AoMA_0=0.0, AoMA_1=4.0<br>Battery=20.0<br>Action=Go L1",
            "x": 0.5,
            "xref": "paper",
            "y": 1.1,
            "yref": "paper"
           }
          ]
         },
         "name": "frame_142"
        },
        {
         "data": [
          {
           "type": "scatter",
           "x": [
            0,
            0,
            2
           ],
           "y": [
            1,
            -1,
            0
           ]
          },
          {
           "type": "scatter",
           "x": [
            0
           ],
           "y": [
            -1
           ]
          }
         ],
         "layout": {
          "annotations": [
           {
            "font": {
             "color": "purple",
             "size": 14
            },
            "showarrow": false,
            "text": "<b>Step 143</b><br>AoMA_0=0.0, AoMA_1=0.0<br>Battery=16.0<br>Action=Go L0",
            "x": 0.5,
            "xref": "paper",
            "y": 1.1,
            "yref": "paper"
           }
          ]
         },
         "name": "frame_143"
        },
        {
         "data": [
          {
           "type": "scatter",
           "x": [
            0,
            0,
            2
           ],
           "y": [
            1,
            -1,
            0
           ]
          },
          {
           "type": "scatter",
           "x": [
            0
           ],
           "y": [
            1
           ]
          }
         ],
         "layout": {
          "annotations": [
           {
            "font": {
             "color": "purple",
             "size": 14
            },
            "showarrow": false,
            "text": "<b>Step 144</b><br>AoMA_0=0.0, AoMA_1=0.0<br>Battery=14.0<br>Action=Go Home",
            "x": 0.5,
            "xref": "paper",
            "y": 1.1,
            "yref": "paper"
           }
          ]
         },
         "name": "frame_144"
        },
        {
         "data": [
          {
           "type": "scatter",
           "x": [
            0,
            0,
            2
           ],
           "y": [
            1,
            -1,
            0
           ]
          },
          {
           "type": "scatter",
           "x": [
            2
           ],
           "y": [
            0
           ]
          }
         ],
         "layout": {
          "annotations": [
           {
            "font": {
             "color": "purple",
             "size": 14
            },
            "showarrow": false,
            "text": "<b>Step 145</b><br>AoMA_0=0.0, AoMA_1=0.0<br>Battery=11.0<br>Action=Wait",
            "x": 0.5,
            "xref": "paper",
            "y": 1.1,
            "yref": "paper"
           }
          ]
         },
         "name": "frame_145"
        },
        {
         "data": [
          {
           "type": "scatter",
           "x": [
            0,
            0,
            2
           ],
           "y": [
            1,
            -1,
            0
           ]
          },
          {
           "type": "scatter",
           "x": [
            2
           ],
           "y": [
            0
           ]
          }
         ],
         "layout": {
          "annotations": [
           {
            "font": {
             "color": "purple",
             "size": 14
            },
            "showarrow": false,
            "text": "<b>Step 146</b><br>AoMA_0=0.0, AoMA_1=0.0<br>Battery=16.0<br>Action=Wait",
            "x": 0.5,
            "xref": "paper",
            "y": 1.1,
            "yref": "paper"
           }
          ]
         },
         "name": "frame_146"
        },
        {
         "data": [
          {
           "type": "scatter",
           "x": [
            0,
            0,
            2
           ],
           "y": [
            1,
            -1,
            0
           ]
          },
          {
           "type": "scatter",
           "x": [
            2
           ],
           "y": [
            0
           ]
          }
         ],
         "layout": {
          "annotations": [
           {
            "font": {
             "color": "purple",
             "size": 14
            },
            "showarrow": false,
            "text": "<b>Step 147</b><br>AoMA_0=0.0, AoMA_1=0.0<br>Battery=20.0<br>Action=Go L0",
            "x": 0.5,
            "xref": "paper",
            "y": 1.1,
            "yref": "paper"
           }
          ]
         },
         "name": "frame_147"
        },
        {
         "data": [
          {
           "type": "scatter",
           "x": [
            0,
            0,
            2
           ],
           "y": [
            1,
            -1,
            0
           ]
          },
          {
           "type": "scatter",
           "x": [
            0
           ],
           "y": [
            1
           ]
          }
         ],
         "layout": {
          "annotations": [
           {
            "font": {
             "color": "purple",
             "size": 14
            },
            "showarrow": false,
            "text": "<b>Step 148</b><br>AoMA_0=0.0, AoMA_1=0.0<br>Battery=17.0<br>Action=Go Home",
            "x": 0.5,
            "xref": "paper",
            "y": 1.1,
            "yref": "paper"
           }
          ]
         },
         "name": "frame_148"
        },
        {
         "data": [
          {
           "type": "scatter",
           "x": [
            0,
            0,
            2
           ],
           "y": [
            1,
            -1,
            0
           ]
          },
          {
           "type": "scatter",
           "x": [
            2
           ],
           "y": [
            0
           ]
          }
         ],
         "layout": {
          "annotations": [
           {
            "font": {
             "color": "purple",
             "size": 14
            },
            "showarrow": false,
            "text": "<b>Step 149</b><br>AoMA_0=0.0, AoMA_1=0.0<br>Battery=14.0<br>Action=Wait",
            "x": 0.5,
            "xref": "paper",
            "y": 1.1,
            "yref": "paper"
           }
          ]
         },
         "name": "frame_149"
        },
        {
         "data": [
          {
           "type": "scatter",
           "x": [
            0,
            0,
            2
           ],
           "y": [
            1,
            -1,
            0
           ]
          },
          {
           "type": "scatter",
           "x": [
            2
           ],
           "y": [
            0
           ]
          }
         ],
         "layout": {
          "annotations": [
           {
            "font": {
             "color": "purple",
             "size": 14
            },
            "showarrow": false,
            "text": "<b>Step 150</b><br>AoMA_0=0.0, AoMA_1=0.0<br>Battery=19.0<br>Action=Go L0",
            "x": 0.5,
            "xref": "paper",
            "y": 1.1,
            "yref": "paper"
           }
          ]
         },
         "name": "frame_150"
        },
        {
         "data": [
          {
           "type": "scatter",
           "x": [
            0,
            0,
            2
           ],
           "y": [
            1,
            -1,
            0
           ]
          },
          {
           "type": "scatter",
           "x": [
            0
           ],
           "y": [
            1
           ]
          }
         ],
         "layout": {
          "annotations": [
           {
            "font": {
             "color": "purple",
             "size": 14
            },
            "showarrow": false,
            "text": "<b>Step 151</b><br>AoMA_0=0.0, AoMA_1=0.0<br>Battery=16.0<br>Action=Go Home",
            "x": 0.5,
            "xref": "paper",
            "y": 1.1,
            "yref": "paper"
           }
          ]
         },
         "name": "frame_151"
        },
        {
         "data": [
          {
           "type": "scatter",
           "x": [
            0,
            0,
            2
           ],
           "y": [
            1,
            -1,
            0
           ]
          },
          {
           "type": "scatter",
           "x": [
            2
           ],
           "y": [
            0
           ]
          }
         ],
         "layout": {
          "annotations": [
           {
            "font": {
             "color": "purple",
             "size": 14
            },
            "showarrow": false,
            "text": "<b>Step 152</b><br>AoMA_0=0.0, AoMA_1=2.0<br>Battery=13.0<br>Action=Wait",
            "x": 0.5,
            "xref": "paper",
            "y": 1.1,
            "yref": "paper"
           }
          ]
         },
         "name": "frame_152"
        },
        {
         "data": [
          {
           "type": "scatter",
           "x": [
            0,
            0,
            2
           ],
           "y": [
            1,
            -1,
            0
           ]
          },
          {
           "type": "scatter",
           "x": [
            2
           ],
           "y": [
            0
           ]
          }
         ],
         "layout": {
          "annotations": [
           {
            "font": {
             "color": "purple",
             "size": 14
            },
            "showarrow": false,
            "text": "<b>Step 153</b><br>AoMA_0=1.0, AoMA_1=3.0<br>Battery=18.0<br>Action=Go L0",
            "x": 0.5,
            "xref": "paper",
            "y": 1.1,
            "yref": "paper"
           }
          ]
         },
         "name": "frame_153"
        },
        {
         "data": [
          {
           "type": "scatter",
           "x": [
            0,
            0,
            2
           ],
           "y": [
            1,
            -1,
            0
           ]
          },
          {
           "type": "scatter",
           "x": [
            0
           ],
           "y": [
            1
           ]
          }
         ],
         "layout": {
          "annotations": [
           {
            "font": {
             "color": "purple",
             "size": 14
            },
            "showarrow": false,
            "text": "<b>Step 154</b><br>AoMA_0=0.0, AoMA_1=6.0<br>Battery=15.0<br>Action=Go L1",
            "x": 0.5,
            "xref": "paper",
            "y": 1.1,
            "yref": "paper"
           }
          ]
         },
         "name": "frame_154"
        },
        {
         "data": [
          {
           "type": "scatter",
           "x": [
            0,
            0,
            2
           ],
           "y": [
            1,
            -1,
            0
           ]
          },
          {
           "type": "scatter",
           "x": [
            0
           ],
           "y": [
            -1
           ]
          }
         ],
         "layout": {
          "annotations": [
           {
            "font": {
             "color": "purple",
             "size": 14
            },
            "showarrow": false,
            "text": "<b>Step 155</b><br>AoMA_0=0.0, AoMA_1=0.0<br>Battery=13.0<br>Action=Go L0",
            "x": 0.5,
            "xref": "paper",
            "y": 1.1,
            "yref": "paper"
           }
          ]
         },
         "name": "frame_155"
        },
        {
         "data": [
          {
           "type": "scatter",
           "x": [
            0,
            0,
            2
           ],
           "y": [
            1,
            -1,
            0
           ]
          },
          {
           "type": "scatter",
           "x": [
            0
           ],
           "y": [
            1
           ]
          }
         ],
         "layout": {
          "annotations": [
           {
            "font": {
             "color": "purple",
             "size": 14
            },
            "showarrow": false,
            "text": "<b>Step 156</b><br>AoMA_0=0.0, AoMA_1=0.0<br>Battery=11.0<br>Action=Go Home",
            "x": 0.5,
            "xref": "paper",
            "y": 1.1,
            "yref": "paper"
           }
          ]
         },
         "name": "frame_156"
        },
        {
         "data": [
          {
           "type": "scatter",
           "x": [
            0,
            0,
            2
           ],
           "y": [
            1,
            -1,
            0
           ]
          },
          {
           "type": "scatter",
           "x": [
            2
           ],
           "y": [
            0
           ]
          }
         ],
         "layout": {
          "annotations": [
           {
            "font": {
             "color": "purple",
             "size": 14
            },
            "showarrow": false,
            "text": "<b>Step 157</b><br>AoMA_0=2.0, AoMA_1=0.0<br>Battery=8.0<br>Action=Wait",
            "x": 0.5,
            "xref": "paper",
            "y": 1.1,
            "yref": "paper"
           }
          ]
         },
         "name": "frame_157"
        },
        {
         "data": [
          {
           "type": "scatter",
           "x": [
            0,
            0,
            2
           ],
           "y": [
            1,
            -1,
            0
           ]
          },
          {
           "type": "scatter",
           "x": [
            2
           ],
           "y": [
            0
           ]
          }
         ],
         "layout": {
          "annotations": [
           {
            "font": {
             "color": "purple",
             "size": 14
            },
            "showarrow": false,
            "text": "<b>Step 158</b><br>AoMA_0=3.0, AoMA_1=0.0<br>Battery=13.0<br>Action=Go L0",
            "x": 0.5,
            "xref": "paper",
            "y": 1.1,
            "yref": "paper"
           }
          ]
         },
         "name": "frame_158"
        },
        {
         "data": [
          {
           "type": "scatter",
           "x": [
            0,
            0,
            2
           ],
           "y": [
            1,
            -1,
            0
           ]
          },
          {
           "type": "scatter",
           "x": [
            0
           ],
           "y": [
            1
           ]
          }
         ],
         "layout": {
          "annotations": [
           {
            "font": {
             "color": "purple",
             "size": 14
            },
            "showarrow": false,
            "text": "<b>Step 159</b><br>AoMA_0=0.0, AoMA_1=1.0<br>Battery=10.0<br>Action=Go Home",
            "x": 0.5,
            "xref": "paper",
            "y": 1.1,
            "yref": "paper"
           }
          ]
         },
         "name": "frame_159"
        },
        {
         "data": [
          {
           "type": "scatter",
           "x": [
            0,
            0,
            2
           ],
           "y": [
            1,
            -1,
            0
           ]
          },
          {
           "type": "scatter",
           "x": [
            2
           ],
           "y": [
            0
           ]
          }
         ],
         "layout": {
          "annotations": [
           {
            "font": {
             "color": "purple",
             "size": 14
            },
            "showarrow": false,
            "text": "<b>Step 160</b><br>AoMA_0=0.0, AoMA_1=4.0<br>Battery=7.0<br>Action=Wait",
            "x": 0.5,
            "xref": "paper",
            "y": 1.1,
            "yref": "paper"
           }
          ]
         },
         "name": "frame_160"
        },
        {
         "data": [
          {
           "type": "scatter",
           "x": [
            0,
            0,
            2
           ],
           "y": [
            1,
            -1,
            0
           ]
          },
          {
           "type": "scatter",
           "x": [
            2
           ],
           "y": [
            0
           ]
          }
         ],
         "layout": {
          "annotations": [
           {
            "font": {
             "color": "purple",
             "size": 14
            },
            "showarrow": false,
            "text": "<b>Step 161</b><br>AoMA_0=0.0, AoMA_1=5.0<br>Battery=12.0<br>Action=Wait",
            "x": 0.5,
            "xref": "paper",
            "y": 1.1,
            "yref": "paper"
           }
          ]
         },
         "name": "frame_161"
        },
        {
         "data": [
          {
           "type": "scatter",
           "x": [
            0,
            0,
            2
           ],
           "y": [
            1,
            -1,
            0
           ]
          },
          {
           "type": "scatter",
           "x": [
            2
           ],
           "y": [
            0
           ]
          }
         ],
         "layout": {
          "annotations": [
           {
            "font": {
             "color": "purple",
             "size": 14
            },
            "showarrow": false,
            "text": "<b>Step 162</b><br>AoMA_0=0.0, AoMA_1=6.0<br>Battery=17.0<br>Action=Go L1",
            "x": 0.5,
            "xref": "paper",
            "y": 1.1,
            "yref": "paper"
           }
          ]
         },
         "name": "frame_162"
        },
        {
         "data": [
          {
           "type": "scatter",
           "x": [
            0,
            0,
            2
           ],
           "y": [
            1,
            -1,
            0
           ]
          },
          {
           "type": "scatter",
           "x": [
            0
           ],
           "y": [
            -1
           ]
          }
         ],
         "layout": {
          "annotations": [
           {
            "font": {
             "color": "purple",
             "size": 14
            },
            "showarrow": false,
            "text": "<b>Step 163</b><br>AoMA_0=0.0, AoMA_1=0.0<br>Battery=13.0<br>Action=Go L0",
            "x": 0.5,
            "xref": "paper",
            "y": 1.1,
            "yref": "paper"
           }
          ]
         },
         "name": "frame_163"
        },
        {
         "data": [
          {
           "type": "scatter",
           "x": [
            0,
            0,
            2
           ],
           "y": [
            1,
            -1,
            0
           ]
          },
          {
           "type": "scatter",
           "x": [
            0
           ],
           "y": [
            1
           ]
          }
         ],
         "layout": {
          "annotations": [
           {
            "font": {
             "color": "purple",
             "size": 14
            },
            "showarrow": false,
            "text": "<b>Step 164</b><br>AoMA_0=0.0, AoMA_1=0.0<br>Battery=11.0<br>Action=Go Home",
            "x": 0.5,
            "xref": "paper",
            "y": 1.1,
            "yref": "paper"
           }
          ]
         },
         "name": "frame_164"
        },
        {
         "data": [
          {
           "type": "scatter",
           "x": [
            0,
            0,
            2
           ],
           "y": [
            1,
            -1,
            0
           ]
          },
          {
           "type": "scatter",
           "x": [
            2
           ],
           "y": [
            0
           ]
          }
         ],
         "layout": {
          "annotations": [
           {
            "font": {
             "color": "purple",
             "size": 14
            },
            "showarrow": false,
            "text": "<b>Step 165</b><br>AoMA_0=0.0, AoMA_1=0.0<br>Battery=8.0<br>Action=Wait",
            "x": 0.5,
            "xref": "paper",
            "y": 1.1,
            "yref": "paper"
           }
          ]
         },
         "name": "frame_165"
        },
        {
         "data": [
          {
           "type": "scatter",
           "x": [
            0,
            0,
            2
           ],
           "y": [
            1,
            -1,
            0
           ]
          },
          {
           "type": "scatter",
           "x": [
            2
           ],
           "y": [
            0
           ]
          }
         ],
         "layout": {
          "annotations": [
           {
            "font": {
             "color": "purple",
             "size": 14
            },
            "showarrow": false,
            "text": "<b>Step 166</b><br>AoMA_0=0.0, AoMA_1=0.0<br>Battery=13.0<br>Action=Wait",
            "x": 0.5,
            "xref": "paper",
            "y": 1.1,
            "yref": "paper"
           }
          ]
         },
         "name": "frame_166"
        },
        {
         "data": [
          {
           "type": "scatter",
           "x": [
            0,
            0,
            2
           ],
           "y": [
            1,
            -1,
            0
           ]
          },
          {
           "type": "scatter",
           "x": [
            2
           ],
           "y": [
            0
           ]
          }
         ],
         "layout": {
          "annotations": [
           {
            "font": {
             "color": "purple",
             "size": 14
            },
            "showarrow": false,
            "text": "<b>Step 167</b><br>AoMA_0=0.0, AoMA_1=0.0<br>Battery=18.0<br>Action=Wait",
            "x": 0.5,
            "xref": "paper",
            "y": 1.1,
            "yref": "paper"
           }
          ]
         },
         "name": "frame_167"
        },
        {
         "data": [
          {
           "type": "scatter",
           "x": [
            0,
            0,
            2
           ],
           "y": [
            1,
            -1,
            0
           ]
          },
          {
           "type": "scatter",
           "x": [
            2
           ],
           "y": [
            0
           ]
          }
         ],
         "layout": {
          "annotations": [
           {
            "font": {
             "color": "purple",
             "size": 14
            },
            "showarrow": false,
            "text": "<b>Step 168</b><br>AoMA_0=1.0, AoMA_1=0.0<br>Battery=20.0<br>Action=Go L0",
            "x": 0.5,
            "xref": "paper",
            "y": 1.1,
            "yref": "paper"
           }
          ]
         },
         "name": "frame_168"
        },
        {
         "data": [
          {
           "type": "scatter",
           "x": [
            0,
            0,
            2
           ],
           "y": [
            1,
            -1,
            0
           ]
          },
          {
           "type": "scatter",
           "x": [
            0
           ],
           "y": [
            1
           ]
          }
         ],
         "layout": {
          "annotations": [
           {
            "font": {
             "color": "purple",
             "size": 14
            },
            "showarrow": false,
            "text": "<b>Step 169</b><br>AoMA_0=0.0, AoMA_1=0.0<br>Battery=17.0<br>Action=Go Home",
            "x": 0.5,
            "xref": "paper",
            "y": 1.1,
            "yref": "paper"
           }
          ]
         },
         "name": "frame_169"
        },
        {
         "data": [
          {
           "type": "scatter",
           "x": [
            0,
            0,
            2
           ],
           "y": [
            1,
            -1,
            0
           ]
          },
          {
           "type": "scatter",
           "x": [
            2
           ],
           "y": [
            0
           ]
          }
         ],
         "layout": {
          "annotations": [
           {
            "font": {
             "color": "purple",
             "size": 14
            },
            "showarrow": false,
            "text": "<b>Step 170</b><br>AoMA_0=0.0, AoMA_1=0.0<br>Battery=14.0<br>Action=Wait",
            "x": 0.5,
            "xref": "paper",
            "y": 1.1,
            "yref": "paper"
           }
          ]
         },
         "name": "frame_170"
        },
        {
         "data": [
          {
           "type": "scatter",
           "x": [
            0,
            0,
            2
           ],
           "y": [
            1,
            -1,
            0
           ]
          },
          {
           "type": "scatter",
           "x": [
            2
           ],
           "y": [
            0
           ]
          }
         ],
         "layout": {
          "annotations": [
           {
            "font": {
             "color": "purple",
             "size": 14
            },
            "showarrow": false,
            "text": "<b>Step 171</b><br>AoMA_0=0.0, AoMA_1=1.0<br>Battery=19.0<br>Action=Go L1",
            "x": 0.5,
            "xref": "paper",
            "y": 1.1,
            "yref": "paper"
           }
          ]
         },
         "name": "frame_171"
        },
        {
         "data": [
          {
           "type": "scatter",
           "x": [
            0,
            0,
            2
           ],
           "y": [
            1,
            -1,
            0
           ]
          },
          {
           "type": "scatter",
           "x": [
            0
           ],
           "y": [
            -1
           ]
          }
         ],
         "layout": {
          "annotations": [
           {
            "font": {
             "color": "purple",
             "size": 14
            },
            "showarrow": false,
            "text": "<b>Step 172</b><br>AoMA_0=0.0, AoMA_1=0.0<br>Battery=15.0<br>Action=Go L0",
            "x": 0.5,
            "xref": "paper",
            "y": 1.1,
            "yref": "paper"
           }
          ]
         },
         "name": "frame_172"
        },
        {
         "data": [
          {
           "type": "scatter",
           "x": [
            0,
            0,
            2
           ],
           "y": [
            1,
            -1,
            0
           ]
          },
          {
           "type": "scatter",
           "x": [
            0
           ],
           "y": [
            1
           ]
          }
         ],
         "layout": {
          "annotations": [
           {
            "font": {
             "color": "purple",
             "size": 14
            },
            "showarrow": false,
            "text": "<b>Step 173</b><br>AoMA_0=0.0, AoMA_1=0.0<br>Battery=13.0<br>Action=Go Home",
            "x": 0.5,
            "xref": "paper",
            "y": 1.1,
            "yref": "paper"
           }
          ]
         },
         "name": "frame_173"
        },
        {
         "data": [
          {
           "type": "scatter",
           "x": [
            0,
            0,
            2
           ],
           "y": [
            1,
            -1,
            0
           ]
          },
          {
           "type": "scatter",
           "x": [
            2
           ],
           "y": [
            0
           ]
          }
         ],
         "layout": {
          "annotations": [
           {
            "font": {
             "color": "purple",
             "size": 14
            },
            "showarrow": false,
            "text": "<b>Step 174</b><br>AoMA_0=0.0, AoMA_1=2.0<br>Battery=10.0<br>Action=Wait",
            "x": 0.5,
            "xref": "paper",
            "y": 1.1,
            "yref": "paper"
           }
          ]
         },
         "name": "frame_174"
        },
        {
         "data": [
          {
           "type": "scatter",
           "x": [
            0,
            0,
            2
           ],
           "y": [
            1,
            -1,
            0
           ]
          },
          {
           "type": "scatter",
           "x": [
            2
           ],
           "y": [
            0
           ]
          }
         ],
         "layout": {
          "annotations": [
           {
            "font": {
             "color": "purple",
             "size": 14
            },
            "showarrow": false,
            "text": "<b>Step 175</b><br>AoMA_0=0.0, AoMA_1=3.0<br>Battery=15.0<br>Action=Wait",
            "x": 0.5,
            "xref": "paper",
            "y": 1.1,
            "yref": "paper"
           }
          ]
         },
         "name": "frame_175"
        },
        {
         "data": [
          {
           "type": "scatter",
           "x": [
            0,
            0,
            2
           ],
           "y": [
            1,
            -1,
            0
           ]
          },
          {
           "type": "scatter",
           "x": [
            2
           ],
           "y": [
            0
           ]
          }
         ],
         "layout": {
          "annotations": [
           {
            "font": {
             "color": "purple",
             "size": 14
            },
            "showarrow": false,
            "text": "<b>Step 176</b><br>AoMA_0=0.0, AoMA_1=4.0<br>Battery=20.0<br>Action=Go L1",
            "x": 0.5,
            "xref": "paper",
            "y": 1.1,
            "yref": "paper"
           }
          ]
         },
         "name": "frame_176"
        },
        {
         "data": [
          {
           "type": "scatter",
           "x": [
            0,
            0,
            2
           ],
           "y": [
            1,
            -1,
            0
           ]
          },
          {
           "type": "scatter",
           "x": [
            0
           ],
           "y": [
            -1
           ]
          }
         ],
         "layout": {
          "annotations": [
           {
            "font": {
             "color": "purple",
             "size": 14
            },
            "showarrow": false,
            "text": "<b>Step 177</b><br>AoMA_0=0.0, AoMA_1=0.0<br>Battery=16.0<br>Action=Go L0",
            "x": 0.5,
            "xref": "paper",
            "y": 1.1,
            "yref": "paper"
           }
          ]
         },
         "name": "frame_177"
        },
        {
         "data": [
          {
           "type": "scatter",
           "x": [
            0,
            0,
            2
           ],
           "y": [
            1,
            -1,
            0
           ]
          },
          {
           "type": "scatter",
           "x": [
            0
           ],
           "y": [
            1
           ]
          }
         ],
         "layout": {
          "annotations": [
           {
            "font": {
             "color": "purple",
             "size": 14
            },
            "showarrow": false,
            "text": "<b>Step 178</b><br>AoMA_0=0.0, AoMA_1=0.0<br>Battery=14.0<br>Action=Go Home",
            "x": 0.5,
            "xref": "paper",
            "y": 1.1,
            "yref": "paper"
           }
          ]
         },
         "name": "frame_178"
        },
        {
         "data": [
          {
           "type": "scatter",
           "x": [
            0,
            0,
            2
           ],
           "y": [
            1,
            -1,
            0
           ]
          },
          {
           "type": "scatter",
           "x": [
            2
           ],
           "y": [
            0
           ]
          }
         ],
         "layout": {
          "annotations": [
           {
            "font": {
             "color": "purple",
             "size": 14
            },
            "showarrow": false,
            "text": "<b>Step 179</b><br>AoMA_0=0.0, AoMA_1=0.0<br>Battery=11.0<br>Action=Wait",
            "x": 0.5,
            "xref": "paper",
            "y": 1.1,
            "yref": "paper"
           }
          ]
         },
         "name": "frame_179"
        },
        {
         "data": [
          {
           "type": "scatter",
           "x": [
            0,
            0,
            2
           ],
           "y": [
            1,
            -1,
            0
           ]
          },
          {
           "type": "scatter",
           "x": [
            2
           ],
           "y": [
            0
           ]
          }
         ],
         "layout": {
          "annotations": [
           {
            "font": {
             "color": "purple",
             "size": 14
            },
            "showarrow": false,
            "text": "<b>Step 180</b><br>AoMA_0=0.0, AoMA_1=0.0<br>Battery=16.0<br>Action=Wait",
            "x": 0.5,
            "xref": "paper",
            "y": 1.1,
            "yref": "paper"
           }
          ]
         },
         "name": "frame_180"
        },
        {
         "data": [
          {
           "type": "scatter",
           "x": [
            0,
            0,
            2
           ],
           "y": [
            1,
            -1,
            0
           ]
          },
          {
           "type": "scatter",
           "x": [
            2
           ],
           "y": [
            0
           ]
          }
         ],
         "layout": {
          "annotations": [
           {
            "font": {
             "color": "purple",
             "size": 14
            },
            "showarrow": false,
            "text": "<b>Step 181</b><br>AoMA_0=0.0, AoMA_1=0.0<br>Battery=20.0<br>Action=Go L0",
            "x": 0.5,
            "xref": "paper",
            "y": 1.1,
            "yref": "paper"
           }
          ]
         },
         "name": "frame_181"
        },
        {
         "data": [
          {
           "type": "scatter",
           "x": [
            0,
            0,
            2
           ],
           "y": [
            1,
            -1,
            0
           ]
          },
          {
           "type": "scatter",
           "x": [
            0
           ],
           "y": [
            1
           ]
          }
         ],
         "layout": {
          "annotations": [
           {
            "font": {
             "color": "purple",
             "size": 14
            },
            "showarrow": false,
            "text": "<b>Step 182</b><br>AoMA_0=0.0, AoMA_1=0.0<br>Battery=17.0<br>Action=Go Home",
            "x": 0.5,
            "xref": "paper",
            "y": 1.1,
            "yref": "paper"
           }
          ]
         },
         "name": "frame_182"
        },
        {
         "data": [
          {
           "type": "scatter",
           "x": [
            0,
            0,
            2
           ],
           "y": [
            1,
            -1,
            0
           ]
          },
          {
           "type": "scatter",
           "x": [
            2
           ],
           "y": [
            0
           ]
          }
         ],
         "layout": {
          "annotations": [
           {
            "font": {
             "color": "purple",
             "size": 14
            },
            "showarrow": false,
            "text": "<b>Step 183</b><br>AoMA_0=0.0, AoMA_1=2.0<br>Battery=14.0<br>Action=Wait",
            "x": 0.5,
            "xref": "paper",
            "y": 1.1,
            "yref": "paper"
           }
          ]
         },
         "name": "frame_183"
        },
        {
         "data": [
          {
           "type": "scatter",
           "x": [
            0,
            0,
            2
           ],
           "y": [
            1,
            -1,
            0
           ]
          },
          {
           "type": "scatter",
           "x": [
            2
           ],
           "y": [
            0
           ]
          }
         ],
         "layout": {
          "annotations": [
           {
            "font": {
             "color": "purple",
             "size": 14
            },
            "showarrow": false,
            "text": "<b>Step 184</b><br>AoMA_0=0.0, AoMA_1=3.0<br>Battery=19.0<br>Action=Go L1",
            "x": 0.5,
            "xref": "paper",
            "y": 1.1,
            "yref": "paper"
           }
          ]
         },
         "name": "frame_184"
        },
        {
         "data": [
          {
           "type": "scatter",
           "x": [
            0,
            0,
            2
           ],
           "y": [
            1,
            -1,
            0
           ]
          },
          {
           "type": "scatter",
           "x": [
            0
           ],
           "y": [
            -1
           ]
          }
         ],
         "layout": {
          "annotations": [
           {
            "font": {
             "color": "purple",
             "size": 14
            },
            "showarrow": false,
            "text": "<b>Step 185</b><br>AoMA_0=0.0, AoMA_1=0.0<br>Battery=15.0<br>Action=Go L0",
            "x": 0.5,
            "xref": "paper",
            "y": 1.1,
            "yref": "paper"
           }
          ]
         },
         "name": "frame_185"
        },
        {
         "data": [
          {
           "type": "scatter",
           "x": [
            0,
            0,
            2
           ],
           "y": [
            1,
            -1,
            0
           ]
          },
          {
           "type": "scatter",
           "x": [
            0
           ],
           "y": [
            1
           ]
          }
         ],
         "layout": {
          "annotations": [
           {
            "font": {
             "color": "purple",
             "size": 14
            },
            "showarrow": false,
            "text": "<b>Step 186</b><br>AoMA_0=0.0, AoMA_1=0.0<br>Battery=13.0<br>Action=Go Home",
            "x": 0.5,
            "xref": "paper",
            "y": 1.1,
            "yref": "paper"
           }
          ]
         },
         "name": "frame_186"
        },
        {
         "data": [
          {
           "type": "scatter",
           "x": [
            0,
            0,
            2
           ],
           "y": [
            1,
            -1,
            0
           ]
          },
          {
           "type": "scatter",
           "x": [
            2
           ],
           "y": [
            0
           ]
          }
         ],
         "layout": {
          "annotations": [
           {
            "font": {
             "color": "purple",
             "size": 14
            },
            "showarrow": false,
            "text": "<b>Step 187</b><br>AoMA_0=0.0, AoMA_1=0.0<br>Battery=10.0<br>Action=Wait",
            "x": 0.5,
            "xref": "paper",
            "y": 1.1,
            "yref": "paper"
           }
          ]
         },
         "name": "frame_187"
        },
        {
         "data": [
          {
           "type": "scatter",
           "x": [
            0,
            0,
            2
           ],
           "y": [
            1,
            -1,
            0
           ]
          },
          {
           "type": "scatter",
           "x": [
            2
           ],
           "y": [
            0
           ]
          }
         ],
         "layout": {
          "annotations": [
           {
            "font": {
             "color": "purple",
             "size": 14
            },
            "showarrow": false,
            "text": "<b>Step 188</b><br>AoMA_0=0.0, AoMA_1=0.0<br>Battery=15.0<br>Action=Wait",
            "x": 0.5,
            "xref": "paper",
            "y": 1.1,
            "yref": "paper"
           }
          ]
         },
         "name": "frame_188"
        },
        {
         "data": [
          {
           "type": "scatter",
           "x": [
            0,
            0,
            2
           ],
           "y": [
            1,
            -1,
            0
           ]
          },
          {
           "type": "scatter",
           "x": [
            2
           ],
           "y": [
            0
           ]
          }
         ],
         "layout": {
          "annotations": [
           {
            "font": {
             "color": "purple",
             "size": 14
            },
            "showarrow": false,
            "text": "<b>Step 189</b><br>AoMA_0=0.0, AoMA_1=0.0<br>Battery=20.0<br>Action=Go L0",
            "x": 0.5,
            "xref": "paper",
            "y": 1.1,
            "yref": "paper"
           }
          ]
         },
         "name": "frame_189"
        },
        {
         "data": [
          {
           "type": "scatter",
           "x": [
            0,
            0,
            2
           ],
           "y": [
            1,
            -1,
            0
           ]
          },
          {
           "type": "scatter",
           "x": [
            0
           ],
           "y": [
            1
           ]
          }
         ],
         "layout": {
          "annotations": [
           {
            "font": {
             "color": "purple",
             "size": 14
            },
            "showarrow": false,
            "text": "<b>Step 190</b><br>AoMA_0=0.0, AoMA_1=0.0<br>Battery=17.0<br>Action=Go Home",
            "x": 0.5,
            "xref": "paper",
            "y": 1.1,
            "yref": "paper"
           }
          ]
         },
         "name": "frame_190"
        },
        {
         "data": [
          {
           "type": "scatter",
           "x": [
            0,
            0,
            2
           ],
           "y": [
            1,
            -1,
            0
           ]
          },
          {
           "type": "scatter",
           "x": [
            2
           ],
           "y": [
            0
           ]
          }
         ],
         "layout": {
          "annotations": [
           {
            "font": {
             "color": "purple",
             "size": 14
            },
            "showarrow": false,
            "text": "<b>Step 191</b><br>AoMA_0=0.0, AoMA_1=0.0<br>Battery=14.0<br>Action=Wait",
            "x": 0.5,
            "xref": "paper",
            "y": 1.1,
            "yref": "paper"
           }
          ]
         },
         "name": "frame_191"
        },
        {
         "data": [
          {
           "type": "scatter",
           "x": [
            0,
            0,
            2
           ],
           "y": [
            1,
            -1,
            0
           ]
          },
          {
           "type": "scatter",
           "x": [
            2
           ],
           "y": [
            0
           ]
          }
         ],
         "layout": {
          "annotations": [
           {
            "font": {
             "color": "purple",
             "size": 14
            },
            "showarrow": false,
            "text": "<b>Step 192</b><br>AoMA_0=0.0, AoMA_1=0.0<br>Battery=19.0<br>Action=Go L0",
            "x": 0.5,
            "xref": "paper",
            "y": 1.1,
            "yref": "paper"
           }
          ]
         },
         "name": "frame_192"
        },
        {
         "data": [
          {
           "type": "scatter",
           "x": [
            0,
            0,
            2
           ],
           "y": [
            1,
            -1,
            0
           ]
          },
          {
           "type": "scatter",
           "x": [
            0
           ],
           "y": [
            1
           ]
          }
         ],
         "layout": {
          "annotations": [
           {
            "font": {
             "color": "purple",
             "size": 14
            },
            "showarrow": false,
            "text": "<b>Step 193</b><br>AoMA_0=0.0, AoMA_1=0.0<br>Battery=16.0<br>Action=Go Home",
            "x": 0.5,
            "xref": "paper",
            "y": 1.1,
            "yref": "paper"
           }
          ]
         },
         "name": "frame_193"
        },
        {
         "data": [
          {
           "type": "scatter",
           "x": [
            0,
            0,
            2
           ],
           "y": [
            1,
            -1,
            0
           ]
          },
          {
           "type": "scatter",
           "x": [
            2
           ],
           "y": [
            0
           ]
          }
         ],
         "layout": {
          "annotations": [
           {
            "font": {
             "color": "purple",
             "size": 14
            },
            "showarrow": false,
            "text": "<b>Step 194</b><br>AoMA_0=0.0, AoMA_1=0.0<br>Battery=13.0<br>Action=Wait",
            "x": 0.5,
            "xref": "paper",
            "y": 1.1,
            "yref": "paper"
           }
          ]
         },
         "name": "frame_194"
        },
        {
         "data": [
          {
           "type": "scatter",
           "x": [
            0,
            0,
            2
           ],
           "y": [
            1,
            -1,
            0
           ]
          },
          {
           "type": "scatter",
           "x": [
            2
           ],
           "y": [
            0
           ]
          }
         ],
         "layout": {
          "annotations": [
           {
            "font": {
             "color": "purple",
             "size": 14
            },
            "showarrow": false,
            "text": "<b>Step 195</b><br>AoMA_0=0.0, AoMA_1=0.0<br>Battery=18.0<br>Action=Wait",
            "x": 0.5,
            "xref": "paper",
            "y": 1.1,
            "yref": "paper"
           }
          ]
         },
         "name": "frame_195"
        },
        {
         "data": [
          {
           "type": "scatter",
           "x": [
            0,
            0,
            2
           ],
           "y": [
            1,
            -1,
            0
           ]
          },
          {
           "type": "scatter",
           "x": [
            2
           ],
           "y": [
            0
           ]
          }
         ],
         "layout": {
          "annotations": [
           {
            "font": {
             "color": "purple",
             "size": 14
            },
            "showarrow": false,
            "text": "<b>Step 196</b><br>AoMA_0=1.0, AoMA_1=0.0<br>Battery=20.0<br>Action=Go L0",
            "x": 0.5,
            "xref": "paper",
            "y": 1.1,
            "yref": "paper"
           }
          ]
         },
         "name": "frame_196"
        },
        {
         "data": [
          {
           "type": "scatter",
           "x": [
            0,
            0,
            2
           ],
           "y": [
            1,
            -1,
            0
           ]
          },
          {
           "type": "scatter",
           "x": [
            0
           ],
           "y": [
            1
           ]
          }
         ],
         "layout": {
          "annotations": [
           {
            "font": {
             "color": "purple",
             "size": 14
            },
            "showarrow": false,
            "text": "<b>Step 197</b><br>AoMA_0=0.0, AoMA_1=0.0<br>Battery=17.0<br>Action=Go Home",
            "x": 0.5,
            "xref": "paper",
            "y": 1.1,
            "yref": "paper"
           }
          ]
         },
         "name": "frame_197"
        },
        {
         "data": [
          {
           "type": "scatter",
           "x": [
            0,
            0,
            2
           ],
           "y": [
            1,
            -1,
            0
           ]
          },
          {
           "type": "scatter",
           "x": [
            2
           ],
           "y": [
            0
           ]
          }
         ],
         "layout": {
          "annotations": [
           {
            "font": {
             "color": "purple",
             "size": 14
            },
            "showarrow": false,
            "text": "<b>Step 198</b><br>AoMA_0=0.0, AoMA_1=0.0<br>Battery=14.0<br>Action=Wait",
            "x": 0.5,
            "xref": "paper",
            "y": 1.1,
            "yref": "paper"
           }
          ]
         },
         "name": "frame_198"
        },
        {
         "data": [
          {
           "type": "scatter",
           "x": [
            0,
            0,
            2
           ],
           "y": [
            1,
            -1,
            0
           ]
          },
          {
           "type": "scatter",
           "x": [
            2
           ],
           "y": [
            0
           ]
          }
         ],
         "layout": {
          "annotations": [
           {
            "font": {
             "color": "purple",
             "size": 14
            },
            "showarrow": false,
            "text": "<b>Step 199</b><br>AoMA_0=0.0, AoMA_1=0.0<br>Battery=19.0<br>Action=Go L0",
            "x": 0.5,
            "xref": "paper",
            "y": 1.1,
            "yref": "paper"
           }
          ]
         },
         "name": "frame_199"
        },
        {
         "data": [
          {
           "type": "scatter",
           "x": [
            0,
            0,
            2
           ],
           "y": [
            1,
            -1,
            0
           ]
          },
          {
           "type": "scatter",
           "x": [
            0
           ],
           "y": [
            1
           ]
          }
         ],
         "layout": {
          "annotations": [
           {
            "font": {
             "color": "purple",
             "size": 14
            },
            "showarrow": false,
            "text": "<b>Step 200</b><br>AoMA_0=0.0, AoMA_1=0.0<br>Battery=16.0<br>Action=Go Home",
            "x": 0.5,
            "xref": "paper",
            "y": 1.1,
            "yref": "paper"
           }
          ]
         },
         "name": "frame_200"
        },
        {
         "data": [
          {
           "type": "scatter",
           "x": [
            0,
            0,
            2
           ],
           "y": [
            1,
            -1,
            0
           ]
          },
          {
           "type": "scatter",
           "x": [
            2
           ],
           "y": [
            0
           ]
          }
         ],
         "layout": {
          "annotations": [
           {
            "font": {
             "color": "purple",
             "size": 14
            },
            "showarrow": false,
            "text": "<b>Step 201</b><br>AoMA_0=0.0, AoMA_1=0.0<br>Battery=13.0<br>Action=Wait",
            "x": 0.5,
            "xref": "paper",
            "y": 1.1,
            "yref": "paper"
           }
          ]
         },
         "name": "frame_201"
        },
        {
         "data": [
          {
           "type": "scatter",
           "x": [
            0,
            0,
            2
           ],
           "y": [
            1,
            -1,
            0
           ]
          },
          {
           "type": "scatter",
           "x": [
            2
           ],
           "y": [
            0
           ]
          }
         ],
         "layout": {
          "annotations": [
           {
            "font": {
             "color": "purple",
             "size": 14
            },
            "showarrow": false,
            "text": "<b>Step 202</b><br>AoMA_0=0.0, AoMA_1=0.0<br>Battery=18.0<br>Action=Wait",
            "x": 0.5,
            "xref": "paper",
            "y": 1.1,
            "yref": "paper"
           }
          ]
         },
         "name": "frame_202"
        },
        {
         "data": [
          {
           "type": "scatter",
           "x": [
            0,
            0,
            2
           ],
           "y": [
            1,
            -1,
            0
           ]
          },
          {
           "type": "scatter",
           "x": [
            2
           ],
           "y": [
            0
           ]
          }
         ],
         "layout": {
          "annotations": [
           {
            "font": {
             "color": "purple",
             "size": 14
            },
            "showarrow": false,
            "text": "<b>Step 203</b><br>AoMA_0=0.0, AoMA_1=0.0<br>Battery=20.0<br>Action=Go L0",
            "x": 0.5,
            "xref": "paper",
            "y": 1.1,
            "yref": "paper"
           }
          ]
         },
         "name": "frame_203"
        },
        {
         "data": [
          {
           "type": "scatter",
           "x": [
            0,
            0,
            2
           ],
           "y": [
            1,
            -1,
            0
           ]
          },
          {
           "type": "scatter",
           "x": [
            0
           ],
           "y": [
            1
           ]
          }
         ],
         "layout": {
          "annotations": [
           {
            "font": {
             "color": "purple",
             "size": 14
            },
            "showarrow": false,
            "text": "<b>Step 204</b><br>AoMA_0=0.0, AoMA_1=0.0<br>Battery=17.0<br>Action=Go Home",
            "x": 0.5,
            "xref": "paper",
            "y": 1.1,
            "yref": "paper"
           }
          ]
         },
         "name": "frame_204"
        },
        {
         "data": [
          {
           "type": "scatter",
           "x": [
            0,
            0,
            2
           ],
           "y": [
            1,
            -1,
            0
           ]
          },
          {
           "type": "scatter",
           "x": [
            2
           ],
           "y": [
            0
           ]
          }
         ],
         "layout": {
          "annotations": [
           {
            "font": {
             "color": "purple",
             "size": 14
            },
            "showarrow": false,
            "text": "<b>Step 205</b><br>AoMA_0=0.0, AoMA_1=0.0<br>Battery=14.0<br>Action=Wait",
            "x": 0.5,
            "xref": "paper",
            "y": 1.1,
            "yref": "paper"
           }
          ]
         },
         "name": "frame_205"
        },
        {
         "data": [
          {
           "type": "scatter",
           "x": [
            0,
            0,
            2
           ],
           "y": [
            1,
            -1,
            0
           ]
          },
          {
           "type": "scatter",
           "x": [
            2
           ],
           "y": [
            0
           ]
          }
         ],
         "layout": {
          "annotations": [
           {
            "font": {
             "color": "purple",
             "size": 14
            },
            "showarrow": false,
            "text": "<b>Step 206</b><br>AoMA_0=0.0, AoMA_1=0.0<br>Battery=19.0<br>Action=Go L0",
            "x": 0.5,
            "xref": "paper",
            "y": 1.1,
            "yref": "paper"
           }
          ]
         },
         "name": "frame_206"
        },
        {
         "data": [
          {
           "type": "scatter",
           "x": [
            0,
            0,
            2
           ],
           "y": [
            1,
            -1,
            0
           ]
          },
          {
           "type": "scatter",
           "x": [
            0
           ],
           "y": [
            1
           ]
          }
         ],
         "layout": {
          "annotations": [
           {
            "font": {
             "color": "purple",
             "size": 14
            },
            "showarrow": false,
            "text": "<b>Step 207</b><br>AoMA_0=0.0, AoMA_1=0.0<br>Battery=16.0<br>Action=Go Home",
            "x": 0.5,
            "xref": "paper",
            "y": 1.1,
            "yref": "paper"
           }
          ]
         },
         "name": "frame_207"
        },
        {
         "data": [
          {
           "type": "scatter",
           "x": [
            0,
            0,
            2
           ],
           "y": [
            1,
            -1,
            0
           ]
          },
          {
           "type": "scatter",
           "x": [
            2
           ],
           "y": [
            0
           ]
          }
         ],
         "layout": {
          "annotations": [
           {
            "font": {
             "color": "purple",
             "size": 14
            },
            "showarrow": false,
            "text": "<b>Step 208</b><br>AoMA_0=0.0, AoMA_1=0.0<br>Battery=13.0<br>Action=Wait",
            "x": 0.5,
            "xref": "paper",
            "y": 1.1,
            "yref": "paper"
           }
          ]
         },
         "name": "frame_208"
        },
        {
         "data": [
          {
           "type": "scatter",
           "x": [
            0,
            0,
            2
           ],
           "y": [
            1,
            -1,
            0
           ]
          },
          {
           "type": "scatter",
           "x": [
            2
           ],
           "y": [
            0
           ]
          }
         ],
         "layout": {
          "annotations": [
           {
            "font": {
             "color": "purple",
             "size": 14
            },
            "showarrow": false,
            "text": "<b>Step 209</b><br>AoMA_0=0.0, AoMA_1=0.0<br>Battery=18.0<br>Action=Wait",
            "x": 0.5,
            "xref": "paper",
            "y": 1.1,
            "yref": "paper"
           }
          ]
         },
         "name": "frame_209"
        },
        {
         "data": [
          {
           "type": "scatter",
           "x": [
            0,
            0,
            2
           ],
           "y": [
            1,
            -1,
            0
           ]
          },
          {
           "type": "scatter",
           "x": [
            2
           ],
           "y": [
            0
           ]
          }
         ],
         "layout": {
          "annotations": [
           {
            "font": {
             "color": "purple",
             "size": 14
            },
            "showarrow": false,
            "text": "<b>Step 210</b><br>AoMA_0=0.0, AoMA_1=0.0<br>Battery=20.0<br>Action=Go L0",
            "x": 0.5,
            "xref": "paper",
            "y": 1.1,
            "yref": "paper"
           }
          ]
         },
         "name": "frame_210"
        },
        {
         "data": [
          {
           "type": "scatter",
           "x": [
            0,
            0,
            2
           ],
           "y": [
            1,
            -1,
            0
           ]
          },
          {
           "type": "scatter",
           "x": [
            0
           ],
           "y": [
            1
           ]
          }
         ],
         "layout": {
          "annotations": [
           {
            "font": {
             "color": "purple",
             "size": 14
            },
            "showarrow": false,
            "text": "<b>Step 211</b><br>AoMA_0=0.0, AoMA_1=0.0<br>Battery=17.0<br>Action=Go Home",
            "x": 0.5,
            "xref": "paper",
            "y": 1.1,
            "yref": "paper"
           }
          ]
         },
         "name": "frame_211"
        },
        {
         "data": [
          {
           "type": "scatter",
           "x": [
            0,
            0,
            2
           ],
           "y": [
            1,
            -1,
            0
           ]
          },
          {
           "type": "scatter",
           "x": [
            2
           ],
           "y": [
            0
           ]
          }
         ],
         "layout": {
          "annotations": [
           {
            "font": {
             "color": "purple",
             "size": 14
            },
            "showarrow": false,
            "text": "<b>Step 212</b><br>AoMA_0=0.0, AoMA_1=0.0<br>Battery=14.0<br>Action=Wait",
            "x": 0.5,
            "xref": "paper",
            "y": 1.1,
            "yref": "paper"
           }
          ]
         },
         "name": "frame_212"
        },
        {
         "data": [
          {
           "type": "scatter",
           "x": [
            0,
            0,
            2
           ],
           "y": [
            1,
            -1,
            0
           ]
          },
          {
           "type": "scatter",
           "x": [
            2
           ],
           "y": [
            0
           ]
          }
         ],
         "layout": {
          "annotations": [
           {
            "font": {
             "color": "purple",
             "size": 14
            },
            "showarrow": false,
            "text": "<b>Step 213</b><br>AoMA_0=0.0, AoMA_1=0.0<br>Battery=19.0<br>Action=Go L0",
            "x": 0.5,
            "xref": "paper",
            "y": 1.1,
            "yref": "paper"
           }
          ]
         },
         "name": "frame_213"
        },
        {
         "data": [
          {
           "type": "scatter",
           "x": [
            0,
            0,
            2
           ],
           "y": [
            1,
            -1,
            0
           ]
          },
          {
           "type": "scatter",
           "x": [
            0
           ],
           "y": [
            1
           ]
          }
         ],
         "layout": {
          "annotations": [
           {
            "font": {
             "color": "purple",
             "size": 14
            },
            "showarrow": false,
            "text": "<b>Step 214</b><br>AoMA_0=0.0, AoMA_1=0.0<br>Battery=16.0<br>Action=Go Home",
            "x": 0.5,
            "xref": "paper",
            "y": 1.1,
            "yref": "paper"
           }
          ]
         },
         "name": "frame_214"
        },
        {
         "data": [
          {
           "type": "scatter",
           "x": [
            0,
            0,
            2
           ],
           "y": [
            1,
            -1,
            0
           ]
          },
          {
           "type": "scatter",
           "x": [
            2
           ],
           "y": [
            0
           ]
          }
         ],
         "layout": {
          "annotations": [
           {
            "font": {
             "color": "purple",
             "size": 14
            },
            "showarrow": false,
            "text": "<b>Step 215</b><br>AoMA_0=0.0, AoMA_1=0.0<br>Battery=13.0<br>Action=Wait",
            "x": 0.5,
            "xref": "paper",
            "y": 1.1,
            "yref": "paper"
           }
          ]
         },
         "name": "frame_215"
        },
        {
         "data": [
          {
           "type": "scatter",
           "x": [
            0,
            0,
            2
           ],
           "y": [
            1,
            -1,
            0
           ]
          },
          {
           "type": "scatter",
           "x": [
            2
           ],
           "y": [
            0
           ]
          }
         ],
         "layout": {
          "annotations": [
           {
            "font": {
             "color": "purple",
             "size": 14
            },
            "showarrow": false,
            "text": "<b>Step 216</b><br>AoMA_0=0.0, AoMA_1=0.0<br>Battery=18.0<br>Action=Wait",
            "x": 0.5,
            "xref": "paper",
            "y": 1.1,
            "yref": "paper"
           }
          ]
         },
         "name": "frame_216"
        },
        {
         "data": [
          {
           "type": "scatter",
           "x": [
            0,
            0,
            2
           ],
           "y": [
            1,
            -1,
            0
           ]
          },
          {
           "type": "scatter",
           "x": [
            2
           ],
           "y": [
            0
           ]
          }
         ],
         "layout": {
          "annotations": [
           {
            "font": {
             "color": "purple",
             "size": 14
            },
            "showarrow": false,
            "text": "<b>Step 217</b><br>AoMA_0=0.0, AoMA_1=0.0<br>Battery=20.0<br>Action=Go L0",
            "x": 0.5,
            "xref": "paper",
            "y": 1.1,
            "yref": "paper"
           }
          ]
         },
         "name": "frame_217"
        },
        {
         "data": [
          {
           "type": "scatter",
           "x": [
            0,
            0,
            2
           ],
           "y": [
            1,
            -1,
            0
           ]
          },
          {
           "type": "scatter",
           "x": [
            0
           ],
           "y": [
            1
           ]
          }
         ],
         "layout": {
          "annotations": [
           {
            "font": {
             "color": "purple",
             "size": 14
            },
            "showarrow": false,
            "text": "<b>Step 218</b><br>AoMA_0=0.0, AoMA_1=0.0<br>Battery=17.0<br>Action=Go Home",
            "x": 0.5,
            "xref": "paper",
            "y": 1.1,
            "yref": "paper"
           }
          ]
         },
         "name": "frame_218"
        },
        {
         "data": [
          {
           "type": "scatter",
           "x": [
            0,
            0,
            2
           ],
           "y": [
            1,
            -1,
            0
           ]
          },
          {
           "type": "scatter",
           "x": [
            2
           ],
           "y": [
            0
           ]
          }
         ],
         "layout": {
          "annotations": [
           {
            "font": {
             "color": "purple",
             "size": 14
            },
            "showarrow": false,
            "text": "<b>Step 219</b><br>AoMA_0=0.0, AoMA_1=0.0<br>Battery=14.0<br>Action=Wait",
            "x": 0.5,
            "xref": "paper",
            "y": 1.1,
            "yref": "paper"
           }
          ]
         },
         "name": "frame_219"
        },
        {
         "data": [
          {
           "type": "scatter",
           "x": [
            0,
            0,
            2
           ],
           "y": [
            1,
            -1,
            0
           ]
          },
          {
           "type": "scatter",
           "x": [
            2
           ],
           "y": [
            0
           ]
          }
         ],
         "layout": {
          "annotations": [
           {
            "font": {
             "color": "purple",
             "size": 14
            },
            "showarrow": false,
            "text": "<b>Step 220</b><br>AoMA_0=0.0, AoMA_1=0.0<br>Battery=19.0<br>Action=Go L0",
            "x": 0.5,
            "xref": "paper",
            "y": 1.1,
            "yref": "paper"
           }
          ]
         },
         "name": "frame_220"
        },
        {
         "data": [
          {
           "type": "scatter",
           "x": [
            0,
            0,
            2
           ],
           "y": [
            1,
            -1,
            0
           ]
          },
          {
           "type": "scatter",
           "x": [
            0
           ],
           "y": [
            1
           ]
          }
         ],
         "layout": {
          "annotations": [
           {
            "font": {
             "color": "purple",
             "size": 14
            },
            "showarrow": false,
            "text": "<b>Step 221</b><br>AoMA_0=0.0, AoMA_1=0.0<br>Battery=16.0<br>Action=Go Home",
            "x": 0.5,
            "xref": "paper",
            "y": 1.1,
            "yref": "paper"
           }
          ]
         },
         "name": "frame_221"
        },
        {
         "data": [
          {
           "type": "scatter",
           "x": [
            0,
            0,
            2
           ],
           "y": [
            1,
            -1,
            0
           ]
          },
          {
           "type": "scatter",
           "x": [
            2
           ],
           "y": [
            0
           ]
          }
         ],
         "layout": {
          "annotations": [
           {
            "font": {
             "color": "purple",
             "size": 14
            },
            "showarrow": false,
            "text": "<b>Step 222</b><br>AoMA_0=0.0, AoMA_1=0.0<br>Battery=13.0<br>Action=Wait",
            "x": 0.5,
            "xref": "paper",
            "y": 1.1,
            "yref": "paper"
           }
          ]
         },
         "name": "frame_222"
        },
        {
         "data": [
          {
           "type": "scatter",
           "x": [
            0,
            0,
            2
           ],
           "y": [
            1,
            -1,
            0
           ]
          },
          {
           "type": "scatter",
           "x": [
            2
           ],
           "y": [
            0
           ]
          }
         ],
         "layout": {
          "annotations": [
           {
            "font": {
             "color": "purple",
             "size": 14
            },
            "showarrow": false,
            "text": "<b>Step 223</b><br>AoMA_0=0.0, AoMA_1=0.0<br>Battery=18.0<br>Action=Wait",
            "x": 0.5,
            "xref": "paper",
            "y": 1.1,
            "yref": "paper"
           }
          ]
         },
         "name": "frame_223"
        },
        {
         "data": [
          {
           "type": "scatter",
           "x": [
            0,
            0,
            2
           ],
           "y": [
            1,
            -1,
            0
           ]
          },
          {
           "type": "scatter",
           "x": [
            2
           ],
           "y": [
            0
           ]
          }
         ],
         "layout": {
          "annotations": [
           {
            "font": {
             "color": "purple",
             "size": 14
            },
            "showarrow": false,
            "text": "<b>Step 224</b><br>AoMA_0=0.0, AoMA_1=0.0<br>Battery=20.0<br>Action=Go L0",
            "x": 0.5,
            "xref": "paper",
            "y": 1.1,
            "yref": "paper"
           }
          ]
         },
         "name": "frame_224"
        },
        {
         "data": [
          {
           "type": "scatter",
           "x": [
            0,
            0,
            2
           ],
           "y": [
            1,
            -1,
            0
           ]
          },
          {
           "type": "scatter",
           "x": [
            0
           ],
           "y": [
            1
           ]
          }
         ],
         "layout": {
          "annotations": [
           {
            "font": {
             "color": "purple",
             "size": 14
            },
            "showarrow": false,
            "text": "<b>Step 225</b><br>AoMA_0=0.0, AoMA_1=0.0<br>Battery=17.0<br>Action=Go Home",
            "x": 0.5,
            "xref": "paper",
            "y": 1.1,
            "yref": "paper"
           }
          ]
         },
         "name": "frame_225"
        },
        {
         "data": [
          {
           "type": "scatter",
           "x": [
            0,
            0,
            2
           ],
           "y": [
            1,
            -1,
            0
           ]
          },
          {
           "type": "scatter",
           "x": [
            2
           ],
           "y": [
            0
           ]
          }
         ],
         "layout": {
          "annotations": [
           {
            "font": {
             "color": "purple",
             "size": 14
            },
            "showarrow": false,
            "text": "<b>Step 226</b><br>AoMA_0=0.0, AoMA_1=1.0<br>Battery=14.0<br>Action=Wait",
            "x": 0.5,
            "xref": "paper",
            "y": 1.1,
            "yref": "paper"
           }
          ]
         },
         "name": "frame_226"
        },
        {
         "data": [
          {
           "type": "scatter",
           "x": [
            0,
            0,
            2
           ],
           "y": [
            1,
            -1,
            0
           ]
          },
          {
           "type": "scatter",
           "x": [
            2
           ],
           "y": [
            0
           ]
          }
         ],
         "layout": {
          "annotations": [
           {
            "font": {
             "color": "purple",
             "size": 14
            },
            "showarrow": false,
            "text": "<b>Step 227</b><br>AoMA_0=0.0, AoMA_1=2.0<br>Battery=19.0<br>Action=Go L1",
            "x": 0.5,
            "xref": "paper",
            "y": 1.1,
            "yref": "paper"
           }
          ]
         },
         "name": "frame_227"
        },
        {
         "data": [
          {
           "type": "scatter",
           "x": [
            0,
            0,
            2
           ],
           "y": [
            1,
            -1,
            0
           ]
          },
          {
           "type": "scatter",
           "x": [
            0
           ],
           "y": [
            -1
           ]
          }
         ],
         "layout": {
          "annotations": [
           {
            "font": {
             "color": "purple",
             "size": 14
            },
            "showarrow": false,
            "text": "<b>Step 228</b><br>AoMA_0=3.0, AoMA_1=0.0<br>Battery=15.0<br>Action=Go L0",
            "x": 0.5,
            "xref": "paper",
            "y": 1.1,
            "yref": "paper"
           }
          ]
         },
         "name": "frame_228"
        },
        {
         "data": [
          {
           "type": "scatter",
           "x": [
            0,
            0,
            2
           ],
           "y": [
            1,
            -1,
            0
           ]
          },
          {
           "type": "scatter",
           "x": [
            0
           ],
           "y": [
            1
           ]
          }
         ],
         "layout": {
          "annotations": [
           {
            "font": {
             "color": "purple",
             "size": 14
            },
            "showarrow": false,
            "text": "<b>Step 229</b><br>AoMA_0=0.0, AoMA_1=1.0<br>Battery=13.0<br>Action=Go L1",
            "x": 0.5,
            "xref": "paper",
            "y": 1.1,
            "yref": "paper"
           }
          ]
         },
         "name": "frame_229"
        },
        {
         "data": [
          {
           "type": "scatter",
           "x": [
            0,
            0,
            2
           ],
           "y": [
            1,
            -1,
            0
           ]
          },
          {
           "type": "scatter",
           "x": [
            0
           ],
           "y": [
            -1
           ]
          }
         ],
         "layout": {
          "annotations": [
           {
            "font": {
             "color": "purple",
             "size": 14
            },
            "showarrow": false,
            "text": "<b>Step 230</b><br>AoMA_0=0.0, AoMA_1=0.0<br>Battery=11.0<br>Action=Go L0",
            "x": 0.5,
            "xref": "paper",
            "y": 1.1,
            "yref": "paper"
           }
          ]
         },
         "name": "frame_230"
        },
        {
         "data": [
          {
           "type": "scatter",
           "x": [
            0,
            0,
            2
           ],
           "y": [
            1,
            -1,
            0
           ]
          },
          {
           "type": "scatter",
           "x": [
            0
           ],
           "y": [
            1
           ]
          }
         ],
         "layout": {
          "annotations": [
           {
            "font": {
             "color": "purple",
             "size": 14
            },
            "showarrow": false,
            "text": "<b>Step 231</b><br>AoMA_0=0.0, AoMA_1=0.0<br>Battery=9.0<br>Action=Go Home",
            "x": 0.5,
            "xref": "paper",
            "y": 1.1,
            "yref": "paper"
           }
          ]
         },
         "name": "frame_231"
        },
        {
         "data": [
          {
           "type": "scatter",
           "x": [
            0,
            0,
            2
           ],
           "y": [
            1,
            -1,
            0
           ]
          },
          {
           "type": "scatter",
           "x": [
            2
           ],
           "y": [
            0
           ]
          }
         ],
         "layout": {
          "annotations": [
           {
            "font": {
             "color": "purple",
             "size": 14
            },
            "showarrow": false,
            "text": "<b>Step 232</b><br>AoMA_0=0.0, AoMA_1=0.0<br>Battery=6.0<br>Action=Wait",
            "x": 0.5,
            "xref": "paper",
            "y": 1.1,
            "yref": "paper"
           }
          ]
         },
         "name": "frame_232"
        },
        {
         "data": [
          {
           "type": "scatter",
           "x": [
            0,
            0,
            2
           ],
           "y": [
            1,
            -1,
            0
           ]
          },
          {
           "type": "scatter",
           "x": [
            2
           ],
           "y": [
            0
           ]
          }
         ],
         "layout": {
          "annotations": [
           {
            "font": {
             "color": "purple",
             "size": 14
            },
            "showarrow": false,
            "text": "<b>Step 233</b><br>AoMA_0=1.0, AoMA_1=0.0<br>Battery=11.0<br>Action=Wait",
            "x": 0.5,
            "xref": "paper",
            "y": 1.1,
            "yref": "paper"
           }
          ]
         },
         "name": "frame_233"
        },
        {
         "data": [
          {
           "type": "scatter",
           "x": [
            0,
            0,
            2
           ],
           "y": [
            1,
            -1,
            0
           ]
          },
          {
           "type": "scatter",
           "x": [
            2
           ],
           "y": [
            0
           ]
          }
         ],
         "layout": {
          "annotations": [
           {
            "font": {
             "color": "purple",
             "size": 14
            },
            "showarrow": false,
            "text": "<b>Step 234</b><br>AoMA_0=2.0, AoMA_1=0.0<br>Battery=16.0<br>Action=Go L0",
            "x": 0.5,
            "xref": "paper",
            "y": 1.1,
            "yref": "paper"
           }
          ]
         },
         "name": "frame_234"
        },
        {
         "data": [
          {
           "type": "scatter",
           "x": [
            0,
            0,
            2
           ],
           "y": [
            1,
            -1,
            0
           ]
          },
          {
           "type": "scatter",
           "x": [
            0
           ],
           "y": [
            1
           ]
          }
         ],
         "layout": {
          "annotations": [
           {
            "font": {
             "color": "purple",
             "size": 14
            },
            "showarrow": false,
            "text": "<b>Step 235</b><br>AoMA_0=0.0, AoMA_1=0.0<br>Battery=13.0<br>Action=Go Home",
            "x": 0.5,
            "xref": "paper",
            "y": 1.1,
            "yref": "paper"
           }
          ]
         },
         "name": "frame_235"
        },
        {
         "data": [
          {
           "type": "scatter",
           "x": [
            0,
            0,
            2
           ],
           "y": [
            1,
            -1,
            0
           ]
          },
          {
           "type": "scatter",
           "x": [
            2
           ],
           "y": [
            0
           ]
          }
         ],
         "layout": {
          "annotations": [
           {
            "font": {
             "color": "purple",
             "size": 14
            },
            "showarrow": false,
            "text": "<b>Step 236</b><br>AoMA_0=0.0, AoMA_1=0.0<br>Battery=10.0<br>Action=Wait",
            "x": 0.5,
            "xref": "paper",
            "y": 1.1,
            "yref": "paper"
           }
          ]
         },
         "name": "frame_236"
        },
        {
         "data": [
          {
           "type": "scatter",
           "x": [
            0,
            0,
            2
           ],
           "y": [
            1,
            -1,
            0
           ]
          },
          {
           "type": "scatter",
           "x": [
            2
           ],
           "y": [
            0
           ]
          }
         ],
         "layout": {
          "annotations": [
           {
            "font": {
             "color": "purple",
             "size": 14
            },
            "showarrow": false,
            "text": "<b>Step 237</b><br>AoMA_0=0.0, AoMA_1=0.0<br>Battery=15.0<br>Action=Wait",
            "x": 0.5,
            "xref": "paper",
            "y": 1.1,
            "yref": "paper"
           }
          ]
         },
         "name": "frame_237"
        },
        {
         "data": [
          {
           "type": "scatter",
           "x": [
            0,
            0,
            2
           ],
           "y": [
            1,
            -1,
            0
           ]
          },
          {
           "type": "scatter",
           "x": [
            2
           ],
           "y": [
            0
           ]
          }
         ],
         "layout": {
          "annotations": [
           {
            "font": {
             "color": "purple",
             "size": 14
            },
            "showarrow": false,
            "text": "<b>Step 238</b><br>AoMA_0=0.0, AoMA_1=0.0<br>Battery=20.0<br>Action=Go L0",
            "x": 0.5,
            "xref": "paper",
            "y": 1.1,
            "yref": "paper"
           }
          ]
         },
         "name": "frame_238"
        },
        {
         "data": [
          {
           "type": "scatter",
           "x": [
            0,
            0,
            2
           ],
           "y": [
            1,
            -1,
            0
           ]
          },
          {
           "type": "scatter",
           "x": [
            0
           ],
           "y": [
            1
           ]
          }
         ],
         "layout": {
          "annotations": [
           {
            "font": {
             "color": "purple",
             "size": 14
            },
            "showarrow": false,
            "text": "<b>Step 239</b><br>AoMA_0=0.0, AoMA_1=0.0<br>Battery=17.0<br>Action=Go Home",
            "x": 0.5,
            "xref": "paper",
            "y": 1.1,
            "yref": "paper"
           }
          ]
         },
         "name": "frame_239"
        },
        {
         "data": [
          {
           "type": "scatter",
           "x": [
            0,
            0,
            2
           ],
           "y": [
            1,
            -1,
            0
           ]
          },
          {
           "type": "scatter",
           "x": [
            2
           ],
           "y": [
            0
           ]
          }
         ],
         "layout": {
          "annotations": [
           {
            "font": {
             "color": "purple",
             "size": 14
            },
            "showarrow": false,
            "text": "<b>Step 240</b><br>AoMA_0=0.0, AoMA_1=0.0<br>Battery=14.0<br>Action=Wait",
            "x": 0.5,
            "xref": "paper",
            "y": 1.1,
            "yref": "paper"
           }
          ]
         },
         "name": "frame_240"
        },
        {
         "data": [
          {
           "type": "scatter",
           "x": [
            0,
            0,
            2
           ],
           "y": [
            1,
            -1,
            0
           ]
          },
          {
           "type": "scatter",
           "x": [
            2
           ],
           "y": [
            0
           ]
          }
         ],
         "layout": {
          "annotations": [
           {
            "font": {
             "color": "purple",
             "size": 14
            },
            "showarrow": false,
            "text": "<b>Step 241</b><br>AoMA_0=0.0, AoMA_1=0.0<br>Battery=19.0<br>Action=Go L0",
            "x": 0.5,
            "xref": "paper",
            "y": 1.1,
            "yref": "paper"
           }
          ]
         },
         "name": "frame_241"
        },
        {
         "data": [
          {
           "type": "scatter",
           "x": [
            0,
            0,
            2
           ],
           "y": [
            1,
            -1,
            0
           ]
          },
          {
           "type": "scatter",
           "x": [
            0
           ],
           "y": [
            1
           ]
          }
         ],
         "layout": {
          "annotations": [
           {
            "font": {
             "color": "purple",
             "size": 14
            },
            "showarrow": false,
            "text": "<b>Step 242</b><br>AoMA_0=0.0, AoMA_1=0.0<br>Battery=16.0<br>Action=Go Home",
            "x": 0.5,
            "xref": "paper",
            "y": 1.1,
            "yref": "paper"
           }
          ]
         },
         "name": "frame_242"
        },
        {
         "data": [
          {
           "type": "scatter",
           "x": [
            0,
            0,
            2
           ],
           "y": [
            1,
            -1,
            0
           ]
          },
          {
           "type": "scatter",
           "x": [
            2
           ],
           "y": [
            0
           ]
          }
         ],
         "layout": {
          "annotations": [
           {
            "font": {
             "color": "purple",
             "size": 14
            },
            "showarrow": false,
            "text": "<b>Step 243</b><br>AoMA_0=0.0, AoMA_1=3.0<br>Battery=13.0<br>Action=Wait",
            "x": 0.5,
            "xref": "paper",
            "y": 1.1,
            "yref": "paper"
           }
          ]
         },
         "name": "frame_243"
        },
        {
         "data": [
          {
           "type": "scatter",
           "x": [
            0,
            0,
            2
           ],
           "y": [
            1,
            -1,
            0
           ]
          },
          {
           "type": "scatter",
           "x": [
            2
           ],
           "y": [
            0
           ]
          }
         ],
         "layout": {
          "annotations": [
           {
            "font": {
             "color": "purple",
             "size": 14
            },
            "showarrow": false,
            "text": "<b>Step 244</b><br>AoMA_0=0.0, AoMA_1=4.0<br>Battery=18.0<br>Action=Go L1",
            "x": 0.5,
            "xref": "paper",
            "y": 1.1,
            "yref": "paper"
           }
          ]
         },
         "name": "frame_244"
        },
        {
         "data": [
          {
           "type": "scatter",
           "x": [
            0,
            0,
            2
           ],
           "y": [
            1,
            -1,
            0
           ]
          },
          {
           "type": "scatter",
           "x": [
            0
           ],
           "y": [
            -1
           ]
          }
         ],
         "layout": {
          "annotations": [
           {
            "font": {
             "color": "purple",
             "size": 14
            },
            "showarrow": false,
            "text": "<b>Step 245</b><br>AoMA_0=0.0, AoMA_1=0.0<br>Battery=14.0<br>Action=Go L0",
            "x": 0.5,
            "xref": "paper",
            "y": 1.1,
            "yref": "paper"
           }
          ]
         },
         "name": "frame_245"
        },
        {
         "data": [
          {
           "type": "scatter",
           "x": [
            0,
            0,
            2
           ],
           "y": [
            1,
            -1,
            0
           ]
          },
          {
           "type": "scatter",
           "x": [
            0
           ],
           "y": [
            1
           ]
          }
         ],
         "layout": {
          "annotations": [
           {
            "font": {
             "color": "purple",
             "size": 14
            },
            "showarrow": false,
            "text": "<b>Step 246</b><br>AoMA_0=0.0, AoMA_1=0.0<br>Battery=12.0<br>Action=Go Home",
            "x": 0.5,
            "xref": "paper",
            "y": 1.1,
            "yref": "paper"
           }
          ]
         },
         "name": "frame_246"
        },
        {
         "data": [
          {
           "type": "scatter",
           "x": [
            0,
            0,
            2
           ],
           "y": [
            1,
            -1,
            0
           ]
          },
          {
           "type": "scatter",
           "x": [
            2
           ],
           "y": [
            0
           ]
          }
         ],
         "layout": {
          "annotations": [
           {
            "font": {
             "color": "purple",
             "size": 14
            },
            "showarrow": false,
            "text": "<b>Step 247</b><br>AoMA_0=0.0, AoMA_1=3.0<br>Battery=9.0<br>Action=Wait",
            "x": 0.5,
            "xref": "paper",
            "y": 1.1,
            "yref": "paper"
           }
          ]
         },
         "name": "frame_247"
        },
        {
         "data": [
          {
           "type": "scatter",
           "x": [
            0,
            0,
            2
           ],
           "y": [
            1,
            -1,
            0
           ]
          },
          {
           "type": "scatter",
           "x": [
            2
           ],
           "y": [
            0
           ]
          }
         ],
         "layout": {
          "annotations": [
           {
            "font": {
             "color": "purple",
             "size": 14
            },
            "showarrow": false,
            "text": "<b>Step 248</b><br>AoMA_0=0.0, AoMA_1=4.0<br>Battery=14.0<br>Action=Wait",
            "x": 0.5,
            "xref": "paper",
            "y": 1.1,
            "yref": "paper"
           }
          ]
         },
         "name": "frame_248"
        },
        {
         "data": [
          {
           "type": "scatter",
           "x": [
            0,
            0,
            2
           ],
           "y": [
            1,
            -1,
            0
           ]
          },
          {
           "type": "scatter",
           "x": [
            2
           ],
           "y": [
            0
           ]
          }
         ],
         "layout": {
          "annotations": [
           {
            "font": {
             "color": "purple",
             "size": 14
            },
            "showarrow": false,
            "text": "<b>Step 249</b><br>AoMA_0=0.0, AoMA_1=5.0<br>Battery=19.0<br>Action=Go L1",
            "x": 0.5,
            "xref": "paper",
            "y": 1.1,
            "yref": "paper"
           }
          ]
         },
         "name": "frame_249"
        },
        {
         "data": [
          {
           "type": "scatter",
           "x": [
            0,
            0,
            2
           ],
           "y": [
            1,
            -1,
            0
           ]
          },
          {
           "type": "scatter",
           "x": [
            0
           ],
           "y": [
            -1
           ]
          }
         ],
         "layout": {
          "annotations": [
           {
            "font": {
             "color": "purple",
             "size": 14
            },
            "showarrow": false,
            "text": "<b>Step 250</b><br>AoMA_0=0.0, AoMA_1=0.0<br>Battery=15.0<br>Action=Go L0",
            "x": 0.5,
            "xref": "paper",
            "y": 1.1,
            "yref": "paper"
           }
          ]
         },
         "name": "frame_250"
        },
        {
         "data": [
          {
           "type": "scatter",
           "x": [
            0,
            0,
            2
           ],
           "y": [
            1,
            -1,
            0
           ]
          },
          {
           "type": "scatter",
           "x": [
            0
           ],
           "y": [
            1
           ]
          }
         ],
         "layout": {
          "annotations": [
           {
            "font": {
             "color": "purple",
             "size": 14
            },
            "showarrow": false,
            "text": "<b>Step 251</b><br>AoMA_0=0.0, AoMA_1=0.0<br>Battery=13.0<br>Action=Go Home",
            "x": 0.5,
            "xref": "paper",
            "y": 1.1,
            "yref": "paper"
           }
          ]
         },
         "name": "frame_251"
        },
        {
         "data": [
          {
           "type": "scatter",
           "x": [
            0,
            0,
            2
           ],
           "y": [
            1,
            -1,
            0
           ]
          },
          {
           "type": "scatter",
           "x": [
            2
           ],
           "y": [
            0
           ]
          }
         ],
         "layout": {
          "annotations": [
           {
            "font": {
             "color": "purple",
             "size": 14
            },
            "showarrow": false,
            "text": "<b>Step 252</b><br>AoMA_0=0.0, AoMA_1=0.0<br>Battery=10.0<br>Action=Wait",
            "x": 0.5,
            "xref": "paper",
            "y": 1.1,
            "yref": "paper"
           }
          ]
         },
         "name": "frame_252"
        },
        {
         "data": [
          {
           "type": "scatter",
           "x": [
            0,
            0,
            2
           ],
           "y": [
            1,
            -1,
            0
           ]
          },
          {
           "type": "scatter",
           "x": [
            2
           ],
           "y": [
            0
           ]
          }
         ],
         "layout": {
          "annotations": [
           {
            "font": {
             "color": "purple",
             "size": 14
            },
            "showarrow": false,
            "text": "<b>Step 253</b><br>AoMA_0=0.0, AoMA_1=0.0<br>Battery=15.0<br>Action=Wait",
            "x": 0.5,
            "xref": "paper",
            "y": 1.1,
            "yref": "paper"
           }
          ]
         },
         "name": "frame_253"
        },
        {
         "data": [
          {
           "type": "scatter",
           "x": [
            0,
            0,
            2
           ],
           "y": [
            1,
            -1,
            0
           ]
          },
          {
           "type": "scatter",
           "x": [
            2
           ],
           "y": [
            0
           ]
          }
         ],
         "layout": {
          "annotations": [
           {
            "font": {
             "color": "purple",
             "size": 14
            },
            "showarrow": false,
            "text": "<b>Step 254</b><br>AoMA_0=0.0, AoMA_1=0.0<br>Battery=20.0<br>Action=Go L0",
            "x": 0.5,
            "xref": "paper",
            "y": 1.1,
            "yref": "paper"
           }
          ]
         },
         "name": "frame_254"
        },
        {
         "data": [
          {
           "type": "scatter",
           "x": [
            0,
            0,
            2
           ],
           "y": [
            1,
            -1,
            0
           ]
          },
          {
           "type": "scatter",
           "x": [
            0
           ],
           "y": [
            1
           ]
          }
         ],
         "layout": {
          "annotations": [
           {
            "font": {
             "color": "purple",
             "size": 14
            },
            "showarrow": false,
            "text": "<b>Step 255</b><br>AoMA_0=0.0, AoMA_1=0.0<br>Battery=17.0<br>Action=Go Home",
            "x": 0.5,
            "xref": "paper",
            "y": 1.1,
            "yref": "paper"
           }
          ]
         },
         "name": "frame_255"
        },
        {
         "data": [
          {
           "type": "scatter",
           "x": [
            0,
            0,
            2
           ],
           "y": [
            1,
            -1,
            0
           ]
          },
          {
           "type": "scatter",
           "x": [
            2
           ],
           "y": [
            0
           ]
          }
         ],
         "layout": {
          "annotations": [
           {
            "font": {
             "color": "purple",
             "size": 14
            },
            "showarrow": false,
            "text": "<b>Step 256</b><br>AoMA_0=0.0, AoMA_1=0.0<br>Battery=14.0<br>Action=Wait",
            "x": 0.5,
            "xref": "paper",
            "y": 1.1,
            "yref": "paper"
           }
          ]
         },
         "name": "frame_256"
        },
        {
         "data": [
          {
           "type": "scatter",
           "x": [
            0,
            0,
            2
           ],
           "y": [
            1,
            -1,
            0
           ]
          },
          {
           "type": "scatter",
           "x": [
            2
           ],
           "y": [
            0
           ]
          }
         ],
         "layout": {
          "annotations": [
           {
            "font": {
             "color": "purple",
             "size": 14
            },
            "showarrow": false,
            "text": "<b>Step 257</b><br>AoMA_0=0.0, AoMA_1=0.0<br>Battery=19.0<br>Action=Go L0",
            "x": 0.5,
            "xref": "paper",
            "y": 1.1,
            "yref": "paper"
           }
          ]
         },
         "name": "frame_257"
        },
        {
         "data": [
          {
           "type": "scatter",
           "x": [
            0,
            0,
            2
           ],
           "y": [
            1,
            -1,
            0
           ]
          },
          {
           "type": "scatter",
           "x": [
            0
           ],
           "y": [
            1
           ]
          }
         ],
         "layout": {
          "annotations": [
           {
            "font": {
             "color": "purple",
             "size": 14
            },
            "showarrow": false,
            "text": "<b>Step 258</b><br>AoMA_0=0.0, AoMA_1=0.0<br>Battery=16.0<br>Action=Go Home",
            "x": 0.5,
            "xref": "paper",
            "y": 1.1,
            "yref": "paper"
           }
          ]
         },
         "name": "frame_258"
        },
        {
         "data": [
          {
           "type": "scatter",
           "x": [
            0,
            0,
            2
           ],
           "y": [
            1,
            -1,
            0
           ]
          },
          {
           "type": "scatter",
           "x": [
            2
           ],
           "y": [
            0
           ]
          }
         ],
         "layout": {
          "annotations": [
           {
            "font": {
             "color": "purple",
             "size": 14
            },
            "showarrow": false,
            "text": "<b>Step 259</b><br>AoMA_0=0.0, AoMA_1=0.0<br>Battery=13.0<br>Action=Wait",
            "x": 0.5,
            "xref": "paper",
            "y": 1.1,
            "yref": "paper"
           }
          ]
         },
         "name": "frame_259"
        },
        {
         "data": [
          {
           "type": "scatter",
           "x": [
            0,
            0,
            2
           ],
           "y": [
            1,
            -1,
            0
           ]
          },
          {
           "type": "scatter",
           "x": [
            2
           ],
           "y": [
            0
           ]
          }
         ],
         "layout": {
          "annotations": [
           {
            "font": {
             "color": "purple",
             "size": 14
            },
            "showarrow": false,
            "text": "<b>Step 260</b><br>AoMA_0=0.0, AoMA_1=0.0<br>Battery=18.0<br>Action=Wait",
            "x": 0.5,
            "xref": "paper",
            "y": 1.1,
            "yref": "paper"
           }
          ]
         },
         "name": "frame_260"
        },
        {
         "data": [
          {
           "type": "scatter",
           "x": [
            0,
            0,
            2
           ],
           "y": [
            1,
            -1,
            0
           ]
          },
          {
           "type": "scatter",
           "x": [
            2
           ],
           "y": [
            0
           ]
          }
         ],
         "layout": {
          "annotations": [
           {
            "font": {
             "color": "purple",
             "size": 14
            },
            "showarrow": false,
            "text": "<b>Step 261</b><br>AoMA_0=0.0, AoMA_1=0.0<br>Battery=20.0<br>Action=Go L0",
            "x": 0.5,
            "xref": "paper",
            "y": 1.1,
            "yref": "paper"
           }
          ]
         },
         "name": "frame_261"
        },
        {
         "data": [
          {
           "type": "scatter",
           "x": [
            0,
            0,
            2
           ],
           "y": [
            1,
            -1,
            0
           ]
          },
          {
           "type": "scatter",
           "x": [
            0
           ],
           "y": [
            1
           ]
          }
         ],
         "layout": {
          "annotations": [
           {
            "font": {
             "color": "purple",
             "size": 14
            },
            "showarrow": false,
            "text": "<b>Step 262</b><br>AoMA_0=0.0, AoMA_1=2.0<br>Battery=17.0<br>Action=Go L1",
            "x": 0.5,
            "xref": "paper",
            "y": 1.1,
            "yref": "paper"
           }
          ]
         },
         "name": "frame_262"
        },
        {
         "data": [
          {
           "type": "scatter",
           "x": [
            0,
            0,
            2
           ],
           "y": [
            1,
            -1,
            0
           ]
          },
          {
           "type": "scatter",
           "x": [
            0
           ],
           "y": [
            -1
           ]
          }
         ],
         "layout": {
          "annotations": [
           {
            "font": {
             "color": "purple",
             "size": 14
            },
            "showarrow": false,
            "text": "<b>Step 263</b><br>AoMA_0=0.0, AoMA_1=0.0<br>Battery=15.0<br>Action=Go L0",
            "x": 0.5,
            "xref": "paper",
            "y": 1.1,
            "yref": "paper"
           }
          ]
         },
         "name": "frame_263"
        },
        {
         "data": [
          {
           "type": "scatter",
           "x": [
            0,
            0,
            2
           ],
           "y": [
            1,
            -1,
            0
           ]
          },
          {
           "type": "scatter",
           "x": [
            0
           ],
           "y": [
            1
           ]
          }
         ],
         "layout": {
          "annotations": [
           {
            "font": {
             "color": "purple",
             "size": 14
            },
            "showarrow": false,
            "text": "<b>Step 264</b><br>AoMA_0=0.0, AoMA_1=0.0<br>Battery=13.0<br>Action=Go Home",
            "x": 0.5,
            "xref": "paper",
            "y": 1.1,
            "yref": "paper"
           }
          ]
         },
         "name": "frame_264"
        },
        {
         "data": [
          {
           "type": "scatter",
           "x": [
            0,
            0,
            2
           ],
           "y": [
            1,
            -1,
            0
           ]
          },
          {
           "type": "scatter",
           "x": [
            2
           ],
           "y": [
            0
           ]
          }
         ],
         "layout": {
          "annotations": [
           {
            "font": {
             "color": "purple",
             "size": 14
            },
            "showarrow": false,
            "text": "<b>Step 265</b><br>AoMA_0=0.0, AoMA_1=0.0<br>Battery=10.0<br>Action=Wait",
            "x": 0.5,
            "xref": "paper",
            "y": 1.1,
            "yref": "paper"
           }
          ]
         },
         "name": "frame_265"
        },
        {
         "data": [
          {
           "type": "scatter",
           "x": [
            0,
            0,
            2
           ],
           "y": [
            1,
            -1,
            0
           ]
          },
          {
           "type": "scatter",
           "x": [
            2
           ],
           "y": [
            0
           ]
          }
         ],
         "layout": {
          "annotations": [
           {
            "font": {
             "color": "purple",
             "size": 14
            },
            "showarrow": false,
            "text": "<b>Step 266</b><br>AoMA_0=0.0, AoMA_1=0.0<br>Battery=15.0<br>Action=Wait",
            "x": 0.5,
            "xref": "paper",
            "y": 1.1,
            "yref": "paper"
           }
          ]
         },
         "name": "frame_266"
        },
        {
         "data": [
          {
           "type": "scatter",
           "x": [
            0,
            0,
            2
           ],
           "y": [
            1,
            -1,
            0
           ]
          },
          {
           "type": "scatter",
           "x": [
            2
           ],
           "y": [
            0
           ]
          }
         ],
         "layout": {
          "annotations": [
           {
            "font": {
             "color": "purple",
             "size": 14
            },
            "showarrow": false,
            "text": "<b>Step 267</b><br>AoMA_0=0.0, AoMA_1=0.0<br>Battery=20.0<br>Action=Go L0",
            "x": 0.5,
            "xref": "paper",
            "y": 1.1,
            "yref": "paper"
           }
          ]
         },
         "name": "frame_267"
        },
        {
         "data": [
          {
           "type": "scatter",
           "x": [
            0,
            0,
            2
           ],
           "y": [
            1,
            -1,
            0
           ]
          },
          {
           "type": "scatter",
           "x": [
            0
           ],
           "y": [
            1
           ]
          }
         ],
         "layout": {
          "annotations": [
           {
            "font": {
             "color": "purple",
             "size": 14
            },
            "showarrow": false,
            "text": "<b>Step 268</b><br>AoMA_0=0.0, AoMA_1=0.0<br>Battery=17.0<br>Action=Go Home",
            "x": 0.5,
            "xref": "paper",
            "y": 1.1,
            "yref": "paper"
           }
          ]
         },
         "name": "frame_268"
        },
        {
         "data": [
          {
           "type": "scatter",
           "x": [
            0,
            0,
            2
           ],
           "y": [
            1,
            -1,
            0
           ]
          },
          {
           "type": "scatter",
           "x": [
            2
           ],
           "y": [
            0
           ]
          }
         ],
         "layout": {
          "annotations": [
           {
            "font": {
             "color": "purple",
             "size": 14
            },
            "showarrow": false,
            "text": "<b>Step 269</b><br>AoMA_0=0.0, AoMA_1=0.0<br>Battery=14.0<br>Action=Wait",
            "x": 0.5,
            "xref": "paper",
            "y": 1.1,
            "yref": "paper"
           }
          ]
         },
         "name": "frame_269"
        },
        {
         "data": [
          {
           "type": "scatter",
           "x": [
            0,
            0,
            2
           ],
           "y": [
            1,
            -1,
            0
           ]
          },
          {
           "type": "scatter",
           "x": [
            2
           ],
           "y": [
            0
           ]
          }
         ],
         "layout": {
          "annotations": [
           {
            "font": {
             "color": "purple",
             "size": 14
            },
            "showarrow": false,
            "text": "<b>Step 270</b><br>AoMA_0=0.0, AoMA_1=0.0<br>Battery=19.0<br>Action=Go L0",
            "x": 0.5,
            "xref": "paper",
            "y": 1.1,
            "yref": "paper"
           }
          ]
         },
         "name": "frame_270"
        },
        {
         "data": [
          {
           "type": "scatter",
           "x": [
            0,
            0,
            2
           ],
           "y": [
            1,
            -1,
            0
           ]
          },
          {
           "type": "scatter",
           "x": [
            0
           ],
           "y": [
            1
           ]
          }
         ],
         "layout": {
          "annotations": [
           {
            "font": {
             "color": "purple",
             "size": 14
            },
            "showarrow": false,
            "text": "<b>Step 271</b><br>AoMA_0=0.0, AoMA_1=0.0<br>Battery=16.0<br>Action=Go Home",
            "x": 0.5,
            "xref": "paper",
            "y": 1.1,
            "yref": "paper"
           }
          ]
         },
         "name": "frame_271"
        },
        {
         "data": [
          {
           "type": "scatter",
           "x": [
            0,
            0,
            2
           ],
           "y": [
            1,
            -1,
            0
           ]
          },
          {
           "type": "scatter",
           "x": [
            2
           ],
           "y": [
            0
           ]
          }
         ],
         "layout": {
          "annotations": [
           {
            "font": {
             "color": "purple",
             "size": 14
            },
            "showarrow": false,
            "text": "<b>Step 272</b><br>AoMA_0=0.0, AoMA_1=0.0<br>Battery=13.0<br>Action=Wait",
            "x": 0.5,
            "xref": "paper",
            "y": 1.1,
            "yref": "paper"
           }
          ]
         },
         "name": "frame_272"
        },
        {
         "data": [
          {
           "type": "scatter",
           "x": [
            0,
            0,
            2
           ],
           "y": [
            1,
            -1,
            0
           ]
          },
          {
           "type": "scatter",
           "x": [
            2
           ],
           "y": [
            0
           ]
          }
         ],
         "layout": {
          "annotations": [
           {
            "font": {
             "color": "purple",
             "size": 14
            },
            "showarrow": false,
            "text": "<b>Step 273</b><br>AoMA_0=0.0, AoMA_1=0.0<br>Battery=18.0<br>Action=Wait",
            "x": 0.5,
            "xref": "paper",
            "y": 1.1,
            "yref": "paper"
           }
          ]
         },
         "name": "frame_273"
        },
        {
         "data": [
          {
           "type": "scatter",
           "x": [
            0,
            0,
            2
           ],
           "y": [
            1,
            -1,
            0
           ]
          },
          {
           "type": "scatter",
           "x": [
            2
           ],
           "y": [
            0
           ]
          }
         ],
         "layout": {
          "annotations": [
           {
            "font": {
             "color": "purple",
             "size": 14
            },
            "showarrow": false,
            "text": "<b>Step 274</b><br>AoMA_0=0.0, AoMA_1=0.0<br>Battery=20.0<br>Action=Go L0",
            "x": 0.5,
            "xref": "paper",
            "y": 1.1,
            "yref": "paper"
           }
          ]
         },
         "name": "frame_274"
        },
        {
         "data": [
          {
           "type": "scatter",
           "x": [
            0,
            0,
            2
           ],
           "y": [
            1,
            -1,
            0
           ]
          },
          {
           "type": "scatter",
           "x": [
            0
           ],
           "y": [
            1
           ]
          }
         ],
         "layout": {
          "annotations": [
           {
            "font": {
             "color": "purple",
             "size": 14
            },
            "showarrow": false,
            "text": "<b>Step 275</b><br>AoMA_0=0.0, AoMA_1=1.0<br>Battery=17.0<br>Action=Go L1",
            "x": 0.5,
            "xref": "paper",
            "y": 1.1,
            "yref": "paper"
           }
          ]
         },
         "name": "frame_275"
        },
        {
         "data": [
          {
           "type": "scatter",
           "x": [
            0,
            0,
            2
           ],
           "y": [
            1,
            -1,
            0
           ]
          },
          {
           "type": "scatter",
           "x": [
            0
           ],
           "y": [
            -1
           ]
          }
         ],
         "layout": {
          "annotations": [
           {
            "font": {
             "color": "purple",
             "size": 14
            },
            "showarrow": false,
            "text": "<b>Step 276</b><br>AoMA_0=0.0, AoMA_1=0.0<br>Battery=15.0<br>Action=Go L0",
            "x": 0.5,
            "xref": "paper",
            "y": 1.1,
            "yref": "paper"
           }
          ]
         },
         "name": "frame_276"
        },
        {
         "data": [
          {
           "type": "scatter",
           "x": [
            0,
            0,
            2
           ],
           "y": [
            1,
            -1,
            0
           ]
          },
          {
           "type": "scatter",
           "x": [
            0
           ],
           "y": [
            1
           ]
          }
         ],
         "layout": {
          "annotations": [
           {
            "font": {
             "color": "purple",
             "size": 14
            },
            "showarrow": false,
            "text": "<b>Step 277</b><br>AoMA_0=0.0, AoMA_1=0.0<br>Battery=13.0<br>Action=Go Home",
            "x": 0.5,
            "xref": "paper",
            "y": 1.1,
            "yref": "paper"
           }
          ]
         },
         "name": "frame_277"
        },
        {
         "data": [
          {
           "type": "scatter",
           "x": [
            0,
            0,
            2
           ],
           "y": [
            1,
            -1,
            0
           ]
          },
          {
           "type": "scatter",
           "x": [
            2
           ],
           "y": [
            0
           ]
          }
         ],
         "layout": {
          "annotations": [
           {
            "font": {
             "color": "purple",
             "size": 14
            },
            "showarrow": false,
            "text": "<b>Step 278</b><br>AoMA_0=0.0, AoMA_1=0.0<br>Battery=10.0<br>Action=Wait",
            "x": 0.5,
            "xref": "paper",
            "y": 1.1,
            "yref": "paper"
           }
          ]
         },
         "name": "frame_278"
        },
        {
         "data": [
          {
           "type": "scatter",
           "x": [
            0,
            0,
            2
           ],
           "y": [
            1,
            -1,
            0
           ]
          },
          {
           "type": "scatter",
           "x": [
            2
           ],
           "y": [
            0
           ]
          }
         ],
         "layout": {
          "annotations": [
           {
            "font": {
             "color": "purple",
             "size": 14
            },
            "showarrow": false,
            "text": "<b>Step 279</b><br>AoMA_0=1.0, AoMA_1=0.0<br>Battery=15.0<br>Action=Go L0",
            "x": 0.5,
            "xref": "paper",
            "y": 1.1,
            "yref": "paper"
           }
          ]
         },
         "name": "frame_279"
        },
        {
         "data": [
          {
           "type": "scatter",
           "x": [
            0,
            0,
            2
           ],
           "y": [
            1,
            -1,
            0
           ]
          },
          {
           "type": "scatter",
           "x": [
            0
           ],
           "y": [
            1
           ]
          }
         ],
         "layout": {
          "annotations": [
           {
            "font": {
             "color": "purple",
             "size": 14
            },
            "showarrow": false,
            "text": "<b>Step 280</b><br>AoMA_0=0.0, AoMA_1=0.0<br>Battery=12.0<br>Action=Go Home",
            "x": 0.5,
            "xref": "paper",
            "y": 1.1,
            "yref": "paper"
           }
          ]
         },
         "name": "frame_280"
        },
        {
         "data": [
          {
           "type": "scatter",
           "x": [
            0,
            0,
            2
           ],
           "y": [
            1,
            -1,
            0
           ]
          },
          {
           "type": "scatter",
           "x": [
            2
           ],
           "y": [
            0
           ]
          }
         ],
         "layout": {
          "annotations": [
           {
            "font": {
             "color": "purple",
             "size": 14
            },
            "showarrow": false,
            "text": "<b>Step 281</b><br>AoMA_0=3.0, AoMA_1=0.0<br>Battery=9.0<br>Action=Wait",
            "x": 0.5,
            "xref": "paper",
            "y": 1.1,
            "yref": "paper"
           }
          ]
         },
         "name": "frame_281"
        },
        {
         "data": [
          {
           "type": "scatter",
           "x": [
            0,
            0,
            2
           ],
           "y": [
            1,
            -1,
            0
           ]
          },
          {
           "type": "scatter",
           "x": [
            2
           ],
           "y": [
            0
           ]
          }
         ],
         "layout": {
          "annotations": [
           {
            "font": {
             "color": "purple",
             "size": 14
            },
            "showarrow": false,
            "text": "<b>Step 282</b><br>AoMA_0=4.0, AoMA_1=0.0<br>Battery=14.0<br>Action=Go L0",
            "x": 0.5,
            "xref": "paper",
            "y": 1.1,
            "yref": "paper"
           }
          ]
         },
         "name": "frame_282"
        },
        {
         "data": [
          {
           "type": "scatter",
           "x": [
            0,
            0,
            2
           ],
           "y": [
            1,
            -1,
            0
           ]
          },
          {
           "type": "scatter",
           "x": [
            0
           ],
           "y": [
            1
           ]
          }
         ],
         "layout": {
          "annotations": [
           {
            "font": {
             "color": "purple",
             "size": 14
            },
            "showarrow": false,
            "text": "<b>Step 283</b><br>AoMA_0=0.0, AoMA_1=0.0<br>Battery=11.0<br>Action=Go Home",
            "x": 0.5,
            "xref": "paper",
            "y": 1.1,
            "yref": "paper"
           }
          ]
         },
         "name": "frame_283"
        },
        {
         "data": [
          {
           "type": "scatter",
           "x": [
            0,
            0,
            2
           ],
           "y": [
            1,
            -1,
            0
           ]
          },
          {
           "type": "scatter",
           "x": [
            2
           ],
           "y": [
            0
           ]
          }
         ],
         "layout": {
          "annotations": [
           {
            "font": {
             "color": "purple",
             "size": 14
            },
            "showarrow": false,
            "text": "<b>Step 284</b><br>AoMA_0=0.0, AoMA_1=0.0<br>Battery=8.0<br>Action=Wait",
            "x": 0.5,
            "xref": "paper",
            "y": 1.1,
            "yref": "paper"
           }
          ]
         },
         "name": "frame_284"
        },
        {
         "data": [
          {
           "type": "scatter",
           "x": [
            0,
            0,
            2
           ],
           "y": [
            1,
            -1,
            0
           ]
          },
          {
           "type": "scatter",
           "x": [
            2
           ],
           "y": [
            0
           ]
          }
         ],
         "layout": {
          "annotations": [
           {
            "font": {
             "color": "purple",
             "size": 14
            },
            "showarrow": false,
            "text": "<b>Step 285</b><br>AoMA_0=0.0, AoMA_1=0.0<br>Battery=13.0<br>Action=Wait",
            "x": 0.5,
            "xref": "paper",
            "y": 1.1,
            "yref": "paper"
           }
          ]
         },
         "name": "frame_285"
        },
        {
         "data": [
          {
           "type": "scatter",
           "x": [
            0,
            0,
            2
           ],
           "y": [
            1,
            -1,
            0
           ]
          },
          {
           "type": "scatter",
           "x": [
            2
           ],
           "y": [
            0
           ]
          }
         ],
         "layout": {
          "annotations": [
           {
            "font": {
             "color": "purple",
             "size": 14
            },
            "showarrow": false,
            "text": "<b>Step 286</b><br>AoMA_0=0.0, AoMA_1=1.0<br>Battery=18.0<br>Action=Go L1",
            "x": 0.5,
            "xref": "paper",
            "y": 1.1,
            "yref": "paper"
           }
          ]
         },
         "name": "frame_286"
        },
        {
         "data": [
          {
           "type": "scatter",
           "x": [
            0,
            0,
            2
           ],
           "y": [
            1,
            -1,
            0
           ]
          },
          {
           "type": "scatter",
           "x": [
            0
           ],
           "y": [
            -1
           ]
          }
         ],
         "layout": {
          "annotations": [
           {
            "font": {
             "color": "purple",
             "size": 14
            },
            "showarrow": false,
            "text": "<b>Step 287</b><br>AoMA_0=0.0, AoMA_1=0.0<br>Battery=14.0<br>Action=Go L0",
            "x": 0.5,
            "xref": "paper",
            "y": 1.1,
            "yref": "paper"
           }
          ]
         },
         "name": "frame_287"
        },
        {
         "data": [
          {
           "type": "scatter",
           "x": [
            0,
            0,
            2
           ],
           "y": [
            1,
            -1,
            0
           ]
          },
          {
           "type": "scatter",
           "x": [
            0
           ],
           "y": [
            1
           ]
          }
         ],
         "layout": {
          "annotations": [
           {
            "font": {
             "color": "purple",
             "size": 14
            },
            "showarrow": false,
            "text": "<b>Step 288</b><br>AoMA_0=0.0, AoMA_1=2.0<br>Battery=12.0<br>Action=Go L1",
            "x": 0.5,
            "xref": "paper",
            "y": 1.1,
            "yref": "paper"
           }
          ]
         },
         "name": "frame_288"
        },
        {
         "data": [
          {
           "type": "scatter",
           "x": [
            0,
            0,
            2
           ],
           "y": [
            1,
            -1,
            0
           ]
          },
          {
           "type": "scatter",
           "x": [
            0
           ],
           "y": [
            -1
           ]
          }
         ],
         "layout": {
          "annotations": [
           {
            "font": {
             "color": "purple",
             "size": 14
            },
            "showarrow": false,
            "text": "<b>Step 289</b><br>AoMA_0=0.0, AoMA_1=0.0<br>Battery=10.0<br>Action=Go L0",
            "x": 0.5,
            "xref": "paper",
            "y": 1.1,
            "yref": "paper"
           }
          ]
         },
         "name": "frame_289"
        },
        {
         "data": [
          {
           "type": "scatter",
           "x": [
            0,
            0,
            2
           ],
           "y": [
            1,
            -1,
            0
           ]
          },
          {
           "type": "scatter",
           "x": [
            0
           ],
           "y": [
            1
           ]
          }
         ],
         "layout": {
          "annotations": [
           {
            "font": {
             "color": "purple",
             "size": 14
            },
            "showarrow": false,
            "text": "<b>Step 290</b><br>AoMA_0=0.0, AoMA_1=0.0<br>Battery=8.0<br>Action=Go Home",
            "x": 0.5,
            "xref": "paper",
            "y": 1.1,
            "yref": "paper"
           }
          ]
         },
         "name": "frame_290"
        },
        {
         "data": [
          {
           "type": "scatter",
           "x": [
            0,
            0,
            2
           ],
           "y": [
            1,
            -1,
            0
           ]
          },
          {
           "type": "scatter",
           "x": [
            2
           ],
           "y": [
            0
           ]
          }
         ],
         "layout": {
          "annotations": [
           {
            "font": {
             "color": "purple",
             "size": 14
            },
            "showarrow": false,
            "text": "<b>Step 291</b><br>AoMA_0=0.0, AoMA_1=0.0<br>Battery=5.0<br>Action=Wait",
            "x": 0.5,
            "xref": "paper",
            "y": 1.1,
            "yref": "paper"
           }
          ]
         },
         "name": "frame_291"
        },
        {
         "data": [
          {
           "type": "scatter",
           "x": [
            0,
            0,
            2
           ],
           "y": [
            1,
            -1,
            0
           ]
          },
          {
           "type": "scatter",
           "x": [
            2
           ],
           "y": [
            0
           ]
          }
         ],
         "layout": {
          "annotations": [
           {
            "font": {
             "color": "purple",
             "size": 14
            },
            "showarrow": false,
            "text": "<b>Step 292</b><br>AoMA_0=0.0, AoMA_1=0.0<br>Battery=10.0<br>Action=Wait",
            "x": 0.5,
            "xref": "paper",
            "y": 1.1,
            "yref": "paper"
           }
          ]
         },
         "name": "frame_292"
        },
        {
         "data": [
          {
           "type": "scatter",
           "x": [
            0,
            0,
            2
           ],
           "y": [
            1,
            -1,
            0
           ]
          },
          {
           "type": "scatter",
           "x": [
            2
           ],
           "y": [
            0
           ]
          }
         ],
         "layout": {
          "annotations": [
           {
            "font": {
             "color": "purple",
             "size": 14
            },
            "showarrow": false,
            "text": "<b>Step 293</b><br>AoMA_0=0.0, AoMA_1=0.0<br>Battery=15.0<br>Action=Wait",
            "x": 0.5,
            "xref": "paper",
            "y": 1.1,
            "yref": "paper"
           }
          ]
         },
         "name": "frame_293"
        },
        {
         "data": [
          {
           "type": "scatter",
           "x": [
            0,
            0,
            2
           ],
           "y": [
            1,
            -1,
            0
           ]
          },
          {
           "type": "scatter",
           "x": [
            2
           ],
           "y": [
            0
           ]
          }
         ],
         "layout": {
          "annotations": [
           {
            "font": {
             "color": "purple",
             "size": 14
            },
            "showarrow": false,
            "text": "<b>Step 294</b><br>AoMA_0=0.0, AoMA_1=0.0<br>Battery=20.0<br>Action=Go L0",
            "x": 0.5,
            "xref": "paper",
            "y": 1.1,
            "yref": "paper"
           }
          ]
         },
         "name": "frame_294"
        },
        {
         "data": [
          {
           "type": "scatter",
           "x": [
            0,
            0,
            2
           ],
           "y": [
            1,
            -1,
            0
           ]
          },
          {
           "type": "scatter",
           "x": [
            0
           ],
           "y": [
            1
           ]
          }
         ],
         "layout": {
          "annotations": [
           {
            "font": {
             "color": "purple",
             "size": 14
            },
            "showarrow": false,
            "text": "<b>Step 295</b><br>AoMA_0=0.0, AoMA_1=3.0<br>Battery=17.0<br>Action=Go L1",
            "x": 0.5,
            "xref": "paper",
            "y": 1.1,
            "yref": "paper"
           }
          ]
         },
         "name": "frame_295"
        },
        {
         "data": [
          {
           "type": "scatter",
           "x": [
            0,
            0,
            2
           ],
           "y": [
            1,
            -1,
            0
           ]
          },
          {
           "type": "scatter",
           "x": [
            0
           ],
           "y": [
            -1
           ]
          }
         ],
         "layout": {
          "annotations": [
           {
            "font": {
             "color": "purple",
             "size": 14
            },
            "showarrow": false,
            "text": "<b>Step 296</b><br>AoMA_0=0.0, AoMA_1=0.0<br>Battery=15.0<br>Action=Go L0",
            "x": 0.5,
            "xref": "paper",
            "y": 1.1,
            "yref": "paper"
           }
          ]
         },
         "name": "frame_296"
        },
        {
         "data": [
          {
           "type": "scatter",
           "x": [
            0,
            0,
            2
           ],
           "y": [
            1,
            -1,
            0
           ]
          },
          {
           "type": "scatter",
           "x": [
            0
           ],
           "y": [
            1
           ]
          }
         ],
         "layout": {
          "annotations": [
           {
            "font": {
             "color": "purple",
             "size": 14
            },
            "showarrow": false,
            "text": "<b>Step 297</b><br>AoMA_0=0.0, AoMA_1=0.0<br>Battery=13.0<br>Action=Go Home",
            "x": 0.5,
            "xref": "paper",
            "y": 1.1,
            "yref": "paper"
           }
          ]
         },
         "name": "frame_297"
        },
        {
         "data": [
          {
           "type": "scatter",
           "x": [
            0,
            0,
            2
           ],
           "y": [
            1,
            -1,
            0
           ]
          },
          {
           "type": "scatter",
           "x": [
            2
           ],
           "y": [
            0
           ]
          }
         ],
         "layout": {
          "annotations": [
           {
            "font": {
             "color": "purple",
             "size": 14
            },
            "showarrow": false,
            "text": "<b>Step 298</b><br>AoMA_0=0.0, AoMA_1=0.0<br>Battery=10.0<br>Action=Wait",
            "x": 0.5,
            "xref": "paper",
            "y": 1.1,
            "yref": "paper"
           }
          ]
         },
         "name": "frame_298"
        },
        {
         "data": [
          {
           "type": "scatter",
           "x": [
            0,
            0,
            2
           ],
           "y": [
            1,
            -1,
            0
           ]
          },
          {
           "type": "scatter",
           "x": [
            2
           ],
           "y": [
            0
           ]
          }
         ],
         "layout": {
          "annotations": [
           {
            "font": {
             "color": "purple",
             "size": 14
            },
            "showarrow": false,
            "text": "<b>Step 299</b><br>AoMA_0=0.0, AoMA_1=0.0<br>Battery=15.0<br>Action=Wait",
            "x": 0.5,
            "xref": "paper",
            "y": 1.1,
            "yref": "paper"
           }
          ]
         },
         "name": "frame_299"
        },
        {
         "data": [
          {
           "type": "scatter",
           "x": [
            0,
            0,
            2
           ],
           "y": [
            1,
            -1,
            0
           ]
          },
          {
           "type": "scatter",
           "x": [
            2
           ],
           "y": [
            0
           ]
          }
         ],
         "layout": {
          "annotations": [
           {
            "font": {
             "color": "purple",
             "size": 14
            },
            "showarrow": false,
            "text": "<b>Step 300</b><br>AoMA_0=0.0, AoMA_1=0.0<br>Battery=20.0<br>Action=Go L0",
            "x": 0.5,
            "xref": "paper",
            "y": 1.1,
            "yref": "paper"
           }
          ]
         },
         "name": "frame_300"
        },
        {
         "data": [
          {
           "type": "scatter",
           "x": [
            0,
            0,
            2
           ],
           "y": [
            1,
            -1,
            0
           ]
          },
          {
           "type": "scatter",
           "x": [
            0
           ],
           "y": [
            1
           ]
          }
         ],
         "layout": {
          "annotations": [
           {
            "font": {
             "color": "purple",
             "size": 14
            },
            "showarrow": false,
            "text": "<b>Step 301</b><br>AoMA_0=0.0, AoMA_1=0.0<br>Battery=17.0<br>Action=Go Home",
            "x": 0.5,
            "xref": "paper",
            "y": 1.1,
            "yref": "paper"
           }
          ]
         },
         "name": "frame_301"
        },
        {
         "data": [
          {
           "type": "scatter",
           "x": [
            0,
            0,
            2
           ],
           "y": [
            1,
            -1,
            0
           ]
          },
          {
           "type": "scatter",
           "x": [
            2
           ],
           "y": [
            0
           ]
          }
         ],
         "layout": {
          "annotations": [
           {
            "font": {
             "color": "purple",
             "size": 14
            },
            "showarrow": false,
            "text": "<b>Step 302</b><br>AoMA_0=0.0, AoMA_1=0.0<br>Battery=14.0<br>Action=Wait",
            "x": 0.5,
            "xref": "paper",
            "y": 1.1,
            "yref": "paper"
           }
          ]
         },
         "name": "frame_302"
        },
        {
         "data": [
          {
           "type": "scatter",
           "x": [
            0,
            0,
            2
           ],
           "y": [
            1,
            -1,
            0
           ]
          },
          {
           "type": "scatter",
           "x": [
            2
           ],
           "y": [
            0
           ]
          }
         ],
         "layout": {
          "annotations": [
           {
            "font": {
             "color": "purple",
             "size": 14
            },
            "showarrow": false,
            "text": "<b>Step 303</b><br>AoMA_0=0.0, AoMA_1=0.0<br>Battery=19.0<br>Action=Go L0",
            "x": 0.5,
            "xref": "paper",
            "y": 1.1,
            "yref": "paper"
           }
          ]
         },
         "name": "frame_303"
        },
        {
         "data": [
          {
           "type": "scatter",
           "x": [
            0,
            0,
            2
           ],
           "y": [
            1,
            -1,
            0
           ]
          },
          {
           "type": "scatter",
           "x": [
            0
           ],
           "y": [
            1
           ]
          }
         ],
         "layout": {
          "annotations": [
           {
            "font": {
             "color": "purple",
             "size": 14
            },
            "showarrow": false,
            "text": "<b>Step 304</b><br>AoMA_0=0.0, AoMA_1=0.0<br>Battery=16.0<br>Action=Go Home",
            "x": 0.5,
            "xref": "paper",
            "y": 1.1,
            "yref": "paper"
           }
          ]
         },
         "name": "frame_304"
        },
        {
         "data": [
          {
           "type": "scatter",
           "x": [
            0,
            0,
            2
           ],
           "y": [
            1,
            -1,
            0
           ]
          },
          {
           "type": "scatter",
           "x": [
            2
           ],
           "y": [
            0
           ]
          }
         ],
         "layout": {
          "annotations": [
           {
            "font": {
             "color": "purple",
             "size": 14
            },
            "showarrow": false,
            "text": "<b>Step 305</b><br>AoMA_0=0.0, AoMA_1=0.0<br>Battery=13.0<br>Action=Wait",
            "x": 0.5,
            "xref": "paper",
            "y": 1.1,
            "yref": "paper"
           }
          ]
         },
         "name": "frame_305"
        },
        {
         "data": [
          {
           "type": "scatter",
           "x": [
            0,
            0,
            2
           ],
           "y": [
            1,
            -1,
            0
           ]
          },
          {
           "type": "scatter",
           "x": [
            2
           ],
           "y": [
            0
           ]
          }
         ],
         "layout": {
          "annotations": [
           {
            "font": {
             "color": "purple",
             "size": 14
            },
            "showarrow": false,
            "text": "<b>Step 306</b><br>AoMA_0=0.0, AoMA_1=0.0<br>Battery=18.0<br>Action=Wait",
            "x": 0.5,
            "xref": "paper",
            "y": 1.1,
            "yref": "paper"
           }
          ]
         },
         "name": "frame_306"
        },
        {
         "data": [
          {
           "type": "scatter",
           "x": [
            0,
            0,
            2
           ],
           "y": [
            1,
            -1,
            0
           ]
          },
          {
           "type": "scatter",
           "x": [
            2
           ],
           "y": [
            0
           ]
          }
         ],
         "layout": {
          "annotations": [
           {
            "font": {
             "color": "purple",
             "size": 14
            },
            "showarrow": false,
            "text": "<b>Step 307</b><br>AoMA_0=0.0, AoMA_1=0.0<br>Battery=20.0<br>Action=Go L0",
            "x": 0.5,
            "xref": "paper",
            "y": 1.1,
            "yref": "paper"
           }
          ]
         },
         "name": "frame_307"
        },
        {
         "data": [
          {
           "type": "scatter",
           "x": [
            0,
            0,
            2
           ],
           "y": [
            1,
            -1,
            0
           ]
          },
          {
           "type": "scatter",
           "x": [
            0
           ],
           "y": [
            1
           ]
          }
         ],
         "layout": {
          "annotations": [
           {
            "font": {
             "color": "purple",
             "size": 14
            },
            "showarrow": false,
            "text": "<b>Step 308</b><br>AoMA_0=0.0, AoMA_1=0.0<br>Battery=17.0<br>Action=Go Home",
            "x": 0.5,
            "xref": "paper",
            "y": 1.1,
            "yref": "paper"
           }
          ]
         },
         "name": "frame_308"
        },
        {
         "data": [
          {
           "type": "scatter",
           "x": [
            0,
            0,
            2
           ],
           "y": [
            1,
            -1,
            0
           ]
          },
          {
           "type": "scatter",
           "x": [
            2
           ],
           "y": [
            0
           ]
          }
         ],
         "layout": {
          "annotations": [
           {
            "font": {
             "color": "purple",
             "size": 14
            },
            "showarrow": false,
            "text": "<b>Step 309</b><br>AoMA_0=0.0, AoMA_1=0.0<br>Battery=14.0<br>Action=Wait",
            "x": 0.5,
            "xref": "paper",
            "y": 1.1,
            "yref": "paper"
           }
          ]
         },
         "name": "frame_309"
        },
        {
         "data": [
          {
           "type": "scatter",
           "x": [
            0,
            0,
            2
           ],
           "y": [
            1,
            -1,
            0
           ]
          },
          {
           "type": "scatter",
           "x": [
            2
           ],
           "y": [
            0
           ]
          }
         ],
         "layout": {
          "annotations": [
           {
            "font": {
             "color": "purple",
             "size": 14
            },
            "showarrow": false,
            "text": "<b>Step 310</b><br>AoMA_0=0.0, AoMA_1=0.0<br>Battery=19.0<br>Action=Go L0",
            "x": 0.5,
            "xref": "paper",
            "y": 1.1,
            "yref": "paper"
           }
          ]
         },
         "name": "frame_310"
        },
        {
         "data": [
          {
           "type": "scatter",
           "x": [
            0,
            0,
            2
           ],
           "y": [
            1,
            -1,
            0
           ]
          },
          {
           "type": "scatter",
           "x": [
            0
           ],
           "y": [
            1
           ]
          }
         ],
         "layout": {
          "annotations": [
           {
            "font": {
             "color": "purple",
             "size": 14
            },
            "showarrow": false,
            "text": "<b>Step 311</b><br>AoMA_0=0.0, AoMA_1=0.0<br>Battery=16.0<br>Action=Go Home",
            "x": 0.5,
            "xref": "paper",
            "y": 1.1,
            "yref": "paper"
           }
          ]
         },
         "name": "frame_311"
        },
        {
         "data": [
          {
           "type": "scatter",
           "x": [
            0,
            0,
            2
           ],
           "y": [
            1,
            -1,
            0
           ]
          },
          {
           "type": "scatter",
           "x": [
            2
           ],
           "y": [
            0
           ]
          }
         ],
         "layout": {
          "annotations": [
           {
            "font": {
             "color": "purple",
             "size": 14
            },
            "showarrow": false,
            "text": "<b>Step 312</b><br>AoMA_0=0.0, AoMA_1=2.0<br>Battery=13.0<br>Action=Wait",
            "x": 0.5,
            "xref": "paper",
            "y": 1.1,
            "yref": "paper"
           }
          ]
         },
         "name": "frame_312"
        },
        {
         "data": [
          {
           "type": "scatter",
           "x": [
            0,
            0,
            2
           ],
           "y": [
            1,
            -1,
            0
           ]
          },
          {
           "type": "scatter",
           "x": [
            2
           ],
           "y": [
            0
           ]
          }
         ],
         "layout": {
          "annotations": [
           {
            "font": {
             "color": "purple",
             "size": 14
            },
            "showarrow": false,
            "text": "<b>Step 313</b><br>AoMA_0=0.0, AoMA_1=3.0<br>Battery=18.0<br>Action=Go L1",
            "x": 0.5,
            "xref": "paper",
            "y": 1.1,
            "yref": "paper"
           }
          ]
         },
         "name": "frame_313"
        },
        {
         "data": [
          {
           "type": "scatter",
           "x": [
            0,
            0,
            2
           ],
           "y": [
            1,
            -1,
            0
           ]
          },
          {
           "type": "scatter",
           "x": [
            0
           ],
           "y": [
            -1
           ]
          }
         ],
         "layout": {
          "annotations": [
           {
            "font": {
             "color": "purple",
             "size": 14
            },
            "showarrow": false,
            "text": "<b>Step 314</b><br>AoMA_0=0.0, AoMA_1=0.0<br>Battery=14.0<br>Action=Go L0",
            "x": 0.5,
            "xref": "paper",
            "y": 1.1,
            "yref": "paper"
           }
          ]
         },
         "name": "frame_314"
        },
        {
         "data": [
          {
           "type": "scatter",
           "x": [
            0,
            0,
            2
           ],
           "y": [
            1,
            -1,
            0
           ]
          },
          {
           "type": "scatter",
           "x": [
            0
           ],
           "y": [
            1
           ]
          }
         ],
         "layout": {
          "annotations": [
           {
            "font": {
             "color": "purple",
             "size": 14
            },
            "showarrow": false,
            "text": "<b>Step 315</b><br>AoMA_0=0.0, AoMA_1=2.0<br>Battery=12.0<br>Action=Go L1",
            "x": 0.5,
            "xref": "paper",
            "y": 1.1,
            "yref": "paper"
           }
          ]
         },
         "name": "frame_315"
        },
        {
         "data": [
          {
           "type": "scatter",
           "x": [
            0,
            0,
            2
           ],
           "y": [
            1,
            -1,
            0
           ]
          },
          {
           "type": "scatter",
           "x": [
            0
           ],
           "y": [
            -1
           ]
          }
         ],
         "layout": {
          "annotations": [
           {
            "font": {
             "color": "purple",
             "size": 14
            },
            "showarrow": false,
            "text": "<b>Step 316</b><br>AoMA_0=0.0, AoMA_1=0.0<br>Battery=10.0<br>Action=Go L0",
            "x": 0.5,
            "xref": "paper",
            "y": 1.1,
            "yref": "paper"
           }
          ]
         },
         "name": "frame_316"
        },
        {
         "data": [
          {
           "type": "scatter",
           "x": [
            0,
            0,
            2
           ],
           "y": [
            1,
            -1,
            0
           ]
          },
          {
           "type": "scatter",
           "x": [
            0
           ],
           "y": [
            1
           ]
          }
         ],
         "layout": {
          "annotations": [
           {
            "font": {
             "color": "purple",
             "size": 14
            },
            "showarrow": false,
            "text": "<b>Step 317</b><br>AoMA_0=0.0, AoMA_1=0.0<br>Battery=8.0<br>Action=Go Home",
            "x": 0.5,
            "xref": "paper",
            "y": 1.1,
            "yref": "paper"
           }
          ]
         },
         "name": "frame_317"
        },
        {
         "data": [
          {
           "type": "scatter",
           "x": [
            0,
            0,
            2
           ],
           "y": [
            1,
            -1,
            0
           ]
          },
          {
           "type": "scatter",
           "x": [
            2
           ],
           "y": [
            0
           ]
          }
         ],
         "layout": {
          "annotations": [
           {
            "font": {
             "color": "purple",
             "size": 14
            },
            "showarrow": false,
            "text": "<b>Step 318</b><br>AoMA_0=0.0, AoMA_1=0.0<br>Battery=5.0<br>Action=Wait",
            "x": 0.5,
            "xref": "paper",
            "y": 1.1,
            "yref": "paper"
           }
          ]
         },
         "name": "frame_318"
        },
        {
         "data": [
          {
           "type": "scatter",
           "x": [
            0,
            0,
            2
           ],
           "y": [
            1,
            -1,
            0
           ]
          },
          {
           "type": "scatter",
           "x": [
            2
           ],
           "y": [
            0
           ]
          }
         ],
         "layout": {
          "annotations": [
           {
            "font": {
             "color": "purple",
             "size": 14
            },
            "showarrow": false,
            "text": "<b>Step 319</b><br>AoMA_0=0.0, AoMA_1=0.0<br>Battery=10.0<br>Action=Wait",
            "x": 0.5,
            "xref": "paper",
            "y": 1.1,
            "yref": "paper"
           }
          ]
         },
         "name": "frame_319"
        },
        {
         "data": [
          {
           "type": "scatter",
           "x": [
            0,
            0,
            2
           ],
           "y": [
            1,
            -1,
            0
           ]
          },
          {
           "type": "scatter",
           "x": [
            2
           ],
           "y": [
            0
           ]
          }
         ],
         "layout": {
          "annotations": [
           {
            "font": {
             "color": "purple",
             "size": 14
            },
            "showarrow": false,
            "text": "<b>Step 320</b><br>AoMA_0=0.0, AoMA_1=0.0<br>Battery=15.0<br>Action=Wait",
            "x": 0.5,
            "xref": "paper",
            "y": 1.1,
            "yref": "paper"
           }
          ]
         },
         "name": "frame_320"
        },
        {
         "data": [
          {
           "type": "scatter",
           "x": [
            0,
            0,
            2
           ],
           "y": [
            1,
            -1,
            0
           ]
          },
          {
           "type": "scatter",
           "x": [
            2
           ],
           "y": [
            0
           ]
          }
         ],
         "layout": {
          "annotations": [
           {
            "font": {
             "color": "purple",
             "size": 14
            },
            "showarrow": false,
            "text": "<b>Step 321</b><br>AoMA_0=0.0, AoMA_1=0.0<br>Battery=20.0<br>Action=Go L0",
            "x": 0.5,
            "xref": "paper",
            "y": 1.1,
            "yref": "paper"
           }
          ]
         },
         "name": "frame_321"
        },
        {
         "data": [
          {
           "type": "scatter",
           "x": [
            0,
            0,
            2
           ],
           "y": [
            1,
            -1,
            0
           ]
          },
          {
           "type": "scatter",
           "x": [
            0
           ],
           "y": [
            1
           ]
          }
         ],
         "layout": {
          "annotations": [
           {
            "font": {
             "color": "purple",
             "size": 14
            },
            "showarrow": false,
            "text": "<b>Step 322</b><br>AoMA_0=0.0, AoMA_1=0.0<br>Battery=17.0<br>Action=Go Home",
            "x": 0.5,
            "xref": "paper",
            "y": 1.1,
            "yref": "paper"
           }
          ]
         },
         "name": "frame_322"
        },
        {
         "data": [
          {
           "type": "scatter",
           "x": [
            0,
            0,
            2
           ],
           "y": [
            1,
            -1,
            0
           ]
          },
          {
           "type": "scatter",
           "x": [
            2
           ],
           "y": [
            0
           ]
          }
         ],
         "layout": {
          "annotations": [
           {
            "font": {
             "color": "purple",
             "size": 14
            },
            "showarrow": false,
            "text": "<b>Step 323</b><br>AoMA_0=0.0, AoMA_1=0.0<br>Battery=14.0<br>Action=Wait",
            "x": 0.5,
            "xref": "paper",
            "y": 1.1,
            "yref": "paper"
           }
          ]
         },
         "name": "frame_323"
        },
        {
         "data": [
          {
           "type": "scatter",
           "x": [
            0,
            0,
            2
           ],
           "y": [
            1,
            -1,
            0
           ]
          },
          {
           "type": "scatter",
           "x": [
            2
           ],
           "y": [
            0
           ]
          }
         ],
         "layout": {
          "annotations": [
           {
            "font": {
             "color": "purple",
             "size": 14
            },
            "showarrow": false,
            "text": "<b>Step 324</b><br>AoMA_0=0.0, AoMA_1=0.0<br>Battery=19.0<br>Action=Go L0",
            "x": 0.5,
            "xref": "paper",
            "y": 1.1,
            "yref": "paper"
           }
          ]
         },
         "name": "frame_324"
        },
        {
         "data": [
          {
           "type": "scatter",
           "x": [
            0,
            0,
            2
           ],
           "y": [
            1,
            -1,
            0
           ]
          },
          {
           "type": "scatter",
           "x": [
            0
           ],
           "y": [
            1
           ]
          }
         ],
         "layout": {
          "annotations": [
           {
            "font": {
             "color": "purple",
             "size": 14
            },
            "showarrow": false,
            "text": "<b>Step 325</b><br>AoMA_0=0.0, AoMA_1=0.0<br>Battery=16.0<br>Action=Go Home",
            "x": 0.5,
            "xref": "paper",
            "y": 1.1,
            "yref": "paper"
           }
          ]
         },
         "name": "frame_325"
        },
        {
         "data": [
          {
           "type": "scatter",
           "x": [
            0,
            0,
            2
           ],
           "y": [
            1,
            -1,
            0
           ]
          },
          {
           "type": "scatter",
           "x": [
            2
           ],
           "y": [
            0
           ]
          }
         ],
         "layout": {
          "annotations": [
           {
            "font": {
             "color": "purple",
             "size": 14
            },
            "showarrow": false,
            "text": "<b>Step 326</b><br>AoMA_0=0.0, AoMA_1=0.0<br>Battery=13.0<br>Action=Wait",
            "x": 0.5,
            "xref": "paper",
            "y": 1.1,
            "yref": "paper"
           }
          ]
         },
         "name": "frame_326"
        },
        {
         "data": [
          {
           "type": "scatter",
           "x": [
            0,
            0,
            2
           ],
           "y": [
            1,
            -1,
            0
           ]
          },
          {
           "type": "scatter",
           "x": [
            2
           ],
           "y": [
            0
           ]
          }
         ],
         "layout": {
          "annotations": [
           {
            "font": {
             "color": "purple",
             "size": 14
            },
            "showarrow": false,
            "text": "<b>Step 327</b><br>AoMA_0=0.0, AoMA_1=0.0<br>Battery=18.0<br>Action=Wait",
            "x": 0.5,
            "xref": "paper",
            "y": 1.1,
            "yref": "paper"
           }
          ]
         },
         "name": "frame_327"
        },
        {
         "data": [
          {
           "type": "scatter",
           "x": [
            0,
            0,
            2
           ],
           "y": [
            1,
            -1,
            0
           ]
          },
          {
           "type": "scatter",
           "x": [
            2
           ],
           "y": [
            0
           ]
          }
         ],
         "layout": {
          "annotations": [
           {
            "font": {
             "color": "purple",
             "size": 14
            },
            "showarrow": false,
            "text": "<b>Step 328</b><br>AoMA_0=0.0, AoMA_1=0.0<br>Battery=20.0<br>Action=Go L0",
            "x": 0.5,
            "xref": "paper",
            "y": 1.1,
            "yref": "paper"
           }
          ]
         },
         "name": "frame_328"
        },
        {
         "data": [
          {
           "type": "scatter",
           "x": [
            0,
            0,
            2
           ],
           "y": [
            1,
            -1,
            0
           ]
          },
          {
           "type": "scatter",
           "x": [
            0
           ],
           "y": [
            1
           ]
          }
         ],
         "layout": {
          "annotations": [
           {
            "font": {
             "color": "purple",
             "size": 14
            },
            "showarrow": false,
            "text": "<b>Step 329</b><br>AoMA_0=0.0, AoMA_1=0.0<br>Battery=17.0<br>Action=Go Home",
            "x": 0.5,
            "xref": "paper",
            "y": 1.1,
            "yref": "paper"
           }
          ]
         },
         "name": "frame_329"
        },
        {
         "data": [
          {
           "type": "scatter",
           "x": [
            0,
            0,
            2
           ],
           "y": [
            1,
            -1,
            0
           ]
          },
          {
           "type": "scatter",
           "x": [
            2
           ],
           "y": [
            0
           ]
          }
         ],
         "layout": {
          "annotations": [
           {
            "font": {
             "color": "purple",
             "size": 14
            },
            "showarrow": false,
            "text": "<b>Step 330</b><br>AoMA_0=0.0, AoMA_1=0.0<br>Battery=14.0<br>Action=Wait",
            "x": 0.5,
            "xref": "paper",
            "y": 1.1,
            "yref": "paper"
           }
          ]
         },
         "name": "frame_330"
        },
        {
         "data": [
          {
           "type": "scatter",
           "x": [
            0,
            0,
            2
           ],
           "y": [
            1,
            -1,
            0
           ]
          },
          {
           "type": "scatter",
           "x": [
            2
           ],
           "y": [
            0
           ]
          }
         ],
         "layout": {
          "annotations": [
           {
            "font": {
             "color": "purple",
             "size": 14
            },
            "showarrow": false,
            "text": "<b>Step 331</b><br>AoMA_0=0.0, AoMA_1=0.0<br>Battery=19.0<br>Action=Go L0",
            "x": 0.5,
            "xref": "paper",
            "y": 1.1,
            "yref": "paper"
           }
          ]
         },
         "name": "frame_331"
        },
        {
         "data": [
          {
           "type": "scatter",
           "x": [
            0,
            0,
            2
           ],
           "y": [
            1,
            -1,
            0
           ]
          },
          {
           "type": "scatter",
           "x": [
            0
           ],
           "y": [
            1
           ]
          }
         ],
         "layout": {
          "annotations": [
           {
            "font": {
             "color": "purple",
             "size": 14
            },
            "showarrow": false,
            "text": "<b>Step 332</b><br>AoMA_0=0.0, AoMA_1=0.0<br>Battery=16.0<br>Action=Go Home",
            "x": 0.5,
            "xref": "paper",
            "y": 1.1,
            "yref": "paper"
           }
          ]
         },
         "name": "frame_332"
        },
        {
         "data": [
          {
           "type": "scatter",
           "x": [
            0,
            0,
            2
           ],
           "y": [
            1,
            -1,
            0
           ]
          },
          {
           "type": "scatter",
           "x": [
            2
           ],
           "y": [
            0
           ]
          }
         ],
         "layout": {
          "annotations": [
           {
            "font": {
             "color": "purple",
             "size": 14
            },
            "showarrow": false,
            "text": "<b>Step 333</b><br>AoMA_0=0.0, AoMA_1=0.0<br>Battery=13.0<br>Action=Wait",
            "x": 0.5,
            "xref": "paper",
            "y": 1.1,
            "yref": "paper"
           }
          ]
         },
         "name": "frame_333"
        },
        {
         "data": [
          {
           "type": "scatter",
           "x": [
            0,
            0,
            2
           ],
           "y": [
            1,
            -1,
            0
           ]
          },
          {
           "type": "scatter",
           "x": [
            2
           ],
           "y": [
            0
           ]
          }
         ],
         "layout": {
          "annotations": [
           {
            "font": {
             "color": "purple",
             "size": 14
            },
            "showarrow": false,
            "text": "<b>Step 334</b><br>AoMA_0=0.0, AoMA_1=1.0<br>Battery=18.0<br>Action=Go L1",
            "x": 0.5,
            "xref": "paper",
            "y": 1.1,
            "yref": "paper"
           }
          ]
         },
         "name": "frame_334"
        },
        {
         "data": [
          {
           "type": "scatter",
           "x": [
            0,
            0,
            2
           ],
           "y": [
            1,
            -1,
            0
           ]
          },
          {
           "type": "scatter",
           "x": [
            0
           ],
           "y": [
            -1
           ]
          }
         ],
         "layout": {
          "annotations": [
           {
            "font": {
             "color": "purple",
             "size": 14
            },
            "showarrow": false,
            "text": "<b>Step 335</b><br>AoMA_0=0.0, AoMA_1=0.0<br>Battery=14.0<br>Action=Go L0",
            "x": 0.5,
            "xref": "paper",
            "y": 1.1,
            "yref": "paper"
           }
          ]
         },
         "name": "frame_335"
        },
        {
         "data": [
          {
           "type": "scatter",
           "x": [
            0,
            0,
            2
           ],
           "y": [
            1,
            -1,
            0
           ]
          },
          {
           "type": "scatter",
           "x": [
            0
           ],
           "y": [
            1
           ]
          }
         ],
         "layout": {
          "annotations": [
           {
            "font": {
             "color": "purple",
             "size": 14
            },
            "showarrow": false,
            "text": "<b>Step 336</b><br>AoMA_0=0.0, AoMA_1=0.0<br>Battery=12.0<br>Action=Go Home",
            "x": 0.5,
            "xref": "paper",
            "y": 1.1,
            "yref": "paper"
           }
          ]
         },
         "name": "frame_336"
        },
        {
         "data": [
          {
           "type": "scatter",
           "x": [
            0,
            0,
            2
           ],
           "y": [
            1,
            -1,
            0
           ]
          },
          {
           "type": "scatter",
           "x": [
            2
           ],
           "y": [
            0
           ]
          }
         ],
         "layout": {
          "annotations": [
           {
            "font": {
             "color": "purple",
             "size": 14
            },
            "showarrow": false,
            "text": "<b>Step 337</b><br>AoMA_0=2.0, AoMA_1=0.0<br>Battery=9.0<br>Action=Wait",
            "x": 0.5,
            "xref": "paper",
            "y": 1.1,
            "yref": "paper"
           }
          ]
         },
         "name": "frame_337"
        },
        {
         "data": [
          {
           "type": "scatter",
           "x": [
            0,
            0,
            2
           ],
           "y": [
            1,
            -1,
            0
           ]
          },
          {
           "type": "scatter",
           "x": [
            2
           ],
           "y": [
            0
           ]
          }
         ],
         "layout": {
          "annotations": [
           {
            "font": {
             "color": "purple",
             "size": 14
            },
            "showarrow": false,
            "text": "<b>Step 338</b><br>AoMA_0=3.0, AoMA_1=0.0<br>Battery=14.0<br>Action=Go L0",
            "x": 0.5,
            "xref": "paper",
            "y": 1.1,
            "yref": "paper"
           }
          ]
         },
         "name": "frame_338"
        },
        {
         "data": [
          {
           "type": "scatter",
           "x": [
            0,
            0,
            2
           ],
           "y": [
            1,
            -1,
            0
           ]
          },
          {
           "type": "scatter",
           "x": [
            0
           ],
           "y": [
            1
           ]
          }
         ],
         "layout": {
          "annotations": [
           {
            "font": {
             "color": "purple",
             "size": 14
            },
            "showarrow": false,
            "text": "<b>Step 339</b><br>AoMA_0=0.0, AoMA_1=0.0<br>Battery=11.0<br>Action=Go Home",
            "x": 0.5,
            "xref": "paper",
            "y": 1.1,
            "yref": "paper"
           }
          ]
         },
         "name": "frame_339"
        },
        {
         "data": [
          {
           "type": "scatter",
           "x": [
            0,
            0,
            2
           ],
           "y": [
            1,
            -1,
            0
           ]
          },
          {
           "type": "scatter",
           "x": [
            2
           ],
           "y": [
            0
           ]
          }
         ],
         "layout": {
          "annotations": [
           {
            "font": {
             "color": "purple",
             "size": 14
            },
            "showarrow": false,
            "text": "<b>Step 340</b><br>AoMA_0=0.0, AoMA_1=0.0<br>Battery=8.0<br>Action=Wait",
            "x": 0.5,
            "xref": "paper",
            "y": 1.1,
            "yref": "paper"
           }
          ]
         },
         "name": "frame_340"
        },
        {
         "data": [
          {
           "type": "scatter",
           "x": [
            0,
            0,
            2
           ],
           "y": [
            1,
            -1,
            0
           ]
          },
          {
           "type": "scatter",
           "x": [
            2
           ],
           "y": [
            0
           ]
          }
         ],
         "layout": {
          "annotations": [
           {
            "font": {
             "color": "purple",
             "size": 14
            },
            "showarrow": false,
            "text": "<b>Step 341</b><br>AoMA_0=1.0, AoMA_1=0.0<br>Battery=13.0<br>Action=Go L0",
            "x": 0.5,
            "xref": "paper",
            "y": 1.1,
            "yref": "paper"
           }
          ]
         },
         "name": "frame_341"
        },
        {
         "data": [
          {
           "type": "scatter",
           "x": [
            0,
            0,
            2
           ],
           "y": [
            1,
            -1,
            0
           ]
          },
          {
           "type": "scatter",
           "x": [
            0
           ],
           "y": [
            1
           ]
          }
         ],
         "layout": {
          "annotations": [
           {
            "font": {
             "color": "purple",
             "size": 14
            },
            "showarrow": false,
            "text": "<b>Step 342</b><br>AoMA_0=0.0, AoMA_1=0.0<br>Battery=10.0<br>Action=Go Home",
            "x": 0.5,
            "xref": "paper",
            "y": 1.1,
            "yref": "paper"
           }
          ]
         },
         "name": "frame_342"
        },
        {
         "data": [
          {
           "type": "scatter",
           "x": [
            0,
            0,
            2
           ],
           "y": [
            1,
            -1,
            0
           ]
          },
          {
           "type": "scatter",
           "x": [
            2
           ],
           "y": [
            0
           ]
          }
         ],
         "layout": {
          "annotations": [
           {
            "font": {
             "color": "purple",
             "size": 14
            },
            "showarrow": false,
            "text": "<b>Step 343</b><br>AoMA_0=0.0, AoMA_1=0.0<br>Battery=7.0<br>Action=Wait",
            "x": 0.5,
            "xref": "paper",
            "y": 1.1,
            "yref": "paper"
           }
          ]
         },
         "name": "frame_343"
        },
        {
         "data": [
          {
           "type": "scatter",
           "x": [
            0,
            0,
            2
           ],
           "y": [
            1,
            -1,
            0
           ]
          },
          {
           "type": "scatter",
           "x": [
            2
           ],
           "y": [
            0
           ]
          }
         ],
         "layout": {
          "annotations": [
           {
            "font": {
             "color": "purple",
             "size": 14
            },
            "showarrow": false,
            "text": "<b>Step 344</b><br>AoMA_0=0.0, AoMA_1=0.0<br>Battery=12.0<br>Action=Wait",
            "x": 0.5,
            "xref": "paper",
            "y": 1.1,
            "yref": "paper"
           }
          ]
         },
         "name": "frame_344"
        },
        {
         "data": [
          {
           "type": "scatter",
           "x": [
            0,
            0,
            2
           ],
           "y": [
            1,
            -1,
            0
           ]
          },
          {
           "type": "scatter",
           "x": [
            2
           ],
           "y": [
            0
           ]
          }
         ],
         "layout": {
          "annotations": [
           {
            "font": {
             "color": "purple",
             "size": 14
            },
            "showarrow": false,
            "text": "<b>Step 345</b><br>AoMA_0=0.0, AoMA_1=0.0<br>Battery=17.0<br>Action=Wait",
            "x": 0.5,
            "xref": "paper",
            "y": 1.1,
            "yref": "paper"
           }
          ]
         },
         "name": "frame_345"
        },
        {
         "data": [
          {
           "type": "scatter",
           "x": [
            0,
            0,
            2
           ],
           "y": [
            1,
            -1,
            0
           ]
          },
          {
           "type": "scatter",
           "x": [
            2
           ],
           "y": [
            0
           ]
          }
         ],
         "layout": {
          "annotations": [
           {
            "font": {
             "color": "purple",
             "size": 14
            },
            "showarrow": false,
            "text": "<b>Step 346</b><br>AoMA_0=0.0, AoMA_1=0.0<br>Battery=20.0<br>Action=Go L0",
            "x": 0.5,
            "xref": "paper",
            "y": 1.1,
            "yref": "paper"
           }
          ]
         },
         "name": "frame_346"
        },
        {
         "data": [
          {
           "type": "scatter",
           "x": [
            0,
            0,
            2
           ],
           "y": [
            1,
            -1,
            0
           ]
          },
          {
           "type": "scatter",
           "x": [
            0
           ],
           "y": [
            1
           ]
          }
         ],
         "layout": {
          "annotations": [
           {
            "font": {
             "color": "purple",
             "size": 14
            },
            "showarrow": false,
            "text": "<b>Step 347</b><br>AoMA_0=0.0, AoMA_1=0.0<br>Battery=17.0<br>Action=Go Home",
            "x": 0.5,
            "xref": "paper",
            "y": 1.1,
            "yref": "paper"
           }
          ]
         },
         "name": "frame_347"
        },
        {
         "data": [
          {
           "type": "scatter",
           "x": [
            0,
            0,
            2
           ],
           "y": [
            1,
            -1,
            0
           ]
          },
          {
           "type": "scatter",
           "x": [
            2
           ],
           "y": [
            0
           ]
          }
         ],
         "layout": {
          "annotations": [
           {
            "font": {
             "color": "purple",
             "size": 14
            },
            "showarrow": false,
            "text": "<b>Step 348</b><br>AoMA_0=0.0, AoMA_1=0.0<br>Battery=14.0<br>Action=Wait",
            "x": 0.5,
            "xref": "paper",
            "y": 1.1,
            "yref": "paper"
           }
          ]
         },
         "name": "frame_348"
        },
        {
         "data": [
          {
           "type": "scatter",
           "x": [
            0,
            0,
            2
           ],
           "y": [
            1,
            -1,
            0
           ]
          },
          {
           "type": "scatter",
           "x": [
            2
           ],
           "y": [
            0
           ]
          }
         ],
         "layout": {
          "annotations": [
           {
            "font": {
             "color": "purple",
             "size": 14
            },
            "showarrow": false,
            "text": "<b>Step 349</b><br>AoMA_0=0.0, AoMA_1=0.0<br>Battery=19.0<br>Action=Go L0",
            "x": 0.5,
            "xref": "paper",
            "y": 1.1,
            "yref": "paper"
           }
          ]
         },
         "name": "frame_349"
        },
        {
         "data": [
          {
           "type": "scatter",
           "x": [
            0,
            0,
            2
           ],
           "y": [
            1,
            -1,
            0
           ]
          },
          {
           "type": "scatter",
           "x": [
            0
           ],
           "y": [
            1
           ]
          }
         ],
         "layout": {
          "annotations": [
           {
            "font": {
             "color": "purple",
             "size": 14
            },
            "showarrow": false,
            "text": "<b>Step 350</b><br>AoMA_0=0.0, AoMA_1=0.0<br>Battery=16.0<br>Action=Go Home",
            "x": 0.5,
            "xref": "paper",
            "y": 1.1,
            "yref": "paper"
           }
          ]
         },
         "name": "frame_350"
        },
        {
         "data": [
          {
           "type": "scatter",
           "x": [
            0,
            0,
            2
           ],
           "y": [
            1,
            -1,
            0
           ]
          },
          {
           "type": "scatter",
           "x": [
            2
           ],
           "y": [
            0
           ]
          }
         ],
         "layout": {
          "annotations": [
           {
            "font": {
             "color": "purple",
             "size": 14
            },
            "showarrow": false,
            "text": "<b>Step 351</b><br>AoMA_0=0.0, AoMA_1=0.0<br>Battery=13.0<br>Action=Wait",
            "x": 0.5,
            "xref": "paper",
            "y": 1.1,
            "yref": "paper"
           }
          ]
         },
         "name": "frame_351"
        },
        {
         "data": [
          {
           "type": "scatter",
           "x": [
            0,
            0,
            2
           ],
           "y": [
            1,
            -1,
            0
           ]
          },
          {
           "type": "scatter",
           "x": [
            2
           ],
           "y": [
            0
           ]
          }
         ],
         "layout": {
          "annotations": [
           {
            "font": {
             "color": "purple",
             "size": 14
            },
            "showarrow": false,
            "text": "<b>Step 352</b><br>AoMA_0=0.0, AoMA_1=0.0<br>Battery=18.0<br>Action=Wait",
            "x": 0.5,
            "xref": "paper",
            "y": 1.1,
            "yref": "paper"
           }
          ]
         },
         "name": "frame_352"
        },
        {
         "data": [
          {
           "type": "scatter",
           "x": [
            0,
            0,
            2
           ],
           "y": [
            1,
            -1,
            0
           ]
          },
          {
           "type": "scatter",
           "x": [
            2
           ],
           "y": [
            0
           ]
          }
         ],
         "layout": {
          "annotations": [
           {
            "font": {
             "color": "purple",
             "size": 14
            },
            "showarrow": false,
            "text": "<b>Step 353</b><br>AoMA_0=0.0, AoMA_1=0.0<br>Battery=20.0<br>Action=Go L0",
            "x": 0.5,
            "xref": "paper",
            "y": 1.1,
            "yref": "paper"
           }
          ]
         },
         "name": "frame_353"
        },
        {
         "data": [
          {
           "type": "scatter",
           "x": [
            0,
            0,
            2
           ],
           "y": [
            1,
            -1,
            0
           ]
          },
          {
           "type": "scatter",
           "x": [
            0
           ],
           "y": [
            1
           ]
          }
         ],
         "layout": {
          "annotations": [
           {
            "font": {
             "color": "purple",
             "size": 14
            },
            "showarrow": false,
            "text": "<b>Step 354</b><br>AoMA_0=0.0, AoMA_1=0.0<br>Battery=17.0<br>Action=Go Home",
            "x": 0.5,
            "xref": "paper",
            "y": 1.1,
            "yref": "paper"
           }
          ]
         },
         "name": "frame_354"
        },
        {
         "data": [
          {
           "type": "scatter",
           "x": [
            0,
            0,
            2
           ],
           "y": [
            1,
            -1,
            0
           ]
          },
          {
           "type": "scatter",
           "x": [
            2
           ],
           "y": [
            0
           ]
          }
         ],
         "layout": {
          "annotations": [
           {
            "font": {
             "color": "purple",
             "size": 14
            },
            "showarrow": false,
            "text": "<b>Step 355</b><br>AoMA_0=0.0, AoMA_1=0.0<br>Battery=14.0<br>Action=Wait",
            "x": 0.5,
            "xref": "paper",
            "y": 1.1,
            "yref": "paper"
           }
          ]
         },
         "name": "frame_355"
        },
        {
         "data": [
          {
           "type": "scatter",
           "x": [
            0,
            0,
            2
           ],
           "y": [
            1,
            -1,
            0
           ]
          },
          {
           "type": "scatter",
           "x": [
            2
           ],
           "y": [
            0
           ]
          }
         ],
         "layout": {
          "annotations": [
           {
            "font": {
             "color": "purple",
             "size": 14
            },
            "showarrow": false,
            "text": "<b>Step 356</b><br>AoMA_0=0.0, AoMA_1=0.0<br>Battery=19.0<br>Action=Go L0",
            "x": 0.5,
            "xref": "paper",
            "y": 1.1,
            "yref": "paper"
           }
          ]
         },
         "name": "frame_356"
        },
        {
         "data": [
          {
           "type": "scatter",
           "x": [
            0,
            0,
            2
           ],
           "y": [
            1,
            -1,
            0
           ]
          },
          {
           "type": "scatter",
           "x": [
            0
           ],
           "y": [
            1
           ]
          }
         ],
         "layout": {
          "annotations": [
           {
            "font": {
             "color": "purple",
             "size": 14
            },
            "showarrow": false,
            "text": "<b>Step 357</b><br>AoMA_0=0.0, AoMA_1=0.0<br>Battery=16.0<br>Action=Go Home",
            "x": 0.5,
            "xref": "paper",
            "y": 1.1,
            "yref": "paper"
           }
          ]
         },
         "name": "frame_357"
        },
        {
         "data": [
          {
           "type": "scatter",
           "x": [
            0,
            0,
            2
           ],
           "y": [
            1,
            -1,
            0
           ]
          },
          {
           "type": "scatter",
           "x": [
            2
           ],
           "y": [
            0
           ]
          }
         ],
         "layout": {
          "annotations": [
           {
            "font": {
             "color": "purple",
             "size": 14
            },
            "showarrow": false,
            "text": "<b>Step 358</b><br>AoMA_0=0.0, AoMA_1=0.0<br>Battery=13.0<br>Action=Wait",
            "x": 0.5,
            "xref": "paper",
            "y": 1.1,
            "yref": "paper"
           }
          ]
         },
         "name": "frame_358"
        },
        {
         "data": [
          {
           "type": "scatter",
           "x": [
            0,
            0,
            2
           ],
           "y": [
            1,
            -1,
            0
           ]
          },
          {
           "type": "scatter",
           "x": [
            2
           ],
           "y": [
            0
           ]
          }
         ],
         "layout": {
          "annotations": [
           {
            "font": {
             "color": "purple",
             "size": 14
            },
            "showarrow": false,
            "text": "<b>Step 359</b><br>AoMA_0=0.0, AoMA_1=0.0<br>Battery=18.0<br>Action=Wait",
            "x": 0.5,
            "xref": "paper",
            "y": 1.1,
            "yref": "paper"
           }
          ]
         },
         "name": "frame_359"
        },
        {
         "data": [
          {
           "type": "scatter",
           "x": [
            0,
            0,
            2
           ],
           "y": [
            1,
            -1,
            0
           ]
          },
          {
           "type": "scatter",
           "x": [
            2
           ],
           "y": [
            0
           ]
          }
         ],
         "layout": {
          "annotations": [
           {
            "font": {
             "color": "purple",
             "size": 14
            },
            "showarrow": false,
            "text": "<b>Step 360</b><br>AoMA_0=0.0, AoMA_1=0.0<br>Battery=20.0<br>Action=Go L0",
            "x": 0.5,
            "xref": "paper",
            "y": 1.1,
            "yref": "paper"
           }
          ]
         },
         "name": "frame_360"
        },
        {
         "data": [
          {
           "type": "scatter",
           "x": [
            0,
            0,
            2
           ],
           "y": [
            1,
            -1,
            0
           ]
          },
          {
           "type": "scatter",
           "x": [
            0
           ],
           "y": [
            1
           ]
          }
         ],
         "layout": {
          "annotations": [
           {
            "font": {
             "color": "purple",
             "size": 14
            },
            "showarrow": false,
            "text": "<b>Step 361</b><br>AoMA_0=0.0, AoMA_1=0.0<br>Battery=17.0<br>Action=Go Home",
            "x": 0.5,
            "xref": "paper",
            "y": 1.1,
            "yref": "paper"
           }
          ]
         },
         "name": "frame_361"
        },
        {
         "data": [
          {
           "type": "scatter",
           "x": [
            0,
            0,
            2
           ],
           "y": [
            1,
            -1,
            0
           ]
          },
          {
           "type": "scatter",
           "x": [
            2
           ],
           "y": [
            0
           ]
          }
         ],
         "layout": {
          "annotations": [
           {
            "font": {
             "color": "purple",
             "size": 14
            },
            "showarrow": false,
            "text": "<b>Step 362</b><br>AoMA_0=0.0, AoMA_1=0.0<br>Battery=14.0<br>Action=Wait",
            "x": 0.5,
            "xref": "paper",
            "y": 1.1,
            "yref": "paper"
           }
          ]
         },
         "name": "frame_362"
        },
        {
         "data": [
          {
           "type": "scatter",
           "x": [
            0,
            0,
            2
           ],
           "y": [
            1,
            -1,
            0
           ]
          },
          {
           "type": "scatter",
           "x": [
            2
           ],
           "y": [
            0
           ]
          }
         ],
         "layout": {
          "annotations": [
           {
            "font": {
             "color": "purple",
             "size": 14
            },
            "showarrow": false,
            "text": "<b>Step 363</b><br>AoMA_0=0.0, AoMA_1=0.0<br>Battery=19.0<br>Action=Go L0",
            "x": 0.5,
            "xref": "paper",
            "y": 1.1,
            "yref": "paper"
           }
          ]
         },
         "name": "frame_363"
        },
        {
         "data": [
          {
           "type": "scatter",
           "x": [
            0,
            0,
            2
           ],
           "y": [
            1,
            -1,
            0
           ]
          },
          {
           "type": "scatter",
           "x": [
            0
           ],
           "y": [
            1
           ]
          }
         ],
         "layout": {
          "annotations": [
           {
            "font": {
             "color": "purple",
             "size": 14
            },
            "showarrow": false,
            "text": "<b>Step 364</b><br>AoMA_0=0.0, AoMA_1=0.0<br>Battery=16.0<br>Action=Go Home",
            "x": 0.5,
            "xref": "paper",
            "y": 1.1,
            "yref": "paper"
           }
          ]
         },
         "name": "frame_364"
        },
        {
         "data": [
          {
           "type": "scatter",
           "x": [
            0,
            0,
            2
           ],
           "y": [
            1,
            -1,
            0
           ]
          },
          {
           "type": "scatter",
           "x": [
            2
           ],
           "y": [
            0
           ]
          }
         ],
         "layout": {
          "annotations": [
           {
            "font": {
             "color": "purple",
             "size": 14
            },
            "showarrow": false,
            "text": "<b>Step 365</b><br>AoMA_0=0.0, AoMA_1=1.0<br>Battery=13.0<br>Action=Wait",
            "x": 0.5,
            "xref": "paper",
            "y": 1.1,
            "yref": "paper"
           }
          ]
         },
         "name": "frame_365"
        },
        {
         "data": [
          {
           "type": "scatter",
           "x": [
            0,
            0,
            2
           ],
           "y": [
            1,
            -1,
            0
           ]
          },
          {
           "type": "scatter",
           "x": [
            2
           ],
           "y": [
            0
           ]
          }
         ],
         "layout": {
          "annotations": [
           {
            "font": {
             "color": "purple",
             "size": 14
            },
            "showarrow": false,
            "text": "<b>Step 366</b><br>AoMA_0=1.0, AoMA_1=2.0<br>Battery=18.0<br>Action=Go L0",
            "x": 0.5,
            "xref": "paper",
            "y": 1.1,
            "yref": "paper"
           }
          ]
         },
         "name": "frame_366"
        },
        {
         "data": [
          {
           "type": "scatter",
           "x": [
            0,
            0,
            2
           ],
           "y": [
            1,
            -1,
            0
           ]
          },
          {
           "type": "scatter",
           "x": [
            0
           ],
           "y": [
            1
           ]
          }
         ],
         "layout": {
          "annotations": [
           {
            "font": {
             "color": "purple",
             "size": 14
            },
            "showarrow": false,
            "text": "<b>Step 367</b><br>AoMA_0=0.0, AoMA_1=5.0<br>Battery=15.0<br>Action=Go L1",
            "x": 0.5,
            "xref": "paper",
            "y": 1.1,
            "yref": "paper"
           }
          ]
         },
         "name": "frame_367"
        },
        {
         "data": [
          {
           "type": "scatter",
           "x": [
            0,
            0,
            2
           ],
           "y": [
            1,
            -1,
            0
           ]
          },
          {
           "type": "scatter",
           "x": [
            0
           ],
           "y": [
            -1
           ]
          }
         ],
         "layout": {
          "annotations": [
           {
            "font": {
             "color": "purple",
             "size": 14
            },
            "showarrow": false,
            "text": "<b>Step 368</b><br>AoMA_0=0.0, AoMA_1=0.0<br>Battery=13.0<br>Action=Go L0",
            "x": 0.5,
            "xref": "paper",
            "y": 1.1,
            "yref": "paper"
           }
          ]
         },
         "name": "frame_368"
        },
        {
         "data": [
          {
           "type": "scatter",
           "x": [
            0,
            0,
            2
           ],
           "y": [
            1,
            -1,
            0
           ]
          },
          {
           "type": "scatter",
           "x": [
            0
           ],
           "y": [
            1
           ]
          }
         ],
         "layout": {
          "annotations": [
           {
            "font": {
             "color": "purple",
             "size": 14
            },
            "showarrow": false,
            "text": "<b>Step 369</b><br>AoMA_0=0.0, AoMA_1=0.0<br>Battery=11.0<br>Action=Go Home",
            "x": 0.5,
            "xref": "paper",
            "y": 1.1,
            "yref": "paper"
           }
          ]
         },
         "name": "frame_369"
        },
        {
         "data": [
          {
           "type": "scatter",
           "x": [
            0,
            0,
            2
           ],
           "y": [
            1,
            -1,
            0
           ]
          },
          {
           "type": "scatter",
           "x": [
            2
           ],
           "y": [
            0
           ]
          }
         ],
         "layout": {
          "annotations": [
           {
            "font": {
             "color": "purple",
             "size": 14
            },
            "showarrow": false,
            "text": "<b>Step 370</b><br>AoMA_0=0.0, AoMA_1=1.0<br>Battery=8.0<br>Action=Wait",
            "x": 0.5,
            "xref": "paper",
            "y": 1.1,
            "yref": "paper"
           }
          ]
         },
         "name": "frame_370"
        },
        {
         "data": [
          {
           "type": "scatter",
           "x": [
            0,
            0,
            2
           ],
           "y": [
            1,
            -1,
            0
           ]
          },
          {
           "type": "scatter",
           "x": [
            2
           ],
           "y": [
            0
           ]
          }
         ],
         "layout": {
          "annotations": [
           {
            "font": {
             "color": "purple",
             "size": 14
            },
            "showarrow": false,
            "text": "<b>Step 371</b><br>AoMA_0=0.0, AoMA_1=2.0<br>Battery=13.0<br>Action=Wait",
            "x": 0.5,
            "xref": "paper",
            "y": 1.1,
            "yref": "paper"
           }
          ]
         },
         "name": "frame_371"
        },
        {
         "data": [
          {
           "type": "scatter",
           "x": [
            0,
            0,
            2
           ],
           "y": [
            1,
            -1,
            0
           ]
          },
          {
           "type": "scatter",
           "x": [
            2
           ],
           "y": [
            0
           ]
          }
         ],
         "layout": {
          "annotations": [
           {
            "font": {
             "color": "purple",
             "size": 14
            },
            "showarrow": false,
            "text": "<b>Step 372</b><br>AoMA_0=0.0, AoMA_1=3.0<br>Battery=18.0<br>Action=Go L1",
            "x": 0.5,
            "xref": "paper",
            "y": 1.1,
            "yref": "paper"
           }
          ]
         },
         "name": "frame_372"
        },
        {
         "data": [
          {
           "type": "scatter",
           "x": [
            0,
            0,
            2
           ],
           "y": [
            1,
            -1,
            0
           ]
          },
          {
           "type": "scatter",
           "x": [
            0
           ],
           "y": [
            -1
           ]
          }
         ],
         "layout": {
          "annotations": [
           {
            "font": {
             "color": "purple",
             "size": 14
            },
            "showarrow": false,
            "text": "<b>Step 373</b><br>AoMA_0=3.0, AoMA_1=0.0<br>Battery=14.0<br>Action=Go L0",
            "x": 0.5,
            "xref": "paper",
            "y": 1.1,
            "yref": "paper"
           }
          ]
         },
         "name": "frame_373"
        },
        {
         "data": [
          {
           "type": "scatter",
           "x": [
            0,
            0,
            2
           ],
           "y": [
            1,
            -1,
            0
           ]
          },
          {
           "type": "scatter",
           "x": [
            0
           ],
           "y": [
            1
           ]
          }
         ],
         "layout": {
          "annotations": [
           {
            "font": {
             "color": "purple",
             "size": 14
            },
            "showarrow": false,
            "text": "<b>Step 374</b><br>AoMA_0=0.0, AoMA_1=2.0<br>Battery=12.0<br>Action=Go L1",
            "x": 0.5,
            "xref": "paper",
            "y": 1.1,
            "yref": "paper"
           }
          ]
         },
         "name": "frame_374"
        },
        {
         "data": [
          {
           "type": "scatter",
           "x": [
            0,
            0,
            2
           ],
           "y": [
            1,
            -1,
            0
           ]
          },
          {
           "type": "scatter",
           "x": [
            0
           ],
           "y": [
            -1
           ]
          }
         ],
         "layout": {
          "annotations": [
           {
            "font": {
             "color": "purple",
             "size": 14
            },
            "showarrow": false,
            "text": "<b>Step 375</b><br>AoMA_0=2.0, AoMA_1=0.0<br>Battery=10.0<br>Action=Go L0",
            "x": 0.5,
            "xref": "paper",
            "y": 1.1,
            "yref": "paper"
           }
          ]
         },
         "name": "frame_375"
        },
        {
         "data": [
          {
           "type": "scatter",
           "x": [
            0,
            0,
            2
           ],
           "y": [
            1,
            -1,
            0
           ]
          },
          {
           "type": "scatter",
           "x": [
            0
           ],
           "y": [
            1
           ]
          }
         ],
         "layout": {
          "annotations": [
           {
            "font": {
             "color": "purple",
             "size": 14
            },
            "showarrow": false,
            "text": "<b>Step 376</b><br>AoMA_0=0.0, AoMA_1=0.0<br>Battery=8.0<br>Action=Go Home",
            "x": 0.5,
            "xref": "paper",
            "y": 1.1,
            "yref": "paper"
           }
          ]
         },
         "name": "frame_376"
        },
        {
         "data": [
          {
           "type": "scatter",
           "x": [
            0,
            0,
            2
           ],
           "y": [
            1,
            -1,
            0
           ]
          },
          {
           "type": "scatter",
           "x": [
            2
           ],
           "y": [
            0
           ]
          }
         ],
         "layout": {
          "annotations": [
           {
            "font": {
             "color": "purple",
             "size": 14
            },
            "showarrow": false,
            "text": "<b>Step 377</b><br>AoMA_0=0.0, AoMA_1=0.0<br>Battery=5.0<br>Action=Wait",
            "x": 0.5,
            "xref": "paper",
            "y": 1.1,
            "yref": "paper"
           }
          ]
         },
         "name": "frame_377"
        },
        {
         "data": [
          {
           "type": "scatter",
           "x": [
            0,
            0,
            2
           ],
           "y": [
            1,
            -1,
            0
           ]
          },
          {
           "type": "scatter",
           "x": [
            2
           ],
           "y": [
            0
           ]
          }
         ],
         "layout": {
          "annotations": [
           {
            "font": {
             "color": "purple",
             "size": 14
            },
            "showarrow": false,
            "text": "<b>Step 378</b><br>AoMA_0=0.0, AoMA_1=0.0<br>Battery=10.0<br>Action=Wait",
            "x": 0.5,
            "xref": "paper",
            "y": 1.1,
            "yref": "paper"
           }
          ]
         },
         "name": "frame_378"
        },
        {
         "data": [
          {
           "type": "scatter",
           "x": [
            0,
            0,
            2
           ],
           "y": [
            1,
            -1,
            0
           ]
          },
          {
           "type": "scatter",
           "x": [
            2
           ],
           "y": [
            0
           ]
          }
         ],
         "layout": {
          "annotations": [
           {
            "font": {
             "color": "purple",
             "size": 14
            },
            "showarrow": false,
            "text": "<b>Step 379</b><br>AoMA_0=0.0, AoMA_1=0.0<br>Battery=15.0<br>Action=Wait",
            "x": 0.5,
            "xref": "paper",
            "y": 1.1,
            "yref": "paper"
           }
          ]
         },
         "name": "frame_379"
        },
        {
         "data": [
          {
           "type": "scatter",
           "x": [
            0,
            0,
            2
           ],
           "y": [
            1,
            -1,
            0
           ]
          },
          {
           "type": "scatter",
           "x": [
            2
           ],
           "y": [
            0
           ]
          }
         ],
         "layout": {
          "annotations": [
           {
            "font": {
             "color": "purple",
             "size": 14
            },
            "showarrow": false,
            "text": "<b>Step 380</b><br>AoMA_0=0.0, AoMA_1=0.0<br>Battery=20.0<br>Action=Go L0",
            "x": 0.5,
            "xref": "paper",
            "y": 1.1,
            "yref": "paper"
           }
          ]
         },
         "name": "frame_380"
        },
        {
         "data": [
          {
           "type": "scatter",
           "x": [
            0,
            0,
            2
           ],
           "y": [
            1,
            -1,
            0
           ]
          },
          {
           "type": "scatter",
           "x": [
            0
           ],
           "y": [
            1
           ]
          }
         ],
         "layout": {
          "annotations": [
           {
            "font": {
             "color": "purple",
             "size": 14
            },
            "showarrow": false,
            "text": "<b>Step 381</b><br>AoMA_0=0.0, AoMA_1=0.0<br>Battery=17.0<br>Action=Go Home",
            "x": 0.5,
            "xref": "paper",
            "y": 1.1,
            "yref": "paper"
           }
          ]
         },
         "name": "frame_381"
        },
        {
         "data": [
          {
           "type": "scatter",
           "x": [
            0,
            0,
            2
           ],
           "y": [
            1,
            -1,
            0
           ]
          },
          {
           "type": "scatter",
           "x": [
            2
           ],
           "y": [
            0
           ]
          }
         ],
         "layout": {
          "annotations": [
           {
            "font": {
             "color": "purple",
             "size": 14
            },
            "showarrow": false,
            "text": "<b>Step 382</b><br>AoMA_0=0.0, AoMA_1=1.0<br>Battery=14.0<br>Action=Wait",
            "x": 0.5,
            "xref": "paper",
            "y": 1.1,
            "yref": "paper"
           }
          ]
         },
         "name": "frame_382"
        },
        {
         "data": [
          {
           "type": "scatter",
           "x": [
            0,
            0,
            2
           ],
           "y": [
            1,
            -1,
            0
           ]
          },
          {
           "type": "scatter",
           "x": [
            2
           ],
           "y": [
            0
           ]
          }
         ],
         "layout": {
          "annotations": [
           {
            "font": {
             "color": "purple",
             "size": 14
            },
            "showarrow": false,
            "text": "<b>Step 383</b><br>AoMA_0=0.0, AoMA_1=2.0<br>Battery=19.0<br>Action=Go L1",
            "x": 0.5,
            "xref": "paper",
            "y": 1.1,
            "yref": "paper"
           }
          ]
         },
         "name": "frame_383"
        },
        {
         "data": [
          {
           "type": "scatter",
           "x": [
            0,
            0,
            2
           ],
           "y": [
            1,
            -1,
            0
           ]
          },
          {
           "type": "scatter",
           "x": [
            0
           ],
           "y": [
            -1
           ]
          }
         ],
         "layout": {
          "annotations": [
           {
            "font": {
             "color": "purple",
             "size": 14
            },
            "showarrow": false,
            "text": "<b>Step 384</b><br>AoMA_0=4.0, AoMA_1=0.0<br>Battery=15.0<br>Action=Go L0",
            "x": 0.5,
            "xref": "paper",
            "y": 1.1,
            "yref": "paper"
           }
          ]
         },
         "name": "frame_384"
        },
        {
         "data": [
          {
           "type": "scatter",
           "x": [
            0,
            0,
            2
           ],
           "y": [
            1,
            -1,
            0
           ]
          },
          {
           "type": "scatter",
           "x": [
            0
           ],
           "y": [
            1
           ]
          }
         ],
         "layout": {
          "annotations": [
           {
            "font": {
             "color": "purple",
             "size": 14
            },
            "showarrow": false,
            "text": "<b>Step 385</b><br>AoMA_0=0.0, AoMA_1=0.0<br>Battery=13.0<br>Action=Go Home",
            "x": 0.5,
            "xref": "paper",
            "y": 1.1,
            "yref": "paper"
           }
          ]
         },
         "name": "frame_385"
        },
        {
         "data": [
          {
           "type": "scatter",
           "x": [
            0,
            0,
            2
           ],
           "y": [
            1,
            -1,
            0
           ]
          },
          {
           "type": "scatter",
           "x": [
            2
           ],
           "y": [
            0
           ]
          }
         ],
         "layout": {
          "annotations": [
           {
            "font": {
             "color": "purple",
             "size": 14
            },
            "showarrow": false,
            "text": "<b>Step 386</b><br>AoMA_0=0.0, AoMA_1=0.0<br>Battery=10.0<br>Action=Wait",
            "x": 0.5,
            "xref": "paper",
            "y": 1.1,
            "yref": "paper"
           }
          ]
         },
         "name": "frame_386"
        },
        {
         "data": [
          {
           "type": "scatter",
           "x": [
            0,
            0,
            2
           ],
           "y": [
            1,
            -1,
            0
           ]
          },
          {
           "type": "scatter",
           "x": [
            2
           ],
           "y": [
            0
           ]
          }
         ],
         "layout": {
          "annotations": [
           {
            "font": {
             "color": "purple",
             "size": 14
            },
            "showarrow": false,
            "text": "<b>Step 387</b><br>AoMA_0=0.0, AoMA_1=0.0<br>Battery=15.0<br>Action=Wait",
            "x": 0.5,
            "xref": "paper",
            "y": 1.1,
            "yref": "paper"
           }
          ]
         },
         "name": "frame_387"
        },
        {
         "data": [
          {
           "type": "scatter",
           "x": [
            0,
            0,
            2
           ],
           "y": [
            1,
            -1,
            0
           ]
          },
          {
           "type": "scatter",
           "x": [
            2
           ],
           "y": [
            0
           ]
          }
         ],
         "layout": {
          "annotations": [
           {
            "font": {
             "color": "purple",
             "size": 14
            },
            "showarrow": false,
            "text": "<b>Step 388</b><br>AoMA_0=0.0, AoMA_1=0.0<br>Battery=20.0<br>Action=Go L0",
            "x": 0.5,
            "xref": "paper",
            "y": 1.1,
            "yref": "paper"
           }
          ]
         },
         "name": "frame_388"
        },
        {
         "data": [
          {
           "type": "scatter",
           "x": [
            0,
            0,
            2
           ],
           "y": [
            1,
            -1,
            0
           ]
          },
          {
           "type": "scatter",
           "x": [
            0
           ],
           "y": [
            1
           ]
          }
         ],
         "layout": {
          "annotations": [
           {
            "font": {
             "color": "purple",
             "size": 14
            },
            "showarrow": false,
            "text": "<b>Step 389</b><br>AoMA_0=0.0, AoMA_1=0.0<br>Battery=17.0<br>Action=Go Home",
            "x": 0.5,
            "xref": "paper",
            "y": 1.1,
            "yref": "paper"
           }
          ]
         },
         "name": "frame_389"
        },
        {
         "data": [
          {
           "type": "scatter",
           "x": [
            0,
            0,
            2
           ],
           "y": [
            1,
            -1,
            0
           ]
          },
          {
           "type": "scatter",
           "x": [
            2
           ],
           "y": [
            0
           ]
          }
         ],
         "layout": {
          "annotations": [
           {
            "font": {
             "color": "purple",
             "size": 14
            },
            "showarrow": false,
            "text": "<b>Step 390</b><br>AoMA_0=0.0, AoMA_1=0.0<br>Battery=14.0<br>Action=Wait",
            "x": 0.5,
            "xref": "paper",
            "y": 1.1,
            "yref": "paper"
           }
          ]
         },
         "name": "frame_390"
        },
        {
         "data": [
          {
           "type": "scatter",
           "x": [
            0,
            0,
            2
           ],
           "y": [
            1,
            -1,
            0
           ]
          },
          {
           "type": "scatter",
           "x": [
            2
           ],
           "y": [
            0
           ]
          }
         ],
         "layout": {
          "annotations": [
           {
            "font": {
             "color": "purple",
             "size": 14
            },
            "showarrow": false,
            "text": "<b>Step 391</b><br>AoMA_0=0.0, AoMA_1=0.0<br>Battery=19.0<br>Action=Go L0",
            "x": 0.5,
            "xref": "paper",
            "y": 1.1,
            "yref": "paper"
           }
          ]
         },
         "name": "frame_391"
        },
        {
         "data": [
          {
           "type": "scatter",
           "x": [
            0,
            0,
            2
           ],
           "y": [
            1,
            -1,
            0
           ]
          },
          {
           "type": "scatter",
           "x": [
            0
           ],
           "y": [
            1
           ]
          }
         ],
         "layout": {
          "annotations": [
           {
            "font": {
             "color": "purple",
             "size": 14
            },
            "showarrow": false,
            "text": "<b>Step 392</b><br>AoMA_0=0.0, AoMA_1=0.0<br>Battery=16.0<br>Action=Go Home",
            "x": 0.5,
            "xref": "paper",
            "y": 1.1,
            "yref": "paper"
           }
          ]
         },
         "name": "frame_392"
        },
        {
         "data": [
          {
           "type": "scatter",
           "x": [
            0,
            0,
            2
           ],
           "y": [
            1,
            -1,
            0
           ]
          },
          {
           "type": "scatter",
           "x": [
            2
           ],
           "y": [
            0
           ]
          }
         ],
         "layout": {
          "annotations": [
           {
            "font": {
             "color": "purple",
             "size": 14
            },
            "showarrow": false,
            "text": "<b>Step 393</b><br>AoMA_0=1.0, AoMA_1=2.0<br>Battery=13.0<br>Action=Wait",
            "x": 0.5,
            "xref": "paper",
            "y": 1.1,
            "yref": "paper"
           }
          ]
         },
         "name": "frame_393"
        },
        {
         "data": [
          {
           "type": "scatter",
           "x": [
            0,
            0,
            2
           ],
           "y": [
            1,
            -1,
            0
           ]
          },
          {
           "type": "scatter",
           "x": [
            2
           ],
           "y": [
            0
           ]
          }
         ],
         "layout": {
          "annotations": [
           {
            "font": {
             "color": "purple",
             "size": 14
            },
            "showarrow": false,
            "text": "<b>Step 394</b><br>AoMA_0=2.0, AoMA_1=3.0<br>Battery=18.0<br>Action=Go L0",
            "x": 0.5,
            "xref": "paper",
            "y": 1.1,
            "yref": "paper"
           }
          ]
         },
         "name": "frame_394"
        },
        {
         "data": [
          {
           "type": "scatter",
           "x": [
            0,
            0,
            2
           ],
           "y": [
            1,
            -1,
            0
           ]
          },
          {
           "type": "scatter",
           "x": [
            0
           ],
           "y": [
            1
           ]
          }
         ],
         "layout": {
          "annotations": [
           {
            "font": {
             "color": "purple",
             "size": 14
            },
            "showarrow": false,
            "text": "<b>Step 395</b><br>AoMA_0=0.0, AoMA_1=6.0<br>Battery=15.0<br>Action=Go L1",
            "x": 0.5,
            "xref": "paper",
            "y": 1.1,
            "yref": "paper"
           }
          ]
         },
         "name": "frame_395"
        },
        {
         "data": [
          {
           "type": "scatter",
           "x": [
            0,
            0,
            2
           ],
           "y": [
            1,
            -1,
            0
           ]
          },
          {
           "type": "scatter",
           "x": [
            0
           ],
           "y": [
            -1
           ]
          }
         ],
         "layout": {
          "annotations": [
           {
            "font": {
             "color": "purple",
             "size": 14
            },
            "showarrow": false,
            "text": "<b>Step 396</b><br>AoMA_0=2.0, AoMA_1=0.0<br>Battery=13.0<br>Action=Go L0",
            "x": 0.5,
            "xref": "paper",
            "y": 1.1,
            "yref": "paper"
           }
          ]
         },
         "name": "frame_396"
        },
        {
         "data": [
          {
           "type": "scatter",
           "x": [
            0,
            0,
            2
           ],
           "y": [
            1,
            -1,
            0
           ]
          },
          {
           "type": "scatter",
           "x": [
            0
           ],
           "y": [
            1
           ]
          }
         ],
         "layout": {
          "annotations": [
           {
            "font": {
             "color": "purple",
             "size": 14
            },
            "showarrow": false,
            "text": "<b>Step 397</b><br>AoMA_0=0.0, AoMA_1=0.0<br>Battery=11.0<br>Action=Go Home",
            "x": 0.5,
            "xref": "paper",
            "y": 1.1,
            "yref": "paper"
           }
          ]
         },
         "name": "frame_397"
        },
        {
         "data": [
          {
           "type": "scatter",
           "x": [
            0,
            0,
            2
           ],
           "y": [
            1,
            -1,
            0
           ]
          },
          {
           "type": "scatter",
           "x": [
            2
           ],
           "y": [
            0
           ]
          }
         ],
         "layout": {
          "annotations": [
           {
            "font": {
             "color": "purple",
             "size": 14
            },
            "showarrow": false,
            "text": "<b>Step 398</b><br>AoMA_0=0.0, AoMA_1=0.0<br>Battery=8.0<br>Action=Wait",
            "x": 0.5,
            "xref": "paper",
            "y": 1.1,
            "yref": "paper"
           }
          ]
         },
         "name": "frame_398"
        },
        {
         "data": [
          {
           "type": "scatter",
           "x": [
            0,
            0,
            2
           ],
           "y": [
            1,
            -1,
            0
           ]
          },
          {
           "type": "scatter",
           "x": [
            2
           ],
           "y": [
            0
           ]
          }
         ],
         "layout": {
          "annotations": [
           {
            "font": {
             "color": "purple",
             "size": 14
            },
            "showarrow": false,
            "text": "<b>Step 399</b><br>AoMA_0=0.0, AoMA_1=0.0<br>Battery=13.0<br>Action=Wait",
            "x": 0.5,
            "xref": "paper",
            "y": 1.1,
            "yref": "paper"
           }
          ]
         },
         "name": "frame_399"
        },
        {
         "data": [
          {
           "type": "scatter",
           "x": [
            0,
            0,
            2
           ],
           "y": [
            1,
            -1,
            0
           ]
          },
          {
           "type": "scatter",
           "x": [
            2
           ],
           "y": [
            0
           ]
          }
         ],
         "layout": {
          "annotations": [
           {
            "font": {
             "color": "purple",
             "size": 14
            },
            "showarrow": false,
            "text": "<b>Step 400</b><br>AoMA_0=0.0, AoMA_1=0.0<br>Battery=18.0<br>Action=Wait",
            "x": 0.5,
            "xref": "paper",
            "y": 1.1,
            "yref": "paper"
           }
          ]
         },
         "name": "frame_400"
        },
        {
         "data": [
          {
           "type": "scatter",
           "x": [
            0,
            0,
            2
           ],
           "y": [
            1,
            -1,
            0
           ]
          },
          {
           "type": "scatter",
           "x": [
            2
           ],
           "y": [
            0
           ]
          }
         ],
         "layout": {
          "annotations": [
           {
            "font": {
             "color": "purple",
             "size": 14
            },
            "showarrow": false,
            "text": "<b>Step 401</b><br>AoMA_0=0.0, AoMA_1=0.0<br>Battery=20.0<br>Action=Go L0",
            "x": 0.5,
            "xref": "paper",
            "y": 1.1,
            "yref": "paper"
           }
          ]
         },
         "name": "frame_401"
        },
        {
         "data": [
          {
           "type": "scatter",
           "x": [
            0,
            0,
            2
           ],
           "y": [
            1,
            -1,
            0
           ]
          },
          {
           "type": "scatter",
           "x": [
            0
           ],
           "y": [
            1
           ]
          }
         ],
         "layout": {
          "annotations": [
           {
            "font": {
             "color": "purple",
             "size": 14
            },
            "showarrow": false,
            "text": "<b>Step 402</b><br>AoMA_0=0.0, AoMA_1=0.0<br>Battery=17.0<br>Action=Go Home",
            "x": 0.5,
            "xref": "paper",
            "y": 1.1,
            "yref": "paper"
           }
          ]
         },
         "name": "frame_402"
        },
        {
         "data": [
          {
           "type": "scatter",
           "x": [
            0,
            0,
            2
           ],
           "y": [
            1,
            -1,
            0
           ]
          },
          {
           "type": "scatter",
           "x": [
            2
           ],
           "y": [
            0
           ]
          }
         ],
         "layout": {
          "annotations": [
           {
            "font": {
             "color": "purple",
             "size": 14
            },
            "showarrow": false,
            "text": "<b>Step 403</b><br>AoMA_0=0.0, AoMA_1=0.0<br>Battery=14.0<br>Action=Wait",
            "x": 0.5,
            "xref": "paper",
            "y": 1.1,
            "yref": "paper"
           }
          ]
         },
         "name": "frame_403"
        },
        {
         "data": [
          {
           "type": "scatter",
           "x": [
            0,
            0,
            2
           ],
           "y": [
            1,
            -1,
            0
           ]
          },
          {
           "type": "scatter",
           "x": [
            2
           ],
           "y": [
            0
           ]
          }
         ],
         "layout": {
          "annotations": [
           {
            "font": {
             "color": "purple",
             "size": 14
            },
            "showarrow": false,
            "text": "<b>Step 404</b><br>AoMA_0=0.0, AoMA_1=0.0<br>Battery=19.0<br>Action=Go L0",
            "x": 0.5,
            "xref": "paper",
            "y": 1.1,
            "yref": "paper"
           }
          ]
         },
         "name": "frame_404"
        },
        {
         "data": [
          {
           "type": "scatter",
           "x": [
            0,
            0,
            2
           ],
           "y": [
            1,
            -1,
            0
           ]
          },
          {
           "type": "scatter",
           "x": [
            0
           ],
           "y": [
            1
           ]
          }
         ],
         "layout": {
          "annotations": [
           {
            "font": {
             "color": "purple",
             "size": 14
            },
            "showarrow": false,
            "text": "<b>Step 405</b><br>AoMA_0=0.0, AoMA_1=0.0<br>Battery=16.0<br>Action=Go Home",
            "x": 0.5,
            "xref": "paper",
            "y": 1.1,
            "yref": "paper"
           }
          ]
         },
         "name": "frame_405"
        },
        {
         "data": [
          {
           "type": "scatter",
           "x": [
            0,
            0,
            2
           ],
           "y": [
            1,
            -1,
            0
           ]
          },
          {
           "type": "scatter",
           "x": [
            2
           ],
           "y": [
            0
           ]
          }
         ],
         "layout": {
          "annotations": [
           {
            "font": {
             "color": "purple",
             "size": 14
            },
            "showarrow": false,
            "text": "<b>Step 406</b><br>AoMA_0=0.0, AoMA_1=3.0<br>Battery=13.0<br>Action=Wait",
            "x": 0.5,
            "xref": "paper",
            "y": 1.1,
            "yref": "paper"
           }
          ]
         },
         "name": "frame_406"
        },
        {
         "data": [
          {
           "type": "scatter",
           "x": [
            0,
            0,
            2
           ],
           "y": [
            1,
            -1,
            0
           ]
          },
          {
           "type": "scatter",
           "x": [
            2
           ],
           "y": [
            0
           ]
          }
         ],
         "layout": {
          "annotations": [
           {
            "font": {
             "color": "purple",
             "size": 14
            },
            "showarrow": false,
            "text": "<b>Step 407</b><br>AoMA_0=0.0, AoMA_1=4.0<br>Battery=18.0<br>Action=Go L1",
            "x": 0.5,
            "xref": "paper",
            "y": 1.1,
            "yref": "paper"
           }
          ]
         },
         "name": "frame_407"
        },
        {
         "data": [
          {
           "type": "scatter",
           "x": [
            0,
            0,
            2
           ],
           "y": [
            1,
            -1,
            0
           ]
          },
          {
           "type": "scatter",
           "x": [
            0
           ],
           "y": [
            -1
           ]
          }
         ],
         "layout": {
          "annotations": [
           {
            "font": {
             "color": "purple",
             "size": 14
            },
            "showarrow": false,
            "text": "<b>Step 408</b><br>AoMA_0=0.0, AoMA_1=0.0<br>Battery=14.0<br>Action=Go L0",
            "x": 0.5,
            "xref": "paper",
            "y": 1.1,
            "yref": "paper"
           }
          ]
         },
         "name": "frame_408"
        },
        {
         "data": [
          {
           "type": "scatter",
           "x": [
            0,
            0,
            2
           ],
           "y": [
            1,
            -1,
            0
           ]
          },
          {
           "type": "scatter",
           "x": [
            0
           ],
           "y": [
            1
           ]
          }
         ],
         "layout": {
          "annotations": [
           {
            "font": {
             "color": "purple",
             "size": 14
            },
            "showarrow": false,
            "text": "<b>Step 409</b><br>AoMA_0=0.0, AoMA_1=0.0<br>Battery=12.0<br>Action=Go Home",
            "x": 0.5,
            "xref": "paper",
            "y": 1.1,
            "yref": "paper"
           }
          ]
         },
         "name": "frame_409"
        },
        {
         "data": [
          {
           "type": "scatter",
           "x": [
            0,
            0,
            2
           ],
           "y": [
            1,
            -1,
            0
           ]
          },
          {
           "type": "scatter",
           "x": [
            2
           ],
           "y": [
            0
           ]
          }
         ],
         "layout": {
          "annotations": [
           {
            "font": {
             "color": "purple",
             "size": 14
            },
            "showarrow": false,
            "text": "<b>Step 410</b><br>AoMA_0=0.0, AoMA_1=0.0<br>Battery=9.0<br>Action=Wait",
            "x": 0.5,
            "xref": "paper",
            "y": 1.1,
            "yref": "paper"
           }
          ]
         },
         "name": "frame_410"
        },
        {
         "data": [
          {
           "type": "scatter",
           "x": [
            0,
            0,
            2
           ],
           "y": [
            1,
            -1,
            0
           ]
          },
          {
           "type": "scatter",
           "x": [
            2
           ],
           "y": [
            0
           ]
          }
         ],
         "layout": {
          "annotations": [
           {
            "font": {
             "color": "purple",
             "size": 14
            },
            "showarrow": false,
            "text": "<b>Step 411</b><br>AoMA_0=0.0, AoMA_1=0.0<br>Battery=14.0<br>Action=Wait",
            "x": 0.5,
            "xref": "paper",
            "y": 1.1,
            "yref": "paper"
           }
          ]
         },
         "name": "frame_411"
        },
        {
         "data": [
          {
           "type": "scatter",
           "x": [
            0,
            0,
            2
           ],
           "y": [
            1,
            -1,
            0
           ]
          },
          {
           "type": "scatter",
           "x": [
            2
           ],
           "y": [
            0
           ]
          }
         ],
         "layout": {
          "annotations": [
           {
            "font": {
             "color": "purple",
             "size": 14
            },
            "showarrow": false,
            "text": "<b>Step 412</b><br>AoMA_0=0.0, AoMA_1=0.0<br>Battery=19.0<br>Action=Go L0",
            "x": 0.5,
            "xref": "paper",
            "y": 1.1,
            "yref": "paper"
           }
          ]
         },
         "name": "frame_412"
        },
        {
         "data": [
          {
           "type": "scatter",
           "x": [
            0,
            0,
            2
           ],
           "y": [
            1,
            -1,
            0
           ]
          },
          {
           "type": "scatter",
           "x": [
            0
           ],
           "y": [
            1
           ]
          }
         ],
         "layout": {
          "annotations": [
           {
            "font": {
             "color": "purple",
             "size": 14
            },
            "showarrow": false,
            "text": "<b>Step 413</b><br>AoMA_0=0.0, AoMA_1=0.0<br>Battery=16.0<br>Action=Go Home",
            "x": 0.5,
            "xref": "paper",
            "y": 1.1,
            "yref": "paper"
           }
          ]
         },
         "name": "frame_413"
        },
        {
         "data": [
          {
           "type": "scatter",
           "x": [
            0,
            0,
            2
           ],
           "y": [
            1,
            -1,
            0
           ]
          },
          {
           "type": "scatter",
           "x": [
            2
           ],
           "y": [
            0
           ]
          }
         ],
         "layout": {
          "annotations": [
           {
            "font": {
             "color": "purple",
             "size": 14
            },
            "showarrow": false,
            "text": "<b>Step 414</b><br>AoMA_0=3.0, AoMA_1=0.0<br>Battery=13.0<br>Action=Go L0",
            "x": 0.5,
            "xref": "paper",
            "y": 1.1,
            "yref": "paper"
           }
          ]
         },
         "name": "frame_414"
        },
        {
         "data": [
          {
           "type": "scatter",
           "x": [
            0,
            0,
            2
           ],
           "y": [
            1,
            -1,
            0
           ]
          },
          {
           "type": "scatter",
           "x": [
            0
           ],
           "y": [
            1
           ]
          }
         ],
         "layout": {
          "annotations": [
           {
            "font": {
             "color": "purple",
             "size": 14
            },
            "showarrow": false,
            "text": "<b>Step 415</b><br>AoMA_0=0.0, AoMA_1=0.0<br>Battery=10.0<br>Action=Go Home",
            "x": 0.5,
            "xref": "paper",
            "y": 1.1,
            "yref": "paper"
           }
          ]
         },
         "name": "frame_415"
        },
        {
         "data": [
          {
           "type": "scatter",
           "x": [
            0,
            0,
            2
           ],
           "y": [
            1,
            -1,
            0
           ]
          },
          {
           "type": "scatter",
           "x": [
            2
           ],
           "y": [
            0
           ]
          }
         ],
         "layout": {
          "annotations": [
           {
            "font": {
             "color": "purple",
             "size": 14
            },
            "showarrow": false,
            "text": "<b>Step 416</b><br>AoMA_0=0.0, AoMA_1=3.0<br>Battery=7.0<br>Action=Wait",
            "x": 0.5,
            "xref": "paper",
            "y": 1.1,
            "yref": "paper"
           }
          ]
         },
         "name": "frame_416"
        },
        {
         "data": [
          {
           "type": "scatter",
           "x": [
            0,
            0,
            2
           ],
           "y": [
            1,
            -1,
            0
           ]
          },
          {
           "type": "scatter",
           "x": [
            2
           ],
           "y": [
            0
           ]
          }
         ],
         "layout": {
          "annotations": [
           {
            "font": {
             "color": "purple",
             "size": 14
            },
            "showarrow": false,
            "text": "<b>Step 417</b><br>AoMA_0=0.0, AoMA_1=4.0<br>Battery=12.0<br>Action=Wait",
            "x": 0.5,
            "xref": "paper",
            "y": 1.1,
            "yref": "paper"
           }
          ]
         },
         "name": "frame_417"
        },
        {
         "data": [
          {
           "type": "scatter",
           "x": [
            0,
            0,
            2
           ],
           "y": [
            1,
            -1,
            0
           ]
          },
          {
           "type": "scatter",
           "x": [
            2
           ],
           "y": [
            0
           ]
          }
         ],
         "layout": {
          "annotations": [
           {
            "font": {
             "color": "purple",
             "size": 14
            },
            "showarrow": false,
            "text": "<b>Step 418</b><br>AoMA_0=0.0, AoMA_1=5.0<br>Battery=17.0<br>Action=Go L1",
            "x": 0.5,
            "xref": "paper",
            "y": 1.1,
            "yref": "paper"
           }
          ]
         },
         "name": "frame_418"
        },
        {
         "data": [
          {
           "type": "scatter",
           "x": [
            0,
            0,
            2
           ],
           "y": [
            1,
            -1,
            0
           ]
          },
          {
           "type": "scatter",
           "x": [
            0
           ],
           "y": [
            -1
           ]
          }
         ],
         "layout": {
          "annotations": [
           {
            "font": {
             "color": "purple",
             "size": 14
            },
            "showarrow": false,
            "text": "<b>Step 419</b><br>AoMA_0=0.0, AoMA_1=0.0<br>Battery=13.0<br>Action=Go L0",
            "x": 0.5,
            "xref": "paper",
            "y": 1.1,
            "yref": "paper"
           }
          ]
         },
         "name": "frame_419"
        },
        {
         "data": [
          {
           "type": "scatter",
           "x": [
            0,
            0,
            2
           ],
           "y": [
            1,
            -1,
            0
           ]
          },
          {
           "type": "scatter",
           "x": [
            0
           ],
           "y": [
            1
           ]
          }
         ],
         "layout": {
          "annotations": [
           {
            "font": {
             "color": "purple",
             "size": 14
            },
            "showarrow": false,
            "text": "<b>Step 420</b><br>AoMA_0=0.0, AoMA_1=0.0<br>Battery=11.0<br>Action=Go Home",
            "x": 0.5,
            "xref": "paper",
            "y": 1.1,
            "yref": "paper"
           }
          ]
         },
         "name": "frame_420"
        },
        {
         "data": [
          {
           "type": "scatter",
           "x": [
            0,
            0,
            2
           ],
           "y": [
            1,
            -1,
            0
           ]
          },
          {
           "type": "scatter",
           "x": [
            2
           ],
           "y": [
            0
           ]
          }
         ],
         "layout": {
          "annotations": [
           {
            "font": {
             "color": "purple",
             "size": 14
            },
            "showarrow": false,
            "text": "<b>Step 421</b><br>AoMA_0=0.0, AoMA_1=0.0<br>Battery=8.0<br>Action=Wait",
            "x": 0.5,
            "xref": "paper",
            "y": 1.1,
            "yref": "paper"
           }
          ]
         },
         "name": "frame_421"
        },
        {
         "data": [
          {
           "type": "scatter",
           "x": [
            0,
            0,
            2
           ],
           "y": [
            1,
            -1,
            0
           ]
          },
          {
           "type": "scatter",
           "x": [
            2
           ],
           "y": [
            0
           ]
          }
         ],
         "layout": {
          "annotations": [
           {
            "font": {
             "color": "purple",
             "size": 14
            },
            "showarrow": false,
            "text": "<b>Step 422</b><br>AoMA_0=0.0, AoMA_1=0.0<br>Battery=13.0<br>Action=Wait",
            "x": 0.5,
            "xref": "paper",
            "y": 1.1,
            "yref": "paper"
           }
          ]
         },
         "name": "frame_422"
        },
        {
         "data": [
          {
           "type": "scatter",
           "x": [
            0,
            0,
            2
           ],
           "y": [
            1,
            -1,
            0
           ]
          },
          {
           "type": "scatter",
           "x": [
            2
           ],
           "y": [
            0
           ]
          }
         ],
         "layout": {
          "annotations": [
           {
            "font": {
             "color": "purple",
             "size": 14
            },
            "showarrow": false,
            "text": "<b>Step 423</b><br>AoMA_0=0.0, AoMA_1=0.0<br>Battery=18.0<br>Action=Wait",
            "x": 0.5,
            "xref": "paper",
            "y": 1.1,
            "yref": "paper"
           }
          ]
         },
         "name": "frame_423"
        },
        {
         "data": [
          {
           "type": "scatter",
           "x": [
            0,
            0,
            2
           ],
           "y": [
            1,
            -1,
            0
           ]
          },
          {
           "type": "scatter",
           "x": [
            2
           ],
           "y": [
            0
           ]
          }
         ],
         "layout": {
          "annotations": [
           {
            "font": {
             "color": "purple",
             "size": 14
            },
            "showarrow": false,
            "text": "<b>Step 424</b><br>AoMA_0=0.0, AoMA_1=0.0<br>Battery=20.0<br>Action=Go L0",
            "x": 0.5,
            "xref": "paper",
            "y": 1.1,
            "yref": "paper"
           }
          ]
         },
         "name": "frame_424"
        },
        {
         "data": [
          {
           "type": "scatter",
           "x": [
            0,
            0,
            2
           ],
           "y": [
            1,
            -1,
            0
           ]
          },
          {
           "type": "scatter",
           "x": [
            0
           ],
           "y": [
            1
           ]
          }
         ],
         "layout": {
          "annotations": [
           {
            "font": {
             "color": "purple",
             "size": 14
            },
            "showarrow": false,
            "text": "<b>Step 425</b><br>AoMA_0=0.0, AoMA_1=0.0<br>Battery=17.0<br>Action=Go Home",
            "x": 0.5,
            "xref": "paper",
            "y": 1.1,
            "yref": "paper"
           }
          ]
         },
         "name": "frame_425"
        },
        {
         "data": [
          {
           "type": "scatter",
           "x": [
            0,
            0,
            2
           ],
           "y": [
            1,
            -1,
            0
           ]
          },
          {
           "type": "scatter",
           "x": [
            2
           ],
           "y": [
            0
           ]
          }
         ],
         "layout": {
          "annotations": [
           {
            "font": {
             "color": "purple",
             "size": 14
            },
            "showarrow": false,
            "text": "<b>Step 426</b><br>AoMA_0=1.0, AoMA_1=0.0<br>Battery=14.0<br>Action=Go L0",
            "x": 0.5,
            "xref": "paper",
            "y": 1.1,
            "yref": "paper"
           }
          ]
         },
         "name": "frame_426"
        },
        {
         "data": [
          {
           "type": "scatter",
           "x": [
            0,
            0,
            2
           ],
           "y": [
            1,
            -1,
            0
           ]
          },
          {
           "type": "scatter",
           "x": [
            0
           ],
           "y": [
            1
           ]
          }
         ],
         "layout": {
          "annotations": [
           {
            "font": {
             "color": "purple",
             "size": 14
            },
            "showarrow": false,
            "text": "<b>Step 427</b><br>AoMA_0=0.0, AoMA_1=0.0<br>Battery=11.0<br>Action=Go Home",
            "x": 0.5,
            "xref": "paper",
            "y": 1.1,
            "yref": "paper"
           }
          ]
         },
         "name": "frame_427"
        },
        {
         "data": [
          {
           "type": "scatter",
           "x": [
            0,
            0,
            2
           ],
           "y": [
            1,
            -1,
            0
           ]
          },
          {
           "type": "scatter",
           "x": [
            2
           ],
           "y": [
            0
           ]
          }
         ],
         "layout": {
          "annotations": [
           {
            "font": {
             "color": "purple",
             "size": 14
            },
            "showarrow": false,
            "text": "<b>Step 428</b><br>AoMA_0=2.0, AoMA_1=0.0<br>Battery=8.0<br>Action=Wait",
            "x": 0.5,
            "xref": "paper",
            "y": 1.1,
            "yref": "paper"
           }
          ]
         },
         "name": "frame_428"
        },
        {
         "data": [
          {
           "type": "scatter",
           "x": [
            0,
            0,
            2
           ],
           "y": [
            1,
            -1,
            0
           ]
          },
          {
           "type": "scatter",
           "x": [
            2
           ],
           "y": [
            0
           ]
          }
         ],
         "layout": {
          "annotations": [
           {
            "font": {
             "color": "purple",
             "size": 14
            },
            "showarrow": false,
            "text": "<b>Step 429</b><br>AoMA_0=3.0, AoMA_1=0.0<br>Battery=13.0<br>Action=Go L0",
            "x": 0.5,
            "xref": "paper",
            "y": 1.1,
            "yref": "paper"
           }
          ]
         },
         "name": "frame_429"
        },
        {
         "data": [
          {
           "type": "scatter",
           "x": [
            0,
            0,
            2
           ],
           "y": [
            1,
            -1,
            0
           ]
          },
          {
           "type": "scatter",
           "x": [
            0
           ],
           "y": [
            1
           ]
          }
         ],
         "layout": {
          "annotations": [
           {
            "font": {
             "color": "purple",
             "size": 14
            },
            "showarrow": false,
            "text": "<b>Step 430</b><br>AoMA_0=0.0, AoMA_1=0.0<br>Battery=10.0<br>Action=Go Home",
            "x": 0.5,
            "xref": "paper",
            "y": 1.1,
            "yref": "paper"
           }
          ]
         },
         "name": "frame_430"
        },
        {
         "data": [
          {
           "type": "scatter",
           "x": [
            0,
            0,
            2
           ],
           "y": [
            1,
            -1,
            0
           ]
          },
          {
           "type": "scatter",
           "x": [
            2
           ],
           "y": [
            0
           ]
          }
         ],
         "layout": {
          "annotations": [
           {
            "font": {
             "color": "purple",
             "size": 14
            },
            "showarrow": false,
            "text": "<b>Step 431</b><br>AoMA_0=0.0, AoMA_1=0.0<br>Battery=7.0<br>Action=Wait",
            "x": 0.5,
            "xref": "paper",
            "y": 1.1,
            "yref": "paper"
           }
          ]
         },
         "name": "frame_431"
        },
        {
         "data": [
          {
           "type": "scatter",
           "x": [
            0,
            0,
            2
           ],
           "y": [
            1,
            -1,
            0
           ]
          },
          {
           "type": "scatter",
           "x": [
            2
           ],
           "y": [
            0
           ]
          }
         ],
         "layout": {
          "annotations": [
           {
            "font": {
             "color": "purple",
             "size": 14
            },
            "showarrow": false,
            "text": "<b>Step 432</b><br>AoMA_0=0.0, AoMA_1=0.0<br>Battery=12.0<br>Action=Wait",
            "x": 0.5,
            "xref": "paper",
            "y": 1.1,
            "yref": "paper"
           }
          ]
         },
         "name": "frame_432"
        },
        {
         "data": [
          {
           "type": "scatter",
           "x": [
            0,
            0,
            2
           ],
           "y": [
            1,
            -1,
            0
           ]
          },
          {
           "type": "scatter",
           "x": [
            2
           ],
           "y": [
            0
           ]
          }
         ],
         "layout": {
          "annotations": [
           {
            "font": {
             "color": "purple",
             "size": 14
            },
            "showarrow": false,
            "text": "<b>Step 433</b><br>AoMA_0=1.0, AoMA_1=0.0<br>Battery=17.0<br>Action=Go L0",
            "x": 0.5,
            "xref": "paper",
            "y": 1.1,
            "yref": "paper"
           }
          ]
         },
         "name": "frame_433"
        },
        {
         "data": [
          {
           "type": "scatter",
           "x": [
            0,
            0,
            2
           ],
           "y": [
            1,
            -1,
            0
           ]
          },
          {
           "type": "scatter",
           "x": [
            0
           ],
           "y": [
            1
           ]
          }
         ],
         "layout": {
          "annotations": [
           {
            "font": {
             "color": "purple",
             "size": 14
            },
            "showarrow": false,
            "text": "<b>Step 434</b><br>AoMA_0=0.0, AoMA_1=0.0<br>Battery=14.0<br>Action=Go Home",
            "x": 0.5,
            "xref": "paper",
            "y": 1.1,
            "yref": "paper"
           }
          ]
         },
         "name": "frame_434"
        },
        {
         "data": [
          {
           "type": "scatter",
           "x": [
            0,
            0,
            2
           ],
           "y": [
            1,
            -1,
            0
           ]
          },
          {
           "type": "scatter",
           "x": [
            2
           ],
           "y": [
            0
           ]
          }
         ],
         "layout": {
          "annotations": [
           {
            "font": {
             "color": "purple",
             "size": 14
            },
            "showarrow": false,
            "text": "<b>Step 435</b><br>AoMA_0=0.0, AoMA_1=0.0<br>Battery=11.0<br>Action=Wait",
            "x": 0.5,
            "xref": "paper",
            "y": 1.1,
            "yref": "paper"
           }
          ]
         },
         "name": "frame_435"
        },
        {
         "data": [
          {
           "type": "scatter",
           "x": [
            0,
            0,
            2
           ],
           "y": [
            1,
            -1,
            0
           ]
          },
          {
           "type": "scatter",
           "x": [
            2
           ],
           "y": [
            0
           ]
          }
         ],
         "layout": {
          "annotations": [
           {
            "font": {
             "color": "purple",
             "size": 14
            },
            "showarrow": false,
            "text": "<b>Step 436</b><br>AoMA_0=0.0, AoMA_1=0.0<br>Battery=16.0<br>Action=Wait",
            "x": 0.5,
            "xref": "paper",
            "y": 1.1,
            "yref": "paper"
           }
          ]
         },
         "name": "frame_436"
        },
        {
         "data": [
          {
           "type": "scatter",
           "x": [
            0,
            0,
            2
           ],
           "y": [
            1,
            -1,
            0
           ]
          },
          {
           "type": "scatter",
           "x": [
            2
           ],
           "y": [
            0
           ]
          }
         ],
         "layout": {
          "annotations": [
           {
            "font": {
             "color": "purple",
             "size": 14
            },
            "showarrow": false,
            "text": "<b>Step 437</b><br>AoMA_0=1.0, AoMA_1=0.0<br>Battery=20.0<br>Action=Go L0",
            "x": 0.5,
            "xref": "paper",
            "y": 1.1,
            "yref": "paper"
           }
          ]
         },
         "name": "frame_437"
        },
        {
         "data": [
          {
           "type": "scatter",
           "x": [
            0,
            0,
            2
           ],
           "y": [
            1,
            -1,
            0
           ]
          },
          {
           "type": "scatter",
           "x": [
            0
           ],
           "y": [
            1
           ]
          }
         ],
         "layout": {
          "annotations": [
           {
            "font": {
             "color": "purple",
             "size": 14
            },
            "showarrow": false,
            "text": "<b>Step 438</b><br>AoMA_0=0.0, AoMA_1=0.0<br>Battery=17.0<br>Action=Go Home",
            "x": 0.5,
            "xref": "paper",
            "y": 1.1,
            "yref": "paper"
           }
          ]
         },
         "name": "frame_438"
        },
        {
         "data": [
          {
           "type": "scatter",
           "x": [
            0,
            0,
            2
           ],
           "y": [
            1,
            -1,
            0
           ]
          },
          {
           "type": "scatter",
           "x": [
            2
           ],
           "y": [
            0
           ]
          }
         ],
         "layout": {
          "annotations": [
           {
            "font": {
             "color": "purple",
             "size": 14
            },
            "showarrow": false,
            "text": "<b>Step 439</b><br>AoMA_0=0.0, AoMA_1=0.0<br>Battery=14.0<br>Action=Wait",
            "x": 0.5,
            "xref": "paper",
            "y": 1.1,
            "yref": "paper"
           }
          ]
         },
         "name": "frame_439"
        },
        {
         "data": [
          {
           "type": "scatter",
           "x": [
            0,
            0,
            2
           ],
           "y": [
            1,
            -1,
            0
           ]
          },
          {
           "type": "scatter",
           "x": [
            2
           ],
           "y": [
            0
           ]
          }
         ],
         "layout": {
          "annotations": [
           {
            "font": {
             "color": "purple",
             "size": 14
            },
            "showarrow": false,
            "text": "<b>Step 440</b><br>AoMA_0=0.0, AoMA_1=0.0<br>Battery=19.0<br>Action=Go L0",
            "x": 0.5,
            "xref": "paper",
            "y": 1.1,
            "yref": "paper"
           }
          ]
         },
         "name": "frame_440"
        },
        {
         "data": [
          {
           "type": "scatter",
           "x": [
            0,
            0,
            2
           ],
           "y": [
            1,
            -1,
            0
           ]
          },
          {
           "type": "scatter",
           "x": [
            0
           ],
           "y": [
            1
           ]
          }
         ],
         "layout": {
          "annotations": [
           {
            "font": {
             "color": "purple",
             "size": 14
            },
            "showarrow": false,
            "text": "<b>Step 441</b><br>AoMA_0=0.0, AoMA_1=0.0<br>Battery=16.0<br>Action=Go Home",
            "x": 0.5,
            "xref": "paper",
            "y": 1.1,
            "yref": "paper"
           }
          ]
         },
         "name": "frame_441"
        },
        {
         "data": [
          {
           "type": "scatter",
           "x": [
            0,
            0,
            2
           ],
           "y": [
            1,
            -1,
            0
           ]
          },
          {
           "type": "scatter",
           "x": [
            2
           ],
           "y": [
            0
           ]
          }
         ],
         "layout": {
          "annotations": [
           {
            "font": {
             "color": "purple",
             "size": 14
            },
            "showarrow": false,
            "text": "<b>Step 442</b><br>AoMA_0=0.0, AoMA_1=0.0<br>Battery=13.0<br>Action=Wait",
            "x": 0.5,
            "xref": "paper",
            "y": 1.1,
            "yref": "paper"
           }
          ]
         },
         "name": "frame_442"
        },
        {
         "data": [
          {
           "type": "scatter",
           "x": [
            0,
            0,
            2
           ],
           "y": [
            1,
            -1,
            0
           ]
          },
          {
           "type": "scatter",
           "x": [
            2
           ],
           "y": [
            0
           ]
          }
         ],
         "layout": {
          "annotations": [
           {
            "font": {
             "color": "purple",
             "size": 14
            },
            "showarrow": false,
            "text": "<b>Step 443</b><br>AoMA_0=0.0, AoMA_1=0.0<br>Battery=18.0<br>Action=Wait",
            "x": 0.5,
            "xref": "paper",
            "y": 1.1,
            "yref": "paper"
           }
          ]
         },
         "name": "frame_443"
        },
        {
         "data": [
          {
           "type": "scatter",
           "x": [
            0,
            0,
            2
           ],
           "y": [
            1,
            -1,
            0
           ]
          },
          {
           "type": "scatter",
           "x": [
            2
           ],
           "y": [
            0
           ]
          }
         ],
         "layout": {
          "annotations": [
           {
            "font": {
             "color": "purple",
             "size": 14
            },
            "showarrow": false,
            "text": "<b>Step 444</b><br>AoMA_0=0.0, AoMA_1=0.0<br>Battery=20.0<br>Action=Go L0",
            "x": 0.5,
            "xref": "paper",
            "y": 1.1,
            "yref": "paper"
           }
          ]
         },
         "name": "frame_444"
        },
        {
         "data": [
          {
           "type": "scatter",
           "x": [
            0,
            0,
            2
           ],
           "y": [
            1,
            -1,
            0
           ]
          },
          {
           "type": "scatter",
           "x": [
            0
           ],
           "y": [
            1
           ]
          }
         ],
         "layout": {
          "annotations": [
           {
            "font": {
             "color": "purple",
             "size": 14
            },
            "showarrow": false,
            "text": "<b>Step 445</b><br>AoMA_0=0.0, AoMA_1=0.0<br>Battery=17.0<br>Action=Go Home",
            "x": 0.5,
            "xref": "paper",
            "y": 1.1,
            "yref": "paper"
           }
          ]
         },
         "name": "frame_445"
        },
        {
         "data": [
          {
           "type": "scatter",
           "x": [
            0,
            0,
            2
           ],
           "y": [
            1,
            -1,
            0
           ]
          },
          {
           "type": "scatter",
           "x": [
            2
           ],
           "y": [
            0
           ]
          }
         ],
         "layout": {
          "annotations": [
           {
            "font": {
             "color": "purple",
             "size": 14
            },
            "showarrow": false,
            "text": "<b>Step 446</b><br>AoMA_0=3.0, AoMA_1=0.0<br>Battery=14.0<br>Action=Go L0",
            "x": 0.5,
            "xref": "paper",
            "y": 1.1,
            "yref": "paper"
           }
          ]
         },
         "name": "frame_446"
        },
        {
         "data": [
          {
           "type": "scatter",
           "x": [
            0,
            0,
            2
           ],
           "y": [
            1,
            -1,
            0
           ]
          },
          {
           "type": "scatter",
           "x": [
            0
           ],
           "y": [
            1
           ]
          }
         ],
         "layout": {
          "annotations": [
           {
            "font": {
             "color": "purple",
             "size": 14
            },
            "showarrow": false,
            "text": "<b>Step 447</b><br>AoMA_0=0.0, AoMA_1=0.0<br>Battery=11.0<br>Action=Go Home",
            "x": 0.5,
            "xref": "paper",
            "y": 1.1,
            "yref": "paper"
           }
          ]
         },
         "name": "frame_447"
        },
        {
         "data": [
          {
           "type": "scatter",
           "x": [
            0,
            0,
            2
           ],
           "y": [
            1,
            -1,
            0
           ]
          },
          {
           "type": "scatter",
           "x": [
            2
           ],
           "y": [
            0
           ]
          }
         ],
         "layout": {
          "annotations": [
           {
            "font": {
             "color": "purple",
             "size": 14
            },
            "showarrow": false,
            "text": "<b>Step 448</b><br>AoMA_0=0.0, AoMA_1=0.0<br>Battery=8.0<br>Action=Wait",
            "x": 0.5,
            "xref": "paper",
            "y": 1.1,
            "yref": "paper"
           }
          ]
         },
         "name": "frame_448"
        },
        {
         "data": [
          {
           "type": "scatter",
           "x": [
            0,
            0,
            2
           ],
           "y": [
            1,
            -1,
            0
           ]
          },
          {
           "type": "scatter",
           "x": [
            2
           ],
           "y": [
            0
           ]
          }
         ],
         "layout": {
          "annotations": [
           {
            "font": {
             "color": "purple",
             "size": 14
            },
            "showarrow": false,
            "text": "<b>Step 449</b><br>AoMA_0=0.0, AoMA_1=0.0<br>Battery=13.0<br>Action=Wait",
            "x": 0.5,
            "xref": "paper",
            "y": 1.1,
            "yref": "paper"
           }
          ]
         },
         "name": "frame_449"
        },
        {
         "data": [
          {
           "type": "scatter",
           "x": [
            0,
            0,
            2
           ],
           "y": [
            1,
            -1,
            0
           ]
          },
          {
           "type": "scatter",
           "x": [
            2
           ],
           "y": [
            0
           ]
          }
         ],
         "layout": {
          "annotations": [
           {
            "font": {
             "color": "purple",
             "size": 14
            },
            "showarrow": false,
            "text": "<b>Step 450</b><br>AoMA_0=0.0, AoMA_1=0.0<br>Battery=18.0<br>Action=Wait",
            "x": 0.5,
            "xref": "paper",
            "y": 1.1,
            "yref": "paper"
           }
          ]
         },
         "name": "frame_450"
        },
        {
         "data": [
          {
           "type": "scatter",
           "x": [
            0,
            0,
            2
           ],
           "y": [
            1,
            -1,
            0
           ]
          },
          {
           "type": "scatter",
           "x": [
            2
           ],
           "y": [
            0
           ]
          }
         ],
         "layout": {
          "annotations": [
           {
            "font": {
             "color": "purple",
             "size": 14
            },
            "showarrow": false,
            "text": "<b>Step 451</b><br>AoMA_0=0.0, AoMA_1=0.0<br>Battery=20.0<br>Action=Go L0",
            "x": 0.5,
            "xref": "paper",
            "y": 1.1,
            "yref": "paper"
           }
          ]
         },
         "name": "frame_451"
        },
        {
         "data": [
          {
           "type": "scatter",
           "x": [
            0,
            0,
            2
           ],
           "y": [
            1,
            -1,
            0
           ]
          },
          {
           "type": "scatter",
           "x": [
            0
           ],
           "y": [
            1
           ]
          }
         ],
         "layout": {
          "annotations": [
           {
            "font": {
             "color": "purple",
             "size": 14
            },
            "showarrow": false,
            "text": "<b>Step 452</b><br>AoMA_0=0.0, AoMA_1=1.0<br>Battery=17.0<br>Action=Go L1",
            "x": 0.5,
            "xref": "paper",
            "y": 1.1,
            "yref": "paper"
           }
          ]
         },
         "name": "frame_452"
        },
        {
         "data": [
          {
           "type": "scatter",
           "x": [
            0,
            0,
            2
           ],
           "y": [
            1,
            -1,
            0
           ]
          },
          {
           "type": "scatter",
           "x": [
            0
           ],
           "y": [
            -1
           ]
          }
         ],
         "layout": {
          "annotations": [
           {
            "font": {
             "color": "purple",
             "size": 14
            },
            "showarrow": false,
            "text": "<b>Step 453</b><br>AoMA_0=0.0, AoMA_1=0.0<br>Battery=15.0<br>Action=Go L0",
            "x": 0.5,
            "xref": "paper",
            "y": 1.1,
            "yref": "paper"
           }
          ]
         },
         "name": "frame_453"
        },
        {
         "data": [
          {
           "type": "scatter",
           "x": [
            0,
            0,
            2
           ],
           "y": [
            1,
            -1,
            0
           ]
          },
          {
           "type": "scatter",
           "x": [
            0
           ],
           "y": [
            1
           ]
          }
         ],
         "layout": {
          "annotations": [
           {
            "font": {
             "color": "purple",
             "size": 14
            },
            "showarrow": false,
            "text": "<b>Step 454</b><br>AoMA_0=0.0, AoMA_1=0.0<br>Battery=13.0<br>Action=Go Home",
            "x": 0.5,
            "xref": "paper",
            "y": 1.1,
            "yref": "paper"
           }
          ]
         },
         "name": "frame_454"
        },
        {
         "data": [
          {
           "type": "scatter",
           "x": [
            0,
            0,
            2
           ],
           "y": [
            1,
            -1,
            0
           ]
          },
          {
           "type": "scatter",
           "x": [
            2
           ],
           "y": [
            0
           ]
          }
         ],
         "layout": {
          "annotations": [
           {
            "font": {
             "color": "purple",
             "size": 14
            },
            "showarrow": false,
            "text": "<b>Step 455</b><br>AoMA_0=0.0, AoMA_1=0.0<br>Battery=10.0<br>Action=Wait",
            "x": 0.5,
            "xref": "paper",
            "y": 1.1,
            "yref": "paper"
           }
          ]
         },
         "name": "frame_455"
        },
        {
         "data": [
          {
           "type": "scatter",
           "x": [
            0,
            0,
            2
           ],
           "y": [
            1,
            -1,
            0
           ]
          },
          {
           "type": "scatter",
           "x": [
            2
           ],
           "y": [
            0
           ]
          }
         ],
         "layout": {
          "annotations": [
           {
            "font": {
             "color": "purple",
             "size": 14
            },
            "showarrow": false,
            "text": "<b>Step 456</b><br>AoMA_0=0.0, AoMA_1=0.0<br>Battery=15.0<br>Action=Wait",
            "x": 0.5,
            "xref": "paper",
            "y": 1.1,
            "yref": "paper"
           }
          ]
         },
         "name": "frame_456"
        },
        {
         "data": [
          {
           "type": "scatter",
           "x": [
            0,
            0,
            2
           ],
           "y": [
            1,
            -1,
            0
           ]
          },
          {
           "type": "scatter",
           "x": [
            2
           ],
           "y": [
            0
           ]
          }
         ],
         "layout": {
          "annotations": [
           {
            "font": {
             "color": "purple",
             "size": 14
            },
            "showarrow": false,
            "text": "<b>Step 457</b><br>AoMA_0=0.0, AoMA_1=0.0<br>Battery=20.0<br>Action=Go L0",
            "x": 0.5,
            "xref": "paper",
            "y": 1.1,
            "yref": "paper"
           }
          ]
         },
         "name": "frame_457"
        },
        {
         "data": [
          {
           "type": "scatter",
           "x": [
            0,
            0,
            2
           ],
           "y": [
            1,
            -1,
            0
           ]
          },
          {
           "type": "scatter",
           "x": [
            0
           ],
           "y": [
            1
           ]
          }
         ],
         "layout": {
          "annotations": [
           {
            "font": {
             "color": "purple",
             "size": 14
            },
            "showarrow": false,
            "text": "<b>Step 458</b><br>AoMA_0=0.0, AoMA_1=0.0<br>Battery=17.0<br>Action=Go Home",
            "x": 0.5,
            "xref": "paper",
            "y": 1.1,
            "yref": "paper"
           }
          ]
         },
         "name": "frame_458"
        },
        {
         "data": [
          {
           "type": "scatter",
           "x": [
            0,
            0,
            2
           ],
           "y": [
            1,
            -1,
            0
           ]
          },
          {
           "type": "scatter",
           "x": [
            2
           ],
           "y": [
            0
           ]
          }
         ],
         "layout": {
          "annotations": [
           {
            "font": {
             "color": "purple",
             "size": 14
            },
            "showarrow": false,
            "text": "<b>Step 459</b><br>AoMA_0=0.0, AoMA_1=0.0<br>Battery=14.0<br>Action=Wait",
            "x": 0.5,
            "xref": "paper",
            "y": 1.1,
            "yref": "paper"
           }
          ]
         },
         "name": "frame_459"
        },
        {
         "data": [
          {
           "type": "scatter",
           "x": [
            0,
            0,
            2
           ],
           "y": [
            1,
            -1,
            0
           ]
          },
          {
           "type": "scatter",
           "x": [
            2
           ],
           "y": [
            0
           ]
          }
         ],
         "layout": {
          "annotations": [
           {
            "font": {
             "color": "purple",
             "size": 14
            },
            "showarrow": false,
            "text": "<b>Step 460</b><br>AoMA_0=0.0, AoMA_1=0.0<br>Battery=19.0<br>Action=Go L0",
            "x": 0.5,
            "xref": "paper",
            "y": 1.1,
            "yref": "paper"
           }
          ]
         },
         "name": "frame_460"
        },
        {
         "data": [
          {
           "type": "scatter",
           "x": [
            0,
            0,
            2
           ],
           "y": [
            1,
            -1,
            0
           ]
          },
          {
           "type": "scatter",
           "x": [
            0
           ],
           "y": [
            1
           ]
          }
         ],
         "layout": {
          "annotations": [
           {
            "font": {
             "color": "purple",
             "size": 14
            },
            "showarrow": false,
            "text": "<b>Step 461</b><br>AoMA_0=0.0, AoMA_1=1.0<br>Battery=16.0<br>Action=Go L1",
            "x": 0.5,
            "xref": "paper",
            "y": 1.1,
            "yref": "paper"
           }
          ]
         },
         "name": "frame_461"
        },
        {
         "data": [
          {
           "type": "scatter",
           "x": [
            0,
            0,
            2
           ],
           "y": [
            1,
            -1,
            0
           ]
          },
          {
           "type": "scatter",
           "x": [
            0
           ],
           "y": [
            -1
           ]
          }
         ],
         "layout": {
          "annotations": [
           {
            "font": {
             "color": "purple",
             "size": 14
            },
            "showarrow": false,
            "text": "<b>Step 462</b><br>AoMA_0=0.0, AoMA_1=0.0<br>Battery=14.0<br>Action=Go L0",
            "x": 0.5,
            "xref": "paper",
            "y": 1.1,
            "yref": "paper"
           }
          ]
         },
         "name": "frame_462"
        },
        {
         "data": [
          {
           "type": "scatter",
           "x": [
            0,
            0,
            2
           ],
           "y": [
            1,
            -1,
            0
           ]
          },
          {
           "type": "scatter",
           "x": [
            0
           ],
           "y": [
            1
           ]
          }
         ],
         "layout": {
          "annotations": [
           {
            "font": {
             "color": "purple",
             "size": 14
            },
            "showarrow": false,
            "text": "<b>Step 463</b><br>AoMA_0=0.0, AoMA_1=1.0<br>Battery=12.0<br>Action=Go L1",
            "x": 0.5,
            "xref": "paper",
            "y": 1.1,
            "yref": "paper"
           }
          ]
         },
         "name": "frame_463"
        },
        {
         "data": [
          {
           "type": "scatter",
           "x": [
            0,
            0,
            2
           ],
           "y": [
            1,
            -1,
            0
           ]
          },
          {
           "type": "scatter",
           "x": [
            0
           ],
           "y": [
            -1
           ]
          }
         ],
         "layout": {
          "annotations": [
           {
            "font": {
             "color": "purple",
             "size": 14
            },
            "showarrow": false,
            "text": "<b>Step 464</b><br>AoMA_0=0.0, AoMA_1=0.0<br>Battery=10.0<br>Action=Go L0",
            "x": 0.5,
            "xref": "paper",
            "y": 1.1,
            "yref": "paper"
           }
          ]
         },
         "name": "frame_464"
        },
        {
         "data": [
          {
           "type": "scatter",
           "x": [
            0,
            0,
            2
           ],
           "y": [
            1,
            -1,
            0
           ]
          },
          {
           "type": "scatter",
           "x": [
            0
           ],
           "y": [
            1
           ]
          }
         ],
         "layout": {
          "annotations": [
           {
            "font": {
             "color": "purple",
             "size": 14
            },
            "showarrow": false,
            "text": "<b>Step 465</b><br>AoMA_0=0.0, AoMA_1=0.0<br>Battery=8.0<br>Action=Go Home",
            "x": 0.5,
            "xref": "paper",
            "y": 1.1,
            "yref": "paper"
           }
          ]
         },
         "name": "frame_465"
        },
        {
         "data": [
          {
           "type": "scatter",
           "x": [
            0,
            0,
            2
           ],
           "y": [
            1,
            -1,
            0
           ]
          },
          {
           "type": "scatter",
           "x": [
            2
           ],
           "y": [
            0
           ]
          }
         ],
         "layout": {
          "annotations": [
           {
            "font": {
             "color": "purple",
             "size": 14
            },
            "showarrow": false,
            "text": "<b>Step 466</b><br>AoMA_0=0.0, AoMA_1=0.0<br>Battery=5.0<br>Action=Wait",
            "x": 0.5,
            "xref": "paper",
            "y": 1.1,
            "yref": "paper"
           }
          ]
         },
         "name": "frame_466"
        },
        {
         "data": [
          {
           "type": "scatter",
           "x": [
            0,
            0,
            2
           ],
           "y": [
            1,
            -1,
            0
           ]
          },
          {
           "type": "scatter",
           "x": [
            2
           ],
           "y": [
            0
           ]
          }
         ],
         "layout": {
          "annotations": [
           {
            "font": {
             "color": "purple",
             "size": 14
            },
            "showarrow": false,
            "text": "<b>Step 467</b><br>AoMA_0=0.0, AoMA_1=0.0<br>Battery=10.0<br>Action=Wait",
            "x": 0.5,
            "xref": "paper",
            "y": 1.1,
            "yref": "paper"
           }
          ]
         },
         "name": "frame_467"
        },
        {
         "data": [
          {
           "type": "scatter",
           "x": [
            0,
            0,
            2
           ],
           "y": [
            1,
            -1,
            0
           ]
          },
          {
           "type": "scatter",
           "x": [
            2
           ],
           "y": [
            0
           ]
          }
         ],
         "layout": {
          "annotations": [
           {
            "font": {
             "color": "purple",
             "size": 14
            },
            "showarrow": false,
            "text": "<b>Step 468</b><br>AoMA_0=0.0, AoMA_1=0.0<br>Battery=15.0<br>Action=Wait",
            "x": 0.5,
            "xref": "paper",
            "y": 1.1,
            "yref": "paper"
           }
          ]
         },
         "name": "frame_468"
        },
        {
         "data": [
          {
           "type": "scatter",
           "x": [
            0,
            0,
            2
           ],
           "y": [
            1,
            -1,
            0
           ]
          },
          {
           "type": "scatter",
           "x": [
            2
           ],
           "y": [
            0
           ]
          }
         ],
         "layout": {
          "annotations": [
           {
            "font": {
             "color": "purple",
             "size": 14
            },
            "showarrow": false,
            "text": "<b>Step 469</b><br>AoMA_0=0.0, AoMA_1=0.0<br>Battery=20.0<br>Action=Go L0",
            "x": 0.5,
            "xref": "paper",
            "y": 1.1,
            "yref": "paper"
           }
          ]
         },
         "name": "frame_469"
        },
        {
         "data": [
          {
           "type": "scatter",
           "x": [
            0,
            0,
            2
           ],
           "y": [
            1,
            -1,
            0
           ]
          },
          {
           "type": "scatter",
           "x": [
            0
           ],
           "y": [
            1
           ]
          }
         ],
         "layout": {
          "annotations": [
           {
            "font": {
             "color": "purple",
             "size": 14
            },
            "showarrow": false,
            "text": "<b>Step 470</b><br>AoMA_0=0.0, AoMA_1=0.0<br>Battery=17.0<br>Action=Go Home",
            "x": 0.5,
            "xref": "paper",
            "y": 1.1,
            "yref": "paper"
           }
          ]
         },
         "name": "frame_470"
        },
        {
         "data": [
          {
           "type": "scatter",
           "x": [
            0,
            0,
            2
           ],
           "y": [
            1,
            -1,
            0
           ]
          },
          {
           "type": "scatter",
           "x": [
            2
           ],
           "y": [
            0
           ]
          }
         ],
         "layout": {
          "annotations": [
           {
            "font": {
             "color": "purple",
             "size": 14
            },
            "showarrow": false,
            "text": "<b>Step 471</b><br>AoMA_0=0.0, AoMA_1=0.0<br>Battery=14.0<br>Action=Wait",
            "x": 0.5,
            "xref": "paper",
            "y": 1.1,
            "yref": "paper"
           }
          ]
         },
         "name": "frame_471"
        },
        {
         "data": [
          {
           "type": "scatter",
           "x": [
            0,
            0,
            2
           ],
           "y": [
            1,
            -1,
            0
           ]
          },
          {
           "type": "scatter",
           "x": [
            2
           ],
           "y": [
            0
           ]
          }
         ],
         "layout": {
          "annotations": [
           {
            "font": {
             "color": "purple",
             "size": 14
            },
            "showarrow": false,
            "text": "<b>Step 472</b><br>AoMA_0=0.0, AoMA_1=0.0<br>Battery=19.0<br>Action=Go L0",
            "x": 0.5,
            "xref": "paper",
            "y": 1.1,
            "yref": "paper"
           }
          ]
         },
         "name": "frame_472"
        },
        {
         "data": [
          {
           "type": "scatter",
           "x": [
            0,
            0,
            2
           ],
           "y": [
            1,
            -1,
            0
           ]
          },
          {
           "type": "scatter",
           "x": [
            0
           ],
           "y": [
            1
           ]
          }
         ],
         "layout": {
          "annotations": [
           {
            "font": {
             "color": "purple",
             "size": 14
            },
            "showarrow": false,
            "text": "<b>Step 473</b><br>AoMA_0=0.0, AoMA_1=0.0<br>Battery=16.0<br>Action=Go Home",
            "x": 0.5,
            "xref": "paper",
            "y": 1.1,
            "yref": "paper"
           }
          ]
         },
         "name": "frame_473"
        },
        {
         "data": [
          {
           "type": "scatter",
           "x": [
            0,
            0,
            2
           ],
           "y": [
            1,
            -1,
            0
           ]
          },
          {
           "type": "scatter",
           "x": [
            2
           ],
           "y": [
            0
           ]
          }
         ],
         "layout": {
          "annotations": [
           {
            "font": {
             "color": "purple",
             "size": 14
            },
            "showarrow": false,
            "text": "<b>Step 474</b><br>AoMA_0=2.0, AoMA_1=0.0<br>Battery=13.0<br>Action=Wait",
            "x": 0.5,
            "xref": "paper",
            "y": 1.1,
            "yref": "paper"
           }
          ]
         },
         "name": "frame_474"
        },
        {
         "data": [
          {
           "type": "scatter",
           "x": [
            0,
            0,
            2
           ],
           "y": [
            1,
            -1,
            0
           ]
          },
          {
           "type": "scatter",
           "x": [
            2
           ],
           "y": [
            0
           ]
          }
         ],
         "layout": {
          "annotations": [
           {
            "font": {
             "color": "purple",
             "size": 14
            },
            "showarrow": false,
            "text": "<b>Step 475</b><br>AoMA_0=3.0, AoMA_1=0.0<br>Battery=18.0<br>Action=Go L0",
            "x": 0.5,
            "xref": "paper",
            "y": 1.1,
            "yref": "paper"
           }
          ]
         },
         "name": "frame_475"
        },
        {
         "data": [
          {
           "type": "scatter",
           "x": [
            0,
            0,
            2
           ],
           "y": [
            1,
            -1,
            0
           ]
          },
          {
           "type": "scatter",
           "x": [
            0
           ],
           "y": [
            1
           ]
          }
         ],
         "layout": {
          "annotations": [
           {
            "font": {
             "color": "purple",
             "size": 14
            },
            "showarrow": false,
            "text": "<b>Step 476</b><br>AoMA_0=0.0, AoMA_1=2.0<br>Battery=15.0<br>Action=Go L1",
            "x": 0.5,
            "xref": "paper",
            "y": 1.1,
            "yref": "paper"
           }
          ]
         },
         "name": "frame_476"
        },
        {
         "data": [
          {
           "type": "scatter",
           "x": [
            0,
            0,
            2
           ],
           "y": [
            1,
            -1,
            0
           ]
          },
          {
           "type": "scatter",
           "x": [
            0
           ],
           "y": [
            -1
           ]
          }
         ],
         "layout": {
          "annotations": [
           {
            "font": {
             "color": "purple",
             "size": 14
            },
            "showarrow": false,
            "text": "<b>Step 477</b><br>AoMA_0=0.0, AoMA_1=0.0<br>Battery=13.0<br>Action=Go L0",
            "x": 0.5,
            "xref": "paper",
            "y": 1.1,
            "yref": "paper"
           }
          ]
         },
         "name": "frame_477"
        },
        {
         "data": [
          {
           "type": "scatter",
           "x": [
            0,
            0,
            2
           ],
           "y": [
            1,
            -1,
            0
           ]
          },
          {
           "type": "scatter",
           "x": [
            0
           ],
           "y": [
            1
           ]
          }
         ],
         "layout": {
          "annotations": [
           {
            "font": {
             "color": "purple",
             "size": 14
            },
            "showarrow": false,
            "text": "<b>Step 478</b><br>AoMA_0=0.0, AoMA_1=0.0<br>Battery=11.0<br>Action=Go Home",
            "x": 0.5,
            "xref": "paper",
            "y": 1.1,
            "yref": "paper"
           }
          ]
         },
         "name": "frame_478"
        },
        {
         "data": [
          {
           "type": "scatter",
           "x": [
            0,
            0,
            2
           ],
           "y": [
            1,
            -1,
            0
           ]
          },
          {
           "type": "scatter",
           "x": [
            2
           ],
           "y": [
            0
           ]
          }
         ],
         "layout": {
          "annotations": [
           {
            "font": {
             "color": "purple",
             "size": 14
            },
            "showarrow": false,
            "text": "<b>Step 479</b><br>AoMA_0=0.0, AoMA_1=0.0<br>Battery=8.0<br>Action=Wait",
            "x": 0.5,
            "xref": "paper",
            "y": 1.1,
            "yref": "paper"
           }
          ]
         },
         "name": "frame_479"
        },
        {
         "data": [
          {
           "type": "scatter",
           "x": [
            0,
            0,
            2
           ],
           "y": [
            1,
            -1,
            0
           ]
          },
          {
           "type": "scatter",
           "x": [
            2
           ],
           "y": [
            0
           ]
          }
         ],
         "layout": {
          "annotations": [
           {
            "font": {
             "color": "purple",
             "size": 14
            },
            "showarrow": false,
            "text": "<b>Step 480</b><br>AoMA_0=0.0, AoMA_1=0.0<br>Battery=13.0<br>Action=Wait",
            "x": 0.5,
            "xref": "paper",
            "y": 1.1,
            "yref": "paper"
           }
          ]
         },
         "name": "frame_480"
        },
        {
         "data": [
          {
           "type": "scatter",
           "x": [
            0,
            0,
            2
           ],
           "y": [
            1,
            -1,
            0
           ]
          },
          {
           "type": "scatter",
           "x": [
            2
           ],
           "y": [
            0
           ]
          }
         ],
         "layout": {
          "annotations": [
           {
            "font": {
             "color": "purple",
             "size": 14
            },
            "showarrow": false,
            "text": "<b>Step 481</b><br>AoMA_0=0.0, AoMA_1=0.0<br>Battery=18.0<br>Action=Wait",
            "x": 0.5,
            "xref": "paper",
            "y": 1.1,
            "yref": "paper"
           }
          ]
         },
         "name": "frame_481"
        },
        {
         "data": [
          {
           "type": "scatter",
           "x": [
            0,
            0,
            2
           ],
           "y": [
            1,
            -1,
            0
           ]
          },
          {
           "type": "scatter",
           "x": [
            2
           ],
           "y": [
            0
           ]
          }
         ],
         "layout": {
          "annotations": [
           {
            "font": {
             "color": "purple",
             "size": 14
            },
            "showarrow": false,
            "text": "<b>Step 482</b><br>AoMA_0=0.0, AoMA_1=0.0<br>Battery=20.0<br>Action=Go L0",
            "x": 0.5,
            "xref": "paper",
            "y": 1.1,
            "yref": "paper"
           }
          ]
         },
         "name": "frame_482"
        },
        {
         "data": [
          {
           "type": "scatter",
           "x": [
            0,
            0,
            2
           ],
           "y": [
            1,
            -1,
            0
           ]
          },
          {
           "type": "scatter",
           "x": [
            0
           ],
           "y": [
            1
           ]
          }
         ],
         "layout": {
          "annotations": [
           {
            "font": {
             "color": "purple",
             "size": 14
            },
            "showarrow": false,
            "text": "<b>Step 483</b><br>AoMA_0=0.0, AoMA_1=0.0<br>Battery=17.0<br>Action=Go Home",
            "x": 0.5,
            "xref": "paper",
            "y": 1.1,
            "yref": "paper"
           }
          ]
         },
         "name": "frame_483"
        },
        {
         "data": [
          {
           "type": "scatter",
           "x": [
            0,
            0,
            2
           ],
           "y": [
            1,
            -1,
            0
           ]
          },
          {
           "type": "scatter",
           "x": [
            2
           ],
           "y": [
            0
           ]
          }
         ],
         "layout": {
          "annotations": [
           {
            "font": {
             "color": "purple",
             "size": 14
            },
            "showarrow": false,
            "text": "<b>Step 484</b><br>AoMA_0=0.0, AoMA_1=0.0<br>Battery=14.0<br>Action=Wait",
            "x": 0.5,
            "xref": "paper",
            "y": 1.1,
            "yref": "paper"
           }
          ]
         },
         "name": "frame_484"
        },
        {
         "data": [
          {
           "type": "scatter",
           "x": [
            0,
            0,
            2
           ],
           "y": [
            1,
            -1,
            0
           ]
          },
          {
           "type": "scatter",
           "x": [
            2
           ],
           "y": [
            0
           ]
          }
         ],
         "layout": {
          "annotations": [
           {
            "font": {
             "color": "purple",
             "size": 14
            },
            "showarrow": false,
            "text": "<b>Step 485</b><br>AoMA_0=0.0, AoMA_1=0.0<br>Battery=19.0<br>Action=Go L0",
            "x": 0.5,
            "xref": "paper",
            "y": 1.1,
            "yref": "paper"
           }
          ]
         },
         "name": "frame_485"
        },
        {
         "data": [
          {
           "type": "scatter",
           "x": [
            0,
            0,
            2
           ],
           "y": [
            1,
            -1,
            0
           ]
          },
          {
           "type": "scatter",
           "x": [
            0
           ],
           "y": [
            1
           ]
          }
         ],
         "layout": {
          "annotations": [
           {
            "font": {
             "color": "purple",
             "size": 14
            },
            "showarrow": false,
            "text": "<b>Step 486</b><br>AoMA_0=0.0, AoMA_1=0.0<br>Battery=16.0<br>Action=Go Home",
            "x": 0.5,
            "xref": "paper",
            "y": 1.1,
            "yref": "paper"
           }
          ]
         },
         "name": "frame_486"
        },
        {
         "data": [
          {
           "type": "scatter",
           "x": [
            0,
            0,
            2
           ],
           "y": [
            1,
            -1,
            0
           ]
          },
          {
           "type": "scatter",
           "x": [
            2
           ],
           "y": [
            0
           ]
          }
         ],
         "layout": {
          "annotations": [
           {
            "font": {
             "color": "purple",
             "size": 14
            },
            "showarrow": false,
            "text": "<b>Step 487</b><br>AoMA_0=0.0, AoMA_1=0.0<br>Battery=13.0<br>Action=Wait",
            "x": 0.5,
            "xref": "paper",
            "y": 1.1,
            "yref": "paper"
           }
          ]
         },
         "name": "frame_487"
        },
        {
         "data": [
          {
           "type": "scatter",
           "x": [
            0,
            0,
            2
           ],
           "y": [
            1,
            -1,
            0
           ]
          },
          {
           "type": "scatter",
           "x": [
            2
           ],
           "y": [
            0
           ]
          }
         ],
         "layout": {
          "annotations": [
           {
            "font": {
             "color": "purple",
             "size": 14
            },
            "showarrow": false,
            "text": "<b>Step 488</b><br>AoMA_0=0.0, AoMA_1=0.0<br>Battery=18.0<br>Action=Wait",
            "x": 0.5,
            "xref": "paper",
            "y": 1.1,
            "yref": "paper"
           }
          ]
         },
         "name": "frame_488"
        },
        {
         "data": [
          {
           "type": "scatter",
           "x": [
            0,
            0,
            2
           ],
           "y": [
            1,
            -1,
            0
           ]
          },
          {
           "type": "scatter",
           "x": [
            2
           ],
           "y": [
            0
           ]
          }
         ],
         "layout": {
          "annotations": [
           {
            "font": {
             "color": "purple",
             "size": 14
            },
            "showarrow": false,
            "text": "<b>Step 489</b><br>AoMA_0=0.0, AoMA_1=0.0<br>Battery=20.0<br>Action=Go L0",
            "x": 0.5,
            "xref": "paper",
            "y": 1.1,
            "yref": "paper"
           }
          ]
         },
         "name": "frame_489"
        },
        {
         "data": [
          {
           "type": "scatter",
           "x": [
            0,
            0,
            2
           ],
           "y": [
            1,
            -1,
            0
           ]
          },
          {
           "type": "scatter",
           "x": [
            0
           ],
           "y": [
            1
           ]
          }
         ],
         "layout": {
          "annotations": [
           {
            "font": {
             "color": "purple",
             "size": 14
            },
            "showarrow": false,
            "text": "<b>Step 490</b><br>AoMA_0=0.0, AoMA_1=2.0<br>Battery=17.0<br>Action=Go L1",
            "x": 0.5,
            "xref": "paper",
            "y": 1.1,
            "yref": "paper"
           }
          ]
         },
         "name": "frame_490"
        },
        {
         "data": [
          {
           "type": "scatter",
           "x": [
            0,
            0,
            2
           ],
           "y": [
            1,
            -1,
            0
           ]
          },
          {
           "type": "scatter",
           "x": [
            0
           ],
           "y": [
            -1
           ]
          }
         ],
         "layout": {
          "annotations": [
           {
            "font": {
             "color": "purple",
             "size": 14
            },
            "showarrow": false,
            "text": "<b>Step 491</b><br>AoMA_0=0.0, AoMA_1=0.0<br>Battery=15.0<br>Action=Go L0",
            "x": 0.5,
            "xref": "paper",
            "y": 1.1,
            "yref": "paper"
           }
          ]
         },
         "name": "frame_491"
        },
        {
         "data": [
          {
           "type": "scatter",
           "x": [
            0,
            0,
            2
           ],
           "y": [
            1,
            -1,
            0
           ]
          },
          {
           "type": "scatter",
           "x": [
            0
           ],
           "y": [
            1
           ]
          }
         ],
         "layout": {
          "annotations": [
           {
            "font": {
             "color": "purple",
             "size": 14
            },
            "showarrow": false,
            "text": "<b>Step 492</b><br>AoMA_0=0.0, AoMA_1=0.0<br>Battery=13.0<br>Action=Go Home",
            "x": 0.5,
            "xref": "paper",
            "y": 1.1,
            "yref": "paper"
           }
          ]
         },
         "name": "frame_492"
        },
        {
         "data": [
          {
           "type": "scatter",
           "x": [
            0,
            0,
            2
           ],
           "y": [
            1,
            -1,
            0
           ]
          },
          {
           "type": "scatter",
           "x": [
            2
           ],
           "y": [
            0
           ]
          }
         ],
         "layout": {
          "annotations": [
           {
            "font": {
             "color": "purple",
             "size": 14
            },
            "showarrow": false,
            "text": "<b>Step 493</b><br>AoMA_0=0.0, AoMA_1=2.0<br>Battery=10.0<br>Action=Wait",
            "x": 0.5,
            "xref": "paper",
            "y": 1.1,
            "yref": "paper"
           }
          ]
         },
         "name": "frame_493"
        },
        {
         "data": [
          {
           "type": "scatter",
           "x": [
            0,
            0,
            2
           ],
           "y": [
            1,
            -1,
            0
           ]
          },
          {
           "type": "scatter",
           "x": [
            2
           ],
           "y": [
            0
           ]
          }
         ],
         "layout": {
          "annotations": [
           {
            "font": {
             "color": "purple",
             "size": 14
            },
            "showarrow": false,
            "text": "<b>Step 494</b><br>AoMA_0=0.0, AoMA_1=3.0<br>Battery=15.0<br>Action=Wait",
            "x": 0.5,
            "xref": "paper",
            "y": 1.1,
            "yref": "paper"
           }
          ]
         },
         "name": "frame_494"
        },
        {
         "data": [
          {
           "type": "scatter",
           "x": [
            0,
            0,
            2
           ],
           "y": [
            1,
            -1,
            0
           ]
          },
          {
           "type": "scatter",
           "x": [
            2
           ],
           "y": [
            0
           ]
          }
         ],
         "layout": {
          "annotations": [
           {
            "font": {
             "color": "purple",
             "size": 14
            },
            "showarrow": false,
            "text": "<b>Step 495</b><br>AoMA_0=1.0, AoMA_1=4.0<br>Battery=20.0<br>Action=Go L0",
            "x": 0.5,
            "xref": "paper",
            "y": 1.1,
            "yref": "paper"
           }
          ]
         },
         "name": "frame_495"
        },
        {
         "data": [
          {
           "type": "scatter",
           "x": [
            0,
            0,
            2
           ],
           "y": [
            1,
            -1,
            0
           ]
          },
          {
           "type": "scatter",
           "x": [
            0
           ],
           "y": [
            1
           ]
          }
         ],
         "layout": {
          "annotations": [
           {
            "font": {
             "color": "purple",
             "size": 14
            },
            "showarrow": false,
            "text": "<b>Step 496</b><br>AoMA_0=0.0, AoMA_1=7.0<br>Battery=17.0<br>Action=Go L1",
            "x": 0.5,
            "xref": "paper",
            "y": 1.1,
            "yref": "paper"
           }
          ]
         },
         "name": "frame_496"
        },
        {
         "data": [
          {
           "type": "scatter",
           "x": [
            0,
            0,
            2
           ],
           "y": [
            1,
            -1,
            0
           ]
          },
          {
           "type": "scatter",
           "x": [
            0
           ],
           "y": [
            -1
           ]
          }
         ],
         "layout": {
          "annotations": [
           {
            "font": {
             "color": "purple",
             "size": 14
            },
            "showarrow": false,
            "text": "<b>Step 497</b><br>AoMA_0=0.0, AoMA_1=0.0<br>Battery=15.0<br>Action=Go L0",
            "x": 0.5,
            "xref": "paper",
            "y": 1.1,
            "yref": "paper"
           }
          ]
         },
         "name": "frame_497"
        },
        {
         "data": [
          {
           "type": "scatter",
           "x": [
            0,
            0,
            2
           ],
           "y": [
            1,
            -1,
            0
           ]
          },
          {
           "type": "scatter",
           "x": [
            0
           ],
           "y": [
            1
           ]
          }
         ],
         "layout": {
          "annotations": [
           {
            "font": {
             "color": "purple",
             "size": 14
            },
            "showarrow": false,
            "text": "<b>Step 498</b><br>AoMA_0=0.0, AoMA_1=2.0<br>Battery=13.0<br>Action=Go L1",
            "x": 0.5,
            "xref": "paper",
            "y": 1.1,
            "yref": "paper"
           }
          ]
         },
         "name": "frame_498"
        },
        {
         "data": [
          {
           "type": "scatter",
           "x": [
            0,
            0,
            2
           ],
           "y": [
            1,
            -1,
            0
           ]
          },
          {
           "type": "scatter",
           "x": [
            0
           ],
           "y": [
            -1
           ]
          }
         ],
         "layout": {
          "annotations": [
           {
            "font": {
             "color": "purple",
             "size": 14
            },
            "showarrow": false,
            "text": "<b>Step 499</b><br>AoMA_0=0.0, AoMA_1=0.0<br>Battery=11.0<br>Action=Go L0",
            "x": 0.5,
            "xref": "paper",
            "y": 1.1,
            "yref": "paper"
           }
          ]
         },
         "name": "frame_499"
        }
       ],
       "layout": {
        "annotations": [
         {
          "font": {
           "color": "purple",
           "size": 14
          },
          "showarrow": false,
          "text": "<b>Step 0</b><br>AoMA_0=0.0, AoMA_1=0.0<br>Battery=20.0<br>Action=Go L0",
          "x": 0.5,
          "xref": "paper",
          "y": 1.1,
          "yref": "paper"
         }
        ],
        "height": 600,
        "showlegend": false,
        "sliders": [
         {
          "currentvalue": {
           "font": {
            "size": 12
           },
           "prefix": "StepIndex: "
          },
          "len": 0.9,
          "steps": [
           {
            "args": [
             [
              "name == frame_0"
             ],
             {
              "frame": {
               "duration": 600,
               "redraw": true
              },
              "mode": "immediate",
              "transition": {
               "duration": 0
              }
             }
            ],
            "label": "0",
            "method": "animate"
           },
           {
            "args": [
             [
              "name == frame_1"
             ],
             {
              "frame": {
               "duration": 600,
               "redraw": true
              },
              "mode": "immediate",
              "transition": {
               "duration": 0
              }
             }
            ],
            "label": "1",
            "method": "animate"
           },
           {
            "args": [
             [
              "name == frame_2"
             ],
             {
              "frame": {
               "duration": 600,
               "redraw": true
              },
              "mode": "immediate",
              "transition": {
               "duration": 0
              }
             }
            ],
            "label": "2",
            "method": "animate"
           },
           {
            "args": [
             [
              "name == frame_3"
             ],
             {
              "frame": {
               "duration": 600,
               "redraw": true
              },
              "mode": "immediate",
              "transition": {
               "duration": 0
              }
             }
            ],
            "label": "3",
            "method": "animate"
           },
           {
            "args": [
             [
              "name == frame_4"
             ],
             {
              "frame": {
               "duration": 600,
               "redraw": true
              },
              "mode": "immediate",
              "transition": {
               "duration": 0
              }
             }
            ],
            "label": "4",
            "method": "animate"
           },
           {
            "args": [
             [
              "name == frame_5"
             ],
             {
              "frame": {
               "duration": 600,
               "redraw": true
              },
              "mode": "immediate",
              "transition": {
               "duration": 0
              }
             }
            ],
            "label": "5",
            "method": "animate"
           },
           {
            "args": [
             [
              "name == frame_6"
             ],
             {
              "frame": {
               "duration": 600,
               "redraw": true
              },
              "mode": "immediate",
              "transition": {
               "duration": 0
              }
             }
            ],
            "label": "6",
            "method": "animate"
           },
           {
            "args": [
             [
              "name == frame_7"
             ],
             {
              "frame": {
               "duration": 600,
               "redraw": true
              },
              "mode": "immediate",
              "transition": {
               "duration": 0
              }
             }
            ],
            "label": "7",
            "method": "animate"
           },
           {
            "args": [
             [
              "name == frame_8"
             ],
             {
              "frame": {
               "duration": 600,
               "redraw": true
              },
              "mode": "immediate",
              "transition": {
               "duration": 0
              }
             }
            ],
            "label": "8",
            "method": "animate"
           },
           {
            "args": [
             [
              "name == frame_9"
             ],
             {
              "frame": {
               "duration": 600,
               "redraw": true
              },
              "mode": "immediate",
              "transition": {
               "duration": 0
              }
             }
            ],
            "label": "9",
            "method": "animate"
           },
           {
            "args": [
             [
              "name == frame_10"
             ],
             {
              "frame": {
               "duration": 600,
               "redraw": true
              },
              "mode": "immediate",
              "transition": {
               "duration": 0
              }
             }
            ],
            "label": "10",
            "method": "animate"
           },
           {
            "args": [
             [
              "name == frame_11"
             ],
             {
              "frame": {
               "duration": 600,
               "redraw": true
              },
              "mode": "immediate",
              "transition": {
               "duration": 0
              }
             }
            ],
            "label": "11",
            "method": "animate"
           },
           {
            "args": [
             [
              "name == frame_12"
             ],
             {
              "frame": {
               "duration": 600,
               "redraw": true
              },
              "mode": "immediate",
              "transition": {
               "duration": 0
              }
             }
            ],
            "label": "12",
            "method": "animate"
           },
           {
            "args": [
             [
              "name == frame_13"
             ],
             {
              "frame": {
               "duration": 600,
               "redraw": true
              },
              "mode": "immediate",
              "transition": {
               "duration": 0
              }
             }
            ],
            "label": "13",
            "method": "animate"
           },
           {
            "args": [
             [
              "name == frame_14"
             ],
             {
              "frame": {
               "duration": 600,
               "redraw": true
              },
              "mode": "immediate",
              "transition": {
               "duration": 0
              }
             }
            ],
            "label": "14",
            "method": "animate"
           },
           {
            "args": [
             [
              "name == frame_15"
             ],
             {
              "frame": {
               "duration": 600,
               "redraw": true
              },
              "mode": "immediate",
              "transition": {
               "duration": 0
              }
             }
            ],
            "label": "15",
            "method": "animate"
           },
           {
            "args": [
             [
              "name == frame_16"
             ],
             {
              "frame": {
               "duration": 600,
               "redraw": true
              },
              "mode": "immediate",
              "transition": {
               "duration": 0
              }
             }
            ],
            "label": "16",
            "method": "animate"
           },
           {
            "args": [
             [
              "name == frame_17"
             ],
             {
              "frame": {
               "duration": 600,
               "redraw": true
              },
              "mode": "immediate",
              "transition": {
               "duration": 0
              }
             }
            ],
            "label": "17",
            "method": "animate"
           },
           {
            "args": [
             [
              "name == frame_18"
             ],
             {
              "frame": {
               "duration": 600,
               "redraw": true
              },
              "mode": "immediate",
              "transition": {
               "duration": 0
              }
             }
            ],
            "label": "18",
            "method": "animate"
           },
           {
            "args": [
             [
              "name == frame_19"
             ],
             {
              "frame": {
               "duration": 600,
               "redraw": true
              },
              "mode": "immediate",
              "transition": {
               "duration": 0
              }
             }
            ],
            "label": "19",
            "method": "animate"
           },
           {
            "args": [
             [
              "name == frame_20"
             ],
             {
              "frame": {
               "duration": 600,
               "redraw": true
              },
              "mode": "immediate",
              "transition": {
               "duration": 0
              }
             }
            ],
            "label": "20",
            "method": "animate"
           },
           {
            "args": [
             [
              "name == frame_21"
             ],
             {
              "frame": {
               "duration": 600,
               "redraw": true
              },
              "mode": "immediate",
              "transition": {
               "duration": 0
              }
             }
            ],
            "label": "21",
            "method": "animate"
           },
           {
            "args": [
             [
              "name == frame_22"
             ],
             {
              "frame": {
               "duration": 600,
               "redraw": true
              },
              "mode": "immediate",
              "transition": {
               "duration": 0
              }
             }
            ],
            "label": "22",
            "method": "animate"
           },
           {
            "args": [
             [
              "name == frame_23"
             ],
             {
              "frame": {
               "duration": 600,
               "redraw": true
              },
              "mode": "immediate",
              "transition": {
               "duration": 0
              }
             }
            ],
            "label": "23",
            "method": "animate"
           },
           {
            "args": [
             [
              "name == frame_24"
             ],
             {
              "frame": {
               "duration": 600,
               "redraw": true
              },
              "mode": "immediate",
              "transition": {
               "duration": 0
              }
             }
            ],
            "label": "24",
            "method": "animate"
           },
           {
            "args": [
             [
              "name == frame_25"
             ],
             {
              "frame": {
               "duration": 600,
               "redraw": true
              },
              "mode": "immediate",
              "transition": {
               "duration": 0
              }
             }
            ],
            "label": "25",
            "method": "animate"
           },
           {
            "args": [
             [
              "name == frame_26"
             ],
             {
              "frame": {
               "duration": 600,
               "redraw": true
              },
              "mode": "immediate",
              "transition": {
               "duration": 0
              }
             }
            ],
            "label": "26",
            "method": "animate"
           },
           {
            "args": [
             [
              "name == frame_27"
             ],
             {
              "frame": {
               "duration": 600,
               "redraw": true
              },
              "mode": "immediate",
              "transition": {
               "duration": 0
              }
             }
            ],
            "label": "27",
            "method": "animate"
           },
           {
            "args": [
             [
              "name == frame_28"
             ],
             {
              "frame": {
               "duration": 600,
               "redraw": true
              },
              "mode": "immediate",
              "transition": {
               "duration": 0
              }
             }
            ],
            "label": "28",
            "method": "animate"
           },
           {
            "args": [
             [
              "name == frame_29"
             ],
             {
              "frame": {
               "duration": 600,
               "redraw": true
              },
              "mode": "immediate",
              "transition": {
               "duration": 0
              }
             }
            ],
            "label": "29",
            "method": "animate"
           },
           {
            "args": [
             [
              "name == frame_30"
             ],
             {
              "frame": {
               "duration": 600,
               "redraw": true
              },
              "mode": "immediate",
              "transition": {
               "duration": 0
              }
             }
            ],
            "label": "30",
            "method": "animate"
           },
           {
            "args": [
             [
              "name == frame_31"
             ],
             {
              "frame": {
               "duration": 600,
               "redraw": true
              },
              "mode": "immediate",
              "transition": {
               "duration": 0
              }
             }
            ],
            "label": "31",
            "method": "animate"
           },
           {
            "args": [
             [
              "name == frame_32"
             ],
             {
              "frame": {
               "duration": 600,
               "redraw": true
              },
              "mode": "immediate",
              "transition": {
               "duration": 0
              }
             }
            ],
            "label": "32",
            "method": "animate"
           },
           {
            "args": [
             [
              "name == frame_33"
             ],
             {
              "frame": {
               "duration": 600,
               "redraw": true
              },
              "mode": "immediate",
              "transition": {
               "duration": 0
              }
             }
            ],
            "label": "33",
            "method": "animate"
           },
           {
            "args": [
             [
              "name == frame_34"
             ],
             {
              "frame": {
               "duration": 600,
               "redraw": true
              },
              "mode": "immediate",
              "transition": {
               "duration": 0
              }
             }
            ],
            "label": "34",
            "method": "animate"
           },
           {
            "args": [
             [
              "name == frame_35"
             ],
             {
              "frame": {
               "duration": 600,
               "redraw": true
              },
              "mode": "immediate",
              "transition": {
               "duration": 0
              }
             }
            ],
            "label": "35",
            "method": "animate"
           },
           {
            "args": [
             [
              "name == frame_36"
             ],
             {
              "frame": {
               "duration": 600,
               "redraw": true
              },
              "mode": "immediate",
              "transition": {
               "duration": 0
              }
             }
            ],
            "label": "36",
            "method": "animate"
           },
           {
            "args": [
             [
              "name == frame_37"
             ],
             {
              "frame": {
               "duration": 600,
               "redraw": true
              },
              "mode": "immediate",
              "transition": {
               "duration": 0
              }
             }
            ],
            "label": "37",
            "method": "animate"
           },
           {
            "args": [
             [
              "name == frame_38"
             ],
             {
              "frame": {
               "duration": 600,
               "redraw": true
              },
              "mode": "immediate",
              "transition": {
               "duration": 0
              }
             }
            ],
            "label": "38",
            "method": "animate"
           },
           {
            "args": [
             [
              "name == frame_39"
             ],
             {
              "frame": {
               "duration": 600,
               "redraw": true
              },
              "mode": "immediate",
              "transition": {
               "duration": 0
              }
             }
            ],
            "label": "39",
            "method": "animate"
           },
           {
            "args": [
             [
              "name == frame_40"
             ],
             {
              "frame": {
               "duration": 600,
               "redraw": true
              },
              "mode": "immediate",
              "transition": {
               "duration": 0
              }
             }
            ],
            "label": "40",
            "method": "animate"
           },
           {
            "args": [
             [
              "name == frame_41"
             ],
             {
              "frame": {
               "duration": 600,
               "redraw": true
              },
              "mode": "immediate",
              "transition": {
               "duration": 0
              }
             }
            ],
            "label": "41",
            "method": "animate"
           },
           {
            "args": [
             [
              "name == frame_42"
             ],
             {
              "frame": {
               "duration": 600,
               "redraw": true
              },
              "mode": "immediate",
              "transition": {
               "duration": 0
              }
             }
            ],
            "label": "42",
            "method": "animate"
           },
           {
            "args": [
             [
              "name == frame_43"
             ],
             {
              "frame": {
               "duration": 600,
               "redraw": true
              },
              "mode": "immediate",
              "transition": {
               "duration": 0
              }
             }
            ],
            "label": "43",
            "method": "animate"
           },
           {
            "args": [
             [
              "name == frame_44"
             ],
             {
              "frame": {
               "duration": 600,
               "redraw": true
              },
              "mode": "immediate",
              "transition": {
               "duration": 0
              }
             }
            ],
            "label": "44",
            "method": "animate"
           },
           {
            "args": [
             [
              "name == frame_45"
             ],
             {
              "frame": {
               "duration": 600,
               "redraw": true
              },
              "mode": "immediate",
              "transition": {
               "duration": 0
              }
             }
            ],
            "label": "45",
            "method": "animate"
           },
           {
            "args": [
             [
              "name == frame_46"
             ],
             {
              "frame": {
               "duration": 600,
               "redraw": true
              },
              "mode": "immediate",
              "transition": {
               "duration": 0
              }
             }
            ],
            "label": "46",
            "method": "animate"
           },
           {
            "args": [
             [
              "name == frame_47"
             ],
             {
              "frame": {
               "duration": 600,
               "redraw": true
              },
              "mode": "immediate",
              "transition": {
               "duration": 0
              }
             }
            ],
            "label": "47",
            "method": "animate"
           },
           {
            "args": [
             [
              "name == frame_48"
             ],
             {
              "frame": {
               "duration": 600,
               "redraw": true
              },
              "mode": "immediate",
              "transition": {
               "duration": 0
              }
             }
            ],
            "label": "48",
            "method": "animate"
           },
           {
            "args": [
             [
              "name == frame_49"
             ],
             {
              "frame": {
               "duration": 600,
               "redraw": true
              },
              "mode": "immediate",
              "transition": {
               "duration": 0
              }
             }
            ],
            "label": "49",
            "method": "animate"
           },
           {
            "args": [
             [
              "name == frame_50"
             ],
             {
              "frame": {
               "duration": 600,
               "redraw": true
              },
              "mode": "immediate",
              "transition": {
               "duration": 0
              }
             }
            ],
            "label": "50",
            "method": "animate"
           },
           {
            "args": [
             [
              "name == frame_51"
             ],
             {
              "frame": {
               "duration": 600,
               "redraw": true
              },
              "mode": "immediate",
              "transition": {
               "duration": 0
              }
             }
            ],
            "label": "51",
            "method": "animate"
           },
           {
            "args": [
             [
              "name == frame_52"
             ],
             {
              "frame": {
               "duration": 600,
               "redraw": true
              },
              "mode": "immediate",
              "transition": {
               "duration": 0
              }
             }
            ],
            "label": "52",
            "method": "animate"
           },
           {
            "args": [
             [
              "name == frame_53"
             ],
             {
              "frame": {
               "duration": 600,
               "redraw": true
              },
              "mode": "immediate",
              "transition": {
               "duration": 0
              }
             }
            ],
            "label": "53",
            "method": "animate"
           },
           {
            "args": [
             [
              "name == frame_54"
             ],
             {
              "frame": {
               "duration": 600,
               "redraw": true
              },
              "mode": "immediate",
              "transition": {
               "duration": 0
              }
             }
            ],
            "label": "54",
            "method": "animate"
           },
           {
            "args": [
             [
              "name == frame_55"
             ],
             {
              "frame": {
               "duration": 600,
               "redraw": true
              },
              "mode": "immediate",
              "transition": {
               "duration": 0
              }
             }
            ],
            "label": "55",
            "method": "animate"
           },
           {
            "args": [
             [
              "name == frame_56"
             ],
             {
              "frame": {
               "duration": 600,
               "redraw": true
              },
              "mode": "immediate",
              "transition": {
               "duration": 0
              }
             }
            ],
            "label": "56",
            "method": "animate"
           },
           {
            "args": [
             [
              "name == frame_57"
             ],
             {
              "frame": {
               "duration": 600,
               "redraw": true
              },
              "mode": "immediate",
              "transition": {
               "duration": 0
              }
             }
            ],
            "label": "57",
            "method": "animate"
           },
           {
            "args": [
             [
              "name == frame_58"
             ],
             {
              "frame": {
               "duration": 600,
               "redraw": true
              },
              "mode": "immediate",
              "transition": {
               "duration": 0
              }
             }
            ],
            "label": "58",
            "method": "animate"
           },
           {
            "args": [
             [
              "name == frame_59"
             ],
             {
              "frame": {
               "duration": 600,
               "redraw": true
              },
              "mode": "immediate",
              "transition": {
               "duration": 0
              }
             }
            ],
            "label": "59",
            "method": "animate"
           },
           {
            "args": [
             [
              "name == frame_60"
             ],
             {
              "frame": {
               "duration": 600,
               "redraw": true
              },
              "mode": "immediate",
              "transition": {
               "duration": 0
              }
             }
            ],
            "label": "60",
            "method": "animate"
           },
           {
            "args": [
             [
              "name == frame_61"
             ],
             {
              "frame": {
               "duration": 600,
               "redraw": true
              },
              "mode": "immediate",
              "transition": {
               "duration": 0
              }
             }
            ],
            "label": "61",
            "method": "animate"
           },
           {
            "args": [
             [
              "name == frame_62"
             ],
             {
              "frame": {
               "duration": 600,
               "redraw": true
              },
              "mode": "immediate",
              "transition": {
               "duration": 0
              }
             }
            ],
            "label": "62",
            "method": "animate"
           },
           {
            "args": [
             [
              "name == frame_63"
             ],
             {
              "frame": {
               "duration": 600,
               "redraw": true
              },
              "mode": "immediate",
              "transition": {
               "duration": 0
              }
             }
            ],
            "label": "63",
            "method": "animate"
           },
           {
            "args": [
             [
              "name == frame_64"
             ],
             {
              "frame": {
               "duration": 600,
               "redraw": true
              },
              "mode": "immediate",
              "transition": {
               "duration": 0
              }
             }
            ],
            "label": "64",
            "method": "animate"
           },
           {
            "args": [
             [
              "name == frame_65"
             ],
             {
              "frame": {
               "duration": 600,
               "redraw": true
              },
              "mode": "immediate",
              "transition": {
               "duration": 0
              }
             }
            ],
            "label": "65",
            "method": "animate"
           },
           {
            "args": [
             [
              "name == frame_66"
             ],
             {
              "frame": {
               "duration": 600,
               "redraw": true
              },
              "mode": "immediate",
              "transition": {
               "duration": 0
              }
             }
            ],
            "label": "66",
            "method": "animate"
           },
           {
            "args": [
             [
              "name == frame_67"
             ],
             {
              "frame": {
               "duration": 600,
               "redraw": true
              },
              "mode": "immediate",
              "transition": {
               "duration": 0
              }
             }
            ],
            "label": "67",
            "method": "animate"
           },
           {
            "args": [
             [
              "name == frame_68"
             ],
             {
              "frame": {
               "duration": 600,
               "redraw": true
              },
              "mode": "immediate",
              "transition": {
               "duration": 0
              }
             }
            ],
            "label": "68",
            "method": "animate"
           },
           {
            "args": [
             [
              "name == frame_69"
             ],
             {
              "frame": {
               "duration": 600,
               "redraw": true
              },
              "mode": "immediate",
              "transition": {
               "duration": 0
              }
             }
            ],
            "label": "69",
            "method": "animate"
           },
           {
            "args": [
             [
              "name == frame_70"
             ],
             {
              "frame": {
               "duration": 600,
               "redraw": true
              },
              "mode": "immediate",
              "transition": {
               "duration": 0
              }
             }
            ],
            "label": "70",
            "method": "animate"
           },
           {
            "args": [
             [
              "name == frame_71"
             ],
             {
              "frame": {
               "duration": 600,
               "redraw": true
              },
              "mode": "immediate",
              "transition": {
               "duration": 0
              }
             }
            ],
            "label": "71",
            "method": "animate"
           },
           {
            "args": [
             [
              "name == frame_72"
             ],
             {
              "frame": {
               "duration": 600,
               "redraw": true
              },
              "mode": "immediate",
              "transition": {
               "duration": 0
              }
             }
            ],
            "label": "72",
            "method": "animate"
           },
           {
            "args": [
             [
              "name == frame_73"
             ],
             {
              "frame": {
               "duration": 600,
               "redraw": true
              },
              "mode": "immediate",
              "transition": {
               "duration": 0
              }
             }
            ],
            "label": "73",
            "method": "animate"
           },
           {
            "args": [
             [
              "name == frame_74"
             ],
             {
              "frame": {
               "duration": 600,
               "redraw": true
              },
              "mode": "immediate",
              "transition": {
               "duration": 0
              }
             }
            ],
            "label": "74",
            "method": "animate"
           },
           {
            "args": [
             [
              "name == frame_75"
             ],
             {
              "frame": {
               "duration": 600,
               "redraw": true
              },
              "mode": "immediate",
              "transition": {
               "duration": 0
              }
             }
            ],
            "label": "75",
            "method": "animate"
           },
           {
            "args": [
             [
              "name == frame_76"
             ],
             {
              "frame": {
               "duration": 600,
               "redraw": true
              },
              "mode": "immediate",
              "transition": {
               "duration": 0
              }
             }
            ],
            "label": "76",
            "method": "animate"
           },
           {
            "args": [
             [
              "name == frame_77"
             ],
             {
              "frame": {
               "duration": 600,
               "redraw": true
              },
              "mode": "immediate",
              "transition": {
               "duration": 0
              }
             }
            ],
            "label": "77",
            "method": "animate"
           },
           {
            "args": [
             [
              "name == frame_78"
             ],
             {
              "frame": {
               "duration": 600,
               "redraw": true
              },
              "mode": "immediate",
              "transition": {
               "duration": 0
              }
             }
            ],
            "label": "78",
            "method": "animate"
           },
           {
            "args": [
             [
              "name == frame_79"
             ],
             {
              "frame": {
               "duration": 600,
               "redraw": true
              },
              "mode": "immediate",
              "transition": {
               "duration": 0
              }
             }
            ],
            "label": "79",
            "method": "animate"
           },
           {
            "args": [
             [
              "name == frame_80"
             ],
             {
              "frame": {
               "duration": 600,
               "redraw": true
              },
              "mode": "immediate",
              "transition": {
               "duration": 0
              }
             }
            ],
            "label": "80",
            "method": "animate"
           },
           {
            "args": [
             [
              "name == frame_81"
             ],
             {
              "frame": {
               "duration": 600,
               "redraw": true
              },
              "mode": "immediate",
              "transition": {
               "duration": 0
              }
             }
            ],
            "label": "81",
            "method": "animate"
           },
           {
            "args": [
             [
              "name == frame_82"
             ],
             {
              "frame": {
               "duration": 600,
               "redraw": true
              },
              "mode": "immediate",
              "transition": {
               "duration": 0
              }
             }
            ],
            "label": "82",
            "method": "animate"
           },
           {
            "args": [
             [
              "name == frame_83"
             ],
             {
              "frame": {
               "duration": 600,
               "redraw": true
              },
              "mode": "immediate",
              "transition": {
               "duration": 0
              }
             }
            ],
            "label": "83",
            "method": "animate"
           },
           {
            "args": [
             [
              "name == frame_84"
             ],
             {
              "frame": {
               "duration": 600,
               "redraw": true
              },
              "mode": "immediate",
              "transition": {
               "duration": 0
              }
             }
            ],
            "label": "84",
            "method": "animate"
           },
           {
            "args": [
             [
              "name == frame_85"
             ],
             {
              "frame": {
               "duration": 600,
               "redraw": true
              },
              "mode": "immediate",
              "transition": {
               "duration": 0
              }
             }
            ],
            "label": "85",
            "method": "animate"
           },
           {
            "args": [
             [
              "name == frame_86"
             ],
             {
              "frame": {
               "duration": 600,
               "redraw": true
              },
              "mode": "immediate",
              "transition": {
               "duration": 0
              }
             }
            ],
            "label": "86",
            "method": "animate"
           },
           {
            "args": [
             [
              "name == frame_87"
             ],
             {
              "frame": {
               "duration": 600,
               "redraw": true
              },
              "mode": "immediate",
              "transition": {
               "duration": 0
              }
             }
            ],
            "label": "87",
            "method": "animate"
           },
           {
            "args": [
             [
              "name == frame_88"
             ],
             {
              "frame": {
               "duration": 600,
               "redraw": true
              },
              "mode": "immediate",
              "transition": {
               "duration": 0
              }
             }
            ],
            "label": "88",
            "method": "animate"
           },
           {
            "args": [
             [
              "name == frame_89"
             ],
             {
              "frame": {
               "duration": 600,
               "redraw": true
              },
              "mode": "immediate",
              "transition": {
               "duration": 0
              }
             }
            ],
            "label": "89",
            "method": "animate"
           },
           {
            "args": [
             [
              "name == frame_90"
             ],
             {
              "frame": {
               "duration": 600,
               "redraw": true
              },
              "mode": "immediate",
              "transition": {
               "duration": 0
              }
             }
            ],
            "label": "90",
            "method": "animate"
           },
           {
            "args": [
             [
              "name == frame_91"
             ],
             {
              "frame": {
               "duration": 600,
               "redraw": true
              },
              "mode": "immediate",
              "transition": {
               "duration": 0
              }
             }
            ],
            "label": "91",
            "method": "animate"
           },
           {
            "args": [
             [
              "name == frame_92"
             ],
             {
              "frame": {
               "duration": 600,
               "redraw": true
              },
              "mode": "immediate",
              "transition": {
               "duration": 0
              }
             }
            ],
            "label": "92",
            "method": "animate"
           },
           {
            "args": [
             [
              "name == frame_93"
             ],
             {
              "frame": {
               "duration": 600,
               "redraw": true
              },
              "mode": "immediate",
              "transition": {
               "duration": 0
              }
             }
            ],
            "label": "93",
            "method": "animate"
           },
           {
            "args": [
             [
              "name == frame_94"
             ],
             {
              "frame": {
               "duration": 600,
               "redraw": true
              },
              "mode": "immediate",
              "transition": {
               "duration": 0
              }
             }
            ],
            "label": "94",
            "method": "animate"
           },
           {
            "args": [
             [
              "name == frame_95"
             ],
             {
              "frame": {
               "duration": 600,
               "redraw": true
              },
              "mode": "immediate",
              "transition": {
               "duration": 0
              }
             }
            ],
            "label": "95",
            "method": "animate"
           },
           {
            "args": [
             [
              "name == frame_96"
             ],
             {
              "frame": {
               "duration": 600,
               "redraw": true
              },
              "mode": "immediate",
              "transition": {
               "duration": 0
              }
             }
            ],
            "label": "96",
            "method": "animate"
           },
           {
            "args": [
             [
              "name == frame_97"
             ],
             {
              "frame": {
               "duration": 600,
               "redraw": true
              },
              "mode": "immediate",
              "transition": {
               "duration": 0
              }
             }
            ],
            "label": "97",
            "method": "animate"
           },
           {
            "args": [
             [
              "name == frame_98"
             ],
             {
              "frame": {
               "duration": 600,
               "redraw": true
              },
              "mode": "immediate",
              "transition": {
               "duration": 0
              }
             }
            ],
            "label": "98",
            "method": "animate"
           },
           {
            "args": [
             [
              "name == frame_99"
             ],
             {
              "frame": {
               "duration": 600,
               "redraw": true
              },
              "mode": "immediate",
              "transition": {
               "duration": 0
              }
             }
            ],
            "label": "99",
            "method": "animate"
           },
           {
            "args": [
             [
              "name == frame_100"
             ],
             {
              "frame": {
               "duration": 600,
               "redraw": true
              },
              "mode": "immediate",
              "transition": {
               "duration": 0
              }
             }
            ],
            "label": "100",
            "method": "animate"
           },
           {
            "args": [
             [
              "name == frame_101"
             ],
             {
              "frame": {
               "duration": 600,
               "redraw": true
              },
              "mode": "immediate",
              "transition": {
               "duration": 0
              }
             }
            ],
            "label": "101",
            "method": "animate"
           },
           {
            "args": [
             [
              "name == frame_102"
             ],
             {
              "frame": {
               "duration": 600,
               "redraw": true
              },
              "mode": "immediate",
              "transition": {
               "duration": 0
              }
             }
            ],
            "label": "102",
            "method": "animate"
           },
           {
            "args": [
             [
              "name == frame_103"
             ],
             {
              "frame": {
               "duration": 600,
               "redraw": true
              },
              "mode": "immediate",
              "transition": {
               "duration": 0
              }
             }
            ],
            "label": "103",
            "method": "animate"
           },
           {
            "args": [
             [
              "name == frame_104"
             ],
             {
              "frame": {
               "duration": 600,
               "redraw": true
              },
              "mode": "immediate",
              "transition": {
               "duration": 0
              }
             }
            ],
            "label": "104",
            "method": "animate"
           },
           {
            "args": [
             [
              "name == frame_105"
             ],
             {
              "frame": {
               "duration": 600,
               "redraw": true
              },
              "mode": "immediate",
              "transition": {
               "duration": 0
              }
             }
            ],
            "label": "105",
            "method": "animate"
           },
           {
            "args": [
             [
              "name == frame_106"
             ],
             {
              "frame": {
               "duration": 600,
               "redraw": true
              },
              "mode": "immediate",
              "transition": {
               "duration": 0
              }
             }
            ],
            "label": "106",
            "method": "animate"
           },
           {
            "args": [
             [
              "name == frame_107"
             ],
             {
              "frame": {
               "duration": 600,
               "redraw": true
              },
              "mode": "immediate",
              "transition": {
               "duration": 0
              }
             }
            ],
            "label": "107",
            "method": "animate"
           },
           {
            "args": [
             [
              "name == frame_108"
             ],
             {
              "frame": {
               "duration": 600,
               "redraw": true
              },
              "mode": "immediate",
              "transition": {
               "duration": 0
              }
             }
            ],
            "label": "108",
            "method": "animate"
           },
           {
            "args": [
             [
              "name == frame_109"
             ],
             {
              "frame": {
               "duration": 600,
               "redraw": true
              },
              "mode": "immediate",
              "transition": {
               "duration": 0
              }
             }
            ],
            "label": "109",
            "method": "animate"
           },
           {
            "args": [
             [
              "name == frame_110"
             ],
             {
              "frame": {
               "duration": 600,
               "redraw": true
              },
              "mode": "immediate",
              "transition": {
               "duration": 0
              }
             }
            ],
            "label": "110",
            "method": "animate"
           },
           {
            "args": [
             [
              "name == frame_111"
             ],
             {
              "frame": {
               "duration": 600,
               "redraw": true
              },
              "mode": "immediate",
              "transition": {
               "duration": 0
              }
             }
            ],
            "label": "111",
            "method": "animate"
           },
           {
            "args": [
             [
              "name == frame_112"
             ],
             {
              "frame": {
               "duration": 600,
               "redraw": true
              },
              "mode": "immediate",
              "transition": {
               "duration": 0
              }
             }
            ],
            "label": "112",
            "method": "animate"
           },
           {
            "args": [
             [
              "name == frame_113"
             ],
             {
              "frame": {
               "duration": 600,
               "redraw": true
              },
              "mode": "immediate",
              "transition": {
               "duration": 0
              }
             }
            ],
            "label": "113",
            "method": "animate"
           },
           {
            "args": [
             [
              "name == frame_114"
             ],
             {
              "frame": {
               "duration": 600,
               "redraw": true
              },
              "mode": "immediate",
              "transition": {
               "duration": 0
              }
             }
            ],
            "label": "114",
            "method": "animate"
           },
           {
            "args": [
             [
              "name == frame_115"
             ],
             {
              "frame": {
               "duration": 600,
               "redraw": true
              },
              "mode": "immediate",
              "transition": {
               "duration": 0
              }
             }
            ],
            "label": "115",
            "method": "animate"
           },
           {
            "args": [
             [
              "name == frame_116"
             ],
             {
              "frame": {
               "duration": 600,
               "redraw": true
              },
              "mode": "immediate",
              "transition": {
               "duration": 0
              }
             }
            ],
            "label": "116",
            "method": "animate"
           },
           {
            "args": [
             [
              "name == frame_117"
             ],
             {
              "frame": {
               "duration": 600,
               "redraw": true
              },
              "mode": "immediate",
              "transition": {
               "duration": 0
              }
             }
            ],
            "label": "117",
            "method": "animate"
           },
           {
            "args": [
             [
              "name == frame_118"
             ],
             {
              "frame": {
               "duration": 600,
               "redraw": true
              },
              "mode": "immediate",
              "transition": {
               "duration": 0
              }
             }
            ],
            "label": "118",
            "method": "animate"
           },
           {
            "args": [
             [
              "name == frame_119"
             ],
             {
              "frame": {
               "duration": 600,
               "redraw": true
              },
              "mode": "immediate",
              "transition": {
               "duration": 0
              }
             }
            ],
            "label": "119",
            "method": "animate"
           },
           {
            "args": [
             [
              "name == frame_120"
             ],
             {
              "frame": {
               "duration": 600,
               "redraw": true
              },
              "mode": "immediate",
              "transition": {
               "duration": 0
              }
             }
            ],
            "label": "120",
            "method": "animate"
           },
           {
            "args": [
             [
              "name == frame_121"
             ],
             {
              "frame": {
               "duration": 600,
               "redraw": true
              },
              "mode": "immediate",
              "transition": {
               "duration": 0
              }
             }
            ],
            "label": "121",
            "method": "animate"
           },
           {
            "args": [
             [
              "name == frame_122"
             ],
             {
              "frame": {
               "duration": 600,
               "redraw": true
              },
              "mode": "immediate",
              "transition": {
               "duration": 0
              }
             }
            ],
            "label": "122",
            "method": "animate"
           },
           {
            "args": [
             [
              "name == frame_123"
             ],
             {
              "frame": {
               "duration": 600,
               "redraw": true
              },
              "mode": "immediate",
              "transition": {
               "duration": 0
              }
             }
            ],
            "label": "123",
            "method": "animate"
           },
           {
            "args": [
             [
              "name == frame_124"
             ],
             {
              "frame": {
               "duration": 600,
               "redraw": true
              },
              "mode": "immediate",
              "transition": {
               "duration": 0
              }
             }
            ],
            "label": "124",
            "method": "animate"
           },
           {
            "args": [
             [
              "name == frame_125"
             ],
             {
              "frame": {
               "duration": 600,
               "redraw": true
              },
              "mode": "immediate",
              "transition": {
               "duration": 0
              }
             }
            ],
            "label": "125",
            "method": "animate"
           },
           {
            "args": [
             [
              "name == frame_126"
             ],
             {
              "frame": {
               "duration": 600,
               "redraw": true
              },
              "mode": "immediate",
              "transition": {
               "duration": 0
              }
             }
            ],
            "label": "126",
            "method": "animate"
           },
           {
            "args": [
             [
              "name == frame_127"
             ],
             {
              "frame": {
               "duration": 600,
               "redraw": true
              },
              "mode": "immediate",
              "transition": {
               "duration": 0
              }
             }
            ],
            "label": "127",
            "method": "animate"
           },
           {
            "args": [
             [
              "name == frame_128"
             ],
             {
              "frame": {
               "duration": 600,
               "redraw": true
              },
              "mode": "immediate",
              "transition": {
               "duration": 0
              }
             }
            ],
            "label": "128",
            "method": "animate"
           },
           {
            "args": [
             [
              "name == frame_129"
             ],
             {
              "frame": {
               "duration": 600,
               "redraw": true
              },
              "mode": "immediate",
              "transition": {
               "duration": 0
              }
             }
            ],
            "label": "129",
            "method": "animate"
           },
           {
            "args": [
             [
              "name == frame_130"
             ],
             {
              "frame": {
               "duration": 600,
               "redraw": true
              },
              "mode": "immediate",
              "transition": {
               "duration": 0
              }
             }
            ],
            "label": "130",
            "method": "animate"
           },
           {
            "args": [
             [
              "name == frame_131"
             ],
             {
              "frame": {
               "duration": 600,
               "redraw": true
              },
              "mode": "immediate",
              "transition": {
               "duration": 0
              }
             }
            ],
            "label": "131",
            "method": "animate"
           },
           {
            "args": [
             [
              "name == frame_132"
             ],
             {
              "frame": {
               "duration": 600,
               "redraw": true
              },
              "mode": "immediate",
              "transition": {
               "duration": 0
              }
             }
            ],
            "label": "132",
            "method": "animate"
           },
           {
            "args": [
             [
              "name == frame_133"
             ],
             {
              "frame": {
               "duration": 600,
               "redraw": true
              },
              "mode": "immediate",
              "transition": {
               "duration": 0
              }
             }
            ],
            "label": "133",
            "method": "animate"
           },
           {
            "args": [
             [
              "name == frame_134"
             ],
             {
              "frame": {
               "duration": 600,
               "redraw": true
              },
              "mode": "immediate",
              "transition": {
               "duration": 0
              }
             }
            ],
            "label": "134",
            "method": "animate"
           },
           {
            "args": [
             [
              "name == frame_135"
             ],
             {
              "frame": {
               "duration": 600,
               "redraw": true
              },
              "mode": "immediate",
              "transition": {
               "duration": 0
              }
             }
            ],
            "label": "135",
            "method": "animate"
           },
           {
            "args": [
             [
              "name == frame_136"
             ],
             {
              "frame": {
               "duration": 600,
               "redraw": true
              },
              "mode": "immediate",
              "transition": {
               "duration": 0
              }
             }
            ],
            "label": "136",
            "method": "animate"
           },
           {
            "args": [
             [
              "name == frame_137"
             ],
             {
              "frame": {
               "duration": 600,
               "redraw": true
              },
              "mode": "immediate",
              "transition": {
               "duration": 0
              }
             }
            ],
            "label": "137",
            "method": "animate"
           },
           {
            "args": [
             [
              "name == frame_138"
             ],
             {
              "frame": {
               "duration": 600,
               "redraw": true
              },
              "mode": "immediate",
              "transition": {
               "duration": 0
              }
             }
            ],
            "label": "138",
            "method": "animate"
           },
           {
            "args": [
             [
              "name == frame_139"
             ],
             {
              "frame": {
               "duration": 600,
               "redraw": true
              },
              "mode": "immediate",
              "transition": {
               "duration": 0
              }
             }
            ],
            "label": "139",
            "method": "animate"
           },
           {
            "args": [
             [
              "name == frame_140"
             ],
             {
              "frame": {
               "duration": 600,
               "redraw": true
              },
              "mode": "immediate",
              "transition": {
               "duration": 0
              }
             }
            ],
            "label": "140",
            "method": "animate"
           },
           {
            "args": [
             [
              "name == frame_141"
             ],
             {
              "frame": {
               "duration": 600,
               "redraw": true
              },
              "mode": "immediate",
              "transition": {
               "duration": 0
              }
             }
            ],
            "label": "141",
            "method": "animate"
           },
           {
            "args": [
             [
              "name == frame_142"
             ],
             {
              "frame": {
               "duration": 600,
               "redraw": true
              },
              "mode": "immediate",
              "transition": {
               "duration": 0
              }
             }
            ],
            "label": "142",
            "method": "animate"
           },
           {
            "args": [
             [
              "name == frame_143"
             ],
             {
              "frame": {
               "duration": 600,
               "redraw": true
              },
              "mode": "immediate",
              "transition": {
               "duration": 0
              }
             }
            ],
            "label": "143",
            "method": "animate"
           },
           {
            "args": [
             [
              "name == frame_144"
             ],
             {
              "frame": {
               "duration": 600,
               "redraw": true
              },
              "mode": "immediate",
              "transition": {
               "duration": 0
              }
             }
            ],
            "label": "144",
            "method": "animate"
           },
           {
            "args": [
             [
              "name == frame_145"
             ],
             {
              "frame": {
               "duration": 600,
               "redraw": true
              },
              "mode": "immediate",
              "transition": {
               "duration": 0
              }
             }
            ],
            "label": "145",
            "method": "animate"
           },
           {
            "args": [
             [
              "name == frame_146"
             ],
             {
              "frame": {
               "duration": 600,
               "redraw": true
              },
              "mode": "immediate",
              "transition": {
               "duration": 0
              }
             }
            ],
            "label": "146",
            "method": "animate"
           },
           {
            "args": [
             [
              "name == frame_147"
             ],
             {
              "frame": {
               "duration": 600,
               "redraw": true
              },
              "mode": "immediate",
              "transition": {
               "duration": 0
              }
             }
            ],
            "label": "147",
            "method": "animate"
           },
           {
            "args": [
             [
              "name == frame_148"
             ],
             {
              "frame": {
               "duration": 600,
               "redraw": true
              },
              "mode": "immediate",
              "transition": {
               "duration": 0
              }
             }
            ],
            "label": "148",
            "method": "animate"
           },
           {
            "args": [
             [
              "name == frame_149"
             ],
             {
              "frame": {
               "duration": 600,
               "redraw": true
              },
              "mode": "immediate",
              "transition": {
               "duration": 0
              }
             }
            ],
            "label": "149",
            "method": "animate"
           },
           {
            "args": [
             [
              "name == frame_150"
             ],
             {
              "frame": {
               "duration": 600,
               "redraw": true
              },
              "mode": "immediate",
              "transition": {
               "duration": 0
              }
             }
            ],
            "label": "150",
            "method": "animate"
           },
           {
            "args": [
             [
              "name == frame_151"
             ],
             {
              "frame": {
               "duration": 600,
               "redraw": true
              },
              "mode": "immediate",
              "transition": {
               "duration": 0
              }
             }
            ],
            "label": "151",
            "method": "animate"
           },
           {
            "args": [
             [
              "name == frame_152"
             ],
             {
              "frame": {
               "duration": 600,
               "redraw": true
              },
              "mode": "immediate",
              "transition": {
               "duration": 0
              }
             }
            ],
            "label": "152",
            "method": "animate"
           },
           {
            "args": [
             [
              "name == frame_153"
             ],
             {
              "frame": {
               "duration": 600,
               "redraw": true
              },
              "mode": "immediate",
              "transition": {
               "duration": 0
              }
             }
            ],
            "label": "153",
            "method": "animate"
           },
           {
            "args": [
             [
              "name == frame_154"
             ],
             {
              "frame": {
               "duration": 600,
               "redraw": true
              },
              "mode": "immediate",
              "transition": {
               "duration": 0
              }
             }
            ],
            "label": "154",
            "method": "animate"
           },
           {
            "args": [
             [
              "name == frame_155"
             ],
             {
              "frame": {
               "duration": 600,
               "redraw": true
              },
              "mode": "immediate",
              "transition": {
               "duration": 0
              }
             }
            ],
            "label": "155",
            "method": "animate"
           },
           {
            "args": [
             [
              "name == frame_156"
             ],
             {
              "frame": {
               "duration": 600,
               "redraw": true
              },
              "mode": "immediate",
              "transition": {
               "duration": 0
              }
             }
            ],
            "label": "156",
            "method": "animate"
           },
           {
            "args": [
             [
              "name == frame_157"
             ],
             {
              "frame": {
               "duration": 600,
               "redraw": true
              },
              "mode": "immediate",
              "transition": {
               "duration": 0
              }
             }
            ],
            "label": "157",
            "method": "animate"
           },
           {
            "args": [
             [
              "name == frame_158"
             ],
             {
              "frame": {
               "duration": 600,
               "redraw": true
              },
              "mode": "immediate",
              "transition": {
               "duration": 0
              }
             }
            ],
            "label": "158",
            "method": "animate"
           },
           {
            "args": [
             [
              "name == frame_159"
             ],
             {
              "frame": {
               "duration": 600,
               "redraw": true
              },
              "mode": "immediate",
              "transition": {
               "duration": 0
              }
             }
            ],
            "label": "159",
            "method": "animate"
           },
           {
            "args": [
             [
              "name == frame_160"
             ],
             {
              "frame": {
               "duration": 600,
               "redraw": true
              },
              "mode": "immediate",
              "transition": {
               "duration": 0
              }
             }
            ],
            "label": "160",
            "method": "animate"
           },
           {
            "args": [
             [
              "name == frame_161"
             ],
             {
              "frame": {
               "duration": 600,
               "redraw": true
              },
              "mode": "immediate",
              "transition": {
               "duration": 0
              }
             }
            ],
            "label": "161",
            "method": "animate"
           },
           {
            "args": [
             [
              "name == frame_162"
             ],
             {
              "frame": {
               "duration": 600,
               "redraw": true
              },
              "mode": "immediate",
              "transition": {
               "duration": 0
              }
             }
            ],
            "label": "162",
            "method": "animate"
           },
           {
            "args": [
             [
              "name == frame_163"
             ],
             {
              "frame": {
               "duration": 600,
               "redraw": true
              },
              "mode": "immediate",
              "transition": {
               "duration": 0
              }
             }
            ],
            "label": "163",
            "method": "animate"
           },
           {
            "args": [
             [
              "name == frame_164"
             ],
             {
              "frame": {
               "duration": 600,
               "redraw": true
              },
              "mode": "immediate",
              "transition": {
               "duration": 0
              }
             }
            ],
            "label": "164",
            "method": "animate"
           },
           {
            "args": [
             [
              "name == frame_165"
             ],
             {
              "frame": {
               "duration": 600,
               "redraw": true
              },
              "mode": "immediate",
              "transition": {
               "duration": 0
              }
             }
            ],
            "label": "165",
            "method": "animate"
           },
           {
            "args": [
             [
              "name == frame_166"
             ],
             {
              "frame": {
               "duration": 600,
               "redraw": true
              },
              "mode": "immediate",
              "transition": {
               "duration": 0
              }
             }
            ],
            "label": "166",
            "method": "animate"
           },
           {
            "args": [
             [
              "name == frame_167"
             ],
             {
              "frame": {
               "duration": 600,
               "redraw": true
              },
              "mode": "immediate",
              "transition": {
               "duration": 0
              }
             }
            ],
            "label": "167",
            "method": "animate"
           },
           {
            "args": [
             [
              "name == frame_168"
             ],
             {
              "frame": {
               "duration": 600,
               "redraw": true
              },
              "mode": "immediate",
              "transition": {
               "duration": 0
              }
             }
            ],
            "label": "168",
            "method": "animate"
           },
           {
            "args": [
             [
              "name == frame_169"
             ],
             {
              "frame": {
               "duration": 600,
               "redraw": true
              },
              "mode": "immediate",
              "transition": {
               "duration": 0
              }
             }
            ],
            "label": "169",
            "method": "animate"
           },
           {
            "args": [
             [
              "name == frame_170"
             ],
             {
              "frame": {
               "duration": 600,
               "redraw": true
              },
              "mode": "immediate",
              "transition": {
               "duration": 0
              }
             }
            ],
            "label": "170",
            "method": "animate"
           },
           {
            "args": [
             [
              "name == frame_171"
             ],
             {
              "frame": {
               "duration": 600,
               "redraw": true
              },
              "mode": "immediate",
              "transition": {
               "duration": 0
              }
             }
            ],
            "label": "171",
            "method": "animate"
           },
           {
            "args": [
             [
              "name == frame_172"
             ],
             {
              "frame": {
               "duration": 600,
               "redraw": true
              },
              "mode": "immediate",
              "transition": {
               "duration": 0
              }
             }
            ],
            "label": "172",
            "method": "animate"
           },
           {
            "args": [
             [
              "name == frame_173"
             ],
             {
              "frame": {
               "duration": 600,
               "redraw": true
              },
              "mode": "immediate",
              "transition": {
               "duration": 0
              }
             }
            ],
            "label": "173",
            "method": "animate"
           },
           {
            "args": [
             [
              "name == frame_174"
             ],
             {
              "frame": {
               "duration": 600,
               "redraw": true
              },
              "mode": "immediate",
              "transition": {
               "duration": 0
              }
             }
            ],
            "label": "174",
            "method": "animate"
           },
           {
            "args": [
             [
              "name == frame_175"
             ],
             {
              "frame": {
               "duration": 600,
               "redraw": true
              },
              "mode": "immediate",
              "transition": {
               "duration": 0
              }
             }
            ],
            "label": "175",
            "method": "animate"
           },
           {
            "args": [
             [
              "name == frame_176"
             ],
             {
              "frame": {
               "duration": 600,
               "redraw": true
              },
              "mode": "immediate",
              "transition": {
               "duration": 0
              }
             }
            ],
            "label": "176",
            "method": "animate"
           },
           {
            "args": [
             [
              "name == frame_177"
             ],
             {
              "frame": {
               "duration": 600,
               "redraw": true
              },
              "mode": "immediate",
              "transition": {
               "duration": 0
              }
             }
            ],
            "label": "177",
            "method": "animate"
           },
           {
            "args": [
             [
              "name == frame_178"
             ],
             {
              "frame": {
               "duration": 600,
               "redraw": true
              },
              "mode": "immediate",
              "transition": {
               "duration": 0
              }
             }
            ],
            "label": "178",
            "method": "animate"
           },
           {
            "args": [
             [
              "name == frame_179"
             ],
             {
              "frame": {
               "duration": 600,
               "redraw": true
              },
              "mode": "immediate",
              "transition": {
               "duration": 0
              }
             }
            ],
            "label": "179",
            "method": "animate"
           },
           {
            "args": [
             [
              "name == frame_180"
             ],
             {
              "frame": {
               "duration": 600,
               "redraw": true
              },
              "mode": "immediate",
              "transition": {
               "duration": 0
              }
             }
            ],
            "label": "180",
            "method": "animate"
           },
           {
            "args": [
             [
              "name == frame_181"
             ],
             {
              "frame": {
               "duration": 600,
               "redraw": true
              },
              "mode": "immediate",
              "transition": {
               "duration": 0
              }
             }
            ],
            "label": "181",
            "method": "animate"
           },
           {
            "args": [
             [
              "name == frame_182"
             ],
             {
              "frame": {
               "duration": 600,
               "redraw": true
              },
              "mode": "immediate",
              "transition": {
               "duration": 0
              }
             }
            ],
            "label": "182",
            "method": "animate"
           },
           {
            "args": [
             [
              "name == frame_183"
             ],
             {
              "frame": {
               "duration": 600,
               "redraw": true
              },
              "mode": "immediate",
              "transition": {
               "duration": 0
              }
             }
            ],
            "label": "183",
            "method": "animate"
           },
           {
            "args": [
             [
              "name == frame_184"
             ],
             {
              "frame": {
               "duration": 600,
               "redraw": true
              },
              "mode": "immediate",
              "transition": {
               "duration": 0
              }
             }
            ],
            "label": "184",
            "method": "animate"
           },
           {
            "args": [
             [
              "name == frame_185"
             ],
             {
              "frame": {
               "duration": 600,
               "redraw": true
              },
              "mode": "immediate",
              "transition": {
               "duration": 0
              }
             }
            ],
            "label": "185",
            "method": "animate"
           },
           {
            "args": [
             [
              "name == frame_186"
             ],
             {
              "frame": {
               "duration": 600,
               "redraw": true
              },
              "mode": "immediate",
              "transition": {
               "duration": 0
              }
             }
            ],
            "label": "186",
            "method": "animate"
           },
           {
            "args": [
             [
              "name == frame_187"
             ],
             {
              "frame": {
               "duration": 600,
               "redraw": true
              },
              "mode": "immediate",
              "transition": {
               "duration": 0
              }
             }
            ],
            "label": "187",
            "method": "animate"
           },
           {
            "args": [
             [
              "name == frame_188"
             ],
             {
              "frame": {
               "duration": 600,
               "redraw": true
              },
              "mode": "immediate",
              "transition": {
               "duration": 0
              }
             }
            ],
            "label": "188",
            "method": "animate"
           },
           {
            "args": [
             [
              "name == frame_189"
             ],
             {
              "frame": {
               "duration": 600,
               "redraw": true
              },
              "mode": "immediate",
              "transition": {
               "duration": 0
              }
             }
            ],
            "label": "189",
            "method": "animate"
           },
           {
            "args": [
             [
              "name == frame_190"
             ],
             {
              "frame": {
               "duration": 600,
               "redraw": true
              },
              "mode": "immediate",
              "transition": {
               "duration": 0
              }
             }
            ],
            "label": "190",
            "method": "animate"
           },
           {
            "args": [
             [
              "name == frame_191"
             ],
             {
              "frame": {
               "duration": 600,
               "redraw": true
              },
              "mode": "immediate",
              "transition": {
               "duration": 0
              }
             }
            ],
            "label": "191",
            "method": "animate"
           },
           {
            "args": [
             [
              "name == frame_192"
             ],
             {
              "frame": {
               "duration": 600,
               "redraw": true
              },
              "mode": "immediate",
              "transition": {
               "duration": 0
              }
             }
            ],
            "label": "192",
            "method": "animate"
           },
           {
            "args": [
             [
              "name == frame_193"
             ],
             {
              "frame": {
               "duration": 600,
               "redraw": true
              },
              "mode": "immediate",
              "transition": {
               "duration": 0
              }
             }
            ],
            "label": "193",
            "method": "animate"
           },
           {
            "args": [
             [
              "name == frame_194"
             ],
             {
              "frame": {
               "duration": 600,
               "redraw": true
              },
              "mode": "immediate",
              "transition": {
               "duration": 0
              }
             }
            ],
            "label": "194",
            "method": "animate"
           },
           {
            "args": [
             [
              "name == frame_195"
             ],
             {
              "frame": {
               "duration": 600,
               "redraw": true
              },
              "mode": "immediate",
              "transition": {
               "duration": 0
              }
             }
            ],
            "label": "195",
            "method": "animate"
           },
           {
            "args": [
             [
              "name == frame_196"
             ],
             {
              "frame": {
               "duration": 600,
               "redraw": true
              },
              "mode": "immediate",
              "transition": {
               "duration": 0
              }
             }
            ],
            "label": "196",
            "method": "animate"
           },
           {
            "args": [
             [
              "name == frame_197"
             ],
             {
              "frame": {
               "duration": 600,
               "redraw": true
              },
              "mode": "immediate",
              "transition": {
               "duration": 0
              }
             }
            ],
            "label": "197",
            "method": "animate"
           },
           {
            "args": [
             [
              "name == frame_198"
             ],
             {
              "frame": {
               "duration": 600,
               "redraw": true
              },
              "mode": "immediate",
              "transition": {
               "duration": 0
              }
             }
            ],
            "label": "198",
            "method": "animate"
           },
           {
            "args": [
             [
              "name == frame_199"
             ],
             {
              "frame": {
               "duration": 600,
               "redraw": true
              },
              "mode": "immediate",
              "transition": {
               "duration": 0
              }
             }
            ],
            "label": "199",
            "method": "animate"
           },
           {
            "args": [
             [
              "name == frame_200"
             ],
             {
              "frame": {
               "duration": 600,
               "redraw": true
              },
              "mode": "immediate",
              "transition": {
               "duration": 0
              }
             }
            ],
            "label": "200",
            "method": "animate"
           },
           {
            "args": [
             [
              "name == frame_201"
             ],
             {
              "frame": {
               "duration": 600,
               "redraw": true
              },
              "mode": "immediate",
              "transition": {
               "duration": 0
              }
             }
            ],
            "label": "201",
            "method": "animate"
           },
           {
            "args": [
             [
              "name == frame_202"
             ],
             {
              "frame": {
               "duration": 600,
               "redraw": true
              },
              "mode": "immediate",
              "transition": {
               "duration": 0
              }
             }
            ],
            "label": "202",
            "method": "animate"
           },
           {
            "args": [
             [
              "name == frame_203"
             ],
             {
              "frame": {
               "duration": 600,
               "redraw": true
              },
              "mode": "immediate",
              "transition": {
               "duration": 0
              }
             }
            ],
            "label": "203",
            "method": "animate"
           },
           {
            "args": [
             [
              "name == frame_204"
             ],
             {
              "frame": {
               "duration": 600,
               "redraw": true
              },
              "mode": "immediate",
              "transition": {
               "duration": 0
              }
             }
            ],
            "label": "204",
            "method": "animate"
           },
           {
            "args": [
             [
              "name == frame_205"
             ],
             {
              "frame": {
               "duration": 600,
               "redraw": true
              },
              "mode": "immediate",
              "transition": {
               "duration": 0
              }
             }
            ],
            "label": "205",
            "method": "animate"
           },
           {
            "args": [
             [
              "name == frame_206"
             ],
             {
              "frame": {
               "duration": 600,
               "redraw": true
              },
              "mode": "immediate",
              "transition": {
               "duration": 0
              }
             }
            ],
            "label": "206",
            "method": "animate"
           },
           {
            "args": [
             [
              "name == frame_207"
             ],
             {
              "frame": {
               "duration": 600,
               "redraw": true
              },
              "mode": "immediate",
              "transition": {
               "duration": 0
              }
             }
            ],
            "label": "207",
            "method": "animate"
           },
           {
            "args": [
             [
              "name == frame_208"
             ],
             {
              "frame": {
               "duration": 600,
               "redraw": true
              },
              "mode": "immediate",
              "transition": {
               "duration": 0
              }
             }
            ],
            "label": "208",
            "method": "animate"
           },
           {
            "args": [
             [
              "name == frame_209"
             ],
             {
              "frame": {
               "duration": 600,
               "redraw": true
              },
              "mode": "immediate",
              "transition": {
               "duration": 0
              }
             }
            ],
            "label": "209",
            "method": "animate"
           },
           {
            "args": [
             [
              "name == frame_210"
             ],
             {
              "frame": {
               "duration": 600,
               "redraw": true
              },
              "mode": "immediate",
              "transition": {
               "duration": 0
              }
             }
            ],
            "label": "210",
            "method": "animate"
           },
           {
            "args": [
             [
              "name == frame_211"
             ],
             {
              "frame": {
               "duration": 600,
               "redraw": true
              },
              "mode": "immediate",
              "transition": {
               "duration": 0
              }
             }
            ],
            "label": "211",
            "method": "animate"
           },
           {
            "args": [
             [
              "name == frame_212"
             ],
             {
              "frame": {
               "duration": 600,
               "redraw": true
              },
              "mode": "immediate",
              "transition": {
               "duration": 0
              }
             }
            ],
            "label": "212",
            "method": "animate"
           },
           {
            "args": [
             [
              "name == frame_213"
             ],
             {
              "frame": {
               "duration": 600,
               "redraw": true
              },
              "mode": "immediate",
              "transition": {
               "duration": 0
              }
             }
            ],
            "label": "213",
            "method": "animate"
           },
           {
            "args": [
             [
              "name == frame_214"
             ],
             {
              "frame": {
               "duration": 600,
               "redraw": true
              },
              "mode": "immediate",
              "transition": {
               "duration": 0
              }
             }
            ],
            "label": "214",
            "method": "animate"
           },
           {
            "args": [
             [
              "name == frame_215"
             ],
             {
              "frame": {
               "duration": 600,
               "redraw": true
              },
              "mode": "immediate",
              "transition": {
               "duration": 0
              }
             }
            ],
            "label": "215",
            "method": "animate"
           },
           {
            "args": [
             [
              "name == frame_216"
             ],
             {
              "frame": {
               "duration": 600,
               "redraw": true
              },
              "mode": "immediate",
              "transition": {
               "duration": 0
              }
             }
            ],
            "label": "216",
            "method": "animate"
           },
           {
            "args": [
             [
              "name == frame_217"
             ],
             {
              "frame": {
               "duration": 600,
               "redraw": true
              },
              "mode": "immediate",
              "transition": {
               "duration": 0
              }
             }
            ],
            "label": "217",
            "method": "animate"
           },
           {
            "args": [
             [
              "name == frame_218"
             ],
             {
              "frame": {
               "duration": 600,
               "redraw": true
              },
              "mode": "immediate",
              "transition": {
               "duration": 0
              }
             }
            ],
            "label": "218",
            "method": "animate"
           },
           {
            "args": [
             [
              "name == frame_219"
             ],
             {
              "frame": {
               "duration": 600,
               "redraw": true
              },
              "mode": "immediate",
              "transition": {
               "duration": 0
              }
             }
            ],
            "label": "219",
            "method": "animate"
           },
           {
            "args": [
             [
              "name == frame_220"
             ],
             {
              "frame": {
               "duration": 600,
               "redraw": true
              },
              "mode": "immediate",
              "transition": {
               "duration": 0
              }
             }
            ],
            "label": "220",
            "method": "animate"
           },
           {
            "args": [
             [
              "name == frame_221"
             ],
             {
              "frame": {
               "duration": 600,
               "redraw": true
              },
              "mode": "immediate",
              "transition": {
               "duration": 0
              }
             }
            ],
            "label": "221",
            "method": "animate"
           },
           {
            "args": [
             [
              "name == frame_222"
             ],
             {
              "frame": {
               "duration": 600,
               "redraw": true
              },
              "mode": "immediate",
              "transition": {
               "duration": 0
              }
             }
            ],
            "label": "222",
            "method": "animate"
           },
           {
            "args": [
             [
              "name == frame_223"
             ],
             {
              "frame": {
               "duration": 600,
               "redraw": true
              },
              "mode": "immediate",
              "transition": {
               "duration": 0
              }
             }
            ],
            "label": "223",
            "method": "animate"
           },
           {
            "args": [
             [
              "name == frame_224"
             ],
             {
              "frame": {
               "duration": 600,
               "redraw": true
              },
              "mode": "immediate",
              "transition": {
               "duration": 0
              }
             }
            ],
            "label": "224",
            "method": "animate"
           },
           {
            "args": [
             [
              "name == frame_225"
             ],
             {
              "frame": {
               "duration": 600,
               "redraw": true
              },
              "mode": "immediate",
              "transition": {
               "duration": 0
              }
             }
            ],
            "label": "225",
            "method": "animate"
           },
           {
            "args": [
             [
              "name == frame_226"
             ],
             {
              "frame": {
               "duration": 600,
               "redraw": true
              },
              "mode": "immediate",
              "transition": {
               "duration": 0
              }
             }
            ],
            "label": "226",
            "method": "animate"
           },
           {
            "args": [
             [
              "name == frame_227"
             ],
             {
              "frame": {
               "duration": 600,
               "redraw": true
              },
              "mode": "immediate",
              "transition": {
               "duration": 0
              }
             }
            ],
            "label": "227",
            "method": "animate"
           },
           {
            "args": [
             [
              "name == frame_228"
             ],
             {
              "frame": {
               "duration": 600,
               "redraw": true
              },
              "mode": "immediate",
              "transition": {
               "duration": 0
              }
             }
            ],
            "label": "228",
            "method": "animate"
           },
           {
            "args": [
             [
              "name == frame_229"
             ],
             {
              "frame": {
               "duration": 600,
               "redraw": true
              },
              "mode": "immediate",
              "transition": {
               "duration": 0
              }
             }
            ],
            "label": "229",
            "method": "animate"
           },
           {
            "args": [
             [
              "name == frame_230"
             ],
             {
              "frame": {
               "duration": 600,
               "redraw": true
              },
              "mode": "immediate",
              "transition": {
               "duration": 0
              }
             }
            ],
            "label": "230",
            "method": "animate"
           },
           {
            "args": [
             [
              "name == frame_231"
             ],
             {
              "frame": {
               "duration": 600,
               "redraw": true
              },
              "mode": "immediate",
              "transition": {
               "duration": 0
              }
             }
            ],
            "label": "231",
            "method": "animate"
           },
           {
            "args": [
             [
              "name == frame_232"
             ],
             {
              "frame": {
               "duration": 600,
               "redraw": true
              },
              "mode": "immediate",
              "transition": {
               "duration": 0
              }
             }
            ],
            "label": "232",
            "method": "animate"
           },
           {
            "args": [
             [
              "name == frame_233"
             ],
             {
              "frame": {
               "duration": 600,
               "redraw": true
              },
              "mode": "immediate",
              "transition": {
               "duration": 0
              }
             }
            ],
            "label": "233",
            "method": "animate"
           },
           {
            "args": [
             [
              "name == frame_234"
             ],
             {
              "frame": {
               "duration": 600,
               "redraw": true
              },
              "mode": "immediate",
              "transition": {
               "duration": 0
              }
             }
            ],
            "label": "234",
            "method": "animate"
           },
           {
            "args": [
             [
              "name == frame_235"
             ],
             {
              "frame": {
               "duration": 600,
               "redraw": true
              },
              "mode": "immediate",
              "transition": {
               "duration": 0
              }
             }
            ],
            "label": "235",
            "method": "animate"
           },
           {
            "args": [
             [
              "name == frame_236"
             ],
             {
              "frame": {
               "duration": 600,
               "redraw": true
              },
              "mode": "immediate",
              "transition": {
               "duration": 0
              }
             }
            ],
            "label": "236",
            "method": "animate"
           },
           {
            "args": [
             [
              "name == frame_237"
             ],
             {
              "frame": {
               "duration": 600,
               "redraw": true
              },
              "mode": "immediate",
              "transition": {
               "duration": 0
              }
             }
            ],
            "label": "237",
            "method": "animate"
           },
           {
            "args": [
             [
              "name == frame_238"
             ],
             {
              "frame": {
               "duration": 600,
               "redraw": true
              },
              "mode": "immediate",
              "transition": {
               "duration": 0
              }
             }
            ],
            "label": "238",
            "method": "animate"
           },
           {
            "args": [
             [
              "name == frame_239"
             ],
             {
              "frame": {
               "duration": 600,
               "redraw": true
              },
              "mode": "immediate",
              "transition": {
               "duration": 0
              }
             }
            ],
            "label": "239",
            "method": "animate"
           },
           {
            "args": [
             [
              "name == frame_240"
             ],
             {
              "frame": {
               "duration": 600,
               "redraw": true
              },
              "mode": "immediate",
              "transition": {
               "duration": 0
              }
             }
            ],
            "label": "240",
            "method": "animate"
           },
           {
            "args": [
             [
              "name == frame_241"
             ],
             {
              "frame": {
               "duration": 600,
               "redraw": true
              },
              "mode": "immediate",
              "transition": {
               "duration": 0
              }
             }
            ],
            "label": "241",
            "method": "animate"
           },
           {
            "args": [
             [
              "name == frame_242"
             ],
             {
              "frame": {
               "duration": 600,
               "redraw": true
              },
              "mode": "immediate",
              "transition": {
               "duration": 0
              }
             }
            ],
            "label": "242",
            "method": "animate"
           },
           {
            "args": [
             [
              "name == frame_243"
             ],
             {
              "frame": {
               "duration": 600,
               "redraw": true
              },
              "mode": "immediate",
              "transition": {
               "duration": 0
              }
             }
            ],
            "label": "243",
            "method": "animate"
           },
           {
            "args": [
             [
              "name == frame_244"
             ],
             {
              "frame": {
               "duration": 600,
               "redraw": true
              },
              "mode": "immediate",
              "transition": {
               "duration": 0
              }
             }
            ],
            "label": "244",
            "method": "animate"
           },
           {
            "args": [
             [
              "name == frame_245"
             ],
             {
              "frame": {
               "duration": 600,
               "redraw": true
              },
              "mode": "immediate",
              "transition": {
               "duration": 0
              }
             }
            ],
            "label": "245",
            "method": "animate"
           },
           {
            "args": [
             [
              "name == frame_246"
             ],
             {
              "frame": {
               "duration": 600,
               "redraw": true
              },
              "mode": "immediate",
              "transition": {
               "duration": 0
              }
             }
            ],
            "label": "246",
            "method": "animate"
           },
           {
            "args": [
             [
              "name == frame_247"
             ],
             {
              "frame": {
               "duration": 600,
               "redraw": true
              },
              "mode": "immediate",
              "transition": {
               "duration": 0
              }
             }
            ],
            "label": "247",
            "method": "animate"
           },
           {
            "args": [
             [
              "name == frame_248"
             ],
             {
              "frame": {
               "duration": 600,
               "redraw": true
              },
              "mode": "immediate",
              "transition": {
               "duration": 0
              }
             }
            ],
            "label": "248",
            "method": "animate"
           },
           {
            "args": [
             [
              "name == frame_249"
             ],
             {
              "frame": {
               "duration": 600,
               "redraw": true
              },
              "mode": "immediate",
              "transition": {
               "duration": 0
              }
             }
            ],
            "label": "249",
            "method": "animate"
           },
           {
            "args": [
             [
              "name == frame_250"
             ],
             {
              "frame": {
               "duration": 600,
               "redraw": true
              },
              "mode": "immediate",
              "transition": {
               "duration": 0
              }
             }
            ],
            "label": "250",
            "method": "animate"
           },
           {
            "args": [
             [
              "name == frame_251"
             ],
             {
              "frame": {
               "duration": 600,
               "redraw": true
              },
              "mode": "immediate",
              "transition": {
               "duration": 0
              }
             }
            ],
            "label": "251",
            "method": "animate"
           },
           {
            "args": [
             [
              "name == frame_252"
             ],
             {
              "frame": {
               "duration": 600,
               "redraw": true
              },
              "mode": "immediate",
              "transition": {
               "duration": 0
              }
             }
            ],
            "label": "252",
            "method": "animate"
           },
           {
            "args": [
             [
              "name == frame_253"
             ],
             {
              "frame": {
               "duration": 600,
               "redraw": true
              },
              "mode": "immediate",
              "transition": {
               "duration": 0
              }
             }
            ],
            "label": "253",
            "method": "animate"
           },
           {
            "args": [
             [
              "name == frame_254"
             ],
             {
              "frame": {
               "duration": 600,
               "redraw": true
              },
              "mode": "immediate",
              "transition": {
               "duration": 0
              }
             }
            ],
            "label": "254",
            "method": "animate"
           },
           {
            "args": [
             [
              "name == frame_255"
             ],
             {
              "frame": {
               "duration": 600,
               "redraw": true
              },
              "mode": "immediate",
              "transition": {
               "duration": 0
              }
             }
            ],
            "label": "255",
            "method": "animate"
           },
           {
            "args": [
             [
              "name == frame_256"
             ],
             {
              "frame": {
               "duration": 600,
               "redraw": true
              },
              "mode": "immediate",
              "transition": {
               "duration": 0
              }
             }
            ],
            "label": "256",
            "method": "animate"
           },
           {
            "args": [
             [
              "name == frame_257"
             ],
             {
              "frame": {
               "duration": 600,
               "redraw": true
              },
              "mode": "immediate",
              "transition": {
               "duration": 0
              }
             }
            ],
            "label": "257",
            "method": "animate"
           },
           {
            "args": [
             [
              "name == frame_258"
             ],
             {
              "frame": {
               "duration": 600,
               "redraw": true
              },
              "mode": "immediate",
              "transition": {
               "duration": 0
              }
             }
            ],
            "label": "258",
            "method": "animate"
           },
           {
            "args": [
             [
              "name == frame_259"
             ],
             {
              "frame": {
               "duration": 600,
               "redraw": true
              },
              "mode": "immediate",
              "transition": {
               "duration": 0
              }
             }
            ],
            "label": "259",
            "method": "animate"
           },
           {
            "args": [
             [
              "name == frame_260"
             ],
             {
              "frame": {
               "duration": 600,
               "redraw": true
              },
              "mode": "immediate",
              "transition": {
               "duration": 0
              }
             }
            ],
            "label": "260",
            "method": "animate"
           },
           {
            "args": [
             [
              "name == frame_261"
             ],
             {
              "frame": {
               "duration": 600,
               "redraw": true
              },
              "mode": "immediate",
              "transition": {
               "duration": 0
              }
             }
            ],
            "label": "261",
            "method": "animate"
           },
           {
            "args": [
             [
              "name == frame_262"
             ],
             {
              "frame": {
               "duration": 600,
               "redraw": true
              },
              "mode": "immediate",
              "transition": {
               "duration": 0
              }
             }
            ],
            "label": "262",
            "method": "animate"
           },
           {
            "args": [
             [
              "name == frame_263"
             ],
             {
              "frame": {
               "duration": 600,
               "redraw": true
              },
              "mode": "immediate",
              "transition": {
               "duration": 0
              }
             }
            ],
            "label": "263",
            "method": "animate"
           },
           {
            "args": [
             [
              "name == frame_264"
             ],
             {
              "frame": {
               "duration": 600,
               "redraw": true
              },
              "mode": "immediate",
              "transition": {
               "duration": 0
              }
             }
            ],
            "label": "264",
            "method": "animate"
           },
           {
            "args": [
             [
              "name == frame_265"
             ],
             {
              "frame": {
               "duration": 600,
               "redraw": true
              },
              "mode": "immediate",
              "transition": {
               "duration": 0
              }
             }
            ],
            "label": "265",
            "method": "animate"
           },
           {
            "args": [
             [
              "name == frame_266"
             ],
             {
              "frame": {
               "duration": 600,
               "redraw": true
              },
              "mode": "immediate",
              "transition": {
               "duration": 0
              }
             }
            ],
            "label": "266",
            "method": "animate"
           },
           {
            "args": [
             [
              "name == frame_267"
             ],
             {
              "frame": {
               "duration": 600,
               "redraw": true
              },
              "mode": "immediate",
              "transition": {
               "duration": 0
              }
             }
            ],
            "label": "267",
            "method": "animate"
           },
           {
            "args": [
             [
              "name == frame_268"
             ],
             {
              "frame": {
               "duration": 600,
               "redraw": true
              },
              "mode": "immediate",
              "transition": {
               "duration": 0
              }
             }
            ],
            "label": "268",
            "method": "animate"
           },
           {
            "args": [
             [
              "name == frame_269"
             ],
             {
              "frame": {
               "duration": 600,
               "redraw": true
              },
              "mode": "immediate",
              "transition": {
               "duration": 0
              }
             }
            ],
            "label": "269",
            "method": "animate"
           },
           {
            "args": [
             [
              "name == frame_270"
             ],
             {
              "frame": {
               "duration": 600,
               "redraw": true
              },
              "mode": "immediate",
              "transition": {
               "duration": 0
              }
             }
            ],
            "label": "270",
            "method": "animate"
           },
           {
            "args": [
             [
              "name == frame_271"
             ],
             {
              "frame": {
               "duration": 600,
               "redraw": true
              },
              "mode": "immediate",
              "transition": {
               "duration": 0
              }
             }
            ],
            "label": "271",
            "method": "animate"
           },
           {
            "args": [
             [
              "name == frame_272"
             ],
             {
              "frame": {
               "duration": 600,
               "redraw": true
              },
              "mode": "immediate",
              "transition": {
               "duration": 0
              }
             }
            ],
            "label": "272",
            "method": "animate"
           },
           {
            "args": [
             [
              "name == frame_273"
             ],
             {
              "frame": {
               "duration": 600,
               "redraw": true
              },
              "mode": "immediate",
              "transition": {
               "duration": 0
              }
             }
            ],
            "label": "273",
            "method": "animate"
           },
           {
            "args": [
             [
              "name == frame_274"
             ],
             {
              "frame": {
               "duration": 600,
               "redraw": true
              },
              "mode": "immediate",
              "transition": {
               "duration": 0
              }
             }
            ],
            "label": "274",
            "method": "animate"
           },
           {
            "args": [
             [
              "name == frame_275"
             ],
             {
              "frame": {
               "duration": 600,
               "redraw": true
              },
              "mode": "immediate",
              "transition": {
               "duration": 0
              }
             }
            ],
            "label": "275",
            "method": "animate"
           },
           {
            "args": [
             [
              "name == frame_276"
             ],
             {
              "frame": {
               "duration": 600,
               "redraw": true
              },
              "mode": "immediate",
              "transition": {
               "duration": 0
              }
             }
            ],
            "label": "276",
            "method": "animate"
           },
           {
            "args": [
             [
              "name == frame_277"
             ],
             {
              "frame": {
               "duration": 600,
               "redraw": true
              },
              "mode": "immediate",
              "transition": {
               "duration": 0
              }
             }
            ],
            "label": "277",
            "method": "animate"
           },
           {
            "args": [
             [
              "name == frame_278"
             ],
             {
              "frame": {
               "duration": 600,
               "redraw": true
              },
              "mode": "immediate",
              "transition": {
               "duration": 0
              }
             }
            ],
            "label": "278",
            "method": "animate"
           },
           {
            "args": [
             [
              "name == frame_279"
             ],
             {
              "frame": {
               "duration": 600,
               "redraw": true
              },
              "mode": "immediate",
              "transition": {
               "duration": 0
              }
             }
            ],
            "label": "279",
            "method": "animate"
           },
           {
            "args": [
             [
              "name == frame_280"
             ],
             {
              "frame": {
               "duration": 600,
               "redraw": true
              },
              "mode": "immediate",
              "transition": {
               "duration": 0
              }
             }
            ],
            "label": "280",
            "method": "animate"
           },
           {
            "args": [
             [
              "name == frame_281"
             ],
             {
              "frame": {
               "duration": 600,
               "redraw": true
              },
              "mode": "immediate",
              "transition": {
               "duration": 0
              }
             }
            ],
            "label": "281",
            "method": "animate"
           },
           {
            "args": [
             [
              "name == frame_282"
             ],
             {
              "frame": {
               "duration": 600,
               "redraw": true
              },
              "mode": "immediate",
              "transition": {
               "duration": 0
              }
             }
            ],
            "label": "282",
            "method": "animate"
           },
           {
            "args": [
             [
              "name == frame_283"
             ],
             {
              "frame": {
               "duration": 600,
               "redraw": true
              },
              "mode": "immediate",
              "transition": {
               "duration": 0
              }
             }
            ],
            "label": "283",
            "method": "animate"
           },
           {
            "args": [
             [
              "name == frame_284"
             ],
             {
              "frame": {
               "duration": 600,
               "redraw": true
              },
              "mode": "immediate",
              "transition": {
               "duration": 0
              }
             }
            ],
            "label": "284",
            "method": "animate"
           },
           {
            "args": [
             [
              "name == frame_285"
             ],
             {
              "frame": {
               "duration": 600,
               "redraw": true
              },
              "mode": "immediate",
              "transition": {
               "duration": 0
              }
             }
            ],
            "label": "285",
            "method": "animate"
           },
           {
            "args": [
             [
              "name == frame_286"
             ],
             {
              "frame": {
               "duration": 600,
               "redraw": true
              },
              "mode": "immediate",
              "transition": {
               "duration": 0
              }
             }
            ],
            "label": "286",
            "method": "animate"
           },
           {
            "args": [
             [
              "name == frame_287"
             ],
             {
              "frame": {
               "duration": 600,
               "redraw": true
              },
              "mode": "immediate",
              "transition": {
               "duration": 0
              }
             }
            ],
            "label": "287",
            "method": "animate"
           },
           {
            "args": [
             [
              "name == frame_288"
             ],
             {
              "frame": {
               "duration": 600,
               "redraw": true
              },
              "mode": "immediate",
              "transition": {
               "duration": 0
              }
             }
            ],
            "label": "288",
            "method": "animate"
           },
           {
            "args": [
             [
              "name == frame_289"
             ],
             {
              "frame": {
               "duration": 600,
               "redraw": true
              },
              "mode": "immediate",
              "transition": {
               "duration": 0
              }
             }
            ],
            "label": "289",
            "method": "animate"
           },
           {
            "args": [
             [
              "name == frame_290"
             ],
             {
              "frame": {
               "duration": 600,
               "redraw": true
              },
              "mode": "immediate",
              "transition": {
               "duration": 0
              }
             }
            ],
            "label": "290",
            "method": "animate"
           },
           {
            "args": [
             [
              "name == frame_291"
             ],
             {
              "frame": {
               "duration": 600,
               "redraw": true
              },
              "mode": "immediate",
              "transition": {
               "duration": 0
              }
             }
            ],
            "label": "291",
            "method": "animate"
           },
           {
            "args": [
             [
              "name == frame_292"
             ],
             {
              "frame": {
               "duration": 600,
               "redraw": true
              },
              "mode": "immediate",
              "transition": {
               "duration": 0
              }
             }
            ],
            "label": "292",
            "method": "animate"
           },
           {
            "args": [
             [
              "name == frame_293"
             ],
             {
              "frame": {
               "duration": 600,
               "redraw": true
              },
              "mode": "immediate",
              "transition": {
               "duration": 0
              }
             }
            ],
            "label": "293",
            "method": "animate"
           },
           {
            "args": [
             [
              "name == frame_294"
             ],
             {
              "frame": {
               "duration": 600,
               "redraw": true
              },
              "mode": "immediate",
              "transition": {
               "duration": 0
              }
             }
            ],
            "label": "294",
            "method": "animate"
           },
           {
            "args": [
             [
              "name == frame_295"
             ],
             {
              "frame": {
               "duration": 600,
               "redraw": true
              },
              "mode": "immediate",
              "transition": {
               "duration": 0
              }
             }
            ],
            "label": "295",
            "method": "animate"
           },
           {
            "args": [
             [
              "name == frame_296"
             ],
             {
              "frame": {
               "duration": 600,
               "redraw": true
              },
              "mode": "immediate",
              "transition": {
               "duration": 0
              }
             }
            ],
            "label": "296",
            "method": "animate"
           },
           {
            "args": [
             [
              "name == frame_297"
             ],
             {
              "frame": {
               "duration": 600,
               "redraw": true
              },
              "mode": "immediate",
              "transition": {
               "duration": 0
              }
             }
            ],
            "label": "297",
            "method": "animate"
           },
           {
            "args": [
             [
              "name == frame_298"
             ],
             {
              "frame": {
               "duration": 600,
               "redraw": true
              },
              "mode": "immediate",
              "transition": {
               "duration": 0
              }
             }
            ],
            "label": "298",
            "method": "animate"
           },
           {
            "args": [
             [
              "name == frame_299"
             ],
             {
              "frame": {
               "duration": 600,
               "redraw": true
              },
              "mode": "immediate",
              "transition": {
               "duration": 0
              }
             }
            ],
            "label": "299",
            "method": "animate"
           },
           {
            "args": [
             [
              "name == frame_300"
             ],
             {
              "frame": {
               "duration": 600,
               "redraw": true
              },
              "mode": "immediate",
              "transition": {
               "duration": 0
              }
             }
            ],
            "label": "300",
            "method": "animate"
           },
           {
            "args": [
             [
              "name == frame_301"
             ],
             {
              "frame": {
               "duration": 600,
               "redraw": true
              },
              "mode": "immediate",
              "transition": {
               "duration": 0
              }
             }
            ],
            "label": "301",
            "method": "animate"
           },
           {
            "args": [
             [
              "name == frame_302"
             ],
             {
              "frame": {
               "duration": 600,
               "redraw": true
              },
              "mode": "immediate",
              "transition": {
               "duration": 0
              }
             }
            ],
            "label": "302",
            "method": "animate"
           },
           {
            "args": [
             [
              "name == frame_303"
             ],
             {
              "frame": {
               "duration": 600,
               "redraw": true
              },
              "mode": "immediate",
              "transition": {
               "duration": 0
              }
             }
            ],
            "label": "303",
            "method": "animate"
           },
           {
            "args": [
             [
              "name == frame_304"
             ],
             {
              "frame": {
               "duration": 600,
               "redraw": true
              },
              "mode": "immediate",
              "transition": {
               "duration": 0
              }
             }
            ],
            "label": "304",
            "method": "animate"
           },
           {
            "args": [
             [
              "name == frame_305"
             ],
             {
              "frame": {
               "duration": 600,
               "redraw": true
              },
              "mode": "immediate",
              "transition": {
               "duration": 0
              }
             }
            ],
            "label": "305",
            "method": "animate"
           },
           {
            "args": [
             [
              "name == frame_306"
             ],
             {
              "frame": {
               "duration": 600,
               "redraw": true
              },
              "mode": "immediate",
              "transition": {
               "duration": 0
              }
             }
            ],
            "label": "306",
            "method": "animate"
           },
           {
            "args": [
             [
              "name == frame_307"
             ],
             {
              "frame": {
               "duration": 600,
               "redraw": true
              },
              "mode": "immediate",
              "transition": {
               "duration": 0
              }
             }
            ],
            "label": "307",
            "method": "animate"
           },
           {
            "args": [
             [
              "name == frame_308"
             ],
             {
              "frame": {
               "duration": 600,
               "redraw": true
              },
              "mode": "immediate",
              "transition": {
               "duration": 0
              }
             }
            ],
            "label": "308",
            "method": "animate"
           },
           {
            "args": [
             [
              "name == frame_309"
             ],
             {
              "frame": {
               "duration": 600,
               "redraw": true
              },
              "mode": "immediate",
              "transition": {
               "duration": 0
              }
             }
            ],
            "label": "309",
            "method": "animate"
           },
           {
            "args": [
             [
              "name == frame_310"
             ],
             {
              "frame": {
               "duration": 600,
               "redraw": true
              },
              "mode": "immediate",
              "transition": {
               "duration": 0
              }
             }
            ],
            "label": "310",
            "method": "animate"
           },
           {
            "args": [
             [
              "name == frame_311"
             ],
             {
              "frame": {
               "duration": 600,
               "redraw": true
              },
              "mode": "immediate",
              "transition": {
               "duration": 0
              }
             }
            ],
            "label": "311",
            "method": "animate"
           },
           {
            "args": [
             [
              "name == frame_312"
             ],
             {
              "frame": {
               "duration": 600,
               "redraw": true
              },
              "mode": "immediate",
              "transition": {
               "duration": 0
              }
             }
            ],
            "label": "312",
            "method": "animate"
           },
           {
            "args": [
             [
              "name == frame_313"
             ],
             {
              "frame": {
               "duration": 600,
               "redraw": true
              },
              "mode": "immediate",
              "transition": {
               "duration": 0
              }
             }
            ],
            "label": "313",
            "method": "animate"
           },
           {
            "args": [
             [
              "name == frame_314"
             ],
             {
              "frame": {
               "duration": 600,
               "redraw": true
              },
              "mode": "immediate",
              "transition": {
               "duration": 0
              }
             }
            ],
            "label": "314",
            "method": "animate"
           },
           {
            "args": [
             [
              "name == frame_315"
             ],
             {
              "frame": {
               "duration": 600,
               "redraw": true
              },
              "mode": "immediate",
              "transition": {
               "duration": 0
              }
             }
            ],
            "label": "315",
            "method": "animate"
           },
           {
            "args": [
             [
              "name == frame_316"
             ],
             {
              "frame": {
               "duration": 600,
               "redraw": true
              },
              "mode": "immediate",
              "transition": {
               "duration": 0
              }
             }
            ],
            "label": "316",
            "method": "animate"
           },
           {
            "args": [
             [
              "name == frame_317"
             ],
             {
              "frame": {
               "duration": 600,
               "redraw": true
              },
              "mode": "immediate",
              "transition": {
               "duration": 0
              }
             }
            ],
            "label": "317",
            "method": "animate"
           },
           {
            "args": [
             [
              "name == frame_318"
             ],
             {
              "frame": {
               "duration": 600,
               "redraw": true
              },
              "mode": "immediate",
              "transition": {
               "duration": 0
              }
             }
            ],
            "label": "318",
            "method": "animate"
           },
           {
            "args": [
             [
              "name == frame_319"
             ],
             {
              "frame": {
               "duration": 600,
               "redraw": true
              },
              "mode": "immediate",
              "transition": {
               "duration": 0
              }
             }
            ],
            "label": "319",
            "method": "animate"
           },
           {
            "args": [
             [
              "name == frame_320"
             ],
             {
              "frame": {
               "duration": 600,
               "redraw": true
              },
              "mode": "immediate",
              "transition": {
               "duration": 0
              }
             }
            ],
            "label": "320",
            "method": "animate"
           },
           {
            "args": [
             [
              "name == frame_321"
             ],
             {
              "frame": {
               "duration": 600,
               "redraw": true
              },
              "mode": "immediate",
              "transition": {
               "duration": 0
              }
             }
            ],
            "label": "321",
            "method": "animate"
           },
           {
            "args": [
             [
              "name == frame_322"
             ],
             {
              "frame": {
               "duration": 600,
               "redraw": true
              },
              "mode": "immediate",
              "transition": {
               "duration": 0
              }
             }
            ],
            "label": "322",
            "method": "animate"
           },
           {
            "args": [
             [
              "name == frame_323"
             ],
             {
              "frame": {
               "duration": 600,
               "redraw": true
              },
              "mode": "immediate",
              "transition": {
               "duration": 0
              }
             }
            ],
            "label": "323",
            "method": "animate"
           },
           {
            "args": [
             [
              "name == frame_324"
             ],
             {
              "frame": {
               "duration": 600,
               "redraw": true
              },
              "mode": "immediate",
              "transition": {
               "duration": 0
              }
             }
            ],
            "label": "324",
            "method": "animate"
           },
           {
            "args": [
             [
              "name == frame_325"
             ],
             {
              "frame": {
               "duration": 600,
               "redraw": true
              },
              "mode": "immediate",
              "transition": {
               "duration": 0
              }
             }
            ],
            "label": "325",
            "method": "animate"
           },
           {
            "args": [
             [
              "name == frame_326"
             ],
             {
              "frame": {
               "duration": 600,
               "redraw": true
              },
              "mode": "immediate",
              "transition": {
               "duration": 0
              }
             }
            ],
            "label": "326",
            "method": "animate"
           },
           {
            "args": [
             [
              "name == frame_327"
             ],
             {
              "frame": {
               "duration": 600,
               "redraw": true
              },
              "mode": "immediate",
              "transition": {
               "duration": 0
              }
             }
            ],
            "label": "327",
            "method": "animate"
           },
           {
            "args": [
             [
              "name == frame_328"
             ],
             {
              "frame": {
               "duration": 600,
               "redraw": true
              },
              "mode": "immediate",
              "transition": {
               "duration": 0
              }
             }
            ],
            "label": "328",
            "method": "animate"
           },
           {
            "args": [
             [
              "name == frame_329"
             ],
             {
              "frame": {
               "duration": 600,
               "redraw": true
              },
              "mode": "immediate",
              "transition": {
               "duration": 0
              }
             }
            ],
            "label": "329",
            "method": "animate"
           },
           {
            "args": [
             [
              "name == frame_330"
             ],
             {
              "frame": {
               "duration": 600,
               "redraw": true
              },
              "mode": "immediate",
              "transition": {
               "duration": 0
              }
             }
            ],
            "label": "330",
            "method": "animate"
           },
           {
            "args": [
             [
              "name == frame_331"
             ],
             {
              "frame": {
               "duration": 600,
               "redraw": true
              },
              "mode": "immediate",
              "transition": {
               "duration": 0
              }
             }
            ],
            "label": "331",
            "method": "animate"
           },
           {
            "args": [
             [
              "name == frame_332"
             ],
             {
              "frame": {
               "duration": 600,
               "redraw": true
              },
              "mode": "immediate",
              "transition": {
               "duration": 0
              }
             }
            ],
            "label": "332",
            "method": "animate"
           },
           {
            "args": [
             [
              "name == frame_333"
             ],
             {
              "frame": {
               "duration": 600,
               "redraw": true
              },
              "mode": "immediate",
              "transition": {
               "duration": 0
              }
             }
            ],
            "label": "333",
            "method": "animate"
           },
           {
            "args": [
             [
              "name == frame_334"
             ],
             {
              "frame": {
               "duration": 600,
               "redraw": true
              },
              "mode": "immediate",
              "transition": {
               "duration": 0
              }
             }
            ],
            "label": "334",
            "method": "animate"
           },
           {
            "args": [
             [
              "name == frame_335"
             ],
             {
              "frame": {
               "duration": 600,
               "redraw": true
              },
              "mode": "immediate",
              "transition": {
               "duration": 0
              }
             }
            ],
            "label": "335",
            "method": "animate"
           },
           {
            "args": [
             [
              "name == frame_336"
             ],
             {
              "frame": {
               "duration": 600,
               "redraw": true
              },
              "mode": "immediate",
              "transition": {
               "duration": 0
              }
             }
            ],
            "label": "336",
            "method": "animate"
           },
           {
            "args": [
             [
              "name == frame_337"
             ],
             {
              "frame": {
               "duration": 600,
               "redraw": true
              },
              "mode": "immediate",
              "transition": {
               "duration": 0
              }
             }
            ],
            "label": "337",
            "method": "animate"
           },
           {
            "args": [
             [
              "name == frame_338"
             ],
             {
              "frame": {
               "duration": 600,
               "redraw": true
              },
              "mode": "immediate",
              "transition": {
               "duration": 0
              }
             }
            ],
            "label": "338",
            "method": "animate"
           },
           {
            "args": [
             [
              "name == frame_339"
             ],
             {
              "frame": {
               "duration": 600,
               "redraw": true
              },
              "mode": "immediate",
              "transition": {
               "duration": 0
              }
             }
            ],
            "label": "339",
            "method": "animate"
           },
           {
            "args": [
             [
              "name == frame_340"
             ],
             {
              "frame": {
               "duration": 600,
               "redraw": true
              },
              "mode": "immediate",
              "transition": {
               "duration": 0
              }
             }
            ],
            "label": "340",
            "method": "animate"
           },
           {
            "args": [
             [
              "name == frame_341"
             ],
             {
              "frame": {
               "duration": 600,
               "redraw": true
              },
              "mode": "immediate",
              "transition": {
               "duration": 0
              }
             }
            ],
            "label": "341",
            "method": "animate"
           },
           {
            "args": [
             [
              "name == frame_342"
             ],
             {
              "frame": {
               "duration": 600,
               "redraw": true
              },
              "mode": "immediate",
              "transition": {
               "duration": 0
              }
             }
            ],
            "label": "342",
            "method": "animate"
           },
           {
            "args": [
             [
              "name == frame_343"
             ],
             {
              "frame": {
               "duration": 600,
               "redraw": true
              },
              "mode": "immediate",
              "transition": {
               "duration": 0
              }
             }
            ],
            "label": "343",
            "method": "animate"
           },
           {
            "args": [
             [
              "name == frame_344"
             ],
             {
              "frame": {
               "duration": 600,
               "redraw": true
              },
              "mode": "immediate",
              "transition": {
               "duration": 0
              }
             }
            ],
            "label": "344",
            "method": "animate"
           },
           {
            "args": [
             [
              "name == frame_345"
             ],
             {
              "frame": {
               "duration": 600,
               "redraw": true
              },
              "mode": "immediate",
              "transition": {
               "duration": 0
              }
             }
            ],
            "label": "345",
            "method": "animate"
           },
           {
            "args": [
             [
              "name == frame_346"
             ],
             {
              "frame": {
               "duration": 600,
               "redraw": true
              },
              "mode": "immediate",
              "transition": {
               "duration": 0
              }
             }
            ],
            "label": "346",
            "method": "animate"
           },
           {
            "args": [
             [
              "name == frame_347"
             ],
             {
              "frame": {
               "duration": 600,
               "redraw": true
              },
              "mode": "immediate",
              "transition": {
               "duration": 0
              }
             }
            ],
            "label": "347",
            "method": "animate"
           },
           {
            "args": [
             [
              "name == frame_348"
             ],
             {
              "frame": {
               "duration": 600,
               "redraw": true
              },
              "mode": "immediate",
              "transition": {
               "duration": 0
              }
             }
            ],
            "label": "348",
            "method": "animate"
           },
           {
            "args": [
             [
              "name == frame_349"
             ],
             {
              "frame": {
               "duration": 600,
               "redraw": true
              },
              "mode": "immediate",
              "transition": {
               "duration": 0
              }
             }
            ],
            "label": "349",
            "method": "animate"
           },
           {
            "args": [
             [
              "name == frame_350"
             ],
             {
              "frame": {
               "duration": 600,
               "redraw": true
              },
              "mode": "immediate",
              "transition": {
               "duration": 0
              }
             }
            ],
            "label": "350",
            "method": "animate"
           },
           {
            "args": [
             [
              "name == frame_351"
             ],
             {
              "frame": {
               "duration": 600,
               "redraw": true
              },
              "mode": "immediate",
              "transition": {
               "duration": 0
              }
             }
            ],
            "label": "351",
            "method": "animate"
           },
           {
            "args": [
             [
              "name == frame_352"
             ],
             {
              "frame": {
               "duration": 600,
               "redraw": true
              },
              "mode": "immediate",
              "transition": {
               "duration": 0
              }
             }
            ],
            "label": "352",
            "method": "animate"
           },
           {
            "args": [
             [
              "name == frame_353"
             ],
             {
              "frame": {
               "duration": 600,
               "redraw": true
              },
              "mode": "immediate",
              "transition": {
               "duration": 0
              }
             }
            ],
            "label": "353",
            "method": "animate"
           },
           {
            "args": [
             [
              "name == frame_354"
             ],
             {
              "frame": {
               "duration": 600,
               "redraw": true
              },
              "mode": "immediate",
              "transition": {
               "duration": 0
              }
             }
            ],
            "label": "354",
            "method": "animate"
           },
           {
            "args": [
             [
              "name == frame_355"
             ],
             {
              "frame": {
               "duration": 600,
               "redraw": true
              },
              "mode": "immediate",
              "transition": {
               "duration": 0
              }
             }
            ],
            "label": "355",
            "method": "animate"
           },
           {
            "args": [
             [
              "name == frame_356"
             ],
             {
              "frame": {
               "duration": 600,
               "redraw": true
              },
              "mode": "immediate",
              "transition": {
               "duration": 0
              }
             }
            ],
            "label": "356",
            "method": "animate"
           },
           {
            "args": [
             [
              "name == frame_357"
             ],
             {
              "frame": {
               "duration": 600,
               "redraw": true
              },
              "mode": "immediate",
              "transition": {
               "duration": 0
              }
             }
            ],
            "label": "357",
            "method": "animate"
           },
           {
            "args": [
             [
              "name == frame_358"
             ],
             {
              "frame": {
               "duration": 600,
               "redraw": true
              },
              "mode": "immediate",
              "transition": {
               "duration": 0
              }
             }
            ],
            "label": "358",
            "method": "animate"
           },
           {
            "args": [
             [
              "name == frame_359"
             ],
             {
              "frame": {
               "duration": 600,
               "redraw": true
              },
              "mode": "immediate",
              "transition": {
               "duration": 0
              }
             }
            ],
            "label": "359",
            "method": "animate"
           },
           {
            "args": [
             [
              "name == frame_360"
             ],
             {
              "frame": {
               "duration": 600,
               "redraw": true
              },
              "mode": "immediate",
              "transition": {
               "duration": 0
              }
             }
            ],
            "label": "360",
            "method": "animate"
           },
           {
            "args": [
             [
              "name == frame_361"
             ],
             {
              "frame": {
               "duration": 600,
               "redraw": true
              },
              "mode": "immediate",
              "transition": {
               "duration": 0
              }
             }
            ],
            "label": "361",
            "method": "animate"
           },
           {
            "args": [
             [
              "name == frame_362"
             ],
             {
              "frame": {
               "duration": 600,
               "redraw": true
              },
              "mode": "immediate",
              "transition": {
               "duration": 0
              }
             }
            ],
            "label": "362",
            "method": "animate"
           },
           {
            "args": [
             [
              "name == frame_363"
             ],
             {
              "frame": {
               "duration": 600,
               "redraw": true
              },
              "mode": "immediate",
              "transition": {
               "duration": 0
              }
             }
            ],
            "label": "363",
            "method": "animate"
           },
           {
            "args": [
             [
              "name == frame_364"
             ],
             {
              "frame": {
               "duration": 600,
               "redraw": true
              },
              "mode": "immediate",
              "transition": {
               "duration": 0
              }
             }
            ],
            "label": "364",
            "method": "animate"
           },
           {
            "args": [
             [
              "name == frame_365"
             ],
             {
              "frame": {
               "duration": 600,
               "redraw": true
              },
              "mode": "immediate",
              "transition": {
               "duration": 0
              }
             }
            ],
            "label": "365",
            "method": "animate"
           },
           {
            "args": [
             [
              "name == frame_366"
             ],
             {
              "frame": {
               "duration": 600,
               "redraw": true
              },
              "mode": "immediate",
              "transition": {
               "duration": 0
              }
             }
            ],
            "label": "366",
            "method": "animate"
           },
           {
            "args": [
             [
              "name == frame_367"
             ],
             {
              "frame": {
               "duration": 600,
               "redraw": true
              },
              "mode": "immediate",
              "transition": {
               "duration": 0
              }
             }
            ],
            "label": "367",
            "method": "animate"
           },
           {
            "args": [
             [
              "name == frame_368"
             ],
             {
              "frame": {
               "duration": 600,
               "redraw": true
              },
              "mode": "immediate",
              "transition": {
               "duration": 0
              }
             }
            ],
            "label": "368",
            "method": "animate"
           },
           {
            "args": [
             [
              "name == frame_369"
             ],
             {
              "frame": {
               "duration": 600,
               "redraw": true
              },
              "mode": "immediate",
              "transition": {
               "duration": 0
              }
             }
            ],
            "label": "369",
            "method": "animate"
           },
           {
            "args": [
             [
              "name == frame_370"
             ],
             {
              "frame": {
               "duration": 600,
               "redraw": true
              },
              "mode": "immediate",
              "transition": {
               "duration": 0
              }
             }
            ],
            "label": "370",
            "method": "animate"
           },
           {
            "args": [
             [
              "name == frame_371"
             ],
             {
              "frame": {
               "duration": 600,
               "redraw": true
              },
              "mode": "immediate",
              "transition": {
               "duration": 0
              }
             }
            ],
            "label": "371",
            "method": "animate"
           },
           {
            "args": [
             [
              "name == frame_372"
             ],
             {
              "frame": {
               "duration": 600,
               "redraw": true
              },
              "mode": "immediate",
              "transition": {
               "duration": 0
              }
             }
            ],
            "label": "372",
            "method": "animate"
           },
           {
            "args": [
             [
              "name == frame_373"
             ],
             {
              "frame": {
               "duration": 600,
               "redraw": true
              },
              "mode": "immediate",
              "transition": {
               "duration": 0
              }
             }
            ],
            "label": "373",
            "method": "animate"
           },
           {
            "args": [
             [
              "name == frame_374"
             ],
             {
              "frame": {
               "duration": 600,
               "redraw": true
              },
              "mode": "immediate",
              "transition": {
               "duration": 0
              }
             }
            ],
            "label": "374",
            "method": "animate"
           },
           {
            "args": [
             [
              "name == frame_375"
             ],
             {
              "frame": {
               "duration": 600,
               "redraw": true
              },
              "mode": "immediate",
              "transition": {
               "duration": 0
              }
             }
            ],
            "label": "375",
            "method": "animate"
           },
           {
            "args": [
             [
              "name == frame_376"
             ],
             {
              "frame": {
               "duration": 600,
               "redraw": true
              },
              "mode": "immediate",
              "transition": {
               "duration": 0
              }
             }
            ],
            "label": "376",
            "method": "animate"
           },
           {
            "args": [
             [
              "name == frame_377"
             ],
             {
              "frame": {
               "duration": 600,
               "redraw": true
              },
              "mode": "immediate",
              "transition": {
               "duration": 0
              }
             }
            ],
            "label": "377",
            "method": "animate"
           },
           {
            "args": [
             [
              "name == frame_378"
             ],
             {
              "frame": {
               "duration": 600,
               "redraw": true
              },
              "mode": "immediate",
              "transition": {
               "duration": 0
              }
             }
            ],
            "label": "378",
            "method": "animate"
           },
           {
            "args": [
             [
              "name == frame_379"
             ],
             {
              "frame": {
               "duration": 600,
               "redraw": true
              },
              "mode": "immediate",
              "transition": {
               "duration": 0
              }
             }
            ],
            "label": "379",
            "method": "animate"
           },
           {
            "args": [
             [
              "name == frame_380"
             ],
             {
              "frame": {
               "duration": 600,
               "redraw": true
              },
              "mode": "immediate",
              "transition": {
               "duration": 0
              }
             }
            ],
            "label": "380",
            "method": "animate"
           },
           {
            "args": [
             [
              "name == frame_381"
             ],
             {
              "frame": {
               "duration": 600,
               "redraw": true
              },
              "mode": "immediate",
              "transition": {
               "duration": 0
              }
             }
            ],
            "label": "381",
            "method": "animate"
           },
           {
            "args": [
             [
              "name == frame_382"
             ],
             {
              "frame": {
               "duration": 600,
               "redraw": true
              },
              "mode": "immediate",
              "transition": {
               "duration": 0
              }
             }
            ],
            "label": "382",
            "method": "animate"
           },
           {
            "args": [
             [
              "name == frame_383"
             ],
             {
              "frame": {
               "duration": 600,
               "redraw": true
              },
              "mode": "immediate",
              "transition": {
               "duration": 0
              }
             }
            ],
            "label": "383",
            "method": "animate"
           },
           {
            "args": [
             [
              "name == frame_384"
             ],
             {
              "frame": {
               "duration": 600,
               "redraw": true
              },
              "mode": "immediate",
              "transition": {
               "duration": 0
              }
             }
            ],
            "label": "384",
            "method": "animate"
           },
           {
            "args": [
             [
              "name == frame_385"
             ],
             {
              "frame": {
               "duration": 600,
               "redraw": true
              },
              "mode": "immediate",
              "transition": {
               "duration": 0
              }
             }
            ],
            "label": "385",
            "method": "animate"
           },
           {
            "args": [
             [
              "name == frame_386"
             ],
             {
              "frame": {
               "duration": 600,
               "redraw": true
              },
              "mode": "immediate",
              "transition": {
               "duration": 0
              }
             }
            ],
            "label": "386",
            "method": "animate"
           },
           {
            "args": [
             [
              "name == frame_387"
             ],
             {
              "frame": {
               "duration": 600,
               "redraw": true
              },
              "mode": "immediate",
              "transition": {
               "duration": 0
              }
             }
            ],
            "label": "387",
            "method": "animate"
           },
           {
            "args": [
             [
              "name == frame_388"
             ],
             {
              "frame": {
               "duration": 600,
               "redraw": true
              },
              "mode": "immediate",
              "transition": {
               "duration": 0
              }
             }
            ],
            "label": "388",
            "method": "animate"
           },
           {
            "args": [
             [
              "name == frame_389"
             ],
             {
              "frame": {
               "duration": 600,
               "redraw": true
              },
              "mode": "immediate",
              "transition": {
               "duration": 0
              }
             }
            ],
            "label": "389",
            "method": "animate"
           },
           {
            "args": [
             [
              "name == frame_390"
             ],
             {
              "frame": {
               "duration": 600,
               "redraw": true
              },
              "mode": "immediate",
              "transition": {
               "duration": 0
              }
             }
            ],
            "label": "390",
            "method": "animate"
           },
           {
            "args": [
             [
              "name == frame_391"
             ],
             {
              "frame": {
               "duration": 600,
               "redraw": true
              },
              "mode": "immediate",
              "transition": {
               "duration": 0
              }
             }
            ],
            "label": "391",
            "method": "animate"
           },
           {
            "args": [
             [
              "name == frame_392"
             ],
             {
              "frame": {
               "duration": 600,
               "redraw": true
              },
              "mode": "immediate",
              "transition": {
               "duration": 0
              }
             }
            ],
            "label": "392",
            "method": "animate"
           },
           {
            "args": [
             [
              "name == frame_393"
             ],
             {
              "frame": {
               "duration": 600,
               "redraw": true
              },
              "mode": "immediate",
              "transition": {
               "duration": 0
              }
             }
            ],
            "label": "393",
            "method": "animate"
           },
           {
            "args": [
             [
              "name == frame_394"
             ],
             {
              "frame": {
               "duration": 600,
               "redraw": true
              },
              "mode": "immediate",
              "transition": {
               "duration": 0
              }
             }
            ],
            "label": "394",
            "method": "animate"
           },
           {
            "args": [
             [
              "name == frame_395"
             ],
             {
              "frame": {
               "duration": 600,
               "redraw": true
              },
              "mode": "immediate",
              "transition": {
               "duration": 0
              }
             }
            ],
            "label": "395",
            "method": "animate"
           },
           {
            "args": [
             [
              "name == frame_396"
             ],
             {
              "frame": {
               "duration": 600,
               "redraw": true
              },
              "mode": "immediate",
              "transition": {
               "duration": 0
              }
             }
            ],
            "label": "396",
            "method": "animate"
           },
           {
            "args": [
             [
              "name == frame_397"
             ],
             {
              "frame": {
               "duration": 600,
               "redraw": true
              },
              "mode": "immediate",
              "transition": {
               "duration": 0
              }
             }
            ],
            "label": "397",
            "method": "animate"
           },
           {
            "args": [
             [
              "name == frame_398"
             ],
             {
              "frame": {
               "duration": 600,
               "redraw": true
              },
              "mode": "immediate",
              "transition": {
               "duration": 0
              }
             }
            ],
            "label": "398",
            "method": "animate"
           },
           {
            "args": [
             [
              "name == frame_399"
             ],
             {
              "frame": {
               "duration": 600,
               "redraw": true
              },
              "mode": "immediate",
              "transition": {
               "duration": 0
              }
             }
            ],
            "label": "399",
            "method": "animate"
           },
           {
            "args": [
             [
              "name == frame_400"
             ],
             {
              "frame": {
               "duration": 600,
               "redraw": true
              },
              "mode": "immediate",
              "transition": {
               "duration": 0
              }
             }
            ],
            "label": "400",
            "method": "animate"
           },
           {
            "args": [
             [
              "name == frame_401"
             ],
             {
              "frame": {
               "duration": 600,
               "redraw": true
              },
              "mode": "immediate",
              "transition": {
               "duration": 0
              }
             }
            ],
            "label": "401",
            "method": "animate"
           },
           {
            "args": [
             [
              "name == frame_402"
             ],
             {
              "frame": {
               "duration": 600,
               "redraw": true
              },
              "mode": "immediate",
              "transition": {
               "duration": 0
              }
             }
            ],
            "label": "402",
            "method": "animate"
           },
           {
            "args": [
             [
              "name == frame_403"
             ],
             {
              "frame": {
               "duration": 600,
               "redraw": true
              },
              "mode": "immediate",
              "transition": {
               "duration": 0
              }
             }
            ],
            "label": "403",
            "method": "animate"
           },
           {
            "args": [
             [
              "name == frame_404"
             ],
             {
              "frame": {
               "duration": 600,
               "redraw": true
              },
              "mode": "immediate",
              "transition": {
               "duration": 0
              }
             }
            ],
            "label": "404",
            "method": "animate"
           },
           {
            "args": [
             [
              "name == frame_405"
             ],
             {
              "frame": {
               "duration": 600,
               "redraw": true
              },
              "mode": "immediate",
              "transition": {
               "duration": 0
              }
             }
            ],
            "label": "405",
            "method": "animate"
           },
           {
            "args": [
             [
              "name == frame_406"
             ],
             {
              "frame": {
               "duration": 600,
               "redraw": true
              },
              "mode": "immediate",
              "transition": {
               "duration": 0
              }
             }
            ],
            "label": "406",
            "method": "animate"
           },
           {
            "args": [
             [
              "name == frame_407"
             ],
             {
              "frame": {
               "duration": 600,
               "redraw": true
              },
              "mode": "immediate",
              "transition": {
               "duration": 0
              }
             }
            ],
            "label": "407",
            "method": "animate"
           },
           {
            "args": [
             [
              "name == frame_408"
             ],
             {
              "frame": {
               "duration": 600,
               "redraw": true
              },
              "mode": "immediate",
              "transition": {
               "duration": 0
              }
             }
            ],
            "label": "408",
            "method": "animate"
           },
           {
            "args": [
             [
              "name == frame_409"
             ],
             {
              "frame": {
               "duration": 600,
               "redraw": true
              },
              "mode": "immediate",
              "transition": {
               "duration": 0
              }
             }
            ],
            "label": "409",
            "method": "animate"
           },
           {
            "args": [
             [
              "name == frame_410"
             ],
             {
              "frame": {
               "duration": 600,
               "redraw": true
              },
              "mode": "immediate",
              "transition": {
               "duration": 0
              }
             }
            ],
            "label": "410",
            "method": "animate"
           },
           {
            "args": [
             [
              "name == frame_411"
             ],
             {
              "frame": {
               "duration": 600,
               "redraw": true
              },
              "mode": "immediate",
              "transition": {
               "duration": 0
              }
             }
            ],
            "label": "411",
            "method": "animate"
           },
           {
            "args": [
             [
              "name == frame_412"
             ],
             {
              "frame": {
               "duration": 600,
               "redraw": true
              },
              "mode": "immediate",
              "transition": {
               "duration": 0
              }
             }
            ],
            "label": "412",
            "method": "animate"
           },
           {
            "args": [
             [
              "name == frame_413"
             ],
             {
              "frame": {
               "duration": 600,
               "redraw": true
              },
              "mode": "immediate",
              "transition": {
               "duration": 0
              }
             }
            ],
            "label": "413",
            "method": "animate"
           },
           {
            "args": [
             [
              "name == frame_414"
             ],
             {
              "frame": {
               "duration": 600,
               "redraw": true
              },
              "mode": "immediate",
              "transition": {
               "duration": 0
              }
             }
            ],
            "label": "414",
            "method": "animate"
           },
           {
            "args": [
             [
              "name == frame_415"
             ],
             {
              "frame": {
               "duration": 600,
               "redraw": true
              },
              "mode": "immediate",
              "transition": {
               "duration": 0
              }
             }
            ],
            "label": "415",
            "method": "animate"
           },
           {
            "args": [
             [
              "name == frame_416"
             ],
             {
              "frame": {
               "duration": 600,
               "redraw": true
              },
              "mode": "immediate",
              "transition": {
               "duration": 0
              }
             }
            ],
            "label": "416",
            "method": "animate"
           },
           {
            "args": [
             [
              "name == frame_417"
             ],
             {
              "frame": {
               "duration": 600,
               "redraw": true
              },
              "mode": "immediate",
              "transition": {
               "duration": 0
              }
             }
            ],
            "label": "417",
            "method": "animate"
           },
           {
            "args": [
             [
              "name == frame_418"
             ],
             {
              "frame": {
               "duration": 600,
               "redraw": true
              },
              "mode": "immediate",
              "transition": {
               "duration": 0
              }
             }
            ],
            "label": "418",
            "method": "animate"
           },
           {
            "args": [
             [
              "name == frame_419"
             ],
             {
              "frame": {
               "duration": 600,
               "redraw": true
              },
              "mode": "immediate",
              "transition": {
               "duration": 0
              }
             }
            ],
            "label": "419",
            "method": "animate"
           },
           {
            "args": [
             [
              "name == frame_420"
             ],
             {
              "frame": {
               "duration": 600,
               "redraw": true
              },
              "mode": "immediate",
              "transition": {
               "duration": 0
              }
             }
            ],
            "label": "420",
            "method": "animate"
           },
           {
            "args": [
             [
              "name == frame_421"
             ],
             {
              "frame": {
               "duration": 600,
               "redraw": true
              },
              "mode": "immediate",
              "transition": {
               "duration": 0
              }
             }
            ],
            "label": "421",
            "method": "animate"
           },
           {
            "args": [
             [
              "name == frame_422"
             ],
             {
              "frame": {
               "duration": 600,
               "redraw": true
              },
              "mode": "immediate",
              "transition": {
               "duration": 0
              }
             }
            ],
            "label": "422",
            "method": "animate"
           },
           {
            "args": [
             [
              "name == frame_423"
             ],
             {
              "frame": {
               "duration": 600,
               "redraw": true
              },
              "mode": "immediate",
              "transition": {
               "duration": 0
              }
             }
            ],
            "label": "423",
            "method": "animate"
           },
           {
            "args": [
             [
              "name == frame_424"
             ],
             {
              "frame": {
               "duration": 600,
               "redraw": true
              },
              "mode": "immediate",
              "transition": {
               "duration": 0
              }
             }
            ],
            "label": "424",
            "method": "animate"
           },
           {
            "args": [
             [
              "name == frame_425"
             ],
             {
              "frame": {
               "duration": 600,
               "redraw": true
              },
              "mode": "immediate",
              "transition": {
               "duration": 0
              }
             }
            ],
            "label": "425",
            "method": "animate"
           },
           {
            "args": [
             [
              "name == frame_426"
             ],
             {
              "frame": {
               "duration": 600,
               "redraw": true
              },
              "mode": "immediate",
              "transition": {
               "duration": 0
              }
             }
            ],
            "label": "426",
            "method": "animate"
           },
           {
            "args": [
             [
              "name == frame_427"
             ],
             {
              "frame": {
               "duration": 600,
               "redraw": true
              },
              "mode": "immediate",
              "transition": {
               "duration": 0
              }
             }
            ],
            "label": "427",
            "method": "animate"
           },
           {
            "args": [
             [
              "name == frame_428"
             ],
             {
              "frame": {
               "duration": 600,
               "redraw": true
              },
              "mode": "immediate",
              "transition": {
               "duration": 0
              }
             }
            ],
            "label": "428",
            "method": "animate"
           },
           {
            "args": [
             [
              "name == frame_429"
             ],
             {
              "frame": {
               "duration": 600,
               "redraw": true
              },
              "mode": "immediate",
              "transition": {
               "duration": 0
              }
             }
            ],
            "label": "429",
            "method": "animate"
           },
           {
            "args": [
             [
              "name == frame_430"
             ],
             {
              "frame": {
               "duration": 600,
               "redraw": true
              },
              "mode": "immediate",
              "transition": {
               "duration": 0
              }
             }
            ],
            "label": "430",
            "method": "animate"
           },
           {
            "args": [
             [
              "name == frame_431"
             ],
             {
              "frame": {
               "duration": 600,
               "redraw": true
              },
              "mode": "immediate",
              "transition": {
               "duration": 0
              }
             }
            ],
            "label": "431",
            "method": "animate"
           },
           {
            "args": [
             [
              "name == frame_432"
             ],
             {
              "frame": {
               "duration": 600,
               "redraw": true
              },
              "mode": "immediate",
              "transition": {
               "duration": 0
              }
             }
            ],
            "label": "432",
            "method": "animate"
           },
           {
            "args": [
             [
              "name == frame_433"
             ],
             {
              "frame": {
               "duration": 600,
               "redraw": true
              },
              "mode": "immediate",
              "transition": {
               "duration": 0
              }
             }
            ],
            "label": "433",
            "method": "animate"
           },
           {
            "args": [
             [
              "name == frame_434"
             ],
             {
              "frame": {
               "duration": 600,
               "redraw": true
              },
              "mode": "immediate",
              "transition": {
               "duration": 0
              }
             }
            ],
            "label": "434",
            "method": "animate"
           },
           {
            "args": [
             [
              "name == frame_435"
             ],
             {
              "frame": {
               "duration": 600,
               "redraw": true
              },
              "mode": "immediate",
              "transition": {
               "duration": 0
              }
             }
            ],
            "label": "435",
            "method": "animate"
           },
           {
            "args": [
             [
              "name == frame_436"
             ],
             {
              "frame": {
               "duration": 600,
               "redraw": true
              },
              "mode": "immediate",
              "transition": {
               "duration": 0
              }
             }
            ],
            "label": "436",
            "method": "animate"
           },
           {
            "args": [
             [
              "name == frame_437"
             ],
             {
              "frame": {
               "duration": 600,
               "redraw": true
              },
              "mode": "immediate",
              "transition": {
               "duration": 0
              }
             }
            ],
            "label": "437",
            "method": "animate"
           },
           {
            "args": [
             [
              "name == frame_438"
             ],
             {
              "frame": {
               "duration": 600,
               "redraw": true
              },
              "mode": "immediate",
              "transition": {
               "duration": 0
              }
             }
            ],
            "label": "438",
            "method": "animate"
           },
           {
            "args": [
             [
              "name == frame_439"
             ],
             {
              "frame": {
               "duration": 600,
               "redraw": true
              },
              "mode": "immediate",
              "transition": {
               "duration": 0
              }
             }
            ],
            "label": "439",
            "method": "animate"
           },
           {
            "args": [
             [
              "name == frame_440"
             ],
             {
              "frame": {
               "duration": 600,
               "redraw": true
              },
              "mode": "immediate",
              "transition": {
               "duration": 0
              }
             }
            ],
            "label": "440",
            "method": "animate"
           },
           {
            "args": [
             [
              "name == frame_441"
             ],
             {
              "frame": {
               "duration": 600,
               "redraw": true
              },
              "mode": "immediate",
              "transition": {
               "duration": 0
              }
             }
            ],
            "label": "441",
            "method": "animate"
           },
           {
            "args": [
             [
              "name == frame_442"
             ],
             {
              "frame": {
               "duration": 600,
               "redraw": true
              },
              "mode": "immediate",
              "transition": {
               "duration": 0
              }
             }
            ],
            "label": "442",
            "method": "animate"
           },
           {
            "args": [
             [
              "name == frame_443"
             ],
             {
              "frame": {
               "duration": 600,
               "redraw": true
              },
              "mode": "immediate",
              "transition": {
               "duration": 0
              }
             }
            ],
            "label": "443",
            "method": "animate"
           },
           {
            "args": [
             [
              "name == frame_444"
             ],
             {
              "frame": {
               "duration": 600,
               "redraw": true
              },
              "mode": "immediate",
              "transition": {
               "duration": 0
              }
             }
            ],
            "label": "444",
            "method": "animate"
           },
           {
            "args": [
             [
              "name == frame_445"
             ],
             {
              "frame": {
               "duration": 600,
               "redraw": true
              },
              "mode": "immediate",
              "transition": {
               "duration": 0
              }
             }
            ],
            "label": "445",
            "method": "animate"
           },
           {
            "args": [
             [
              "name == frame_446"
             ],
             {
              "frame": {
               "duration": 600,
               "redraw": true
              },
              "mode": "immediate",
              "transition": {
               "duration": 0
              }
             }
            ],
            "label": "446",
            "method": "animate"
           },
           {
            "args": [
             [
              "name == frame_447"
             ],
             {
              "frame": {
               "duration": 600,
               "redraw": true
              },
              "mode": "immediate",
              "transition": {
               "duration": 0
              }
             }
            ],
            "label": "447",
            "method": "animate"
           },
           {
            "args": [
             [
              "name == frame_448"
             ],
             {
              "frame": {
               "duration": 600,
               "redraw": true
              },
              "mode": "immediate",
              "transition": {
               "duration": 0
              }
             }
            ],
            "label": "448",
            "method": "animate"
           },
           {
            "args": [
             [
              "name == frame_449"
             ],
             {
              "frame": {
               "duration": 600,
               "redraw": true
              },
              "mode": "immediate",
              "transition": {
               "duration": 0
              }
             }
            ],
            "label": "449",
            "method": "animate"
           },
           {
            "args": [
             [
              "name == frame_450"
             ],
             {
              "frame": {
               "duration": 600,
               "redraw": true
              },
              "mode": "immediate",
              "transition": {
               "duration": 0
              }
             }
            ],
            "label": "450",
            "method": "animate"
           },
           {
            "args": [
             [
              "name == frame_451"
             ],
             {
              "frame": {
               "duration": 600,
               "redraw": true
              },
              "mode": "immediate",
              "transition": {
               "duration": 0
              }
             }
            ],
            "label": "451",
            "method": "animate"
           },
           {
            "args": [
             [
              "name == frame_452"
             ],
             {
              "frame": {
               "duration": 600,
               "redraw": true
              },
              "mode": "immediate",
              "transition": {
               "duration": 0
              }
             }
            ],
            "label": "452",
            "method": "animate"
           },
           {
            "args": [
             [
              "name == frame_453"
             ],
             {
              "frame": {
               "duration": 600,
               "redraw": true
              },
              "mode": "immediate",
              "transition": {
               "duration": 0
              }
             }
            ],
            "label": "453",
            "method": "animate"
           },
           {
            "args": [
             [
              "name == frame_454"
             ],
             {
              "frame": {
               "duration": 600,
               "redraw": true
              },
              "mode": "immediate",
              "transition": {
               "duration": 0
              }
             }
            ],
            "label": "454",
            "method": "animate"
           },
           {
            "args": [
             [
              "name == frame_455"
             ],
             {
              "frame": {
               "duration": 600,
               "redraw": true
              },
              "mode": "immediate",
              "transition": {
               "duration": 0
              }
             }
            ],
            "label": "455",
            "method": "animate"
           },
           {
            "args": [
             [
              "name == frame_456"
             ],
             {
              "frame": {
               "duration": 600,
               "redraw": true
              },
              "mode": "immediate",
              "transition": {
               "duration": 0
              }
             }
            ],
            "label": "456",
            "method": "animate"
           },
           {
            "args": [
             [
              "name == frame_457"
             ],
             {
              "frame": {
               "duration": 600,
               "redraw": true
              },
              "mode": "immediate",
              "transition": {
               "duration": 0
              }
             }
            ],
            "label": "457",
            "method": "animate"
           },
           {
            "args": [
             [
              "name == frame_458"
             ],
             {
              "frame": {
               "duration": 600,
               "redraw": true
              },
              "mode": "immediate",
              "transition": {
               "duration": 0
              }
             }
            ],
            "label": "458",
            "method": "animate"
           },
           {
            "args": [
             [
              "name == frame_459"
             ],
             {
              "frame": {
               "duration": 600,
               "redraw": true
              },
              "mode": "immediate",
              "transition": {
               "duration": 0
              }
             }
            ],
            "label": "459",
            "method": "animate"
           },
           {
            "args": [
             [
              "name == frame_460"
             ],
             {
              "frame": {
               "duration": 600,
               "redraw": true
              },
              "mode": "immediate",
              "transition": {
               "duration": 0
              }
             }
            ],
            "label": "460",
            "method": "animate"
           },
           {
            "args": [
             [
              "name == frame_461"
             ],
             {
              "frame": {
               "duration": 600,
               "redraw": true
              },
              "mode": "immediate",
              "transition": {
               "duration": 0
              }
             }
            ],
            "label": "461",
            "method": "animate"
           },
           {
            "args": [
             [
              "name == frame_462"
             ],
             {
              "frame": {
               "duration": 600,
               "redraw": true
              },
              "mode": "immediate",
              "transition": {
               "duration": 0
              }
             }
            ],
            "label": "462",
            "method": "animate"
           },
           {
            "args": [
             [
              "name == frame_463"
             ],
             {
              "frame": {
               "duration": 600,
               "redraw": true
              },
              "mode": "immediate",
              "transition": {
               "duration": 0
              }
             }
            ],
            "label": "463",
            "method": "animate"
           },
           {
            "args": [
             [
              "name == frame_464"
             ],
             {
              "frame": {
               "duration": 600,
               "redraw": true
              },
              "mode": "immediate",
              "transition": {
               "duration": 0
              }
             }
            ],
            "label": "464",
            "method": "animate"
           },
           {
            "args": [
             [
              "name == frame_465"
             ],
             {
              "frame": {
               "duration": 600,
               "redraw": true
              },
              "mode": "immediate",
              "transition": {
               "duration": 0
              }
             }
            ],
            "label": "465",
            "method": "animate"
           },
           {
            "args": [
             [
              "name == frame_466"
             ],
             {
              "frame": {
               "duration": 600,
               "redraw": true
              },
              "mode": "immediate",
              "transition": {
               "duration": 0
              }
             }
            ],
            "label": "466",
            "method": "animate"
           },
           {
            "args": [
             [
              "name == frame_467"
             ],
             {
              "frame": {
               "duration": 600,
               "redraw": true
              },
              "mode": "immediate",
              "transition": {
               "duration": 0
              }
             }
            ],
            "label": "467",
            "method": "animate"
           },
           {
            "args": [
             [
              "name == frame_468"
             ],
             {
              "frame": {
               "duration": 600,
               "redraw": true
              },
              "mode": "immediate",
              "transition": {
               "duration": 0
              }
             }
            ],
            "label": "468",
            "method": "animate"
           },
           {
            "args": [
             [
              "name == frame_469"
             ],
             {
              "frame": {
               "duration": 600,
               "redraw": true
              },
              "mode": "immediate",
              "transition": {
               "duration": 0
              }
             }
            ],
            "label": "469",
            "method": "animate"
           },
           {
            "args": [
             [
              "name == frame_470"
             ],
             {
              "frame": {
               "duration": 600,
               "redraw": true
              },
              "mode": "immediate",
              "transition": {
               "duration": 0
              }
             }
            ],
            "label": "470",
            "method": "animate"
           },
           {
            "args": [
             [
              "name == frame_471"
             ],
             {
              "frame": {
               "duration": 600,
               "redraw": true
              },
              "mode": "immediate",
              "transition": {
               "duration": 0
              }
             }
            ],
            "label": "471",
            "method": "animate"
           },
           {
            "args": [
             [
              "name == frame_472"
             ],
             {
              "frame": {
               "duration": 600,
               "redraw": true
              },
              "mode": "immediate",
              "transition": {
               "duration": 0
              }
             }
            ],
            "label": "472",
            "method": "animate"
           },
           {
            "args": [
             [
              "name == frame_473"
             ],
             {
              "frame": {
               "duration": 600,
               "redraw": true
              },
              "mode": "immediate",
              "transition": {
               "duration": 0
              }
             }
            ],
            "label": "473",
            "method": "animate"
           },
           {
            "args": [
             [
              "name == frame_474"
             ],
             {
              "frame": {
               "duration": 600,
               "redraw": true
              },
              "mode": "immediate",
              "transition": {
               "duration": 0
              }
             }
            ],
            "label": "474",
            "method": "animate"
           },
           {
            "args": [
             [
              "name == frame_475"
             ],
             {
              "frame": {
               "duration": 600,
               "redraw": true
              },
              "mode": "immediate",
              "transition": {
               "duration": 0
              }
             }
            ],
            "label": "475",
            "method": "animate"
           },
           {
            "args": [
             [
              "name == frame_476"
             ],
             {
              "frame": {
               "duration": 600,
               "redraw": true
              },
              "mode": "immediate",
              "transition": {
               "duration": 0
              }
             }
            ],
            "label": "476",
            "method": "animate"
           },
           {
            "args": [
             [
              "name == frame_477"
             ],
             {
              "frame": {
               "duration": 600,
               "redraw": true
              },
              "mode": "immediate",
              "transition": {
               "duration": 0
              }
             }
            ],
            "label": "477",
            "method": "animate"
           },
           {
            "args": [
             [
              "name == frame_478"
             ],
             {
              "frame": {
               "duration": 600,
               "redraw": true
              },
              "mode": "immediate",
              "transition": {
               "duration": 0
              }
             }
            ],
            "label": "478",
            "method": "animate"
           },
           {
            "args": [
             [
              "name == frame_479"
             ],
             {
              "frame": {
               "duration": 600,
               "redraw": true
              },
              "mode": "immediate",
              "transition": {
               "duration": 0
              }
             }
            ],
            "label": "479",
            "method": "animate"
           },
           {
            "args": [
             [
              "name == frame_480"
             ],
             {
              "frame": {
               "duration": 600,
               "redraw": true
              },
              "mode": "immediate",
              "transition": {
               "duration": 0
              }
             }
            ],
            "label": "480",
            "method": "animate"
           },
           {
            "args": [
             [
              "name == frame_481"
             ],
             {
              "frame": {
               "duration": 600,
               "redraw": true
              },
              "mode": "immediate",
              "transition": {
               "duration": 0
              }
             }
            ],
            "label": "481",
            "method": "animate"
           },
           {
            "args": [
             [
              "name == frame_482"
             ],
             {
              "frame": {
               "duration": 600,
               "redraw": true
              },
              "mode": "immediate",
              "transition": {
               "duration": 0
              }
             }
            ],
            "label": "482",
            "method": "animate"
           },
           {
            "args": [
             [
              "name == frame_483"
             ],
             {
              "frame": {
               "duration": 600,
               "redraw": true
              },
              "mode": "immediate",
              "transition": {
               "duration": 0
              }
             }
            ],
            "label": "483",
            "method": "animate"
           },
           {
            "args": [
             [
              "name == frame_484"
             ],
             {
              "frame": {
               "duration": 600,
               "redraw": true
              },
              "mode": "immediate",
              "transition": {
               "duration": 0
              }
             }
            ],
            "label": "484",
            "method": "animate"
           },
           {
            "args": [
             [
              "name == frame_485"
             ],
             {
              "frame": {
               "duration": 600,
               "redraw": true
              },
              "mode": "immediate",
              "transition": {
               "duration": 0
              }
             }
            ],
            "label": "485",
            "method": "animate"
           },
           {
            "args": [
             [
              "name == frame_486"
             ],
             {
              "frame": {
               "duration": 600,
               "redraw": true
              },
              "mode": "immediate",
              "transition": {
               "duration": 0
              }
             }
            ],
            "label": "486",
            "method": "animate"
           },
           {
            "args": [
             [
              "name == frame_487"
             ],
             {
              "frame": {
               "duration": 600,
               "redraw": true
              },
              "mode": "immediate",
              "transition": {
               "duration": 0
              }
             }
            ],
            "label": "487",
            "method": "animate"
           },
           {
            "args": [
             [
              "name == frame_488"
             ],
             {
              "frame": {
               "duration": 600,
               "redraw": true
              },
              "mode": "immediate",
              "transition": {
               "duration": 0
              }
             }
            ],
            "label": "488",
            "method": "animate"
           },
           {
            "args": [
             [
              "name == frame_489"
             ],
             {
              "frame": {
               "duration": 600,
               "redraw": true
              },
              "mode": "immediate",
              "transition": {
               "duration": 0
              }
             }
            ],
            "label": "489",
            "method": "animate"
           },
           {
            "args": [
             [
              "name == frame_490"
             ],
             {
              "frame": {
               "duration": 600,
               "redraw": true
              },
              "mode": "immediate",
              "transition": {
               "duration": 0
              }
             }
            ],
            "label": "490",
            "method": "animate"
           },
           {
            "args": [
             [
              "name == frame_491"
             ],
             {
              "frame": {
               "duration": 600,
               "redraw": true
              },
              "mode": "immediate",
              "transition": {
               "duration": 0
              }
             }
            ],
            "label": "491",
            "method": "animate"
           },
           {
            "args": [
             [
              "name == frame_492"
             ],
             {
              "frame": {
               "duration": 600,
               "redraw": true
              },
              "mode": "immediate",
              "transition": {
               "duration": 0
              }
             }
            ],
            "label": "492",
            "method": "animate"
           },
           {
            "args": [
             [
              "name == frame_493"
             ],
             {
              "frame": {
               "duration": 600,
               "redraw": true
              },
              "mode": "immediate",
              "transition": {
               "duration": 0
              }
             }
            ],
            "label": "493",
            "method": "animate"
           },
           {
            "args": [
             [
              "name == frame_494"
             ],
             {
              "frame": {
               "duration": 600,
               "redraw": true
              },
              "mode": "immediate",
              "transition": {
               "duration": 0
              }
             }
            ],
            "label": "494",
            "method": "animate"
           },
           {
            "args": [
             [
              "name == frame_495"
             ],
             {
              "frame": {
               "duration": 600,
               "redraw": true
              },
              "mode": "immediate",
              "transition": {
               "duration": 0
              }
             }
            ],
            "label": "495",
            "method": "animate"
           },
           {
            "args": [
             [
              "name == frame_496"
             ],
             {
              "frame": {
               "duration": 600,
               "redraw": true
              },
              "mode": "immediate",
              "transition": {
               "duration": 0
              }
             }
            ],
            "label": "496",
            "method": "animate"
           },
           {
            "args": [
             [
              "name == frame_497"
             ],
             {
              "frame": {
               "duration": 600,
               "redraw": true
              },
              "mode": "immediate",
              "transition": {
               "duration": 0
              }
             }
            ],
            "label": "497",
            "method": "animate"
           },
           {
            "args": [
             [
              "name == frame_498"
             ],
             {
              "frame": {
               "duration": 600,
               "redraw": true
              },
              "mode": "immediate",
              "transition": {
               "duration": 0
              }
             }
            ],
            "label": "498",
            "method": "animate"
           },
           {
            "args": [
             [
              "name == frame_499"
             ],
             {
              "frame": {
               "duration": 600,
               "redraw": true
              },
              "mode": "immediate",
              "transition": {
               "duration": 0
              }
             }
            ],
            "label": "499",
            "method": "animate"
           }
          ],
          "transition": {
           "duration": 0
          },
          "x": 0.1,
          "y": 0
         }
        ],
        "template": {
         "data": {
          "bar": [
           {
            "error_x": {
             "color": "#2a3f5f"
            },
            "error_y": {
             "color": "#2a3f5f"
            },
            "marker": {
             "line": {
              "color": "#E5ECF6",
              "width": 0.5
             },
             "pattern": {
              "fillmode": "overlay",
              "size": 10,
              "solidity": 0.2
             }
            },
            "type": "bar"
           }
          ],
          "barpolar": [
           {
            "marker": {
             "line": {
              "color": "#E5ECF6",
              "width": 0.5
             },
             "pattern": {
              "fillmode": "overlay",
              "size": 10,
              "solidity": 0.2
             }
            },
            "type": "barpolar"
           }
          ],
          "carpet": [
           {
            "aaxis": {
             "endlinecolor": "#2a3f5f",
             "gridcolor": "white",
             "linecolor": "white",
             "minorgridcolor": "white",
             "startlinecolor": "#2a3f5f"
            },
            "baxis": {
             "endlinecolor": "#2a3f5f",
             "gridcolor": "white",
             "linecolor": "white",
             "minorgridcolor": "white",
             "startlinecolor": "#2a3f5f"
            },
            "type": "carpet"
           }
          ],
          "choropleth": [
           {
            "colorbar": {
             "outlinewidth": 0,
             "ticks": ""
            },
            "type": "choropleth"
           }
          ],
          "contour": [
           {
            "colorbar": {
             "outlinewidth": 0,
             "ticks": ""
            },
            "colorscale": [
             [
              0,
              "#0d0887"
             ],
             [
              0.1111111111111111,
              "#46039f"
             ],
             [
              0.2222222222222222,
              "#7201a8"
             ],
             [
              0.3333333333333333,
              "#9c179e"
             ],
             [
              0.4444444444444444,
              "#bd3786"
             ],
             [
              0.5555555555555556,
              "#d8576b"
             ],
             [
              0.6666666666666666,
              "#ed7953"
             ],
             [
              0.7777777777777778,
              "#fb9f3a"
             ],
             [
              0.8888888888888888,
              "#fdca26"
             ],
             [
              1,
              "#f0f921"
             ]
            ],
            "type": "contour"
           }
          ],
          "contourcarpet": [
           {
            "colorbar": {
             "outlinewidth": 0,
             "ticks": ""
            },
            "type": "contourcarpet"
           }
          ],
          "heatmap": [
           {
            "colorbar": {
             "outlinewidth": 0,
             "ticks": ""
            },
            "colorscale": [
             [
              0,
              "#0d0887"
             ],
             [
              0.1111111111111111,
              "#46039f"
             ],
             [
              0.2222222222222222,
              "#7201a8"
             ],
             [
              0.3333333333333333,
              "#9c179e"
             ],
             [
              0.4444444444444444,
              "#bd3786"
             ],
             [
              0.5555555555555556,
              "#d8576b"
             ],
             [
              0.6666666666666666,
              "#ed7953"
             ],
             [
              0.7777777777777778,
              "#fb9f3a"
             ],
             [
              0.8888888888888888,
              "#fdca26"
             ],
             [
              1,
              "#f0f921"
             ]
            ],
            "type": "heatmap"
           }
          ],
          "histogram": [
           {
            "marker": {
             "pattern": {
              "fillmode": "overlay",
              "size": 10,
              "solidity": 0.2
             }
            },
            "type": "histogram"
           }
          ],
          "histogram2d": [
           {
            "colorbar": {
             "outlinewidth": 0,
             "ticks": ""
            },
            "colorscale": [
             [
              0,
              "#0d0887"
             ],
             [
              0.1111111111111111,
              "#46039f"
             ],
             [
              0.2222222222222222,
              "#7201a8"
             ],
             [
              0.3333333333333333,
              "#9c179e"
             ],
             [
              0.4444444444444444,
              "#bd3786"
             ],
             [
              0.5555555555555556,
              "#d8576b"
             ],
             [
              0.6666666666666666,
              "#ed7953"
             ],
             [
              0.7777777777777778,
              "#fb9f3a"
             ],
             [
              0.8888888888888888,
              "#fdca26"
             ],
             [
              1,
              "#f0f921"
             ]
            ],
            "type": "histogram2d"
           }
          ],
          "histogram2dcontour": [
           {
            "colorbar": {
             "outlinewidth": 0,
             "ticks": ""
            },
            "colorscale": [
             [
              0,
              "#0d0887"
             ],
             [
              0.1111111111111111,
              "#46039f"
             ],
             [
              0.2222222222222222,
              "#7201a8"
             ],
             [
              0.3333333333333333,
              "#9c179e"
             ],
             [
              0.4444444444444444,
              "#bd3786"
             ],
             [
              0.5555555555555556,
              "#d8576b"
             ],
             [
              0.6666666666666666,
              "#ed7953"
             ],
             [
              0.7777777777777778,
              "#fb9f3a"
             ],
             [
              0.8888888888888888,
              "#fdca26"
             ],
             [
              1,
              "#f0f921"
             ]
            ],
            "type": "histogram2dcontour"
           }
          ],
          "mesh3d": [
           {
            "colorbar": {
             "outlinewidth": 0,
             "ticks": ""
            },
            "type": "mesh3d"
           }
          ],
          "parcoords": [
           {
            "line": {
             "colorbar": {
              "outlinewidth": 0,
              "ticks": ""
             }
            },
            "type": "parcoords"
           }
          ],
          "pie": [
           {
            "automargin": true,
            "type": "pie"
           }
          ],
          "scatter": [
           {
            "fillpattern": {
             "fillmode": "overlay",
             "size": 10,
             "solidity": 0.2
            },
            "type": "scatter"
           }
          ],
          "scatter3d": [
           {
            "line": {
             "colorbar": {
              "outlinewidth": 0,
              "ticks": ""
             }
            },
            "marker": {
             "colorbar": {
              "outlinewidth": 0,
              "ticks": ""
             }
            },
            "type": "scatter3d"
           }
          ],
          "scattercarpet": [
           {
            "marker": {
             "colorbar": {
              "outlinewidth": 0,
              "ticks": ""
             }
            },
            "type": "scattercarpet"
           }
          ],
          "scattergeo": [
           {
            "marker": {
             "colorbar": {
              "outlinewidth": 0,
              "ticks": ""
             }
            },
            "type": "scattergeo"
           }
          ],
          "scattergl": [
           {
            "marker": {
             "colorbar": {
              "outlinewidth": 0,
              "ticks": ""
             }
            },
            "type": "scattergl"
           }
          ],
          "scattermap": [
           {
            "marker": {
             "colorbar": {
              "outlinewidth": 0,
              "ticks": ""
             }
            },
            "type": "scattermap"
           }
          ],
          "scattermapbox": [
           {
            "marker": {
             "colorbar": {
              "outlinewidth": 0,
              "ticks": ""
             }
            },
            "type": "scattermapbox"
           }
          ],
          "scatterpolar": [
           {
            "marker": {
             "colorbar": {
              "outlinewidth": 0,
              "ticks": ""
             }
            },
            "type": "scatterpolar"
           }
          ],
          "scatterpolargl": [
           {
            "marker": {
             "colorbar": {
              "outlinewidth": 0,
              "ticks": ""
             }
            },
            "type": "scatterpolargl"
           }
          ],
          "scatterternary": [
           {
            "marker": {
             "colorbar": {
              "outlinewidth": 0,
              "ticks": ""
             }
            },
            "type": "scatterternary"
           }
          ],
          "surface": [
           {
            "colorbar": {
             "outlinewidth": 0,
             "ticks": ""
            },
            "colorscale": [
             [
              0,
              "#0d0887"
             ],
             [
              0.1111111111111111,
              "#46039f"
             ],
             [
              0.2222222222222222,
              "#7201a8"
             ],
             [
              0.3333333333333333,
              "#9c179e"
             ],
             [
              0.4444444444444444,
              "#bd3786"
             ],
             [
              0.5555555555555556,
              "#d8576b"
             ],
             [
              0.6666666666666666,
              "#ed7953"
             ],
             [
              0.7777777777777778,
              "#fb9f3a"
             ],
             [
              0.8888888888888888,
              "#fdca26"
             ],
             [
              1,
              "#f0f921"
             ]
            ],
            "type": "surface"
           }
          ],
          "table": [
           {
            "cells": {
             "fill": {
              "color": "#EBF0F8"
             },
             "line": {
              "color": "white"
             }
            },
            "header": {
             "fill": {
              "color": "#C8D4E3"
             },
             "line": {
              "color": "white"
             }
            },
            "type": "table"
           }
          ]
         },
         "layout": {
          "annotationdefaults": {
           "arrowcolor": "#2a3f5f",
           "arrowhead": 0,
           "arrowwidth": 1
          },
          "autotypenumbers": "strict",
          "coloraxis": {
           "colorbar": {
            "outlinewidth": 0,
            "ticks": ""
           }
          },
          "colorscale": {
           "diverging": [
            [
             0,
             "#8e0152"
            ],
            [
             0.1,
             "#c51b7d"
            ],
            [
             0.2,
             "#de77ae"
            ],
            [
             0.3,
             "#f1b6da"
            ],
            [
             0.4,
             "#fde0ef"
            ],
            [
             0.5,
             "#f7f7f7"
            ],
            [
             0.6,
             "#e6f5d0"
            ],
            [
             0.7,
             "#b8e186"
            ],
            [
             0.8,
             "#7fbc41"
            ],
            [
             0.9,
             "#4d9221"
            ],
            [
             1,
             "#276419"
            ]
           ],
           "sequential": [
            [
             0,
             "#0d0887"
            ],
            [
             0.1111111111111111,
             "#46039f"
            ],
            [
             0.2222222222222222,
             "#7201a8"
            ],
            [
             0.3333333333333333,
             "#9c179e"
            ],
            [
             0.4444444444444444,
             "#bd3786"
            ],
            [
             0.5555555555555556,
             "#d8576b"
            ],
            [
             0.6666666666666666,
             "#ed7953"
            ],
            [
             0.7777777777777778,
             "#fb9f3a"
            ],
            [
             0.8888888888888888,
             "#fdca26"
            ],
            [
             1,
             "#f0f921"
            ]
           ],
           "sequentialminus": [
            [
             0,
             "#0d0887"
            ],
            [
             0.1111111111111111,
             "#46039f"
            ],
            [
             0.2222222222222222,
             "#7201a8"
            ],
            [
             0.3333333333333333,
             "#9c179e"
            ],
            [
             0.4444444444444444,
             "#bd3786"
            ],
            [
             0.5555555555555556,
             "#d8576b"
            ],
            [
             0.6666666666666666,
             "#ed7953"
            ],
            [
             0.7777777777777778,
             "#fb9f3a"
            ],
            [
             0.8888888888888888,
             "#fdca26"
            ],
            [
             1,
             "#f0f921"
            ]
           ]
          },
          "colorway": [
           "#636efa",
           "#EF553B",
           "#00cc96",
           "#ab63fa",
           "#FFA15A",
           "#19d3f3",
           "#FF6692",
           "#B6E880",
           "#FF97FF",
           "#FECB52"
          ],
          "font": {
           "color": "#2a3f5f"
          },
          "geo": {
           "bgcolor": "white",
           "lakecolor": "white",
           "landcolor": "#E5ECF6",
           "showlakes": true,
           "showland": true,
           "subunitcolor": "white"
          },
          "hoverlabel": {
           "align": "left"
          },
          "hovermode": "closest",
          "mapbox": {
           "style": "light"
          },
          "paper_bgcolor": "white",
          "plot_bgcolor": "#E5ECF6",
          "polar": {
           "angularaxis": {
            "gridcolor": "white",
            "linecolor": "white",
            "ticks": ""
           },
           "bgcolor": "#E5ECF6",
           "radialaxis": {
            "gridcolor": "white",
            "linecolor": "white",
            "ticks": ""
           }
          },
          "scene": {
           "xaxis": {
            "backgroundcolor": "#E5ECF6",
            "gridcolor": "white",
            "gridwidth": 2,
            "linecolor": "white",
            "showbackground": true,
            "ticks": "",
            "zerolinecolor": "white"
           },
           "yaxis": {
            "backgroundcolor": "#E5ECF6",
            "gridcolor": "white",
            "gridwidth": 2,
            "linecolor": "white",
            "showbackground": true,
            "ticks": "",
            "zerolinecolor": "white"
           },
           "zaxis": {
            "backgroundcolor": "#E5ECF6",
            "gridcolor": "white",
            "gridwidth": 2,
            "linecolor": "white",
            "showbackground": true,
            "ticks": "",
            "zerolinecolor": "white"
           }
          },
          "shapedefaults": {
           "line": {
            "color": "#2a3f5f"
           }
          },
          "ternary": {
           "aaxis": {
            "gridcolor": "white",
            "linecolor": "white",
            "ticks": ""
           },
           "baxis": {
            "gridcolor": "white",
            "linecolor": "white",
            "ticks": ""
           },
           "bgcolor": "#E5ECF6",
           "caxis": {
            "gridcolor": "white",
            "linecolor": "white",
            "ticks": ""
           }
          },
          "title": {
           "x": 0.05
          },
          "xaxis": {
           "automargin": true,
           "gridcolor": "white",
           "linecolor": "white",
           "ticks": "",
           "title": {
            "standoff": 15
           },
           "zerolinecolor": "white",
           "zerolinewidth": 2
          },
          "yaxis": {
           "automargin": true,
           "gridcolor": "white",
           "linecolor": "white",
           "ticks": "",
           "title": {
            "standoff": 15
           },
           "zerolinecolor": "white",
           "zerolinewidth": 2
          }
         }
        },
        "title": {
         "text": "Agent Patrol Visualization (Plotly)"
        },
        "updatemenus": [
         {
          "buttons": [
           {
            "args": [
             null,
             {
              "frame": {
               "duration": 600,
               "redraw": true
              },
              "fromcurrent": true,
              "mode": "immediate"
             }
            ],
            "label": "Play",
            "method": "animate"
           },
           {
            "args": [
             [
              null
             ],
             {
              "frame": {
               "duration": 0,
               "redraw": false
              },
              "mode": "immediate"
             }
            ],
            "label": "Pause",
            "method": "animate"
           }
          ],
          "showactive": false,
          "type": "buttons",
          "x": 0.05,
          "y": -0.1
         }
        ],
        "width": 700,
        "xaxis": {
         "autorange": false,
         "range": [
          -1,
          3
         ]
        },
        "yaxis": {
         "autorange": false,
         "range": [
          -2,
          2
         ]
        }
       }
      }
     },
     "metadata": {},
     "output_type": "display_data"
    }
   ],
   "source": [
    "import re\n",
    "import plotly.graph_objects as go\n",
    "from plotly.subplots import make_subplots\n",
    "\n",
    "def parse_test_log(log_text):\n",
    "    \"\"\"\n",
    "    输入一段日志文本(多行)，解析出一个 step_info 列表。\n",
    "    每个元素是一个 dict，包含:\n",
    "      {\n",
    "        'step': int,\n",
    "        'AoMA_0': float,\n",
    "        'AoMA_1': float,\n",
    "        'loc': int,\n",
    "        'battery': float,\n",
    "        'action': str,\n",
    "        'done': bool,\n",
    "        'anchor_fail': bool\n",
    "      }\n",
    "    \"\"\"\n",
    "    pattern = re.compile(\n",
    "        r\"Step\\s+(\\d+):\\s+AoMA_0=([\\d\\.]+),\\s+AoMA_1=([\\d\\.]+),\\s+loc=([\\d\\.]+),\\s+battery=([\\d\\.]+)\\s*\\|\\s*Action=(.*?)\\s*=>\\s*Reward=([\\-\\d\\.]+),\\s*Done=(\\w+),\\s*AnchorFail=(\\w+)\"\n",
    "    )\n",
    "    step_info_list = []\n",
    "    for line in log_text.splitlines():\n",
    "        line = line.strip()\n",
    "        if not line:\n",
    "            continue\n",
    "        m = pattern.search(line)\n",
    "        if m:\n",
    "            step_i = int(m.group(1))\n",
    "            aoma0 = float(m.group(2))\n",
    "            aoma1 = float(m.group(3))\n",
    "            loc   = int(float(m.group(4)))\n",
    "            batt  = float(m.group(5))\n",
    "            action = m.group(6).strip()\n",
    "            done_str = m.group(8)\n",
    "            anchor_str = m.group(9)\n",
    "\n",
    "            done = (done_str == \"True\")\n",
    "            anchor_fail = (anchor_str == \"True\")\n",
    "\n",
    "            step_info_list.append({\n",
    "                \"step\": step_i,\n",
    "                \"AoMA_0\": aoma0,\n",
    "                \"AoMA_1\": aoma1,\n",
    "                \"loc\": loc,\n",
    "                \"battery\": batt,\n",
    "                \"action\": action,\n",
    "                \"done\": done,\n",
    "                \"anchor_fail\": anchor_fail,\n",
    "            })\n",
    "    return step_info_list\n",
    "\n",
    "def create_plotly_animation(step_info_list):\n",
    "    \"\"\"\n",
    "    使用Plotly构建动画:\n",
    "      - 三个固定地点: L0(0,1), L1(0,-1), Home(2,0)\n",
    "      - 一个散点表示机器人位置, 每一帧更新位置\n",
    "      - 并在注释/文本中展示AoMA、电池、动作等\n",
    "    返回一个 Figure对象, 调用 fig.show() 即可交互观看\n",
    "    \"\"\"\n",
    "\n",
    "    # 三个地点的坐标\n",
    "    loc_coords = {\n",
    "        0: (0, 1),   # L0\n",
    "        1: (0, -1),  # L1\n",
    "        2: (2, 0),   # Home\n",
    "    }\n",
    "\n",
    "    # 将三地点 + 机器人放在同一个散点图上\n",
    "    # 我们先创建 基础 trace: L0, L1, Home(静态) + Robot(初始位置)\n",
    "    # 后面再用 frames 来更新 Robot 的位置和附加信息\n",
    "\n",
    "    # 准备地点散点(静态)\n",
    "    x_points = [loc_coords[0][0], loc_coords[1][0], loc_coords[2][0]]\n",
    "    y_points = [loc_coords[0][1], loc_coords[1][1], loc_coords[2][1]]\n",
    "    text_points = ['L0', 'L1', 'Home']\n",
    "\n",
    "    # 机器人的初始位置: 取第一个step\n",
    "    if len(step_info_list) == 0:\n",
    "        # 没有任何step时,返回空图\n",
    "        fig = go.Figure()\n",
    "        fig.add_trace(go.Scatter(x=x_points, y=y_points, mode='markers+text', text=text_points))\n",
    "        return fig\n",
    "\n",
    "    start_loc = step_info_list[0][\"loc\"]\n",
    "    rx0, ry0 = loc_coords[start_loc]\n",
    "\n",
    "    # 创建Figure\n",
    "    fig = go.Figure()\n",
    "\n",
    "    # 添加地点Trace (静态)\n",
    "    fig.add_trace(go.Scatter(\n",
    "        x=x_points, y=y_points,\n",
    "        mode='markers+text',\n",
    "        text=text_points,\n",
    "        textposition='top center',\n",
    "        marker=dict(color=['red','blue','green'], size=12),\n",
    "        name='Locations'\n",
    "    ))\n",
    "    \n",
    "    # 添加机器人Trace (动态更新)\n",
    "    robot_scatter = go.Scatter(\n",
    "        x=[rx0], y=[ry0],\n",
    "        mode='markers',\n",
    "        marker=dict(size=12, symbol='square', color='black'),\n",
    "        name='Robot'\n",
    "    )\n",
    "    fig.add_trace(robot_scatter)\n",
    "\n",
    "    # 下面要准备 frames, 每个frame对应step_info_list中一个step\n",
    "    # 并更新: 机器人散点坐标, 以及显示文本\n",
    "\n",
    "    frames = []\n",
    "    for i, step_info in enumerate(step_info_list):\n",
    "        loc = step_info[\"loc\"]\n",
    "        rx, ry = loc_coords[loc]\n",
    "        aoma0 = step_info[\"AoMA_0\"]\n",
    "        aoma1 = step_info[\"AoMA_1\"]\n",
    "        batt  = step_info[\"battery\"]\n",
    "        action = step_info[\"action\"]\n",
    "        step_num = step_info[\"step\"]\n",
    "\n",
    "        # 可以把想展示的信息放进 layout 的 annotation 或者 trace 的 text属性里\n",
    "        # 这里我们在 layout 的 annotations 中更新\n",
    "        text_annotation = (\n",
    "            f\"<b>Step {step_num}</b><br>\"\n",
    "            f\"AoMA_0={aoma0:.1f}, AoMA_1={aoma1:.1f}<br>\"\n",
    "            f\"Battery={batt:.1f}<br>\"\n",
    "            f\"Action={action}\"\n",
    "        )\n",
    "\n",
    "        frame = go.Frame(\n",
    "            data=[\n",
    "                # 对应顺序: 第一个散点是Locations(不变), 第二个散点是Robot\n",
    "                go.Scatter(x=x_points, y=y_points), \n",
    "                go.Scatter(x=[rx], y=[ry]),  \n",
    "            ],\n",
    "            name=f\"frame_{i}\",\n",
    "            layout=go.Layout(\n",
    "                annotations=[\n",
    "                    dict(\n",
    "                        x=0.5, y=1.1, xref=\"paper\", yref=\"paper\",\n",
    "                        text=text_annotation,\n",
    "                        showarrow=False,\n",
    "                        font=dict(size=14, color=\"purple\"),\n",
    "                    )\n",
    "                ]\n",
    "            )\n",
    "        )\n",
    "        frames.append(frame)\n",
    "\n",
    "    fig.frames = frames\n",
    "\n",
    "    # 定义一个 slider, 让用户可以拖动查看每一帧\n",
    "    sliders = [\n",
    "        dict(\n",
    "            steps=[\n",
    "                dict(\n",
    "                    method=\"animate\",\n",
    "                    args=[\n",
    "                        [f\"name == frame_{i}\"],\n",
    "                        dict(mode=\"immediate\", frame=dict(duration=600, redraw=True), transition=dict(duration=0))\n",
    "                    ],\n",
    "                    label=f\"{i}\"\n",
    "                ) for i in range(len(frames))\n",
    "            ],\n",
    "            transition=dict(duration=0),\n",
    "            x=0.1, y=0,\n",
    "            currentvalue=dict(font=dict(size=12), prefix=\"StepIndex: \"),\n",
    "            len=0.9\n",
    "        )\n",
    "    ]\n",
    "\n",
    "    # 定义动画按钮（播放/暂停）\n",
    "    updatemenus = [\n",
    "        dict(\n",
    "            type=\"buttons\",\n",
    "            showactive=False,\n",
    "            x=0.05, y=-0.1,\n",
    "            buttons=[\n",
    "                dict(\n",
    "                    label=\"Play\",\n",
    "                    method=\"animate\",\n",
    "                    args=[\n",
    "                        None,  # 表示播放全部frame\n",
    "                        dict(frame=dict(duration=600, redraw=True), fromcurrent=True, mode='immediate')\n",
    "                    ]\n",
    "                ),\n",
    "                dict(\n",
    "                    label=\"Pause\",\n",
    "                    method=\"animate\",\n",
    "                    args=[\n",
    "                        [None],\n",
    "                        dict(frame=dict(duration=0, redraw=False), mode='immediate')\n",
    "                    ]\n",
    "                ),\n",
    "            ]\n",
    "        )\n",
    "    ]\n",
    "\n",
    "    fig.update_layout(\n",
    "        width=700, height=600,\n",
    "        xaxis=dict(range=[-1, 3], autorange=False),\n",
    "        yaxis=dict(range=[-2, 2], autorange=False),\n",
    "        title=\"Agent Patrol Visualization (Plotly)\",\n",
    "        showlegend=False,\n",
    "        updatemenus=updatemenus,\n",
    "        sliders=sliders\n",
    "    )\n",
    "\n",
    "    # 初始状态：显示第一帧时的 annotation\n",
    "    init_annotation = [\n",
    "        dict(\n",
    "            x=0.5, y=1.1, xref=\"paper\", yref=\"paper\",\n",
    "            text=(\n",
    "                f\"<b>Step {step_info_list[0]['step']}</b><br>\"\n",
    "                f\"AoMA_0={step_info_list[0]['AoMA_0']:.1f}, AoMA_1={step_info_list[0]['AoMA_1']:.1f}<br>\"\n",
    "                f\"Battery={step_info_list[0]['battery']:.1f}<br>\"\n",
    "                f\"Action={step_info_list[0]['action']}\"\n",
    "            ),\n",
    "            showarrow=False,\n",
    "            font=dict(size=14, color=\"purple\"),\n",
    "        )\n",
    "    ]\n",
    "    fig.update_layout(annotations=init_annotation)\n",
    "\n",
    "    return fig\n",
    "\n",
    "\n",
    "def demo_run():\n",
    "    # 这里手动模拟一小段日志, 你可以换成你自己的日志文本\n",
    "    # 读取 test1.txt 文件内容\n",
    "    with open(\"test1.txt\", \"r\", encoding=\"utf-8\") as f:\n",
    "        log_text = f.read()  # 读取整个文件内容作为字符串\n",
    "\n",
    "    # 1. 解析日志\n",
    "    steps = parse_test_log(log_text)\n",
    "    # 2. 创建plotly动画\n",
    "    fig = create_plotly_animation(steps)\n",
    "    # 3. 展示\n",
    "    fig.show()\n",
    "\n",
    "\n",
    "# 如果你直接运行这个文件, 就执行demo_run\n",
    "if __name__ == \"__main__\":\n",
    "    demo_run()\n"
   ]
  }
 ],
 "metadata": {
  "kernelspec": {
   "display_name": "base",
   "language": "python",
   "name": "python3"
  },
  "language_info": {
   "codemirror_mode": {
    "name": "ipython",
    "version": 3
   },
   "file_extension": ".py",
   "mimetype": "text/x-python",
   "name": "python",
   "nbconvert_exporter": "python",
   "pygments_lexer": "ipython3",
   "version": "3.12.7"
  }
 },
 "nbformat": 4,
 "nbformat_minor": 2
}
